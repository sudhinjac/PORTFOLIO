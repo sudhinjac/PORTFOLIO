{
 "cells": [
  {
   "cell_type": "code",
   "execution_count": 2,
   "id": "169cf76d",
   "metadata": {},
   "outputs": [],
   "source": [
    "def valbond(c,i,n):\n",
    "    ans = 0\n",
    "    \n",
    "    for k in range(1,n+1):\n",
    "        ans += (c/(1+i)**k)\n",
    "    print(ans)"
   ]
  },
  {
   "cell_type": "code",
   "execution_count": 3,
   "id": "b9dffcf6",
   "metadata": {},
   "outputs": [
    {
     "name": "stdout",
     "output_type": "stream",
     "text": [
      "96.35961618879344\n"
     ]
    }
   ],
   "source": [
    "valbond(25,0.015,4)"
   ]
  },
  {
   "cell_type": "code",
   "execution_count": null,
   "id": "55a455ae",
   "metadata": {},
   "outputs": [],
   "source": []
  }
 ],
 "metadata": {
  "kernelspec": {
   "display_name": "Python 3 (ipykernel)",
   "language": "python",
   "name": "python3"
  },
  "language_info": {
   "codemirror_mode": {
    "name": "ipython",
    "version": 3
   },
   "file_extension": ".py",
   "mimetype": "text/x-python",
   "name": "python",
   "nbconvert_exporter": "python",
   "pygments_lexer": "ipython3",
   "version": "3.9.6"
  }
 },
 "nbformat": 4,
 "nbformat_minor": 5
}
