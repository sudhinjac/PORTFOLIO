{
 "cells": [
  {
   "cell_type": "code",
   "execution_count": 1,
   "id": "4f7921ff",
   "metadata": {},
   "outputs": [
    {
     "data": {
      "text/html": [
       "        <script type=\"text/javascript\">\n",
       "        window.PlotlyConfig = {MathJaxConfig: 'local'};\n",
       "        if (window.MathJax && window.MathJax.Hub && window.MathJax.Hub.Config) {window.MathJax.Hub.Config({SVG: {font: \"STIX-Web\"}});}\n",
       "        if (typeof require !== 'undefined') {\n",
       "        require.undef(\"plotly\");\n",
       "        requirejs.config({\n",
       "            paths: {\n",
       "                'plotly': ['https://cdn.plot.ly/plotly-2.12.1.min']\n",
       "            }\n",
       "        });\n",
       "        require(['plotly'], function(Plotly) {\n",
       "            window._Plotly = Plotly;\n",
       "        });\n",
       "        }\n",
       "        </script>\n",
       "        "
      ]
     },
     "metadata": {},
     "output_type": "display_data"
    }
   ],
   "source": [
    "import numpy as np\n",
    "from io import StringIO\n",
    "import pandas as pd\n",
    "import matplotlib.pyplot as plt\n",
    "%matplotlib inline\n",
    "import pandas_datareader\n",
    "import datetime\n",
    "import pandas_datareader.data as web\n",
    "from scipy.stats import norm\n",
    "import yfinance as yf\n",
    "import cufflinks as cf\n",
    "cf.go_offline()\n",
    "df = pd.read_csv(\"//Users//sjacob//stocks//QUALITYGROWTHVALJULY2022.csv\", index_col = False)"
   ]
  },
  {
   "cell_type": "code",
   "execution_count": 2,
   "id": "cd0098df",
   "metadata": {},
   "outputs": [
    {
     "data": {
      "text/html": [
       "<div>\n",
       "<style scoped>\n",
       "    .dataframe tbody tr th:only-of-type {\n",
       "        vertical-align: middle;\n",
       "    }\n",
       "\n",
       "    .dataframe tbody tr th {\n",
       "        vertical-align: top;\n",
       "    }\n",
       "\n",
       "    .dataframe thead th {\n",
       "        text-align: right;\n",
       "    }\n",
       "</style>\n",
       "<table border=\"1\" class=\"dataframe\">\n",
       "  <thead>\n",
       "    <tr style=\"text-align: right;\">\n",
       "      <th></th>\n",
       "      <th>Unnamed: 0</th>\n",
       "      <th>Ticker</th>\n",
       "      <th>Cov_mar</th>\n",
       "      <th>Market_var</th>\n",
       "      <th>Beta</th>\n",
       "      <th>Volatility%</th>\n",
       "      <th>Return%</th>\n",
       "      <th>CV</th>\n",
       "      <th>Sharp Ratio</th>\n",
       "      <th>CAGR</th>\n",
       "      <th>MAXDD%</th>\n",
       "      <th>Value at Risk</th>\n",
       "    </tr>\n",
       "  </thead>\n",
       "  <tbody>\n",
       "    <tr>\n",
       "      <th>0</th>\n",
       "      <td>32</td>\n",
       "      <td>TANLA.NS</td>\n",
       "      <td>0.025030</td>\n",
       "      <td>0.032572</td>\n",
       "      <td>0.768453</td>\n",
       "      <td>55.524820</td>\n",
       "      <td>55.579640</td>\n",
       "      <td>99.901366</td>\n",
       "      <td>0.910937</td>\n",
       "      <td>74.280769</td>\n",
       "      <td>56.960481</td>\n",
       "      <td>32435.337833</td>\n",
       "    </tr>\n",
       "    <tr>\n",
       "      <th>1</th>\n",
       "      <td>19</td>\n",
       "      <td>TIPSINDLTD.NS</td>\n",
       "      <td>0.018430</td>\n",
       "      <td>0.032572</td>\n",
       "      <td>0.565816</td>\n",
       "      <td>55.804354</td>\n",
       "      <td>47.774559</td>\n",
       "      <td>116.807681</td>\n",
       "      <td>0.766509</td>\n",
       "      <td>61.202088</td>\n",
       "      <td>64.789129</td>\n",
       "      <td>46418.176812</td>\n",
       "    </tr>\n",
       "    <tr>\n",
       "      <th>2</th>\n",
       "      <td>45</td>\n",
       "      <td>PRIMESECU.NS</td>\n",
       "      <td>0.028180</td>\n",
       "      <td>0.032572</td>\n",
       "      <td>0.865161</td>\n",
       "      <td>63.824334</td>\n",
       "      <td>42.669480</td>\n",
       "      <td>149.578420</td>\n",
       "      <td>0.590206</td>\n",
       "      <td>53.183333</td>\n",
       "      <td>59.472419</td>\n",
       "      <td>68372.941435</td>\n",
       "    </tr>\n",
       "    <tr>\n",
       "      <th>3</th>\n",
       "      <td>6</td>\n",
       "      <td>ALKYLAMINE.NS</td>\n",
       "      <td>0.028812</td>\n",
       "      <td>0.032572</td>\n",
       "      <td>0.884575</td>\n",
       "      <td>43.122202</td>\n",
       "      <td>40.724386</td>\n",
       "      <td>105.887912</td>\n",
       "      <td>0.828445</td>\n",
       "      <td>50.234135</td>\n",
       "      <td>45.536652</td>\n",
       "      <td>25473.150480</td>\n",
       "    </tr>\n",
       "    <tr>\n",
       "      <th>4</th>\n",
       "      <td>26</td>\n",
       "      <td>POLYCAB.NS</td>\n",
       "      <td>0.046025</td>\n",
       "      <td>0.032572</td>\n",
       "      <td>1.413037</td>\n",
       "      <td>38.746019</td>\n",
       "      <td>39.156995</td>\n",
       "      <td>98.950440</td>\n",
       "      <td>0.881561</td>\n",
       "      <td>18.453503</td>\n",
       "      <td>49.828919</td>\n",
       "      <td>16834.886161</td>\n",
       "    </tr>\n",
       "    <tr>\n",
       "      <th>5</th>\n",
       "      <td>8</td>\n",
       "      <td>SUMICHEM.NS</td>\n",
       "      <td>0.047680</td>\n",
       "      <td>0.032572</td>\n",
       "      <td>1.463853</td>\n",
       "      <td>41.174357</td>\n",
       "      <td>34.828680</td>\n",
       "      <td>118.219688</td>\n",
       "      <td>0.724448</td>\n",
       "      <td>12.233198</td>\n",
       "      <td>41.454014</td>\n",
       "      <td>32480.926515</td>\n",
       "    </tr>\n",
       "    <tr>\n",
       "      <th>6</th>\n",
       "      <td>33</td>\n",
       "      <td>COFORGE.NS</td>\n",
       "      <td>0.032541</td>\n",
       "      <td>0.032572</td>\n",
       "      <td>0.999059</td>\n",
       "      <td>43.364916</td>\n",
       "      <td>32.096869</td>\n",
       "      <td>135.106376</td>\n",
       "      <td>0.624857</td>\n",
       "      <td>37.822444</td>\n",
       "      <td>56.758068</td>\n",
       "      <td>42954.142743</td>\n",
       "    </tr>\n",
       "    <tr>\n",
       "      <th>7</th>\n",
       "      <td>30</td>\n",
       "      <td>ADFFOODS.NS</td>\n",
       "      <td>0.031292</td>\n",
       "      <td>0.032572</td>\n",
       "      <td>0.960711</td>\n",
       "      <td>46.173523</td>\n",
       "      <td>31.749611</td>\n",
       "      <td>145.430198</td>\n",
       "      <td>0.579328</td>\n",
       "      <td>37.344932</td>\n",
       "      <td>62.070967</td>\n",
       "      <td>49518.909059</td>\n",
       "    </tr>\n",
       "    <tr>\n",
       "      <th>8</th>\n",
       "      <td>50</td>\n",
       "      <td>CAPLIPOINT.NS</td>\n",
       "      <td>0.029114</td>\n",
       "      <td>0.032572</td>\n",
       "      <td>0.893847</td>\n",
       "      <td>51.936693</td>\n",
       "      <td>31.328936</td>\n",
       "      <td>165.778671</td>\n",
       "      <td>0.506943</td>\n",
       "      <td>36.768678</td>\n",
       "      <td>74.085833</td>\n",
       "      <td>60546.514172</td>\n",
       "    </tr>\n",
       "    <tr>\n",
       "      <th>9</th>\n",
       "      <td>20</td>\n",
       "      <td>CDSL.NS</td>\n",
       "      <td>0.029663</td>\n",
       "      <td>0.032572</td>\n",
       "      <td>0.910694</td>\n",
       "      <td>38.878321</td>\n",
       "      <td>30.595262</td>\n",
       "      <td>127.073011</td>\n",
       "      <td>0.658343</td>\n",
       "      <td>22.760560</td>\n",
       "      <td>57.607431</td>\n",
       "      <td>34362.387069</td>\n",
       "    </tr>\n",
       "    <tr>\n",
       "      <th>10</th>\n",
       "      <td>16</td>\n",
       "      <td>FCL.NS</td>\n",
       "      <td>0.031261</td>\n",
       "      <td>0.032572</td>\n",
       "      <td>0.959763</td>\n",
       "      <td>61.881698</td>\n",
       "      <td>30.123118</td>\n",
       "      <td>205.429257</td>\n",
       "      <td>0.405986</td>\n",
       "      <td>34.933353</td>\n",
       "      <td>77.093904</td>\n",
       "      <td>75655.867381</td>\n",
       "    </tr>\n",
       "    <tr>\n",
       "      <th>11</th>\n",
       "      <td>29</td>\n",
       "      <td>JBCHEPHARM.NS</td>\n",
       "      <td>0.020507</td>\n",
       "      <td>0.032572</td>\n",
       "      <td>0.629586</td>\n",
       "      <td>34.793484</td>\n",
       "      <td>30.107189</td>\n",
       "      <td>115.565369</td>\n",
       "      <td>0.721606</td>\n",
       "      <td>35.108765</td>\n",
       "      <td>36.915463</td>\n",
       "      <td>23397.597696</td>\n",
       "    </tr>\n",
       "    <tr>\n",
       "      <th>12</th>\n",
       "      <td>4</td>\n",
       "      <td>VINATIORGA.NS</td>\n",
       "      <td>0.021710</td>\n",
       "      <td>0.032572</td>\n",
       "      <td>0.666525</td>\n",
       "      <td>36.053148</td>\n",
       "      <td>29.876899</td>\n",
       "      <td>120.672323</td>\n",
       "      <td>0.690006</td>\n",
       "      <td>34.798148</td>\n",
       "      <td>43.151257</td>\n",
       "      <td>27664.391439</td>\n",
       "    </tr>\n",
       "    <tr>\n",
       "      <th>13</th>\n",
       "      <td>13</td>\n",
       "      <td>LINDEINDIA.NS</td>\n",
       "      <td>0.025163</td>\n",
       "      <td>0.032572</td>\n",
       "      <td>0.772539</td>\n",
       "      <td>40.410743</td>\n",
       "      <td>29.208719</td>\n",
       "      <td>138.351648</td>\n",
       "      <td>0.599066</td>\n",
       "      <td>33.900937</td>\n",
       "      <td>47.574446</td>\n",
       "      <td>40641.938347</td>\n",
       "    </tr>\n",
       "    <tr>\n",
       "      <th>14</th>\n",
       "      <td>35</td>\n",
       "      <td>INTELLECT.NS</td>\n",
       "      <td>0.035747</td>\n",
       "      <td>0.032572</td>\n",
       "      <td>1.097476</td>\n",
       "      <td>53.598000</td>\n",
       "      <td>28.884937</td>\n",
       "      <td>185.556919</td>\n",
       "      <td>0.445631</td>\n",
       "      <td>33.468324</td>\n",
       "      <td>84.207747</td>\n",
       "      <td>66304.660648</td>\n",
       "    </tr>\n",
       "    <tr>\n",
       "      <th>15</th>\n",
       "      <td>12</td>\n",
       "      <td>TCIEXP.NS</td>\n",
       "      <td>0.024032</td>\n",
       "      <td>0.032572</td>\n",
       "      <td>0.737829</td>\n",
       "      <td>42.064270</td>\n",
       "      <td>28.769018</td>\n",
       "      <td>146.213783</td>\n",
       "      <td>0.565064</td>\n",
       "      <td>23.808072</td>\n",
       "      <td>43.132671</td>\n",
       "      <td>45228.282822</td>\n",
       "    </tr>\n",
       "    <tr>\n",
       "      <th>16</th>\n",
       "      <td>18</td>\n",
       "      <td>PRAJIND.NS</td>\n",
       "      <td>0.034754</td>\n",
       "      <td>0.032572</td>\n",
       "      <td>1.067002</td>\n",
       "      <td>50.025460</td>\n",
       "      <td>26.745068</td>\n",
       "      <td>187.045555</td>\n",
       "      <td>0.434680</td>\n",
       "      <td>30.644121</td>\n",
       "      <td>70.880271</td>\n",
       "      <td>62845.757841</td>\n",
       "    </tr>\n",
       "    <tr>\n",
       "      <th>17</th>\n",
       "      <td>60</td>\n",
       "      <td>RPGLIFE.NS</td>\n",
       "      <td>0.030805</td>\n",
       "      <td>0.032572</td>\n",
       "      <td>0.945746</td>\n",
       "      <td>51.963371</td>\n",
       "      <td>25.862639</td>\n",
       "      <td>200.920605</td>\n",
       "      <td>0.401487</td>\n",
       "      <td>29.496966</td>\n",
       "      <td>73.685660</td>\n",
       "      <td>66417.508072</td>\n",
       "    </tr>\n",
       "    <tr>\n",
       "      <th>18</th>\n",
       "      <td>62</td>\n",
       "      <td>GULPOLY.NS</td>\n",
       "      <td>0.023815</td>\n",
       "      <td>0.032572</td>\n",
       "      <td>0.731144</td>\n",
       "      <td>46.185340</td>\n",
       "      <td>25.678046</td>\n",
       "      <td>179.863138</td>\n",
       "      <td>0.447719</td>\n",
       "      <td>28.955108</td>\n",
       "      <td>80.584119</td>\n",
       "      <td>57836.953672</td>\n",
       "    </tr>\n",
       "    <tr>\n",
       "      <th>19</th>\n",
       "      <td>5</td>\n",
       "      <td>GRINDWELL.NS</td>\n",
       "      <td>0.017048</td>\n",
       "      <td>0.032572</td>\n",
       "      <td>0.523411</td>\n",
       "      <td>30.891217</td>\n",
       "      <td>24.825679</td>\n",
       "      <td>124.432514</td>\n",
       "      <td>0.641790</td>\n",
       "      <td>28.161788</td>\n",
       "      <td>37.422866</td>\n",
       "      <td>24432.069224</td>\n",
       "    </tr>\n",
       "    <tr>\n",
       "      <th>20</th>\n",
       "      <td>10</td>\n",
       "      <td>IEX.NS</td>\n",
       "      <td>0.021970</td>\n",
       "      <td>0.032572</td>\n",
       "      <td>0.674527</td>\n",
       "      <td>37.322262</td>\n",
       "      <td>24.815187</td>\n",
       "      <td>150.400893</td>\n",
       "      <td>0.530921</td>\n",
       "      <td>16.887998</td>\n",
       "      <td>47.452285</td>\n",
       "      <td>41084.081016</td>\n",
       "    </tr>\n",
       "    <tr>\n",
       "      <th>21</th>\n",
       "      <td>7</td>\n",
       "      <td>ESABINDIA.NS</td>\n",
       "      <td>0.026209</td>\n",
       "      <td>0.032572</td>\n",
       "      <td>0.804655</td>\n",
       "      <td>41.974886</td>\n",
       "      <td>23.958877</td>\n",
       "      <td>175.195552</td>\n",
       "      <td>0.451672</td>\n",
       "      <td>27.056272</td>\n",
       "      <td>44.124755</td>\n",
       "      <td>51645.244609</td>\n",
       "    </tr>\n",
       "    <tr>\n",
       "      <th>22</th>\n",
       "      <td>65</td>\n",
       "      <td>TIDEWATER.NS</td>\n",
       "      <td>0.018964</td>\n",
       "      <td>0.032572</td>\n",
       "      <td>0.582221</td>\n",
       "      <td>36.011537</td>\n",
       "      <td>21.692727</td>\n",
       "      <td>166.007427</td>\n",
       "      <td>0.463538</td>\n",
       "      <td>24.210880</td>\n",
       "      <td>71.212983</td>\n",
       "      <td>42983.369048</td>\n",
       "    </tr>\n",
       "    <tr>\n",
       "      <th>23</th>\n",
       "      <td>21</td>\n",
       "      <td>DIVISLAB.NS</td>\n",
       "      <td>0.021252</td>\n",
       "      <td>0.032572</td>\n",
       "      <td>0.652481</td>\n",
       "      <td>33.539621</td>\n",
       "      <td>20.712662</td>\n",
       "      <td>161.928105</td>\n",
       "      <td>0.468481</td>\n",
       "      <td>23.000127</td>\n",
       "      <td>59.542982</td>\n",
       "      <td>39703.791805</td>\n",
       "    </tr>\n",
       "    <tr>\n",
       "      <th>24</th>\n",
       "      <td>42</td>\n",
       "      <td>AVANTIFEED.NS</td>\n",
       "      <td>0.026238</td>\n",
       "      <td>0.032572</td>\n",
       "      <td>0.805541</td>\n",
       "      <td>46.368503</td>\n",
       "      <td>20.583307</td>\n",
       "      <td>225.272366</td>\n",
       "      <td>0.336075</td>\n",
       "      <td>22.841208</td>\n",
       "      <td>71.820138</td>\n",
       "      <td>64344.818285</td>\n",
       "    </tr>\n",
       "    <tr>\n",
       "      <th>25</th>\n",
       "      <td>57</td>\n",
       "      <td>IGL.NS</td>\n",
       "      <td>0.024941</td>\n",
       "      <td>0.032572</td>\n",
       "      <td>0.765733</td>\n",
       "      <td>31.226771</td>\n",
       "      <td>20.292276</td>\n",
       "      <td>153.885015</td>\n",
       "      <td>0.489717</td>\n",
       "      <td>22.484414</td>\n",
       "      <td>43.562082</td>\n",
       "      <td>34768.498624</td>\n",
       "    </tr>\n",
       "    <tr>\n",
       "      <th>26</th>\n",
       "      <td>59</td>\n",
       "      <td>VINYLINDIA.NS</td>\n",
       "      <td>0.029208</td>\n",
       "      <td>0.032572</td>\n",
       "      <td>0.896726</td>\n",
       "      <td>51.353229</td>\n",
       "      <td>20.225406</td>\n",
       "      <td>253.904562</td>\n",
       "      <td>0.296484</td>\n",
       "      <td>22.402580</td>\n",
       "      <td>68.336673</td>\n",
       "      <td>71348.694523</td>\n",
       "    </tr>\n",
       "    <tr>\n",
       "      <th>27</th>\n",
       "      <td>43</td>\n",
       "      <td>ADORWELD.NS</td>\n",
       "      <td>0.033755</td>\n",
       "      <td>0.032572</td>\n",
       "      <td>1.036337</td>\n",
       "      <td>46.977882</td>\n",
       "      <td>19.292211</td>\n",
       "      <td>243.506984</td>\n",
       "      <td>0.304233</td>\n",
       "      <td>21.266248</td>\n",
       "      <td>72.283041</td>\n",
       "      <td>65879.916631</td>\n",
       "    </tr>\n",
       "    <tr>\n",
       "      <th>28</th>\n",
       "      <td>2</td>\n",
       "      <td>HINDUNILVR.NS</td>\n",
       "      <td>0.019743</td>\n",
       "      <td>0.032572</td>\n",
       "      <td>0.606126</td>\n",
       "      <td>23.639154</td>\n",
       "      <td>18.525583</td>\n",
       "      <td>127.602753</td>\n",
       "      <td>0.572169</td>\n",
       "      <td>20.340637</td>\n",
       "      <td>30.455781</td>\n",
       "      <td>18575.966696</td>\n",
       "    </tr>\n",
       "    <tr>\n",
       "      <th>29</th>\n",
       "      <td>25</td>\n",
       "      <td>AMRUTANJAN.NS</td>\n",
       "      <td>0.025869</td>\n",
       "      <td>0.032572</td>\n",
       "      <td>0.794219</td>\n",
       "      <td>39.997035</td>\n",
       "      <td>18.321218</td>\n",
       "      <td>218.309913</td>\n",
       "      <td>0.333055</td>\n",
       "      <td>20.095086</td>\n",
       "      <td>48.475047</td>\n",
       "      <td>55974.590092</td>\n",
       "    </tr>\n",
       "    <tr>\n",
       "      <th>30</th>\n",
       "      <td>37</td>\n",
       "      <td>BEL.NS</td>\n",
       "      <td>0.030886</td>\n",
       "      <td>0.032572</td>\n",
       "      <td>0.948251</td>\n",
       "      <td>38.187686</td>\n",
       "      <td>17.856867</td>\n",
       "      <td>213.854340</td>\n",
       "      <td>0.336676</td>\n",
       "      <td>19.539015</td>\n",
       "      <td>66.958398</td>\n",
       "      <td>53341.751838</td>\n",
       "    </tr>\n",
       "    <tr>\n",
       "      <th>31</th>\n",
       "      <td>9</td>\n",
       "      <td>SCHAEFFLER.NS</td>\n",
       "      <td>0.014337</td>\n",
       "      <td>0.032572</td>\n",
       "      <td>0.440158</td>\n",
       "      <td>26.205991</td>\n",
       "      <td>17.473832</td>\n",
       "      <td>149.972777</td>\n",
       "      <td>0.475992</td>\n",
       "      <td>19.082260</td>\n",
       "      <td>47.087975</td>\n",
       "      <td>27868.273752</td>\n",
       "    </tr>\n",
       "    <tr>\n",
       "      <th>32</th>\n",
       "      <td>36</td>\n",
       "      <td>SUPREMEIND.NS</td>\n",
       "      <td>0.017596</td>\n",
       "      <td>0.032572</td>\n",
       "      <td>0.540211</td>\n",
       "      <td>29.730654</td>\n",
       "      <td>16.838113</td>\n",
       "      <td>176.567616</td>\n",
       "      <td>0.398179</td>\n",
       "      <td>18.328037</td>\n",
       "      <td>43.207951</td>\n",
       "      <td>37128.465832</td>\n",
       "    </tr>\n",
       "    <tr>\n",
       "      <th>33</th>\n",
       "      <td>14</td>\n",
       "      <td>SKFINDIA.NS</td>\n",
       "      <td>0.019168</td>\n",
       "      <td>0.032572</td>\n",
       "      <td>0.588485</td>\n",
       "      <td>27.154811</td>\n",
       "      <td>16.468967</td>\n",
       "      <td>164.884724</td>\n",
       "      <td>0.422355</td>\n",
       "      <td>17.892273</td>\n",
       "      <td>45.149126</td>\n",
       "      <td>32338.140619</td>\n",
       "    </tr>\n",
       "    <tr>\n",
       "      <th>34</th>\n",
       "      <td>49</td>\n",
       "      <td>RSYSTEMS.NS</td>\n",
       "      <td>0.018333</td>\n",
       "      <td>0.032572</td>\n",
       "      <td>0.562855</td>\n",
       "      <td>47.751158</td>\n",
       "      <td>15.788915</td>\n",
       "      <td>302.434707</td>\n",
       "      <td>0.225940</td>\n",
       "      <td>17.093692</td>\n",
       "      <td>71.524125</td>\n",
       "      <td>70136.577170</td>\n",
       "    </tr>\n",
       "    <tr>\n",
       "      <th>35</th>\n",
       "      <td>68</td>\n",
       "      <td>SHARDACROP.NS</td>\n",
       "      <td>0.026294</td>\n",
       "      <td>0.032572</td>\n",
       "      <td>0.807253</td>\n",
       "      <td>44.455383</td>\n",
       "      <td>14.139321</td>\n",
       "      <td>314.409609</td>\n",
       "      <td>0.205584</td>\n",
       "      <td>15.178988</td>\n",
       "      <td>80.871964</td>\n",
       "      <td>67297.125160</td>\n",
       "    </tr>\n",
       "    <tr>\n",
       "      <th>36</th>\n",
       "      <td>1</td>\n",
       "      <td>PGHH.NS</td>\n",
       "      <td>0.010022</td>\n",
       "      <td>0.032572</td>\n",
       "      <td>0.307683</td>\n",
       "      <td>21.386093</td>\n",
       "      <td>13.891455</td>\n",
       "      <td>153.951422</td>\n",
       "      <td>0.415759</td>\n",
       "      <td>14.894005</td>\n",
       "      <td>28.459241</td>\n",
       "      <td>22875.091151</td>\n",
       "    </tr>\n",
       "    <tr>\n",
       "      <th>37</th>\n",
       "      <td>40</td>\n",
       "      <td>EXPLEOSOL.NS</td>\n",
       "      <td>0.018647</td>\n",
       "      <td>0.032572</td>\n",
       "      <td>0.572497</td>\n",
       "      <td>39.453241</td>\n",
       "      <td>13.593468</td>\n",
       "      <td>290.236766</td>\n",
       "      <td>0.217814</td>\n",
       "      <td>14.552329</td>\n",
       "      <td>78.165915</td>\n",
       "      <td>60989.924205</td>\n",
       "    </tr>\n",
       "    <tr>\n",
       "      <th>38</th>\n",
       "      <td>17</td>\n",
       "      <td>INGERRAND.NS</td>\n",
       "      <td>0.016121</td>\n",
       "      <td>0.032572</td>\n",
       "      <td>0.494925</td>\n",
       "      <td>32.392786</td>\n",
       "      <td>13.377639</td>\n",
       "      <td>242.141283</td>\n",
       "      <td>0.258627</td>\n",
       "      <td>14.305491</td>\n",
       "      <td>44.013195</td>\n",
       "      <td>49225.870108</td>\n",
       "    </tr>\n",
       "    <tr>\n",
       "      <th>39</th>\n",
       "      <td>31</td>\n",
       "      <td>KSB.NS</td>\n",
       "      <td>0.024285</td>\n",
       "      <td>0.032572</td>\n",
       "      <td>0.745581</td>\n",
       "      <td>34.147998</td>\n",
       "      <td>12.303901</td>\n",
       "      <td>277.537983</td>\n",
       "      <td>0.213890</td>\n",
       "      <td>13.085368</td>\n",
       "      <td>56.078524</td>\n",
       "      <td>53504.865203</td>\n",
       "    </tr>\n",
       "    <tr>\n",
       "      <th>40</th>\n",
       "      <td>54</td>\n",
       "      <td>SANOFI.NS</td>\n",
       "      <td>0.010542</td>\n",
       "      <td>0.032572</td>\n",
       "      <td>0.323651</td>\n",
       "      <td>22.078386</td>\n",
       "      <td>11.471282</td>\n",
       "      <td>192.466606</td>\n",
       "      <td>0.293105</td>\n",
       "      <td>12.148209</td>\n",
       "      <td>30.732972</td>\n",
       "      <td>29717.315177</td>\n",
       "    </tr>\n",
       "    <tr>\n",
       "      <th>41</th>\n",
       "      <td>39</td>\n",
       "      <td>AJANTPHARM.NS</td>\n",
       "      <td>0.016748</td>\n",
       "      <td>0.032572</td>\n",
       "      <td>0.514189</td>\n",
       "      <td>32.904824</td>\n",
       "      <td>11.084751</td>\n",
       "      <td>296.847671</td>\n",
       "      <td>0.184920</td>\n",
       "      <td>11.715791</td>\n",
       "      <td>56.934223</td>\n",
       "      <td>53131.936393</td>\n",
       "    </tr>\n",
       "    <tr>\n",
       "      <th>42</th>\n",
       "      <td>63</td>\n",
       "      <td>VSTIND.NS</td>\n",
       "      <td>0.014699</td>\n",
       "      <td>0.032572</td>\n",
       "      <td>0.451267</td>\n",
       "      <td>27.226353</td>\n",
       "      <td>10.359398</td>\n",
       "      <td>262.817910</td>\n",
       "      <td>0.196846</td>\n",
       "      <td>10.908822</td>\n",
       "      <td>44.582816</td>\n",
       "      <td>43479.409772</td>\n",
       "    </tr>\n",
       "  </tbody>\n",
       "</table>\n",
       "</div>"
      ],
      "text/plain": [
       "    Unnamed: 0         Ticker   Cov_mar  Market_var      Beta  Volatility%  \\\n",
       "0           32       TANLA.NS  0.025030    0.032572  0.768453    55.524820   \n",
       "1           19  TIPSINDLTD.NS  0.018430    0.032572  0.565816    55.804354   \n",
       "2           45   PRIMESECU.NS  0.028180    0.032572  0.865161    63.824334   \n",
       "3            6  ALKYLAMINE.NS  0.028812    0.032572  0.884575    43.122202   \n",
       "4           26     POLYCAB.NS  0.046025    0.032572  1.413037    38.746019   \n",
       "5            8    SUMICHEM.NS  0.047680    0.032572  1.463853    41.174357   \n",
       "6           33     COFORGE.NS  0.032541    0.032572  0.999059    43.364916   \n",
       "7           30    ADFFOODS.NS  0.031292    0.032572  0.960711    46.173523   \n",
       "8           50  CAPLIPOINT.NS  0.029114    0.032572  0.893847    51.936693   \n",
       "9           20        CDSL.NS  0.029663    0.032572  0.910694    38.878321   \n",
       "10          16         FCL.NS  0.031261    0.032572  0.959763    61.881698   \n",
       "11          29  JBCHEPHARM.NS  0.020507    0.032572  0.629586    34.793484   \n",
       "12           4  VINATIORGA.NS  0.021710    0.032572  0.666525    36.053148   \n",
       "13          13  LINDEINDIA.NS  0.025163    0.032572  0.772539    40.410743   \n",
       "14          35   INTELLECT.NS  0.035747    0.032572  1.097476    53.598000   \n",
       "15          12      TCIEXP.NS  0.024032    0.032572  0.737829    42.064270   \n",
       "16          18     PRAJIND.NS  0.034754    0.032572  1.067002    50.025460   \n",
       "17          60     RPGLIFE.NS  0.030805    0.032572  0.945746    51.963371   \n",
       "18          62     GULPOLY.NS  0.023815    0.032572  0.731144    46.185340   \n",
       "19           5   GRINDWELL.NS  0.017048    0.032572  0.523411    30.891217   \n",
       "20          10         IEX.NS  0.021970    0.032572  0.674527    37.322262   \n",
       "21           7   ESABINDIA.NS  0.026209    0.032572  0.804655    41.974886   \n",
       "22          65   TIDEWATER.NS  0.018964    0.032572  0.582221    36.011537   \n",
       "23          21    DIVISLAB.NS  0.021252    0.032572  0.652481    33.539621   \n",
       "24          42  AVANTIFEED.NS  0.026238    0.032572  0.805541    46.368503   \n",
       "25          57         IGL.NS  0.024941    0.032572  0.765733    31.226771   \n",
       "26          59  VINYLINDIA.NS  0.029208    0.032572  0.896726    51.353229   \n",
       "27          43    ADORWELD.NS  0.033755    0.032572  1.036337    46.977882   \n",
       "28           2  HINDUNILVR.NS  0.019743    0.032572  0.606126    23.639154   \n",
       "29          25  AMRUTANJAN.NS  0.025869    0.032572  0.794219    39.997035   \n",
       "30          37         BEL.NS  0.030886    0.032572  0.948251    38.187686   \n",
       "31           9  SCHAEFFLER.NS  0.014337    0.032572  0.440158    26.205991   \n",
       "32          36  SUPREMEIND.NS  0.017596    0.032572  0.540211    29.730654   \n",
       "33          14    SKFINDIA.NS  0.019168    0.032572  0.588485    27.154811   \n",
       "34          49    RSYSTEMS.NS  0.018333    0.032572  0.562855    47.751158   \n",
       "35          68  SHARDACROP.NS  0.026294    0.032572  0.807253    44.455383   \n",
       "36           1        PGHH.NS  0.010022    0.032572  0.307683    21.386093   \n",
       "37          40   EXPLEOSOL.NS  0.018647    0.032572  0.572497    39.453241   \n",
       "38          17   INGERRAND.NS  0.016121    0.032572  0.494925    32.392786   \n",
       "39          31         KSB.NS  0.024285    0.032572  0.745581    34.147998   \n",
       "40          54      SANOFI.NS  0.010542    0.032572  0.323651    22.078386   \n",
       "41          39  AJANTPHARM.NS  0.016748    0.032572  0.514189    32.904824   \n",
       "42          63      VSTIND.NS  0.014699    0.032572  0.451267    27.226353   \n",
       "\n",
       "      Return%          CV  Sharp Ratio       CAGR     MAXDD%  Value at Risk  \n",
       "0   55.579640   99.901366     0.910937  74.280769  56.960481   32435.337833  \n",
       "1   47.774559  116.807681     0.766509  61.202088  64.789129   46418.176812  \n",
       "2   42.669480  149.578420     0.590206  53.183333  59.472419   68372.941435  \n",
       "3   40.724386  105.887912     0.828445  50.234135  45.536652   25473.150480  \n",
       "4   39.156995   98.950440     0.881561  18.453503  49.828919   16834.886161  \n",
       "5   34.828680  118.219688     0.724448  12.233198  41.454014   32480.926515  \n",
       "6   32.096869  135.106376     0.624857  37.822444  56.758068   42954.142743  \n",
       "7   31.749611  145.430198     0.579328  37.344932  62.070967   49518.909059  \n",
       "8   31.328936  165.778671     0.506943  36.768678  74.085833   60546.514172  \n",
       "9   30.595262  127.073011     0.658343  22.760560  57.607431   34362.387069  \n",
       "10  30.123118  205.429257     0.405986  34.933353  77.093904   75655.867381  \n",
       "11  30.107189  115.565369     0.721606  35.108765  36.915463   23397.597696  \n",
       "12  29.876899  120.672323     0.690006  34.798148  43.151257   27664.391439  \n",
       "13  29.208719  138.351648     0.599066  33.900937  47.574446   40641.938347  \n",
       "14  28.884937  185.556919     0.445631  33.468324  84.207747   66304.660648  \n",
       "15  28.769018  146.213783     0.565064  23.808072  43.132671   45228.282822  \n",
       "16  26.745068  187.045555     0.434680  30.644121  70.880271   62845.757841  \n",
       "17  25.862639  200.920605     0.401487  29.496966  73.685660   66417.508072  \n",
       "18  25.678046  179.863138     0.447719  28.955108  80.584119   57836.953672  \n",
       "19  24.825679  124.432514     0.641790  28.161788  37.422866   24432.069224  \n",
       "20  24.815187  150.400893     0.530921  16.887998  47.452285   41084.081016  \n",
       "21  23.958877  175.195552     0.451672  27.056272  44.124755   51645.244609  \n",
       "22  21.692727  166.007427     0.463538  24.210880  71.212983   42983.369048  \n",
       "23  20.712662  161.928105     0.468481  23.000127  59.542982   39703.791805  \n",
       "24  20.583307  225.272366     0.336075  22.841208  71.820138   64344.818285  \n",
       "25  20.292276  153.885015     0.489717  22.484414  43.562082   34768.498624  \n",
       "26  20.225406  253.904562     0.296484  22.402580  68.336673   71348.694523  \n",
       "27  19.292211  243.506984     0.304233  21.266248  72.283041   65879.916631  \n",
       "28  18.525583  127.602753     0.572169  20.340637  30.455781   18575.966696  \n",
       "29  18.321218  218.309913     0.333055  20.095086  48.475047   55974.590092  \n",
       "30  17.856867  213.854340     0.336676  19.539015  66.958398   53341.751838  \n",
       "31  17.473832  149.972777     0.475992  19.082260  47.087975   27868.273752  \n",
       "32  16.838113  176.567616     0.398179  18.328037  43.207951   37128.465832  \n",
       "33  16.468967  164.884724     0.422355  17.892273  45.149126   32338.140619  \n",
       "34  15.788915  302.434707     0.225940  17.093692  71.524125   70136.577170  \n",
       "35  14.139321  314.409609     0.205584  15.178988  80.871964   67297.125160  \n",
       "36  13.891455  153.951422     0.415759  14.894005  28.459241   22875.091151  \n",
       "37  13.593468  290.236766     0.217814  14.552329  78.165915   60989.924205  \n",
       "38  13.377639  242.141283     0.258627  14.305491  44.013195   49225.870108  \n",
       "39  12.303901  277.537983     0.213890  13.085368  56.078524   53504.865203  \n",
       "40  11.471282  192.466606     0.293105  12.148209  30.732972   29717.315177  \n",
       "41  11.084751  296.847671     0.184920  11.715791  56.934223   53131.936393  \n",
       "42  10.359398  262.817910     0.196846  10.908822  44.582816   43479.409772  "
      ]
     },
     "execution_count": 2,
     "metadata": {},
     "output_type": "execute_result"
    }
   ],
   "source": [
    "df"
   ]
  },
  {
   "cell_type": "code",
   "execution_count": 3,
   "id": "f89af133",
   "metadata": {},
   "outputs": [],
   "source": [
    "df=df.drop(['Unnamed: 0'],axis=1)"
   ]
  },
  {
   "cell_type": "code",
   "execution_count": 4,
   "id": "4401ce56",
   "metadata": {},
   "outputs": [],
   "source": [
    "df1 = df.sort_values(by='CV', ascending=True)\n",
    "df1.reset_index(inplace = True)"
   ]
  },
  {
   "cell_type": "code",
   "execution_count": 5,
   "id": "624e04e1",
   "metadata": {},
   "outputs": [
    {
     "data": {
      "image/png": "[encoded data removed]",
      "text/plain": [
       "<Figure size 1080x720 with 1 Axes>"
      ]
     },
     "metadata": {
      "needs_background": "light"
     },
     "output_type": "display_data"
    }
   ],
   "source": [
    "\n",
    "plt.figure(figsize=[15,10])\n",
    "x= df1['CV']\n",
    "y = df1['Value at Risk']\n",
    "annotations = np.array(df1[\"Ticker\"])\n",
    "plt.grid(True)\n",
    "plt.title('CV - VAR', fontsize=20, color='black')\n",
    "plt.xlabel(\"CV\",fontsize=20, color='black')\n",
    "plt.ylabel(\"VAR\", fontsize=20, color='black') \n",
    "plt.scatter(x, y,s=300,c='orange' )\n",
    "i=0\n",
    "for labels in annotations:\n",
    "    plt.annotate(labels, (x[i], y[i]))\n",
    "    i=i+1\n",
    "#plt.axvline(x = 50, color = 'r', label = 'axvline - full height')\n",
    "plt.axhline(y=50000, color='r', linestyle='-')\n",
    "plt.show()\n"
   ]
  },
  {
   "cell_type": "code",
   "execution_count": 6,
   "id": "24b1ea50",
   "metadata": {},
   "outputs": [
    {
     "data": {
      "image/png": "[encoded data removed]",
      "text/plain": [
       "<Figure size 1080x720 with 1 Axes>"
      ]
     },
     "metadata": {
      "needs_background": "light"
     },
     "output_type": "display_data"
    },
    {
     "data": {
      "image/png": "[encoded data removed]",
      "text/plain": [
       "<Figure size 1080x720 with 1 Axes>"
      ]
     },
     "metadata": {
      "needs_background": "light"
     },
     "output_type": "display_data"
    }
   ],
   "source": [
    "plt.figure(figsize=[15,10])\n",
    "x= df1['Return%']\n",
    "y = df1['Value at Risk']\n",
    "annotations = df1[\"Ticker\"]\n",
    "plt.grid(True)\n",
    "plt.title('VAR Return', fontsize=18, color='black')\n",
    "plt.xlabel(\"Return\",fontsize=18, color='black')\n",
    "plt.ylabel(\"Value at Risk\", fontsize=18, color='black') \n",
    "plt.scatter(x, y,s=300,c='orange' )\n",
    "for i, label in enumerate(annotations):\n",
    "    plt.annotate(label, (x[i], y[i]))\n",
    "\n",
    "plt.axvline(x = 30, color = 'r', label = 'axvline - full height')\n",
    "plt.axhline(y=50000, color='r', linestyle='-')\n",
    "plt.show()\n",
    "\n",
    "\n",
    "\n",
    "plt.figure(figsize=[15,10])\n",
    "x= df1['Return%']\n",
    "y = df1['CV']\n",
    "annotations = df1[\"Ticker\"]\n",
    "plt.grid(True)\n",
    "plt.title('Return-CV', fontsize=18, color='black')\n",
    "plt.xlabel(\"Return\",fontsize=18, color='black')\n",
    "plt.ylabel(\"CV\", fontsize=18, color='black') \n",
    "plt.scatter(x, y,s=300,c='orange' )\n",
    "for i, label in enumerate(annotations):\n",
    "    plt.annotate(label, (x[i], y[i]))\n",
    "\n",
    "plt.axvline(x = 30, color = 'r', label = 'axvline - full height')\n",
    "plt.axhline(y=150, color='r', linestyle='-')\n",
    "plt.show()"
   ]
  },
  {
   "cell_type": "code",
   "execution_count": 7,
   "id": "5ff7e145",
   "metadata": {},
   "outputs": [
    {
     "data": {
      "text/plain": [
       "0.6783269286009389"
      ]
     },
     "execution_count": 7,
     "metadata": {},
     "output_type": "execute_result"
    }
   ],
   "source": [
    "np.corrcoef(df1['CV'], df1['Value at Risk'])[0][1]"
   ]
  },
  {
   "cell_type": "code",
   "execution_count": 8,
   "id": "56003cde",
   "metadata": {},
   "outputs": [],
   "source": [
    "def t_stat_corr(df, x, y):\n",
    "    \"\"\"Returns the t-statistic for the correlation between 2 variables\"\"\"\n",
    "    corr_xy = np.corrcoef(df[x], df[y])[0][1]\n",
    "    n = len(df)\n",
    "    \n",
    "    t_stat = (corr_xy * np.sqrt(n - 2)) / np.sqrt(1 - corr_xy ** 2)\n",
    "    \n",
    "    return t_stat"
   ]
  },
  {
   "cell_type": "code",
   "execution_count": 9,
   "id": "39cc9133",
   "metadata": {},
   "outputs": [
    {
     "data": {
      "text/plain": [
       "5.911332011596309"
      ]
     },
     "execution_count": 9,
     "metadata": {},
     "output_type": "execute_result"
    }
   ],
   "source": [
    "# H1\n",
    "t_stat_corr(df=df1, y='Value at Risk', x='CV')"
   ]
  },
  {
   "cell_type": "code",
   "execution_count": 10,
   "id": "cf7a23f0",
   "metadata": {},
   "outputs": [
    {
     "data": {
      "text/plain": [
       "-6.323464687468352"
      ]
     },
     "execution_count": 10,
     "metadata": {},
     "output_type": "execute_result"
    }
   ],
   "source": [
    "t_stat_corr(df=df1, y='Return%', x='CV')"
   ]
  },
  {
   "cell_type": "code",
   "execution_count": 11,
   "id": "f37c0cc9",
   "metadata": {},
   "outputs": [
    {
     "data": {
      "text/plain": [
       "5.078304042174286"
      ]
     },
     "execution_count": 11,
     "metadata": {},
     "output_type": "execute_result"
    }
   ],
   "source": [
    "t_stat_corr(df=df1, y='Volatility%', x='Return%')"
   ]
  },
  {
   "cell_type": "code",
   "execution_count": 12,
   "id": "46d8acdf",
   "metadata": {},
   "outputs": [
    {
     "data": {
      "text/plain": [
       "0.14403883472574144"
      ]
     },
     "execution_count": 12,
     "metadata": {},
     "output_type": "execute_result"
    }
   ],
   "source": [
    "\n",
    "t_stat_corr(df=df1, y='Volatility%', x='CV')"
   ]
  },
  {
   "cell_type": "code",
   "execution_count": 13,
   "id": "00ce669f",
   "metadata": {},
   "outputs": [
    {
     "data": {
      "text/plain": [
       "6.384151187573015"
      ]
     },
     "execution_count": 13,
     "metadata": {},
     "output_type": "execute_result"
    }
   ],
   "source": [
    "\n",
    "t_stat_corr(df=df1, y='Volatility%', x='MAXDD%')"
   ]
  },
  {
   "cell_type": "code",
   "execution_count": 14,
   "id": "ec758a02",
   "metadata": {},
   "outputs": [
    {
     "data": {
      "text/plain": [
       "0.5515203870136818"
      ]
     },
     "execution_count": 14,
     "metadata": {},
     "output_type": "execute_result"
    }
   ],
   "source": [
    "\n",
    "t_stat_corr(df=df1, y='Return%', x='MAXDD%')"
   ]
  },
  {
   "cell_type": "code",
   "execution_count": 15,
   "id": "4b8d67c4",
   "metadata": {},
   "outputs": [
    {
     "name": "stderr",
     "output_type": "stream",
     "text": [
      "/Users/sjacob/Library/Python/3.8/lib/python/site-packages/cufflinks/plotlytools.py:807: FutureWarning:\n",
      "\n",
      "The pandas.np module is deprecated and will be removed from pandas in a future version. Import numpy directly instead.\n",
      "\n",
      "/Users/sjacob/Library/Python/3.8/lib/python/site-packages/cufflinks/plotlytools.py:810: FutureWarning:\n",
      "\n",
      "The pandas.np module is deprecated and will be removed from pandas in a future version. Import numpy directly instead.\n",
      "\n"
     ]
    },
    {
     "data": {
      "application/vnd.plotly.v1+json": {
       "config": {
        "linkText": "Export to plot.ly",
        "plotlyServerURL": "https://plot.ly",
        "showLink": true
       },
       "data": [
        {
         "marker": {
          "color": "rgba(255, 153, 51, 1.0)",
          "line": {
           "width": 1.3
          },
          "opacity": 0.8,
          "size": 12,
          "symbol": "circle"
         },
         "mode": "markers",
         "name": "POLYCAB.NS",
         "textfont": {
          "color": "#D9D9D9"
         },
         "type": "scatter",
         "x": [
          98.9504399494145
         ],
         "y": [
          16834.886161415518
         ]
        },
        {
         "marker": {
          "color": "rgba(55, 128, 191, 1.0)",
          "line": {
           "width": 1.3
          },
          "opacity": 0.8,
          "size": 12,
          "symbol": "circle"
         },
         "mode": "markers",
         "name": "TANLA.NS",
         "textfont": {
          "color": "#D9D9D9"
         },
         "type": "scatter",
         "x": [
          99.90136584915288
         ],
         "y": [
          32435.337833064725
         ]
        },
        {
         "marker": {
          "color": "rgba(50, 171, 96, 1.0)",
          "line": {
           "width": 1.3
          },
          "opacity": 0.8,
          "size": 12,
          "symbol": "circle"
         },
         "mode": "markers",
         "name": "ALKYLAMINE.NS",
         "textfont": {
          "color": "#D9D9D9"
         },
         "type": "scatter",
         "x": [
          105.88791203766776
         ],
         "y": [
          25473.15048049367
         ]
        },
        {
         "marker": {
          "color": "rgba(128, 0, 128, 1.0)",
          "line": {
           "width": 1.3
          },
          "opacity": 0.8,
          "size": 12,
          "symbol": "circle"
         },
         "mode": "markers",
         "name": "JBCHEPHARM.NS",
         "textfont": {
          "color": "#D9D9D9"
         },
         "type": "scatter",
         "x": [
          115.56536870138804
         ],
         "y": [
          23397.59769571132
         ]
        },
        {
         "marker": {
          "color": "rgba(219, 64, 82, 1.0)",
          "line": {
           "width": 1.3
          },
          "opacity": 0.8,
          "size": 12,
          "symbol": "circle"
         },
         "mode": "markers",
         "name": "TIPSINDLTD.NS",
         "textfont": {
          "color": "#D9D9D9"
         },
         "type": "scatter",
         "x": [
          116.8076806822719
         ],
         "y": [
          46418.17681210309
         ]
        },
        {
         "marker": {
          "color": "rgba(0, 128, 128, 1.0)",
          "line": {
           "width": 1.3
          },
          "opacity": 0.8,
          "size": 12,
          "symbol": "circle"
         },
         "mode": "markers",
         "name": "SUMICHEM.NS",
         "textfont": {
          "color": "#D9D9D9"
         },
         "type": "scatter",
         "x": [
          118.21968839069427
         ],
         "y": [
          32480.92651502756
         ]
        },
        {
         "marker": {
          "color": "rgba(255, 255, 51, 1.0)",
          "line": {
           "width": 1.3
          },
          "opacity": 0.8,
          "size": 12,
          "symbol": "circle"
         },
         "mode": "markers",
         "name": "VINATIORGA.NS",
         "textfont": {
          "color": "#D9D9D9"
         },
         "type": "scatter",
         "x": [
          120.67232303820946
         ],
         "y": [
          27664.391438580235
         ]
        },
        {
         "marker": {
          "color": "rgba(128, 128, 0, 1.0)",
          "line": {
           "width": 1.3
          },
          "opacity": 0.8,
          "size": 12,
          "symbol": "circle"
         },
         "mode": "markers",
         "name": "GRINDWELL.NS",
         "textfont": {
          "color": "#D9D9D9"
         },
         "type": "scatter",
         "x": [
          124.43251408634744
         ],
         "y": [
          24432.0692239271
         ]
        },
        {
         "marker": {
          "color": "rgba(251, 128, 114, 1.0)",
          "line": {
           "width": 1.3
          },
          "opacity": 0.8,
          "size": 12,
          "symbol": "circle"
         },
         "mode": "markers",
         "name": "CDSL.NS",
         "textfont": {
          "color": "#D9D9D9"
         },
         "type": "scatter",
         "x": [
          127.0730107897718
         ],
         "y": [
          34362.387069037315
         ]
        },
        {
         "marker": {
          "color": "rgba(128, 177, 211, 1.0)",
          "line": {
           "width": 1.3
          },
          "opacity": 0.8,
          "size": 12,
          "symbol": "circle"
         },
         "mode": "markers",
         "name": "HINDUNILVR.NS",
         "textfont": {
          "color": "#D9D9D9"
         },
         "type": "scatter",
         "x": [
          127.6027532793355
         ],
         "y": [
          18575.96669588101
         ]
        },
        {
         "marker": {
          "color": "rgba(128, 177, 211, 0.8999999999999999)",
          "line": {
           "width": 1.3
          },
          "opacity": 0.8,
          "size": 12,
          "symbol": "circle"
         },
         "mode": "markers",
         "name": "COFORGE.NS",
         "textfont": {
          "color": "#D9D9D9"
         },
         "type": "scatter",
         "x": [
          135.1063761133787
         ],
         "y": [
          42954.14274282532
         ]
        },
        {
         "marker": {
          "color": "rgba(255, 153, 51, 0.8999999999999999)",
          "line": {
           "width": 1.3
          },
          "opacity": 0.8,
          "size": 12,
          "symbol": "circle"
         },
         "mode": "markers",
         "name": "LINDEINDIA.NS",
         "textfont": {
          "color": "#D9D9D9"
         },
         "type": "scatter",
         "x": [
          138.3516478107107
         ],
         "y": [
          40641.93834663309
         ]
        },
        {
         "marker": {
          "color": "rgba(55, 128, 191, 0.8999999999999999)",
          "line": {
           "width": 1.3
          },
          "opacity": 0.8,
          "size": 12,
          "symbol": "circle"
         },
         "mode": "markers",
         "name": "ADFFOODS.NS",
         "textfont": {
          "color": "#D9D9D9"
         },
         "type": "scatter",
         "x": [
          145.43019757061322
         ],
         "y": [
          49518.90905946018
         ]
        },
        {
         "marker": {
          "color": "rgba(50, 171, 96, 0.8999999999999999)",
          "line": {
           "width": 1.3
          },
          "opacity": 0.8,
          "size": 12,
          "symbol": "circle"
         },
         "mode": "markers",
         "name": "TCIEXP.NS",
         "textfont": {
          "color": "#D9D9D9"
         },
         "type": "scatter",
         "x": [
          146.21378283866989
         ],
         "y": [
          45228.28282195442
         ]
        },
        {
         "marker": {
          "color": "rgba(128, 0, 128, 0.8999999999999999)",
          "line": {
           "width": 1.3
          },
          "opacity": 0.8,
          "size": 12,
          "symbol": "circle"
         },
         "mode": "markers",
         "name": "PRIMESECU.NS",
         "textfont": {
          "color": "#D9D9D9"
         },
         "type": "scatter",
         "x": [
          149.57842044827603
         ],
         "y": [
          68372.94143496535
         ]
        },
        {
         "marker": {
          "color": "rgba(219, 64, 82, 0.8999999999999999)",
          "line": {
           "width": 1.3
          },
          "opacity": 0.8,
          "size": 12,
          "symbol": "circle"
         },
         "mode": "markers",
         "name": "SCHAEFFLER.NS",
         "textfont": {
          "color": "#D9D9D9"
         },
         "type": "scatter",
         "x": [
          149.97277660175814
         ],
         "y": [
          27868.273752414447
         ]
        },
        {
         "marker": {
          "color": "rgba(0, 128, 128, 0.8999999999999999)",
          "line": {
           "width": 1.3
          },
          "opacity": 0.8,
          "size": 12,
          "symbol": "circle"
         },
         "mode": "markers",
         "name": "IEX.NS",
         "textfont": {
          "color": "#D9D9D9"
         },
         "type": "scatter",
         "x": [
          150.40089285749852
         ],
         "y": [
          41084.08101643693
         ]
        },
        {
         "marker": {
          "color": "rgba(255, 255, 51, 0.8999999999999999)",
          "line": {
           "width": 1.3
          },
          "opacity": 0.8,
          "size": 12,
          "symbol": "circle"
         },
         "mode": "markers",
         "name": "IGL.NS",
         "textfont": {
          "color": "#D9D9D9"
         },
         "type": "scatter",
         "x": [
          153.88501510305363
         ],
         "y": [
          34768.498624439024
         ]
        },
        {
         "marker": {
          "color": "rgba(128, 128, 0, 0.8999999999999999)",
          "line": {
           "width": 1.3
          },
          "opacity": 0.8,
          "size": 12,
          "symbol": "circle"
         },
         "mode": "markers",
         "name": "PGHH.NS",
         "textfont": {
          "color": "#D9D9D9"
         },
         "type": "scatter",
         "x": [
          153.95142221956786
         ],
         "y": [
          22875.091151360728
         ]
        },
        {
         "marker": {
          "color": "rgba(251, 128, 114, 0.8999999999999999)",
          "line": {
           "width": 1.3
          },
          "opacity": 0.8,
          "size": 12,
          "symbol": "circle"
         },
         "mode": "markers",
         "name": "DIVISLAB.NS",
         "textfont": {
          "color": "#D9D9D9"
         },
         "type": "scatter",
         "x": [
          161.92810531408088
         ],
         "y": [
          39703.791804893925
         ]
        },
        {
         "marker": {
          "color": "rgba(251, 128, 114, 0.7999999999999998)",
          "line": {
           "width": 1.3
          },
          "opacity": 0.8,
          "size": 12,
          "symbol": "circle"
         },
         "mode": "markers",
         "name": "SKFINDIA.NS",
         "textfont": {
          "color": "#D9D9D9"
         },
         "type": "scatter",
         "x": [
          164.88472366033483
         ],
         "y": [
          32338.140619150552
         ]
        },
        {
         "marker": {
          "color": "rgba(128, 177, 211, 0.7999999999999998)",
          "line": {
           "width": 1.3
          },
          "opacity": 0.8,
          "size": 12,
          "symbol": "circle"
         },
         "mode": "markers",
         "name": "CAPLIPOINT.NS",
         "textfont": {
          "color": "#D9D9D9"
         },
         "type": "scatter",
         "x": [
          165.77867060266388
         ],
         "y": [
          60546.51417159053
         ]
        },
        {
         "marker": {
          "color": "rgba(255, 153, 51, 0.7999999999999998)",
          "line": {
           "width": 1.3
          },
          "opacity": 0.8,
          "size": 12,
          "symbol": "circle"
         },
         "mode": "markers",
         "name": "TIDEWATER.NS",
         "textfont": {
          "color": "#D9D9D9"
         },
         "type": "scatter",
         "x": [
          166.00742688717372
         ],
         "y": [
          42983.36904829733
         ]
        },
        {
         "marker": {
          "color": "rgba(55, 128, 191, 0.7999999999999998)",
          "line": {
           "width": 1.3
          },
          "opacity": 0.8,
          "size": 12,
          "symbol": "circle"
         },
         "mode": "markers",
         "name": "ESABINDIA.NS",
         "textfont": {
          "color": "#D9D9D9"
         },
         "type": "scatter",
         "x": [
          175.19555152604698
         ],
         "y": [
          51645.24460906842
         ]
        },
        {
         "marker": {
          "color": "rgba(50, 171, 96, 0.7999999999999998)",
          "line": {
           "width": 1.3
          },
          "opacity": 0.8,
          "size": 12,
          "symbol": "circle"
         },
         "mode": "markers",
         "name": "SUPREMEIND.NS",
         "textfont": {
          "color": "#D9D9D9"
         },
         "type": "scatter",
         "x": [
          176.56761582078764
         ],
         "y": [
          37128.46583230055
         ]
        },
        {
         "marker": {
          "color": "rgba(128, 0, 128, 0.7999999999999998)",
          "line": {
           "width": 1.3
          },
          "opacity": 0.8,
          "size": 12,
          "symbol": "circle"
         },
         "mode": "markers",
         "name": "GULPOLY.NS",
         "textfont": {
          "color": "#D9D9D9"
         },
         "type": "scatter",
         "x": [
          179.86313847917395
         ],
         "y": [
          57836.95367170273
         ]
        },
        {
         "marker": {
          "color": "rgba(219, 64, 82, 0.7999999999999998)",
          "line": {
           "width": 1.3
          },
          "opacity": 0.8,
          "size": 12,
          "symbol": "circle"
         },
         "mode": "markers",
         "name": "INTELLECT.NS",
         "textfont": {
          "color": "#D9D9D9"
         },
         "type": "scatter",
         "x": [
          185.55691940487796
         ],
         "y": [
          66304.66064801184
         ]
        },
        {
         "marker": {
          "color": "rgba(0, 128, 128, 0.7999999999999998)",
          "line": {
           "width": 1.3
          },
          "opacity": 0.8,
          "size": 12,
          "symbol": "circle"
         },
         "mode": "markers",
         "name": "PRAJIND.NS",
         "textfont": {
          "color": "#D9D9D9"
         },
         "type": "scatter",
         "x": [
          187.04555456668896
         ],
         "y": [
          62845.75784052423
         ]
        },
        {
         "marker": {
          "color": "rgba(255, 255, 51, 0.7999999999999998)",
          "line": {
           "width": 1.3
          },
          "opacity": 0.8,
          "size": 12,
          "symbol": "circle"
         },
         "mode": "markers",
         "name": "SANOFI.NS",
         "textfont": {
          "color": "#D9D9D9"
         },
         "type": "scatter",
         "x": [
          192.4666055350362
         ],
         "y": [
          29717.31517653401
         ]
        },
        {
         "marker": {
          "color": "rgba(128, 128, 0, 0.7999999999999998)",
          "line": {
           "width": 1.3
          },
          "opacity": 0.8,
          "size": 12,
          "symbol": "circle"
         },
         "mode": "markers",
         "name": "RPGLIFE.NS",
         "textfont": {
          "color": "#D9D9D9"
         },
         "type": "scatter",
         "x": [
          200.92060522165025
         ],
         "y": [
          66417.5080724685
         ]
        },
        {
         "marker": {
          "color": "rgba(128, 128, 0, 0.7)",
          "line": {
           "width": 1.3
          },
          "opacity": 0.8,
          "size": 12,
          "symbol": "circle"
         },
         "mode": "markers",
         "name": "FCL.NS",
         "textfont": {
          "color": "#D9D9D9"
         },
         "type": "scatter",
         "x": [
          205.42925742518955
         ],
         "y": [
          75655.86738127575
         ]
        },
        {
         "marker": {
          "color": "rgba(251, 128, 114, 0.7)",
          "line": {
           "width": 1.3
          },
          "opacity": 0.8,
          "size": 12,
          "symbol": "circle"
         },
         "mode": "markers",
         "name": "BEL.NS",
         "textfont": {
          "color": "#D9D9D9"
         },
         "type": "scatter",
         "x": [
          213.85434029625452
         ],
         "y": [
          53341.751838293545
         ]
        },
        {
         "marker": {
          "color": "rgba(128, 177, 211, 0.7)",
          "line": {
           "width": 1.3
          },
          "opacity": 0.8,
          "size": 12,
          "symbol": "circle"
         },
         "mode": "markers",
         "name": "AMRUTANJAN.NS",
         "textfont": {
          "color": "#D9D9D9"
         },
         "type": "scatter",
         "x": [
          218.30991293199685
         ],
         "y": [
          55974.59009248462
         ]
        },
        {
         "marker": {
          "color": "rgba(255, 153, 51, 0.7)",
          "line": {
           "width": 1.3
          },
          "opacity": 0.8,
          "size": 12,
          "symbol": "circle"
         },
         "mode": "markers",
         "name": "AVANTIFEED.NS",
         "textfont": {
          "color": "#D9D9D9"
         },
         "type": "scatter",
         "x": [
          225.2723663837951
         ],
         "y": [
          64344.818285114496
         ]
        },
        {
         "marker": {
          "color": "rgba(55, 128, 191, 0.7)",
          "line": {
           "width": 1.3
          },
          "opacity": 0.8,
          "size": 12,
          "symbol": "circle"
         },
         "mode": "markers",
         "name": "INGERRAND.NS",
         "textfont": {
          "color": "#D9D9D9"
         },
         "type": "scatter",
         "x": [
          242.1412825255643
         ],
         "y": [
          49225.87010843092
         ]
        },
        {
         "marker": {
          "color": "rgba(50, 171, 96, 0.7)",
          "line": {
           "width": 1.3
          },
          "opacity": 0.8,
          "size": 12,
          "symbol": "circle"
         },
         "mode": "markers",
         "name": "ADORWELD.NS",
         "textfont": {
          "color": "#D9D9D9"
         },
         "type": "scatter",
         "x": [
          243.50698417114344
         ],
         "y": [
          65879.9166310438
         ]
        },
        {
         "marker": {
          "color": "rgba(128, 0, 128, 0.7)",
          "line": {
           "width": 1.3
          },
          "opacity": 0.8,
          "size": 12,
          "symbol": "circle"
         },
         "mode": "markers",
         "name": "VINYLINDIA.NS",
         "textfont": {
          "color": "#D9D9D9"
         },
         "type": "scatter",
         "x": [
          253.9045624995075
         ],
         "y": [
          71348.69452308214
         ]
        },
        {
         "marker": {
          "color": "rgba(219, 64, 82, 0.7)",
          "line": {
           "width": 1.3
          },
          "opacity": 0.8,
          "size": 12,
          "symbol": "circle"
         },
         "mode": "markers",
         "name": "VSTIND.NS",
         "textfont": {
          "color": "#D9D9D9"
         },
         "type": "scatter",
         "x": [
          262.81790977969297
         ],
         "y": [
          43479.40977247318
         ]
        },
        {
         "marker": {
          "color": "rgba(0, 128, 128, 0.7)",
          "line": {
           "width": 1.3
          },
          "opacity": 0.8,
          "size": 12,
          "symbol": "circle"
         },
         "mode": "markers",
         "name": "KSB.NS",
         "textfont": {
          "color": "#D9D9D9"
         },
         "type": "scatter",
         "x": [
          277.5379833907595
         ],
         "y": [
          53504.86520327211
         ]
        },
        {
         "marker": {
          "color": "rgba(255, 255, 51, 0.7)",
          "line": {
           "width": 1.3
          },
          "opacity": 0.8,
          "size": 12,
          "symbol": "circle"
         },
         "mode": "markers",
         "name": "EXPLEOSOL.NS",
         "textfont": {
          "color": "#D9D9D9"
         },
         "type": "scatter",
         "x": [
          290.2367659853191
         ],
         "y": [
          60989.92420489033
         ]
        },
        {
         "marker": {
          "color": "rgba(255, 255, 51, 0.5999999999999999)",
          "line": {
           "width": 1.3
          },
          "opacity": 0.8,
          "size": 12,
          "symbol": "circle"
         },
         "mode": "markers",
         "name": "AJANTPHARM.NS",
         "textfont": {
          "color": "#D9D9D9"
         },
         "type": "scatter",
         "x": [
          296.84767052678893
         ],
         "y": [
          53131.93639321916
         ]
        },
        {
         "marker": {
          "color": "rgba(128, 128, 0, 0.5999999999999999)",
          "line": {
           "width": 1.3
          },
          "opacity": 0.8,
          "size": 12,
          "symbol": "circle"
         },
         "mode": "markers",
         "name": "RSYSTEMS.NS",
         "textfont": {
          "color": "#D9D9D9"
         },
         "type": "scatter",
         "x": [
          302.43470683568955
         ],
         "y": [
          70136.5771699785
         ]
        },
        {
         "marker": {
          "color": "rgba(251, 128, 114, 0.5999999999999999)",
          "line": {
           "width": 1.3
          },
          "opacity": 0.8,
          "size": 12,
          "symbol": "circle"
         },
         "mode": "markers",
         "name": "SHARDACROP.NS",
         "textfont": {
          "color": "#D9D9D9"
         },
         "type": "scatter",
         "x": [
          314.40960936866765
         ],
         "y": [
          67297.12516032743
         ]
        }
       ],
       "layout": {
        "legend": {
         "bgcolor": "#151516",
         "font": {
          "color": "#D9D9D9"
         }
        },
        "paper_bgcolor": "#151516",
        "plot_bgcolor": "#151516",
        "template": {
         "data": {
          "bar": [
           {
            "error_x": {
             "color": "#2a3f5f"
            },
            "error_y": {
             "color": "#2a3f5f"
            },
            "marker": {
             "line": {
              "color": "#E5ECF6",
              "width": 0.5
             },
             "pattern": {
              "fillmode": "overlay",
              "size": 10,
              "solidity": 0.2
             }
            },
            "type": "bar"
           }
          ],
          "barpolar": [
           {
            "marker": {
             "line": {
              "color": "#E5ECF6",
              "width": 0.5
             },
             "pattern": {
              "fillmode": "overlay",
              "size": 10,
              "solidity": 0.2
             }
            },
            "type": "barpolar"
           }
          ],
          "carpet": [
           {
            "aaxis": {
             "endlinecolor": "#2a3f5f",
             "gridcolor": "white",
             "linecolor": "white",
             "minorgridcolor": "white",
             "startlinecolor": "#2a3f5f"
            },
            "baxis": {
             "endlinecolor": "#2a3f5f",
             "gridcolor": "white",
             "linecolor": "white",
             "minorgridcolor": "white",
             "startlinecolor": "#2a3f5f"
            },
            "type": "carpet"
           }
          ],
          "choropleth": [
           {
            "colorbar": {
             "outlinewidth": 0,
             "ticks": ""
            },
            "type": "choropleth"
           }
          ],
          "contour": [
           {
            "colorbar": {
             "outlinewidth": 0,
             "ticks": ""
            },
            "colorscale": [
             [
              0,
              "#0d0887"
             ],
             [
              0.1111111111111111,
              "#46039f"
             ],
             [
              0.2222222222222222,
              "#7201a8"
             ],
             [
              0.3333333333333333,
              "#9c179e"
             ],
             [
              0.4444444444444444,
              "#bd3786"
             ],
             [
              0.5555555555555556,
              "#d8576b"
             ],
             [
              0.6666666666666666,
              "#ed7953"
             ],
             [
              0.7777777777777778,
              "#fb9f3a"
             ],
             [
              0.8888888888888888,
              "#fdca26"
             ],
             [
              1,
              "#f0f921"
             ]
            ],
            "type": "contour"
           }
          ],
          "contourcarpet": [
           {
            "colorbar": {
             "outlinewidth": 0,
             "ticks": ""
            },
            "type": "contourcarpet"
           }
          ],
          "heatmap": [
           {
            "colorbar": {
             "outlinewidth": 0,
             "ticks": ""
            },
            "colorscale": [
             [
              0,
              "#0d0887"
             ],
             [
              0.1111111111111111,
              "#46039f"
             ],
             [
              0.2222222222222222,
              "#7201a8"
             ],
             [
              0.3333333333333333,
              "#9c179e"
             ],
             [
              0.4444444444444444,
              "#bd3786"
             ],
             [
              0.5555555555555556,
              "#d8576b"
             ],
             [
              0.6666666666666666,
              "#ed7953"
             ],
             [
              0.7777777777777778,
              "#fb9f3a"
             ],
             [
              0.8888888888888888,
              "#fdca26"
             ],
             [
              1,
              "#f0f921"
             ]
            ],
            "type": "heatmap"
           }
          ],
          "heatmapgl": [
           {
            "colorbar": {
             "outlinewidth": 0,
             "ticks": ""
            },
            "colorscale": [
             [
              0,
              "#0d0887"
             ],
             [
              0.1111111111111111,
              "#46039f"
             ],
             [
              0.2222222222222222,
              "#7201a8"
             ],
             [
              0.3333333333333333,
              "#9c179e"
             ],
             [
              0.4444444444444444,
              "#bd3786"
             ],
             [
              0.5555555555555556,
              "#d8576b"
             ],
             [
              0.6666666666666666,
              "#ed7953"
             ],
             [
              0.7777777777777778,
              "#fb9f3a"
             ],
             [
              0.8888888888888888,
              "#fdca26"
             ],
             [
              1,
              "#f0f921"
             ]
            ],
            "type": "heatmapgl"
           }
          ],
          "histogram": [
           {
            "marker": {
             "pattern": {
              "fillmode": "overlay",
              "size": 10,
              "solidity": 0.2
             }
            },
            "type": "histogram"
           }
          ],
          "histogram2d": [
           {
            "colorbar": {
             "outlinewidth": 0,
             "ticks": ""
            },
            "colorscale": [
             [
              0,
              "#0d0887"
             ],
             [
              0.1111111111111111,
              "#46039f"
             ],
             [
              0.2222222222222222,
              "#7201a8"
             ],
             [
              0.3333333333333333,
              "#9c179e"
             ],
             [
              0.4444444444444444,
              "#bd3786"
             ],
             [
              0.5555555555555556,
              "#d8576b"
             ],
             [
              0.6666666666666666,
              "#ed7953"
             ],
             [
              0.7777777777777778,
              "#fb9f3a"
             ],
             [
              0.8888888888888888,
              "#fdca26"
             ],
             [
              1,
              "#f0f921"
             ]
            ],
            "type": "histogram2d"
           }
          ],
          "histogram2dcontour": [
           {
            "colorbar": {
             "outlinewidth": 0,
             "ticks": ""
            },
            "colorscale": [
             [
              0,
              "#0d0887"
             ],
             [
              0.1111111111111111,
              "#46039f"
             ],
             [
              0.2222222222222222,
              "#7201a8"
             ],
             [
              0.3333333333333333,
              "#9c179e"
             ],
             [
              0.4444444444444444,
              "#bd3786"
             ],
             [
              0.5555555555555556,
              "#d8576b"
             ],
             [
              0.6666666666666666,
              "#ed7953"
             ],
             [
              0.7777777777777778,
              "#fb9f3a"
             ],
             [
              0.8888888888888888,
              "#fdca26"
             ],
             [
              1,
              "#f0f921"
             ]
            ],
            "type": "histogram2dcontour"
           }
          ],
          "mesh3d": [
           {
            "colorbar": {
             "outlinewidth": 0,
             "ticks": ""
            },
            "type": "mesh3d"
           }
          ],
          "parcoords": [
           {
            "line": {
             "colorbar": {
              "outlinewidth": 0,
              "ticks": ""
             }
            },
            "type": "parcoords"
           }
          ],
          "pie": [
           {
            "automargin": true,
            "type": "pie"
           }
          ],
          "scatter": [
           {
            "fillpattern": {
             "fillmode": "overlay",
             "size": 10,
             "solidity": 0.2
            },
            "type": "scatter"
           }
          ],
          "scatter3d": [
           {
            "line": {
             "colorbar": {
              "outlinewidth": 0,
              "ticks": ""
             }
            },
            "marker": {
             "colorbar": {
              "outlinewidth": 0,
              "ticks": ""
             }
            },
            "type": "scatter3d"
           }
          ],
          "scattercarpet": [
           {
            "marker": {
             "colorbar": {
              "outlinewidth": 0,
              "ticks": ""
             }
            },
            "type": "scattercarpet"
           }
          ],
          "scattergeo": [
           {
            "marker": {
             "colorbar": {
              "outlinewidth": 0,
              "ticks": ""
             }
            },
            "type": "scattergeo"
           }
          ],
          "scattergl": [
           {
            "marker": {
             "colorbar": {
              "outlinewidth": 0,
              "ticks": ""
             }
            },
            "type": "scattergl"
           }
          ],
          "scattermapbox": [
           {
            "marker": {
             "colorbar": {
              "outlinewidth": 0,
              "ticks": ""
             }
            },
            "type": "scattermapbox"
           }
          ],
          "scatterpolar": [
           {
            "marker": {
             "colorbar": {
              "outlinewidth": 0,
              "ticks": ""
             }
            },
            "type": "scatterpolar"
           }
          ],
          "scatterpolargl": [
           {
            "marker": {
             "colorbar": {
              "outlinewidth": 0,
              "ticks": ""
             }
            },
            "type": "scatterpolargl"
           }
          ],
          "scatterternary": [
           {
            "marker": {
             "colorbar": {
              "outlinewidth": 0,
              "ticks": ""
             }
            },
            "type": "scatterternary"
           }
          ],
          "surface": [
           {
            "colorbar": {
             "outlinewidth": 0,
             "ticks": ""
            },
            "colorscale": [
             [
              0,
              "#0d0887"
             ],
             [
              0.1111111111111111,
              "#46039f"
             ],
             [
              0.2222222222222222,
              "#7201a8"
             ],
             [
              0.3333333333333333,
              "#9c179e"
             ],
             [
              0.4444444444444444,
              "#bd3786"
             ],
             [
              0.5555555555555556,
              "#d8576b"
             ],
             [
              0.6666666666666666,
              "#ed7953"
             ],
             [
              0.7777777777777778,
              "#fb9f3a"
             ],
             [
              0.8888888888888888,
              "#fdca26"
             ],
             [
              1,
              "#f0f921"
             ]
            ],
            "type": "surface"
           }
          ],
          "table": [
           {
            "cells": {
             "fill": {
              "color": "#EBF0F8"
             },
             "line": {
              "color": "white"
             }
            },
            "header": {
             "fill": {
              "color": "#C8D4E3"
             },
             "line": {
              "color": "white"
             }
            },
            "type": "table"
           }
          ]
         },
         "layout": {
          "annotationdefaults": {
           "arrowcolor": "#2a3f5f",
           "arrowhead": 0,
           "arrowwidth": 1
          },
          "autotypenumbers": "strict",
          "coloraxis": {
           "colorbar": {
            "outlinewidth": 0,
            "ticks": ""
           }
          },
          "colorscale": {
           "diverging": [
            [
             0,
             "#8e0152"
            ],
            [
             0.1,
             "#c51b7d"
            ],
            [
             0.2,
             "#de77ae"
            ],
            [
             0.3,
             "#f1b6da"
            ],
            [
             0.4,
             "#fde0ef"
            ],
            [
             0.5,
             "#f7f7f7"
            ],
            [
             0.6,
             "#e6f5d0"
            ],
            [
             0.7,
             "#b8e186"
            ],
            [
             0.8,
             "#7fbc41"
            ],
            [
             0.9,
             "#4d9221"
            ],
            [
             1,
             "#276419"
            ]
           ],
           "sequential": [
            [
             0,
             "#0d0887"
            ],
            [
             0.1111111111111111,
             "#46039f"
            ],
            [
             0.2222222222222222,
             "#7201a8"
            ],
            [
             0.3333333333333333,
             "#9c179e"
            ],
            [
             0.4444444444444444,
             "#bd3786"
            ],
            [
             0.5555555555555556,
             "#d8576b"
            ],
            [
             0.6666666666666666,
             "#ed7953"
            ],
            [
             0.7777777777777778,
             "#fb9f3a"
            ],
            [
             0.8888888888888888,
             "#fdca26"
            ],
            [
             1,
             "#f0f921"
            ]
           ],
           "sequentialminus": [
            [
             0,
             "#0d0887"
            ],
            [
             0.1111111111111111,
             "#46039f"
            ],
            [
             0.2222222222222222,
             "#7201a8"
            ],
            [
             0.3333333333333333,
             "#9c179e"
            ],
            [
             0.4444444444444444,
             "#bd3786"
            ],
            [
             0.5555555555555556,
             "#d8576b"
            ],
            [
             0.6666666666666666,
             "#ed7953"
            ],
            [
             0.7777777777777778,
             "#fb9f3a"
            ],
            [
             0.8888888888888888,
             "#fdca26"
            ],
            [
             1,
             "#f0f921"
            ]
           ]
          },
          "colorway": [
           "#636efa",
           "#EF553B",
           "#00cc96",
           "#ab63fa",
           "#FFA15A",
           "#19d3f3",
           "#FF6692",
           "#B6E880",
           "#FF97FF",
           "#FECB52"
          ],
          "font": {
           "color": "#2a3f5f"
          },
          "geo": {
           "bgcolor": "white",
           "lakecolor": "white",
           "landcolor": "#E5ECF6",
           "showlakes": true,
           "showland": true,
           "subunitcolor": "white"
          },
          "hoverlabel": {
           "align": "left"
          },
          "hovermode": "closest",
          "mapbox": {
           "style": "light"
          },
          "paper_bgcolor": "white",
          "plot_bgcolor": "#E5ECF6",
          "polar": {
           "angularaxis": {
            "gridcolor": "white",
            "linecolor": "white",
            "ticks": ""
           },
           "bgcolor": "#E5ECF6",
           "radialaxis": {
            "gridcolor": "white",
            "linecolor": "white",
            "ticks": ""
           }
          },
          "scene": {
           "xaxis": {
            "backgroundcolor": "#E5ECF6",
            "gridcolor": "white",
            "gridwidth": 2,
            "linecolor": "white",
            "showbackground": true,
            "ticks": "",
            "zerolinecolor": "white"
           },
           "yaxis": {
            "backgroundcolor": "#E5ECF6",
            "gridcolor": "white",
            "gridwidth": 2,
            "linecolor": "white",
            "showbackground": true,
            "ticks": "",
            "zerolinecolor": "white"
           },
           "zaxis": {
            "backgroundcolor": "#E5ECF6",
            "gridcolor": "white",
            "gridwidth": 2,
            "linecolor": "white",
            "showbackground": true,
            "ticks": "",
            "zerolinecolor": "white"
           }
          },
          "shapedefaults": {
           "line": {
            "color": "#2a3f5f"
           }
          },
          "ternary": {
           "aaxis": {
            "gridcolor": "white",
            "linecolor": "white",
            "ticks": ""
           },
           "baxis": {
            "gridcolor": "white",
            "linecolor": "white",
            "ticks": ""
           },
           "bgcolor": "#E5ECF6",
           "caxis": {
            "gridcolor": "white",
            "linecolor": "white",
            "ticks": ""
           }
          },
          "title": {
           "x": 0.05
          },
          "xaxis": {
           "automargin": true,
           "gridcolor": "white",
           "linecolor": "white",
           "ticks": "",
           "title": {
            "standoff": 15
           },
           "zerolinecolor": "white",
           "zerolinewidth": 2
          },
          "yaxis": {
           "automargin": true,
           "gridcolor": "white",
           "linecolor": "white",
           "ticks": "",
           "title": {
            "standoff": 15
           },
           "zerolinecolor": "white",
           "zerolinewidth": 2
          }
         }
        },
        "title": {
         "font": {
          "color": "#D9D9D9"
         },
         "text": "========CV-------VAR========================="
        },
        "xaxis": {
         "gridcolor": "#434343",
         "showgrid": true,
         "tickfont": {
          "color": "#C2C2C2"
         },
         "title": {
          "font": {
           "color": "#D9D9D9"
          },
          "text": "CV"
         },
         "zerolinecolor": "#666570"
        },
        "yaxis": {
         "gridcolor": "#434343",
         "showgrid": true,
         "tickfont": {
          "color": "#C2C2C2"
         },
         "title": {
          "font": {
           "color": "#D9D9D9"
          },
          "text": "Value at Risk"
         },
         "zerolinecolor": "#666570"
        }
       }
      },
      "text/html": [
       "<div>                            <div id=\"29e79b64-93eb-4579-a95c-df6934056e4a\" class=\"plotly-graph-div\" style=\"height:525px; width:100%;\"></div>            <script type=\"text/javascript\">                require([\"plotly\"], function(Plotly) {                    window.PLOTLYENV=window.PLOTLYENV || {};\n",
       "                    window.PLOTLYENV.BASE_URL='https://plot.ly';                                    if (document.getElementById(\"29e79b64-93eb-4579-a95c-df6934056e4a\")) {                    Plotly.newPlot(                        \"29e79b64-93eb-4579-a95c-df6934056e4a\",                        [{\"marker\":{\"color\":\"rgba(255, 153, 51, 1.0)\",\"line\":{\"width\":1.3},\"opacity\":0.8,\"size\":12,\"symbol\":\"circle\"},\"mode\":\"markers\",\"name\":\"POLYCAB.NS\",\"textfont\":{\"color\":\"#D9D9D9\"},\"x\":[98.9504399494145],\"y\":[16834.886161415518],\"type\":\"scatter\"},{\"marker\":{\"color\":\"rgba(55, 128, 191, 1.0)\",\"line\":{\"width\":1.3},\"opacity\":0.8,\"size\":12,\"symbol\":\"circle\"},\"mode\":\"markers\",\"name\":\"TANLA.NS\",\"textfont\":{\"color\":\"#D9D9D9\"},\"x\":[99.90136584915288],\"y\":[32435.337833064725],\"type\":\"scatter\"},{\"marker\":{\"color\":\"rgba(50, 171, 96, 1.0)\",\"line\":{\"width\":1.3},\"opacity\":0.8,\"size\":12,\"symbol\":\"circle\"},\"mode\":\"markers\",\"name\":\"ALKYLAMINE.NS\",\"textfont\":{\"color\":\"#D9D9D9\"},\"x\":[105.88791203766776],\"y\":[25473.15048049367],\"type\":\"scatter\"},{\"marker\":{\"color\":\"rgba(128, 0, 128, 1.0)\",\"line\":{\"width\":1.3},\"opacity\":0.8,\"size\":12,\"symbol\":\"circle\"},\"mode\":\"markers\",\"name\":\"JBCHEPHARM.NS\",\"textfont\":{\"color\":\"#D9D9D9\"},\"x\":[115.56536870138804],\"y\":[23397.59769571132],\"type\":\"scatter\"},{\"marker\":{\"color\":\"rgba(219, 64, 82, 1.0)\",\"line\":{\"width\":1.3},\"opacity\":0.8,\"size\":12,\"symbol\":\"circle\"},\"mode\":\"markers\",\"name\":\"TIPSINDLTD.NS\",\"textfont\":{\"color\":\"#D9D9D9\"},\"x\":[116.8076806822719],\"y\":[46418.17681210309],\"type\":\"scatter\"},{\"marker\":{\"color\":\"rgba(0, 128, 128, 1.0)\",\"line\":{\"width\":1.3},\"opacity\":0.8,\"size\":12,\"symbol\":\"circle\"},\"mode\":\"markers\",\"name\":\"SUMICHEM.NS\",\"textfont\":{\"color\":\"#D9D9D9\"},\"x\":[118.21968839069427],\"y\":[32480.92651502756],\"type\":\"scatter\"},{\"marker\":{\"color\":\"rgba(255, 255, 51, 1.0)\",\"line\":{\"width\":1.3},\"opacity\":0.8,\"size\":12,\"symbol\":\"circle\"},\"mode\":\"markers\",\"name\":\"VINATIORGA.NS\",\"textfont\":{\"color\":\"#D9D9D9\"},\"x\":[120.67232303820946],\"y\":[27664.391438580235],\"type\":\"scatter\"},{\"marker\":{\"color\":\"rgba(128, 128, 0, 1.0)\",\"line\":{\"width\":1.3},\"opacity\":0.8,\"size\":12,\"symbol\":\"circle\"},\"mode\":\"markers\",\"name\":\"GRINDWELL.NS\",\"textfont\":{\"color\":\"#D9D9D9\"},\"x\":[124.43251408634744],\"y\":[24432.0692239271],\"type\":\"scatter\"},{\"marker\":{\"color\":\"rgba(251, 128, 114, 1.0)\",\"line\":{\"width\":1.3},\"opacity\":0.8,\"size\":12,\"symbol\":\"circle\"},\"mode\":\"markers\",\"name\":\"CDSL.NS\",\"textfont\":{\"color\":\"#D9D9D9\"},\"x\":[127.0730107897718],\"y\":[34362.387069037315],\"type\":\"scatter\"},{\"marker\":{\"color\":\"rgba(128, 177, 211, 1.0)\",\"line\":{\"width\":1.3},\"opacity\":0.8,\"size\":12,\"symbol\":\"circle\"},\"mode\":\"markers\",\"name\":\"HINDUNILVR.NS\",\"textfont\":{\"color\":\"#D9D9D9\"},\"x\":[127.6027532793355],\"y\":[18575.96669588101],\"type\":\"scatter\"},{\"marker\":{\"color\":\"rgba(128, 177, 211, 0.8999999999999999)\",\"line\":{\"width\":1.3},\"opacity\":0.8,\"size\":12,\"symbol\":\"circle\"},\"mode\":\"markers\",\"name\":\"COFORGE.NS\",\"textfont\":{\"color\":\"#D9D9D9\"},\"x\":[135.1063761133787],\"y\":[42954.14274282532],\"type\":\"scatter\"},{\"marker\":{\"color\":\"rgba(255, 153, 51, 0.8999999999999999)\",\"line\":{\"width\":1.3},\"opacity\":0.8,\"size\":12,\"symbol\":\"circle\"},\"mode\":\"markers\",\"name\":\"LINDEINDIA.NS\",\"textfont\":{\"color\":\"#D9D9D9\"},\"x\":[138.3516478107107],\"y\":[40641.93834663309],\"type\":\"scatter\"},{\"marker\":{\"color\":\"rgba(55, 128, 191, 0.8999999999999999)\",\"line\":{\"width\":1.3},\"opacity\":0.8,\"size\":12,\"symbol\":\"circle\"},\"mode\":\"markers\",\"name\":\"ADFFOODS.NS\",\"textfont\":{\"color\":\"#D9D9D9\"},\"x\":[145.43019757061322],\"y\":[49518.90905946018],\"type\":\"scatter\"},{\"marker\":{\"color\":\"rgba(50, 171, 96, 0.8999999999999999)\",\"line\":{\"width\":1.3},\"opacity\":0.8,\"size\":12,\"symbol\":\"circle\"},\"mode\":\"markers\",\"name\":\"TCIEXP.NS\",\"textfont\":{\"color\":\"#D9D9D9\"},\"x\":[146.21378283866989],\"y\":[45228.28282195442],\"type\":\"scatter\"},{\"marker\":{\"color\":\"rgba(128, 0, 128, 0.8999999999999999)\",\"line\":{\"width\":1.3},\"opacity\":0.8,\"size\":12,\"symbol\":\"circle\"},\"mode\":\"markers\",\"name\":\"PRIMESECU.NS\",\"textfont\":{\"color\":\"#D9D9D9\"},\"x\":[149.57842044827603],\"y\":[68372.94143496535],\"type\":\"scatter\"},{\"marker\":{\"color\":\"rgba(219, 64, 82, 0.8999999999999999)\",\"line\":{\"width\":1.3},\"opacity\":0.8,\"size\":12,\"symbol\":\"circle\"},\"mode\":\"markers\",\"name\":\"SCHAEFFLER.NS\",\"textfont\":{\"color\":\"#D9D9D9\"},\"x\":[149.97277660175814],\"y\":[27868.273752414447],\"type\":\"scatter\"},{\"marker\":{\"color\":\"rgba(0, 128, 128, 0.8999999999999999)\",\"line\":{\"width\":1.3},\"opacity\":0.8,\"size\":12,\"symbol\":\"circle\"},\"mode\":\"markers\",\"name\":\"IEX.NS\",\"textfont\":{\"color\":\"#D9D9D9\"},\"x\":[150.40089285749852],\"y\":[41084.08101643693],\"type\":\"scatter\"},{\"marker\":{\"color\":\"rgba(255, 255, 51, 0.8999999999999999)\",\"line\":{\"width\":1.3},\"opacity\":0.8,\"size\":12,\"symbol\":\"circle\"},\"mode\":\"markers\",\"name\":\"IGL.NS\",\"textfont\":{\"color\":\"#D9D9D9\"},\"x\":[153.88501510305363],\"y\":[34768.498624439024],\"type\":\"scatter\"},{\"marker\":{\"color\":\"rgba(128, 128, 0, 0.8999999999999999)\",\"line\":{\"width\":1.3},\"opacity\":0.8,\"size\":12,\"symbol\":\"circle\"},\"mode\":\"markers\",\"name\":\"PGHH.NS\",\"textfont\":{\"color\":\"#D9D9D9\"},\"x\":[153.95142221956786],\"y\":[22875.091151360728],\"type\":\"scatter\"},{\"marker\":{\"color\":\"rgba(251, 128, 114, 0.8999999999999999)\",\"line\":{\"width\":1.3},\"opacity\":0.8,\"size\":12,\"symbol\":\"circle\"},\"mode\":\"markers\",\"name\":\"DIVISLAB.NS\",\"textfont\":{\"color\":\"#D9D9D9\"},\"x\":[161.92810531408088],\"y\":[39703.791804893925],\"type\":\"scatter\"},{\"marker\":{\"color\":\"rgba(251, 128, 114, 0.7999999999999998)\",\"line\":{\"width\":1.3},\"opacity\":0.8,\"size\":12,\"symbol\":\"circle\"},\"mode\":\"markers\",\"name\":\"SKFINDIA.NS\",\"textfont\":{\"color\":\"#D9D9D9\"},\"x\":[164.88472366033483],\"y\":[32338.140619150552],\"type\":\"scatter\"},{\"marker\":{\"color\":\"rgba(128, 177, 211, 0.7999999999999998)\",\"line\":{\"width\":1.3},\"opacity\":0.8,\"size\":12,\"symbol\":\"circle\"},\"mode\":\"markers\",\"name\":\"CAPLIPOINT.NS\",\"textfont\":{\"color\":\"#D9D9D9\"},\"x\":[165.77867060266388],\"y\":[60546.51417159053],\"type\":\"scatter\"},{\"marker\":{\"color\":\"rgba(255, 153, 51, 0.7999999999999998)\",\"line\":{\"width\":1.3},\"opacity\":0.8,\"size\":12,\"symbol\":\"circle\"},\"mode\":\"markers\",\"name\":\"TIDEWATER.NS\",\"textfont\":{\"color\":\"#D9D9D9\"},\"x\":[166.00742688717372],\"y\":[42983.36904829733],\"type\":\"scatter\"},{\"marker\":{\"color\":\"rgba(55, 128, 191, 0.7999999999999998)\",\"line\":{\"width\":1.3},\"opacity\":0.8,\"size\":12,\"symbol\":\"circle\"},\"mode\":\"markers\",\"name\":\"ESABINDIA.NS\",\"textfont\":{\"color\":\"#D9D9D9\"},\"x\":[175.19555152604698],\"y\":[51645.24460906842],\"type\":\"scatter\"},{\"marker\":{\"color\":\"rgba(50, 171, 96, 0.7999999999999998)\",\"line\":{\"width\":1.3},\"opacity\":0.8,\"size\":12,\"symbol\":\"circle\"},\"mode\":\"markers\",\"name\":\"SUPREMEIND.NS\",\"textfont\":{\"color\":\"#D9D9D9\"},\"x\":[176.56761582078764],\"y\":[37128.46583230055],\"type\":\"scatter\"},{\"marker\":{\"color\":\"rgba(128, 0, 128, 0.7999999999999998)\",\"line\":{\"width\":1.3},\"opacity\":0.8,\"size\":12,\"symbol\":\"circle\"},\"mode\":\"markers\",\"name\":\"GULPOLY.NS\",\"textfont\":{\"color\":\"#D9D9D9\"},\"x\":[179.86313847917395],\"y\":[57836.95367170273],\"type\":\"scatter\"},{\"marker\":{\"color\":\"rgba(219, 64, 82, 0.7999999999999998)\",\"line\":{\"width\":1.3},\"opacity\":0.8,\"size\":12,\"symbol\":\"circle\"},\"mode\":\"markers\",\"name\":\"INTELLECT.NS\",\"textfont\":{\"color\":\"#D9D9D9\"},\"x\":[185.55691940487796],\"y\":[66304.66064801184],\"type\":\"scatter\"},{\"marker\":{\"color\":\"rgba(0, 128, 128, 0.7999999999999998)\",\"line\":{\"width\":1.3},\"opacity\":0.8,\"size\":12,\"symbol\":\"circle\"},\"mode\":\"markers\",\"name\":\"PRAJIND.NS\",\"textfont\":{\"color\":\"#D9D9D9\"},\"x\":[187.04555456668896],\"y\":[62845.75784052423],\"type\":\"scatter\"},{\"marker\":{\"color\":\"rgba(255, 255, 51, 0.7999999999999998)\",\"line\":{\"width\":1.3},\"opacity\":0.8,\"size\":12,\"symbol\":\"circle\"},\"mode\":\"markers\",\"name\":\"SANOFI.NS\",\"textfont\":{\"color\":\"#D9D9D9\"},\"x\":[192.4666055350362],\"y\":[29717.31517653401],\"type\":\"scatter\"},{\"marker\":{\"color\":\"rgba(128, 128, 0, 0.7999999999999998)\",\"line\":{\"width\":1.3},\"opacity\":0.8,\"size\":12,\"symbol\":\"circle\"},\"mode\":\"markers\",\"name\":\"RPGLIFE.NS\",\"textfont\":{\"color\":\"#D9D9D9\"},\"x\":[200.92060522165025],\"y\":[66417.5080724685],\"type\":\"scatter\"},{\"marker\":{\"color\":\"rgba(128, 128, 0, 0.7)\",\"line\":{\"width\":1.3},\"opacity\":0.8,\"size\":12,\"symbol\":\"circle\"},\"mode\":\"markers\",\"name\":\"FCL.NS\",\"textfont\":{\"color\":\"#D9D9D9\"},\"x\":[205.42925742518955],\"y\":[75655.86738127575],\"type\":\"scatter\"},{\"marker\":{\"color\":\"rgba(251, 128, 114, 0.7)\",\"line\":{\"width\":1.3},\"opacity\":0.8,\"size\":12,\"symbol\":\"circle\"},\"mode\":\"markers\",\"name\":\"BEL.NS\",\"textfont\":{\"color\":\"#D9D9D9\"},\"x\":[213.85434029625452],\"y\":[53341.751838293545],\"type\":\"scatter\"},{\"marker\":{\"color\":\"rgba(128, 177, 211, 0.7)\",\"line\":{\"width\":1.3},\"opacity\":0.8,\"size\":12,\"symbol\":\"circle\"},\"mode\":\"markers\",\"name\":\"AMRUTANJAN.NS\",\"textfont\":{\"color\":\"#D9D9D9\"},\"x\":[218.30991293199685],\"y\":[55974.59009248462],\"type\":\"scatter\"},{\"marker\":{\"color\":\"rgba(255, 153, 51, 0.7)\",\"line\":{\"width\":1.3},\"opacity\":0.8,\"size\":12,\"symbol\":\"circle\"},\"mode\":\"markers\",\"name\":\"AVANTIFEED.NS\",\"textfont\":{\"color\":\"#D9D9D9\"},\"x\":[225.2723663837951],\"y\":[64344.818285114496],\"type\":\"scatter\"},{\"marker\":{\"color\":\"rgba(55, 128, 191, 0.7)\",\"line\":{\"width\":1.3},\"opacity\":0.8,\"size\":12,\"symbol\":\"circle\"},\"mode\":\"markers\",\"name\":\"INGERRAND.NS\",\"textfont\":{\"color\":\"#D9D9D9\"},\"x\":[242.1412825255643],\"y\":[49225.87010843092],\"type\":\"scatter\"},{\"marker\":{\"color\":\"rgba(50, 171, 96, 0.7)\",\"line\":{\"width\":1.3},\"opacity\":0.8,\"size\":12,\"symbol\":\"circle\"},\"mode\":\"markers\",\"name\":\"ADORWELD.NS\",\"textfont\":{\"color\":\"#D9D9D9\"},\"x\":[243.50698417114344],\"y\":[65879.9166310438],\"type\":\"scatter\"},{\"marker\":{\"color\":\"rgba(128, 0, 128, 0.7)\",\"line\":{\"width\":1.3},\"opacity\":0.8,\"size\":12,\"symbol\":\"circle\"},\"mode\":\"markers\",\"name\":\"VINYLINDIA.NS\",\"textfont\":{\"color\":\"#D9D9D9\"},\"x\":[253.9045624995075],\"y\":[71348.69452308214],\"type\":\"scatter\"},{\"marker\":{\"color\":\"rgba(219, 64, 82, 0.7)\",\"line\":{\"width\":1.3},\"opacity\":0.8,\"size\":12,\"symbol\":\"circle\"},\"mode\":\"markers\",\"name\":\"VSTIND.NS\",\"textfont\":{\"color\":\"#D9D9D9\"},\"x\":[262.81790977969297],\"y\":[43479.40977247318],\"type\":\"scatter\"},{\"marker\":{\"color\":\"rgba(0, 128, 128, 0.7)\",\"line\":{\"width\":1.3},\"opacity\":0.8,\"size\":12,\"symbol\":\"circle\"},\"mode\":\"markers\",\"name\":\"KSB.NS\",\"textfont\":{\"color\":\"#D9D9D9\"},\"x\":[277.5379833907595],\"y\":[53504.86520327211],\"type\":\"scatter\"},{\"marker\":{\"color\":\"rgba(255, 255, 51, 0.7)\",\"line\":{\"width\":1.3},\"opacity\":0.8,\"size\":12,\"symbol\":\"circle\"},\"mode\":\"markers\",\"name\":\"EXPLEOSOL.NS\",\"textfont\":{\"color\":\"#D9D9D9\"},\"x\":[290.2367659853191],\"y\":[60989.92420489033],\"type\":\"scatter\"},{\"marker\":{\"color\":\"rgba(255, 255, 51, 0.5999999999999999)\",\"line\":{\"width\":1.3},\"opacity\":0.8,\"size\":12,\"symbol\":\"circle\"},\"mode\":\"markers\",\"name\":\"AJANTPHARM.NS\",\"textfont\":{\"color\":\"#D9D9D9\"},\"x\":[296.84767052678893],\"y\":[53131.93639321916],\"type\":\"scatter\"},{\"marker\":{\"color\":\"rgba(128, 128, 0, 0.5999999999999999)\",\"line\":{\"width\":1.3},\"opacity\":0.8,\"size\":12,\"symbol\":\"circle\"},\"mode\":\"markers\",\"name\":\"RSYSTEMS.NS\",\"textfont\":{\"color\":\"#D9D9D9\"},\"x\":[302.43470683568955],\"y\":[70136.5771699785],\"type\":\"scatter\"},{\"marker\":{\"color\":\"rgba(251, 128, 114, 0.5999999999999999)\",\"line\":{\"width\":1.3},\"opacity\":0.8,\"size\":12,\"symbol\":\"circle\"},\"mode\":\"markers\",\"name\":\"SHARDACROP.NS\",\"textfont\":{\"color\":\"#D9D9D9\"},\"x\":[314.40960936866765],\"y\":[67297.12516032743],\"type\":\"scatter\"}],                        {\"legend\":{\"bgcolor\":\"#151516\",\"font\":{\"color\":\"#D9D9D9\"}},\"paper_bgcolor\":\"#151516\",\"plot_bgcolor\":\"#151516\",\"template\":{\"data\":{\"barpolar\":[{\"marker\":{\"line\":{\"color\":\"#E5ECF6\",\"width\":0.5},\"pattern\":{\"fillmode\":\"overlay\",\"size\":10,\"solidity\":0.2}},\"type\":\"barpolar\"}],\"bar\":[{\"error_x\":{\"color\":\"#2a3f5f\"},\"error_y\":{\"color\":\"#2a3f5f\"},\"marker\":{\"line\":{\"color\":\"#E5ECF6\",\"width\":0.5},\"pattern\":{\"fillmode\":\"overlay\",\"size\":10,\"solidity\":0.2}},\"type\":\"bar\"}],\"carpet\":[{\"aaxis\":{\"endlinecolor\":\"#2a3f5f\",\"gridcolor\":\"white\",\"linecolor\":\"white\",\"minorgridcolor\":\"white\",\"startlinecolor\":\"#2a3f5f\"},\"baxis\":{\"endlinecolor\":\"#2a3f5f\",\"gridcolor\":\"white\",\"linecolor\":\"white\",\"minorgridcolor\":\"white\",\"startlinecolor\":\"#2a3f5f\"},\"type\":\"carpet\"}],\"choropleth\":[{\"colorbar\":{\"outlinewidth\":0,\"ticks\":\"\"},\"type\":\"choropleth\"}],\"contourcarpet\":[{\"colorbar\":{\"outlinewidth\":0,\"ticks\":\"\"},\"type\":\"contourcarpet\"}],\"contour\":[{\"colorbar\":{\"outlinewidth\":0,\"ticks\":\"\"},\"colorscale\":[[0.0,\"#0d0887\"],[0.1111111111111111,\"#46039f\"],[0.2222222222222222,\"#7201a8\"],[0.3333333333333333,\"#9c179e\"],[0.4444444444444444,\"#bd3786\"],[0.5555555555555556,\"#d8576b\"],[0.6666666666666666,\"#ed7953\"],[0.7777777777777778,\"#fb9f3a\"],[0.8888888888888888,\"#fdca26\"],[1.0,\"#f0f921\"]],\"type\":\"contour\"}],\"heatmapgl\":[{\"colorbar\":{\"outlinewidth\":0,\"ticks\":\"\"},\"colorscale\":[[0.0,\"#0d0887\"],[0.1111111111111111,\"#46039f\"],[0.2222222222222222,\"#7201a8\"],[0.3333333333333333,\"#9c179e\"],[0.4444444444444444,\"#bd3786\"],[0.5555555555555556,\"#d8576b\"],[0.6666666666666666,\"#ed7953\"],[0.7777777777777778,\"#fb9f3a\"],[0.8888888888888888,\"#fdca26\"],[1.0,\"#f0f921\"]],\"type\":\"heatmapgl\"}],\"heatmap\":[{\"colorbar\":{\"outlinewidth\":0,\"ticks\":\"\"},\"colorscale\":[[0.0,\"#0d0887\"],[0.1111111111111111,\"#46039f\"],[0.2222222222222222,\"#7201a8\"],[0.3333333333333333,\"#9c179e\"],[0.4444444444444444,\"#bd3786\"],[0.5555555555555556,\"#d8576b\"],[0.6666666666666666,\"#ed7953\"],[0.7777777777777778,\"#fb9f3a\"],[0.8888888888888888,\"#fdca26\"],[1.0,\"#f0f921\"]],\"type\":\"heatmap\"}],\"histogram2dcontour\":[{\"colorbar\":{\"outlinewidth\":0,\"ticks\":\"\"},\"colorscale\":[[0.0,\"#0d0887\"],[0.1111111111111111,\"#46039f\"],[0.2222222222222222,\"#7201a8\"],[0.3333333333333333,\"#9c179e\"],[0.4444444444444444,\"#bd3786\"],[0.5555555555555556,\"#d8576b\"],[0.6666666666666666,\"#ed7953\"],[0.7777777777777778,\"#fb9f3a\"],[0.8888888888888888,\"#fdca26\"],[1.0,\"#f0f921\"]],\"type\":\"histogram2dcontour\"}],\"histogram2d\":[{\"colorbar\":{\"outlinewidth\":0,\"ticks\":\"\"},\"colorscale\":[[0.0,\"#0d0887\"],[0.1111111111111111,\"#46039f\"],[0.2222222222222222,\"#7201a8\"],[0.3333333333333333,\"#9c179e\"],[0.4444444444444444,\"#bd3786\"],[0.5555555555555556,\"#d8576b\"],[0.6666666666666666,\"#ed7953\"],[0.7777777777777778,\"#fb9f3a\"],[0.8888888888888888,\"#fdca26\"],[1.0,\"#f0f921\"]],\"type\":\"histogram2d\"}],\"histogram\":[{\"marker\":{\"pattern\":{\"fillmode\":\"overlay\",\"size\":10,\"solidity\":0.2}},\"type\":\"histogram\"}],\"mesh3d\":[{\"colorbar\":{\"outlinewidth\":0,\"ticks\":\"\"},\"type\":\"mesh3d\"}],\"parcoords\":[{\"line\":{\"colorbar\":{\"outlinewidth\":0,\"ticks\":\"\"}},\"type\":\"parcoords\"}],\"pie\":[{\"automargin\":true,\"type\":\"pie\"}],\"scatter3d\":[{\"line\":{\"colorbar\":{\"outlinewidth\":0,\"ticks\":\"\"}},\"marker\":{\"colorbar\":{\"outlinewidth\":0,\"ticks\":\"\"}},\"type\":\"scatter3d\"}],\"scattercarpet\":[{\"marker\":{\"colorbar\":{\"outlinewidth\":0,\"ticks\":\"\"}},\"type\":\"scattercarpet\"}],\"scattergeo\":[{\"marker\":{\"colorbar\":{\"outlinewidth\":0,\"ticks\":\"\"}},\"type\":\"scattergeo\"}],\"scattergl\":[{\"marker\":{\"colorbar\":{\"outlinewidth\":0,\"ticks\":\"\"}},\"type\":\"scattergl\"}],\"scattermapbox\":[{\"marker\":{\"colorbar\":{\"outlinewidth\":0,\"ticks\":\"\"}},\"type\":\"scattermapbox\"}],\"scatterpolargl\":[{\"marker\":{\"colorbar\":{\"outlinewidth\":0,\"ticks\":\"\"}},\"type\":\"scatterpolargl\"}],\"scatterpolar\":[{\"marker\":{\"colorbar\":{\"outlinewidth\":0,\"ticks\":\"\"}},\"type\":\"scatterpolar\"}],\"scatter\":[{\"fillpattern\":{\"fillmode\":\"overlay\",\"size\":10,\"solidity\":0.2},\"type\":\"scatter\"}],\"scatterternary\":[{\"marker\":{\"colorbar\":{\"outlinewidth\":0,\"ticks\":\"\"}},\"type\":\"scatterternary\"}],\"surface\":[{\"colorbar\":{\"outlinewidth\":0,\"ticks\":\"\"},\"colorscale\":[[0.0,\"#0d0887\"],[0.1111111111111111,\"#46039f\"],[0.2222222222222222,\"#7201a8\"],[0.3333333333333333,\"#9c179e\"],[0.4444444444444444,\"#bd3786\"],[0.5555555555555556,\"#d8576b\"],[0.6666666666666666,\"#ed7953\"],[0.7777777777777778,\"#fb9f3a\"],[0.8888888888888888,\"#fdca26\"],[1.0,\"#f0f921\"]],\"type\":\"surface\"}],\"table\":[{\"cells\":{\"fill\":{\"color\":\"#EBF0F8\"},\"line\":{\"color\":\"white\"}},\"header\":{\"fill\":{\"color\":\"#C8D4E3\"},\"line\":{\"color\":\"white\"}},\"type\":\"table\"}]},\"layout\":{\"annotationdefaults\":{\"arrowcolor\":\"#2a3f5f\",\"arrowhead\":0,\"arrowwidth\":1},\"autotypenumbers\":\"strict\",\"coloraxis\":{\"colorbar\":{\"outlinewidth\":0,\"ticks\":\"\"}},\"colorscale\":{\"diverging\":[[0,\"#8e0152\"],[0.1,\"#c51b7d\"],[0.2,\"#de77ae\"],[0.3,\"#f1b6da\"],[0.4,\"#fde0ef\"],[0.5,\"#f7f7f7\"],[0.6,\"#e6f5d0\"],[0.7,\"#b8e186\"],[0.8,\"#7fbc41\"],[0.9,\"#4d9221\"],[1,\"#276419\"]],\"sequential\":[[0.0,\"#0d0887\"],[0.1111111111111111,\"#46039f\"],[0.2222222222222222,\"#7201a8\"],[0.3333333333333333,\"#9c179e\"],[0.4444444444444444,\"#bd3786\"],[0.5555555555555556,\"#d8576b\"],[0.6666666666666666,\"#ed7953\"],[0.7777777777777778,\"#fb9f3a\"],[0.8888888888888888,\"#fdca26\"],[1.0,\"#f0f921\"]],\"sequentialminus\":[[0.0,\"#0d0887\"],[0.1111111111111111,\"#46039f\"],[0.2222222222222222,\"#7201a8\"],[0.3333333333333333,\"#9c179e\"],[0.4444444444444444,\"#bd3786\"],[0.5555555555555556,\"#d8576b\"],[0.6666666666666666,\"#ed7953\"],[0.7777777777777778,\"#fb9f3a\"],[0.8888888888888888,\"#fdca26\"],[1.0,\"#f0f921\"]]},\"colorway\":[\"#636efa\",\"#EF553B\",\"#00cc96\",\"#ab63fa\",\"#FFA15A\",\"#19d3f3\",\"#FF6692\",\"#B6E880\",\"#FF97FF\",\"#FECB52\"],\"font\":{\"color\":\"#2a3f5f\"},\"geo\":{\"bgcolor\":\"white\",\"lakecolor\":\"white\",\"landcolor\":\"#E5ECF6\",\"showlakes\":true,\"showland\":true,\"subunitcolor\":\"white\"},\"hoverlabel\":{\"align\":\"left\"},\"hovermode\":\"closest\",\"mapbox\":{\"style\":\"light\"},\"paper_bgcolor\":\"white\",\"plot_bgcolor\":\"#E5ECF6\",\"polar\":{\"angularaxis\":{\"gridcolor\":\"white\",\"linecolor\":\"white\",\"ticks\":\"\"},\"bgcolor\":\"#E5ECF6\",\"radialaxis\":{\"gridcolor\":\"white\",\"linecolor\":\"white\",\"ticks\":\"\"}},\"scene\":{\"xaxis\":{\"backgroundcolor\":\"#E5ECF6\",\"gridcolor\":\"white\",\"gridwidth\":2,\"linecolor\":\"white\",\"showbackground\":true,\"ticks\":\"\",\"zerolinecolor\":\"white\"},\"yaxis\":{\"backgroundcolor\":\"#E5ECF6\",\"gridcolor\":\"white\",\"gridwidth\":2,\"linecolor\":\"white\",\"showbackground\":true,\"ticks\":\"\",\"zerolinecolor\":\"white\"},\"zaxis\":{\"backgroundcolor\":\"#E5ECF6\",\"gridcolor\":\"white\",\"gridwidth\":2,\"linecolor\":\"white\",\"showbackground\":true,\"ticks\":\"\",\"zerolinecolor\":\"white\"}},\"shapedefaults\":{\"line\":{\"color\":\"#2a3f5f\"}},\"ternary\":{\"aaxis\":{\"gridcolor\":\"white\",\"linecolor\":\"white\",\"ticks\":\"\"},\"baxis\":{\"gridcolor\":\"white\",\"linecolor\":\"white\",\"ticks\":\"\"},\"bgcolor\":\"#E5ECF6\",\"caxis\":{\"gridcolor\":\"white\",\"linecolor\":\"white\",\"ticks\":\"\"}},\"title\":{\"x\":0.05},\"xaxis\":{\"automargin\":true,\"gridcolor\":\"white\",\"linecolor\":\"white\",\"ticks\":\"\",\"title\":{\"standoff\":15},\"zerolinecolor\":\"white\",\"zerolinewidth\":2},\"yaxis\":{\"automargin\":true,\"gridcolor\":\"white\",\"linecolor\":\"white\",\"ticks\":\"\",\"title\":{\"standoff\":15},\"zerolinecolor\":\"white\",\"zerolinewidth\":2}}},\"title\":{\"font\":{\"color\":\"#D9D9D9\"},\"text\":\"========CV-------VAR=========================\"},\"xaxis\":{\"gridcolor\":\"#434343\",\"showgrid\":true,\"tickfont\":{\"color\":\"#C2C2C2\"},\"title\":{\"font\":{\"color\":\"#D9D9D9\"},\"text\":\"CV\"},\"zerolinecolor\":\"#666570\"},\"yaxis\":{\"gridcolor\":\"#434343\",\"showgrid\":true,\"tickfont\":{\"color\":\"#C2C2C2\"},\"title\":{\"font\":{\"color\":\"#D9D9D9\"},\"text\":\"Value at Risk\"},\"zerolinecolor\":\"#666570\"}},                        {\"showLink\": true, \"linkText\": \"Export to plot.ly\", \"plotlyServerURL\": \"https://plot.ly\", \"responsive\": true}                    ).then(function(){\n",
       "                            \n",
       "var gd = document.getElementById('29e79b64-93eb-4579-a95c-df6934056e4a');\n",
       "var x = new MutationObserver(function (mutations, observer) {{\n",
       "        var display = window.getComputedStyle(gd).display;\n",
       "        if (!display || display === 'none') {{\n",
       "            console.log([gd, 'removed!']);\n",
       "            Plotly.purge(gd);\n",
       "            observer.disconnect();\n",
       "        }}\n",
       "}});\n",
       "\n",
       "// Listen for the removal of the full notebook cells\n",
       "var notebookContainer = gd.closest('#notebook-container');\n",
       "if (notebookContainer) {{\n",
       "    x.observe(notebookContainer, {childList: true});\n",
       "}}\n",
       "\n",
       "// Listen for the clearing of the current output cell\n",
       "var outputEl = gd.closest('.output');\n",
       "if (outputEl) {{\n",
       "    x.observe(outputEl, {childList: true});\n",
       "}}\n",
       "\n",
       "                        })                };                });            </script>        </div>"
      ]
     },
     "metadata": {},
     "output_type": "display_data"
    }
   ],
   "source": [
    "\n",
    "df1.iplot(kind=\"scatter\",\n",
    "              x=\"CV\", y='Value at Risk',\n",
    "              mode='markers',\n",
    "              xTitle=\"CV\", yTitle=\"Value at Risk\",\n",
    "              title=\"========CV-------VAR=========================\", categories=\"Ticker\",theme=\"solar\")"
   ]
  },
  {
   "cell_type": "code",
   "execution_count": 16,
   "id": "fdd4a4b4",
   "metadata": {},
   "outputs": [
    {
     "data": {
      "application/vnd.plotly.v1+json": {
       "config": {
        "linkText": "Export to plot.ly",
        "plotlyServerURL": "https://plot.ly",
        "showLink": true
       },
       "data": [
        {
         "marker": {
          "color": "rgba(255, 153, 51, 1.0)",
          "line": {
           "width": 1.3
          },
          "opacity": 0.8,
          "size": 12,
          "symbol": "circle"
         },
         "mode": "markers",
         "name": "POLYCAB.NS",
         "textfont": {
          "color": "#D9D9D9"
         },
         "type": "scatter",
         "x": [
          39.15699522779303
         ],
         "y": [
          38.74601904887244
         ]
        },
        {
         "marker": {
          "color": "rgba(55, 128, 191, 1.0)",
          "line": {
           "width": 1.3
          },
          "opacity": 0.8,
          "size": 12,
          "symbol": "circle"
         },
         "mode": "markers",
         "name": "TANLA.NS",
         "textfont": {
          "color": "#D9D9D9"
         },
         "type": "scatter",
         "x": [
          55.57964031833973
         ],
         "y": [
          55.52481981206785
         ]
        },
        {
         "marker": {
          "color": "rgba(50, 171, 96, 1.0)",
          "line": {
           "width": 1.3
          },
          "opacity": 0.8,
          "size": 12,
          "symbol": "circle"
         },
         "mode": "markers",
         "name": "ALKYLAMINE.NS",
         "textfont": {
          "color": "#D9D9D9"
         },
         "type": "scatter",
         "x": [
          40.72438551747389
         ],
         "y": [
          43.122201514623455
         ]
        },
        {
         "marker": {
          "color": "rgba(128, 0, 128, 1.0)",
          "line": {
           "width": 1.3
          },
          "opacity": 0.8,
          "size": 12,
          "symbol": "circle"
         },
         "mode": "markers",
         "name": "JBCHEPHARM.NS",
         "textfont": {
          "color": "#D9D9D9"
         },
         "type": "scatter",
         "x": [
          30.107188785751248
         ],
         "y": [
          34.793483725876385
         ]
        },
        {
         "marker": {
          "color": "rgba(219, 64, 82, 1.0)",
          "line": {
           "width": 1.3
          },
          "opacity": 0.8,
          "size": 12,
          "symbol": "circle"
         },
         "mode": "markers",
         "name": "TIPSINDLTD.NS",
         "textfont": {
          "color": "#D9D9D9"
         },
         "type": "scatter",
         "x": [
          47.77455874807629
         ],
         "y": [
          55.80435402981735
         ]
        },
        {
         "marker": {
          "color": "rgba(0, 128, 128, 1.0)",
          "line": {
           "width": 1.3
          },
          "opacity": 0.8,
          "size": 12,
          "symbol": "circle"
         },
         "mode": "markers",
         "name": "SUMICHEM.NS",
         "textfont": {
          "color": "#D9D9D9"
         },
         "type": "scatter",
         "x": [
          34.828679900053686
         ],
         "y": [
          41.17435684843584
         ]
        },
        {
         "marker": {
          "color": "rgba(255, 255, 51, 1.0)",
          "line": {
           "width": 1.3
          },
          "opacity": 0.8,
          "size": 12,
          "symbol": "circle"
         },
         "mode": "markers",
         "name": "VINATIORGA.NS",
         "textfont": {
          "color": "#D9D9D9"
         },
         "type": "scatter",
         "x": [
          29.876899204075137
         ],
         "y": [
          36.05314832134178
         ]
        },
        {
         "marker": {
          "color": "rgba(128, 128, 0, 1.0)",
          "line": {
           "width": 1.3
          },
          "opacity": 0.8,
          "size": 12,
          "symbol": "circle"
         },
         "mode": "markers",
         "name": "GRINDWELL.NS",
         "textfont": {
          "color": "#D9D9D9"
         },
         "type": "scatter",
         "x": [
          24.82567902717624
         ],
         "y": [
          30.89121655252248
         ]
        },
        {
         "marker": {
          "color": "rgba(251, 128, 114, 1.0)",
          "line": {
           "width": 1.3
          },
          "opacity": 0.8,
          "size": 12,
          "symbol": "circle"
         },
         "mode": "markers",
         "name": "CDSL.NS",
         "textfont": {
          "color": "#D9D9D9"
         },
         "type": "scatter",
         "x": [
          30.59526199444621
         ],
         "y": [
          38.87832057536158
         ]
        },
        {
         "marker": {
          "color": "rgba(128, 177, 211, 1.0)",
          "line": {
           "width": 1.3
          },
          "opacity": 0.8,
          "size": 12,
          "symbol": "circle"
         },
         "mode": "markers",
         "name": "HINDUNILVR.NS",
         "textfont": {
          "color": "#D9D9D9"
         },
         "type": "scatter",
         "x": [
          18.52558285130615
         ],
         "y": [
          23.63915377931108
         ]
        },
        {
         "marker": {
          "color": "rgba(128, 177, 211, 0.8999999999999999)",
          "line": {
           "width": 1.3
          },
          "opacity": 0.8,
          "size": 12,
          "symbol": "circle"
         },
         "mode": "markers",
         "name": "COFORGE.NS",
         "textfont": {
          "color": "#D9D9D9"
         },
         "type": "scatter",
         "x": [
          32.096868927207
         ],
         "y": [
          43.36491645341047
         ]
        },
        {
         "marker": {
          "color": "rgba(255, 153, 51, 0.8999999999999999)",
          "line": {
           "width": 1.3
          },
          "opacity": 0.8,
          "size": 12,
          "symbol": "circle"
         },
         "mode": "markers",
         "name": "LINDEINDIA.NS",
         "textfont": {
          "color": "#D9D9D9"
         },
         "type": "scatter",
         "x": [
          29.20871858332729
         ],
         "y": [
          40.41074346442657
         ]
        },
        {
         "marker": {
          "color": "rgba(55, 128, 191, 0.8999999999999999)",
          "line": {
           "width": 1.3
          },
          "opacity": 0.8,
          "size": 12,
          "symbol": "circle"
         },
         "mode": "markers",
         "name": "ADFFOODS.NS",
         "textfont": {
          "color": "#D9D9D9"
         },
         "type": "scatter",
         "x": [
          31.74961134291572
         ],
         "y": [
          46.17352250390415
         ]
        },
        {
         "marker": {
          "color": "rgba(50, 171, 96, 0.8999999999999999)",
          "line": {
           "width": 1.3
          },
          "opacity": 0.8,
          "size": 12,
          "symbol": "circle"
         },
         "mode": "markers",
         "name": "TCIEXP.NS",
         "textfont": {
          "color": "#D9D9D9"
         },
         "type": "scatter",
         "x": [
          28.769018269544144
         ],
         "y": [
          42.06426989744854
         ]
        },
        {
         "marker": {
          "color": "rgba(128, 0, 128, 0.8999999999999999)",
          "line": {
           "width": 1.3
          },
          "opacity": 0.8,
          "size": 12,
          "symbol": "circle"
         },
         "mode": "markers",
         "name": "PRIMESECU.NS",
         "textfont": {
          "color": "#D9D9D9"
         },
         "type": "scatter",
         "x": [
          42.66948007268733
         ],
         "y": [
          63.82433430621761
         ]
        },
        {
         "marker": {
          "color": "rgba(219, 64, 82, 0.8999999999999999)",
          "line": {
           "width": 1.3
          },
          "opacity": 0.8,
          "size": 12,
          "symbol": "circle"
         },
         "mode": "markers",
         "name": "SCHAEFFLER.NS",
         "textfont": {
          "color": "#D9D9D9"
         },
         "type": "scatter",
         "x": [
          17.47383206536319
         ],
         "y": [
          26.20599112715352
         ]
        },
        {
         "marker": {
          "color": "rgba(0, 128, 128, 0.8999999999999999)",
          "line": {
           "width": 1.3
          },
          "opacity": 0.8,
          "size": 12,
          "symbol": "circle"
         },
         "mode": "markers",
         "name": "IEX.NS",
         "textfont": {
          "color": "#D9D9D9"
         },
         "type": "scatter",
         "x": [
          24.815186585486416
         ],
         "y": [
          37.32226218882577
         ]
        },
        {
         "marker": {
          "color": "rgba(255, 255, 51, 0.8999999999999999)",
          "line": {
           "width": 1.3
          },
          "opacity": 0.8,
          "size": 12,
          "symbol": "circle"
         },
         "mode": "markers",
         "name": "IGL.NS",
         "textfont": {
          "color": "#D9D9D9"
         },
         "type": "scatter",
         "x": [
          20.292275611949623
         ],
         "y": [
          31.226771390201947
         ]
        },
        {
         "marker": {
          "color": "rgba(128, 128, 0, 0.8999999999999999)",
          "line": {
           "width": 1.3
          },
          "opacity": 0.8,
          "size": 12,
          "symbol": "circle"
         },
         "mode": "markers",
         "name": "PGHH.NS",
         "textfont": {
          "color": "#D9D9D9"
         },
         "type": "scatter",
         "x": [
          13.891455139329295
         ],
         "y": [
          21.386092753990702
         ]
        },
        {
         "marker": {
          "color": "rgba(251, 128, 114, 0.8999999999999999)",
          "line": {
           "width": 1.3
          },
          "opacity": 0.8,
          "size": 12,
          "symbol": "circle"
         },
         "mode": "markers",
         "name": "DIVISLAB.NS",
         "textfont": {
          "color": "#D9D9D9"
         },
         "type": "scatter",
         "x": [
          20.712661811848
         ],
         "y": [
          33.53962083203864
         ]
        },
        {
         "marker": {
          "color": "rgba(251, 128, 114, 0.7999999999999998)",
          "line": {
           "width": 1.3
          },
          "opacity": 0.8,
          "size": 12,
          "symbol": "circle"
         },
         "mode": "markers",
         "name": "SKFINDIA.NS",
         "textfont": {
          "color": "#D9D9D9"
         },
         "type": "scatter",
         "x": [
          16.468967368854763
         ],
         "y": [
          27.15481133584689
         ]
        },
        {
         "marker": {
          "color": "rgba(128, 177, 211, 0.7999999999999998)",
          "line": {
           "width": 1.3
          },
          "opacity": 0.8,
          "size": 12,
          "symbol": "circle"
         },
         "mode": "markers",
         "name": "CAPLIPOINT.NS",
         "textfont": {
          "color": "#D9D9D9"
         },
         "type": "scatter",
         "x": [
          31.32893565131886
         ],
         "y": [
          51.93669303672043
         ]
        },
        {
         "marker": {
          "color": "rgba(255, 153, 51, 0.7999999999999998)",
          "line": {
           "width": 1.3
          },
          "opacity": 0.8,
          "size": 12,
          "symbol": "circle"
         },
         "mode": "markers",
         "name": "TIDEWATER.NS",
         "textfont": {
          "color": "#D9D9D9"
         },
         "type": "scatter",
         "x": [
          21.69272672506582
         ],
         "y": [
          36.01153745794804
         ]
        },
        {
         "marker": {
          "color": "rgba(55, 128, 191, 0.7999999999999998)",
          "line": {
           "width": 1.3
          },
          "opacity": 0.8,
          "size": 12,
          "symbol": "circle"
         },
         "mode": "markers",
         "name": "ESABINDIA.NS",
         "textfont": {
          "color": "#D9D9D9"
         },
         "type": "scatter",
         "x": [
          23.95887684974084
         ],
         "y": [
          41.974886436349856
         ]
        },
        {
         "marker": {
          "color": "rgba(50, 171, 96, 0.7999999999999998)",
          "line": {
           "width": 1.3
          },
          "opacity": 0.8,
          "size": 12,
          "symbol": "circle"
         },
         "mode": "markers",
         "name": "SUPREMEIND.NS",
         "textfont": {
          "color": "#D9D9D9"
         },
         "type": "scatter",
         "x": [
          16.838112898697215
         ],
         "y": [
          29.730654494442188
         ]
        },
        {
         "marker": {
          "color": "rgba(128, 0, 128, 0.7999999999999998)",
          "line": {
           "width": 1.3
          },
          "opacity": 0.8,
          "size": 12,
          "symbol": "circle"
         },
         "mode": "markers",
         "name": "GULPOLY.NS",
         "textfont": {
          "color": "#D9D9D9"
         },
         "type": "scatter",
         "x": [
          25.67804649216572
         ],
         "y": [
          46.18534032095069
         ]
        },
        {
         "marker": {
          "color": "rgba(219, 64, 82, 0.7999999999999998)",
          "line": {
           "width": 1.3
          },
          "opacity": 0.8,
          "size": 12,
          "symbol": "circle"
         },
         "mode": "markers",
         "name": "INTELLECT.NS",
         "textfont": {
          "color": "#D9D9D9"
         },
         "type": "scatter",
         "x": [
          28.88493726158779
         ],
         "y": [
          53.59799975463401
         ]
        },
        {
         "marker": {
          "color": "rgba(0, 128, 128, 0.7999999999999998)",
          "line": {
           "width": 1.3
          },
          "opacity": 0.8,
          "size": 12,
          "symbol": "circle"
         },
         "mode": "markers",
         "name": "PRAJIND.NS",
         "textfont": {
          "color": "#D9D9D9"
         },
         "type": "scatter",
         "x": [
          26.74506758141257
         ],
         "y": [
          50.0254599768889
         ]
        },
        {
         "marker": {
          "color": "rgba(255, 255, 51, 0.7999999999999998)",
          "line": {
           "width": 1.3
          },
          "opacity": 0.8,
          "size": 12,
          "symbol": "circle"
         },
         "mode": "markers",
         "name": "SANOFI.NS",
         "textfont": {
          "color": "#D9D9D9"
         },
         "type": "scatter",
         "x": [
          11.4712815466071
         ],
         "y": [
          22.078386204121685
         ]
        },
        {
         "marker": {
          "color": "rgba(128, 128, 0, 0.7999999999999998)",
          "line": {
           "width": 1.3
          },
          "opacity": 0.8,
          "size": 12,
          "symbol": "circle"
         },
         "mode": "markers",
         "name": "RPGLIFE.NS",
         "textfont": {
          "color": "#D9D9D9"
         },
         "type": "scatter",
         "x": [
          25.862638985010257
         ],
         "y": [
          51.96337077497307
         ]
        },
        {
         "marker": {
          "color": "rgba(128, 128, 0, 0.7)",
          "line": {
           "width": 1.3
          },
          "opacity": 0.8,
          "size": 12,
          "symbol": "circle"
         },
         "mode": "markers",
         "name": "FCL.NS",
         "textfont": {
          "color": "#D9D9D9"
         },
         "type": "scatter",
         "x": [
          30.12311811305232
         ],
         "y": [
          61.881697852956144
         ]
        },
        {
         "marker": {
          "color": "rgba(251, 128, 114, 0.7)",
          "line": {
           "width": 1.3
          },
          "opacity": 0.8,
          "size": 12,
          "symbol": "circle"
         },
         "mode": "markers",
         "name": "BEL.NS",
         "textfont": {
          "color": "#D9D9D9"
         },
         "type": "scatter",
         "x": [
          17.856867481237256
         ],
         "y": [
          38.18768614957634
         ]
        },
        {
         "marker": {
          "color": "rgba(128, 177, 211, 0.7)",
          "line": {
           "width": 1.3
          },
          "opacity": 0.8,
          "size": 12,
          "symbol": "circle"
         },
         "mode": "markers",
         "name": "AMRUTANJAN.NS",
         "textfont": {
          "color": "#D9D9D9"
         },
         "type": "scatter",
         "x": [
          18.321217853387832
         ],
         "y": [
          39.99703474381244
         ]
        },
        {
         "marker": {
          "color": "rgba(255, 153, 51, 0.7)",
          "line": {
           "width": 1.3
          },
          "opacity": 0.8,
          "size": 12,
          "symbol": "circle"
         },
         "mode": "markers",
         "name": "AVANTIFEED.NS",
         "textfont": {
          "color": "#D9D9D9"
         },
         "type": "scatter",
         "x": [
          20.58330698404847
         ],
         "y": [
          46.36850272300695
         ]
        },
        {
         "marker": {
          "color": "rgba(55, 128, 191, 0.7)",
          "line": {
           "width": 1.3
          },
          "opacity": 0.8,
          "size": 12,
          "symbol": "circle"
         },
         "mode": "markers",
         "name": "INGERRAND.NS",
         "textfont": {
          "color": "#D9D9D9"
         },
         "type": "scatter",
         "x": [
          13.377638559168153
         ],
         "y": [
          32.39278557880419
         ]
        },
        {
         "marker": {
          "color": "rgba(50, 171, 96, 0.7)",
          "line": {
           "width": 1.3
          },
          "opacity": 0.8,
          "size": 12,
          "symbol": "circle"
         },
         "mode": "markers",
         "name": "ADORWELD.NS",
         "textfont": {
          "color": "#D9D9D9"
         },
         "type": "scatter",
         "x": [
          19.29221126573079
         ],
         "y": [
          46.97788183310662
         ]
        },
        {
         "marker": {
          "color": "rgba(128, 0, 128, 0.7)",
          "line": {
           "width": 1.3
          },
          "opacity": 0.8,
          "size": 12,
          "symbol": "circle"
         },
         "mode": "markers",
         "name": "VINYLINDIA.NS",
         "textfont": {
          "color": "#D9D9D9"
         },
         "type": "scatter",
         "x": [
          20.225406182303995
         ],
         "y": [
          51.353229080927306
         ]
        },
        {
         "marker": {
          "color": "rgba(219, 64, 82, 0.7)",
          "line": {
           "width": 1.3
          },
          "opacity": 0.8,
          "size": 12,
          "symbol": "circle"
         },
         "mode": "markers",
         "name": "VSTIND.NS",
         "textfont": {
          "color": "#D9D9D9"
         },
         "type": "scatter",
         "x": [
          10.3593978209442
         ],
         "y": [
          27.226352818768607
         ]
        },
        {
         "marker": {
          "color": "rgba(0, 128, 128, 0.7)",
          "line": {
           "width": 1.3
          },
          "opacity": 0.8,
          "size": 12,
          "symbol": "circle"
         },
         "mode": "markers",
         "name": "KSB.NS",
         "textfont": {
          "color": "#D9D9D9"
         },
         "type": "scatter",
         "x": [
          12.303900613227636
         ],
         "y": [
          34.14799764035527
         ]
        },
        {
         "marker": {
          "color": "rgba(255, 255, 51, 0.7)",
          "line": {
           "width": 1.3
          },
          "opacity": 0.8,
          "size": 12,
          "symbol": "circle"
         },
         "mode": "markers",
         "name": "EXPLEOSOL.NS",
         "textfont": {
          "color": "#D9D9D9"
         },
         "type": "scatter",
         "x": [
          13.593467713019056
         ],
         "y": [
          39.45324107552503
         ]
        },
        {
         "marker": {
          "color": "rgba(255, 255, 51, 0.5999999999999999)",
          "line": {
           "width": 1.3
          },
          "opacity": 0.8,
          "size": 12,
          "symbol": "circle"
         },
         "mode": "markers",
         "name": "AJANTPHARM.NS",
         "textfont": {
          "color": "#D9D9D9"
         },
         "type": "scatter",
         "x": [
          11.08475060219874
         ],
         "y": [
          32.90482394633117
         ]
        },
        {
         "marker": {
          "color": "rgba(128, 128, 0, 0.5999999999999999)",
          "line": {
           "width": 1.3
          },
          "opacity": 0.8,
          "size": 12,
          "symbol": "circle"
         },
         "mode": "markers",
         "name": "RSYSTEMS.NS",
         "textfont": {
          "color": "#D9D9D9"
         },
         "type": "scatter",
         "x": [
          15.788914791256314
         ],
         "y": [
          47.75115816147286
         ]
        },
        {
         "marker": {
          "color": "rgba(251, 128, 114, 0.5999999999999999)",
          "line": {
           "width": 1.3
          },
          "opacity": 0.8,
          "size": 12,
          "symbol": "circle"
         },
         "mode": "markers",
         "name": "SHARDACROP.NS",
         "textfont": {
          "color": "#D9D9D9"
         },
         "type": "scatter",
         "x": [
          14.139320551812814
         ],
         "y": [
          44.45538251433841
         ]
        }
       ],
       "layout": {
        "legend": {
         "bgcolor": "#151516",
         "font": {
          "color": "#D9D9D9"
         }
        },
        "paper_bgcolor": "#151516",
        "plot_bgcolor": "#151516",
        "template": {
         "data": {
          "bar": [
           {
            "error_x": {
             "color": "#2a3f5f"
            },
            "error_y": {
             "color": "#2a3f5f"
            },
            "marker": {
             "line": {
              "color": "#E5ECF6",
              "width": 0.5
             },
             "pattern": {
              "fillmode": "overlay",
              "size": 10,
              "solidity": 0.2
             }
            },
            "type": "bar"
           }
          ],
          "barpolar": [
           {
            "marker": {
             "line": {
              "color": "#E5ECF6",
              "width": 0.5
             },
             "pattern": {
              "fillmode": "overlay",
              "size": 10,
              "solidity": 0.2
             }
            },
            "type": "barpolar"
           }
          ],
          "carpet": [
           {
            "aaxis": {
             "endlinecolor": "#2a3f5f",
             "gridcolor": "white",
             "linecolor": "white",
             "minorgridcolor": "white",
             "startlinecolor": "#2a3f5f"
            },
            "baxis": {
             "endlinecolor": "#2a3f5f",
             "gridcolor": "white",
             "linecolor": "white",
             "minorgridcolor": "white",
             "startlinecolor": "#2a3f5f"
            },
            "type": "carpet"
           }
          ],
          "choropleth": [
           {
            "colorbar": {
             "outlinewidth": 0,
             "ticks": ""
            },
            "type": "choropleth"
           }
          ],
          "contour": [
           {
            "colorbar": {
             "outlinewidth": 0,
             "ticks": ""
            },
            "colorscale": [
             [
              0,
              "#0d0887"
             ],
             [
              0.1111111111111111,
              "#46039f"
             ],
             [
              0.2222222222222222,
              "#7201a8"
             ],
             [
              0.3333333333333333,
              "#9c179e"
             ],
             [
              0.4444444444444444,
              "#bd3786"
             ],
             [
              0.5555555555555556,
              "#d8576b"
             ],
             [
              0.6666666666666666,
              "#ed7953"
             ],
             [
              0.7777777777777778,
              "#fb9f3a"
             ],
             [
              0.8888888888888888,
              "#fdca26"
             ],
             [
              1,
              "#f0f921"
             ]
            ],
            "type": "contour"
           }
          ],
          "contourcarpet": [
           {
            "colorbar": {
             "outlinewidth": 0,
             "ticks": ""
            },
            "type": "contourcarpet"
           }
          ],
          "heatmap": [
           {
            "colorbar": {
             "outlinewidth": 0,
             "ticks": ""
            },
            "colorscale": [
             [
              0,
              "#0d0887"
             ],
             [
              0.1111111111111111,
              "#46039f"
             ],
             [
              0.2222222222222222,
              "#7201a8"
             ],
             [
              0.3333333333333333,
              "#9c179e"
             ],
             [
              0.4444444444444444,
              "#bd3786"
             ],
             [
              0.5555555555555556,
              "#d8576b"
             ],
             [
              0.6666666666666666,
              "#ed7953"
             ],
             [
              0.7777777777777778,
              "#fb9f3a"
             ],
             [
              0.8888888888888888,
              "#fdca26"
             ],
             [
              1,
              "#f0f921"
             ]
            ],
            "type": "heatmap"
           }
          ],
          "heatmapgl": [
           {
            "colorbar": {
             "outlinewidth": 0,
             "ticks": ""
            },
            "colorscale": [
             [
              0,
              "#0d0887"
             ],
             [
              0.1111111111111111,
              "#46039f"
             ],
             [
              0.2222222222222222,
              "#7201a8"
             ],
             [
              0.3333333333333333,
              "#9c179e"
             ],
             [
              0.4444444444444444,
              "#bd3786"
             ],
             [
              0.5555555555555556,
              "#d8576b"
             ],
             [
              0.6666666666666666,
              "#ed7953"
             ],
             [
              0.7777777777777778,
              "#fb9f3a"
             ],
             [
              0.8888888888888888,
              "#fdca26"
             ],
             [
              1,
              "#f0f921"
             ]
            ],
            "type": "heatmapgl"
           }
          ],
          "histogram": [
           {
            "marker": {
             "pattern": {
              "fillmode": "overlay",
              "size": 10,
              "solidity": 0.2
             }
            },
            "type": "histogram"
           }
          ],
          "histogram2d": [
           {
            "colorbar": {
             "outlinewidth": 0,
             "ticks": ""
            },
            "colorscale": [
             [
              0,
              "#0d0887"
             ],
             [
              0.1111111111111111,
              "#46039f"
             ],
             [
              0.2222222222222222,
              "#7201a8"
             ],
             [
              0.3333333333333333,
              "#9c179e"
             ],
             [
              0.4444444444444444,
              "#bd3786"
             ],
             [
              0.5555555555555556,
              "#d8576b"
             ],
             [
              0.6666666666666666,
              "#ed7953"
             ],
             [
              0.7777777777777778,
              "#fb9f3a"
             ],
             [
              0.8888888888888888,
              "#fdca26"
             ],
             [
              1,
              "#f0f921"
             ]
            ],
            "type": "histogram2d"
           }
          ],
          "histogram2dcontour": [
           {
            "colorbar": {
             "outlinewidth": 0,
             "ticks": ""
            },
            "colorscale": [
             [
              0,
              "#0d0887"
             ],
             [
              0.1111111111111111,
              "#46039f"
             ],
             [
              0.2222222222222222,
              "#7201a8"
             ],
             [
              0.3333333333333333,
              "#9c179e"
             ],
             [
              0.4444444444444444,
              "#bd3786"
             ],
             [
              0.5555555555555556,
              "#d8576b"
             ],
             [
              0.6666666666666666,
              "#ed7953"
             ],
             [
              0.7777777777777778,
              "#fb9f3a"
             ],
             [
              0.8888888888888888,
              "#fdca26"
             ],
             [
              1,
              "#f0f921"
             ]
            ],
            "type": "histogram2dcontour"
           }
          ],
          "mesh3d": [
           {
            "colorbar": {
             "outlinewidth": 0,
             "ticks": ""
            },
            "type": "mesh3d"
           }
          ],
          "parcoords": [
           {
            "line": {
             "colorbar": {
              "outlinewidth": 0,
              "ticks": ""
             }
            },
            "type": "parcoords"
           }
          ],
          "pie": [
           {
            "automargin": true,
            "type": "pie"
           }
          ],
          "scatter": [
           {
            "fillpattern": {
             "fillmode": "overlay",
             "size": 10,
             "solidity": 0.2
            },
            "type": "scatter"
           }
          ],
          "scatter3d": [
           {
            "line": {
             "colorbar": {
              "outlinewidth": 0,
              "ticks": ""
             }
            },
            "marker": {
             "colorbar": {
              "outlinewidth": 0,
              "ticks": ""
             }
            },
            "type": "scatter3d"
           }
          ],
          "scattercarpet": [
           {
            "marker": {
             "colorbar": {
              "outlinewidth": 0,
              "ticks": ""
             }
            },
            "type": "scattercarpet"
           }
          ],
          "scattergeo": [
           {
            "marker": {
             "colorbar": {
              "outlinewidth": 0,
              "ticks": ""
             }
            },
            "type": "scattergeo"
           }
          ],
          "scattergl": [
           {
            "marker": {
             "colorbar": {
              "outlinewidth": 0,
              "ticks": ""
             }
            },
            "type": "scattergl"
           }
          ],
          "scattermapbox": [
           {
            "marker": {
             "colorbar": {
              "outlinewidth": 0,
              "ticks": ""
             }
            },
            "type": "scattermapbox"
           }
          ],
          "scatterpolar": [
           {
            "marker": {
             "colorbar": {
              "outlinewidth": 0,
              "ticks": ""
             }
            },
            "type": "scatterpolar"
           }
          ],
          "scatterpolargl": [
           {
            "marker": {
             "colorbar": {
              "outlinewidth": 0,
              "ticks": ""
             }
            },
            "type": "scatterpolargl"
           }
          ],
          "scatterternary": [
           {
            "marker": {
             "colorbar": {
              "outlinewidth": 0,
              "ticks": ""
             }
            },
            "type": "scatterternary"
           }
          ],
          "surface": [
           {
            "colorbar": {
             "outlinewidth": 0,
             "ticks": ""
            },
            "colorscale": [
             [
              0,
              "#0d0887"
             ],
             [
              0.1111111111111111,
              "#46039f"
             ],
             [
              0.2222222222222222,
              "#7201a8"
             ],
             [
              0.3333333333333333,
              "#9c179e"
             ],
             [
              0.4444444444444444,
              "#bd3786"
             ],
             [
              0.5555555555555556,
              "#d8576b"
             ],
             [
              0.6666666666666666,
              "#ed7953"
             ],
             [
              0.7777777777777778,
              "#fb9f3a"
             ],
             [
              0.8888888888888888,
              "#fdca26"
             ],
             [
              1,
              "#f0f921"
             ]
            ],
            "type": "surface"
           }
          ],
          "table": [
           {
            "cells": {
             "fill": {
              "color": "#EBF0F8"
             },
             "line": {
              "color": "white"
             }
            },
            "header": {
             "fill": {
              "color": "#C8D4E3"
             },
             "line": {
              "color": "white"
             }
            },
            "type": "table"
           }
          ]
         },
         "layout": {
          "annotationdefaults": {
           "arrowcolor": "#2a3f5f",
           "arrowhead": 0,
           "arrowwidth": 1
          },
          "autotypenumbers": "strict",
          "coloraxis": {
           "colorbar": {
            "outlinewidth": 0,
            "ticks": ""
           }
          },
          "colorscale": {
           "diverging": [
            [
             0,
             "#8e0152"
            ],
            [
             0.1,
             "#c51b7d"
            ],
            [
             0.2,
             "#de77ae"
            ],
            [
             0.3,
             "#f1b6da"
            ],
            [
             0.4,
             "#fde0ef"
            ],
            [
             0.5,
             "#f7f7f7"
            ],
            [
             0.6,
             "#e6f5d0"
            ],
            [
             0.7,
             "#b8e186"
            ],
            [
             0.8,
             "#7fbc41"
            ],
            [
             0.9,
             "#4d9221"
            ],
            [
             1,
             "#276419"
            ]
           ],
           "sequential": [
            [
             0,
             "#0d0887"
            ],
            [
             0.1111111111111111,
             "#46039f"
            ],
            [
             0.2222222222222222,
             "#7201a8"
            ],
            [
             0.3333333333333333,
             "#9c179e"
            ],
            [
             0.4444444444444444,
             "#bd3786"
            ],
            [
             0.5555555555555556,
             "#d8576b"
            ],
            [
             0.6666666666666666,
             "#ed7953"
            ],
            [
             0.7777777777777778,
             "#fb9f3a"
            ],
            [
             0.8888888888888888,
             "#fdca26"
            ],
            [
             1,
             "#f0f921"
            ]
           ],
           "sequentialminus": [
            [
             0,
             "#0d0887"
            ],
            [
             0.1111111111111111,
             "#46039f"
            ],
            [
             0.2222222222222222,
             "#7201a8"
            ],
            [
             0.3333333333333333,
             "#9c179e"
            ],
            [
             0.4444444444444444,
             "#bd3786"
            ],
            [
             0.5555555555555556,
             "#d8576b"
            ],
            [
             0.6666666666666666,
             "#ed7953"
            ],
            [
             0.7777777777777778,
             "#fb9f3a"
            ],
            [
             0.8888888888888888,
             "#fdca26"
            ],
            [
             1,
             "#f0f921"
            ]
           ]
          },
          "colorway": [
           "#636efa",
           "#EF553B",
           "#00cc96",
           "#ab63fa",
           "#FFA15A",
           "#19d3f3",
           "#FF6692",
           "#B6E880",
           "#FF97FF",
           "#FECB52"
          ],
          "font": {
           "color": "#2a3f5f"
          },
          "geo": {
           "bgcolor": "white",
           "lakecolor": "white",
           "landcolor": "#E5ECF6",
           "showlakes": true,
           "showland": true,
           "subunitcolor": "white"
          },
          "hoverlabel": {
           "align": "left"
          },
          "hovermode": "closest",
          "mapbox": {
           "style": "light"
          },
          "paper_bgcolor": "white",
          "plot_bgcolor": "#E5ECF6",
          "polar": {
           "angularaxis": {
            "gridcolor": "white",
            "linecolor": "white",
            "ticks": ""
           },
           "bgcolor": "#E5ECF6",
           "radialaxis": {
            "gridcolor": "white",
            "linecolor": "white",
            "ticks": ""
           }
          },
          "scene": {
           "xaxis": {
            "backgroundcolor": "#E5ECF6",
            "gridcolor": "white",
            "gridwidth": 2,
            "linecolor": "white",
            "showbackground": true,
            "ticks": "",
            "zerolinecolor": "white"
           },
           "yaxis": {
            "backgroundcolor": "#E5ECF6",
            "gridcolor": "white",
            "gridwidth": 2,
            "linecolor": "white",
            "showbackground": true,
            "ticks": "",
            "zerolinecolor": "white"
           },
           "zaxis": {
            "backgroundcolor": "#E5ECF6",
            "gridcolor": "white",
            "gridwidth": 2,
            "linecolor": "white",
            "showbackground": true,
            "ticks": "",
            "zerolinecolor": "white"
           }
          },
          "shapedefaults": {
           "line": {
            "color": "#2a3f5f"
           }
          },
          "ternary": {
           "aaxis": {
            "gridcolor": "white",
            "linecolor": "white",
            "ticks": ""
           },
           "baxis": {
            "gridcolor": "white",
            "linecolor": "white",
            "ticks": ""
           },
           "bgcolor": "#E5ECF6",
           "caxis": {
            "gridcolor": "white",
            "linecolor": "white",
            "ticks": ""
           }
          },
          "title": {
           "x": 0.05
          },
          "xaxis": {
           "automargin": true,
           "gridcolor": "white",
           "linecolor": "white",
           "ticks": "",
           "title": {
            "standoff": 15
           },
           "zerolinecolor": "white",
           "zerolinewidth": 2
          },
          "yaxis": {
           "automargin": true,
           "gridcolor": "white",
           "linecolor": "white",
           "ticks": "",
           "title": {
            "standoff": 15
           },
           "zerolinecolor": "white",
           "zerolinewidth": 2
          }
         }
        },
        "title": {
         "font": {
          "color": "#D9D9D9"
         },
         "text": "========Return-------Volatility========================="
        },
        "xaxis": {
         "gridcolor": "#434343",
         "showgrid": true,
         "tickfont": {
          "color": "#C2C2C2"
         },
         "title": {
          "font": {
           "color": "#D9D9D9"
          },
          "text": "Return"
         },
         "zerolinecolor": "#666570"
        },
        "yaxis": {
         "gridcolor": "#434343",
         "showgrid": true,
         "tickfont": {
          "color": "#C2C2C2"
         },
         "title": {
          "font": {
           "color": "#D9D9D9"
          },
          "text": "Volatility"
         },
         "zerolinecolor": "#666570"
        }
       }
      },
      "text/html": [
       "<div>                            <div id=\"e0be3d24-321b-4bdb-b615-062c4156492b\" class=\"plotly-graph-div\" style=\"height:525px; width:100%;\"></div>            <script type=\"text/javascript\">                require([\"plotly\"], function(Plotly) {                    window.PLOTLYENV=window.PLOTLYENV || {};\n",
       "                    window.PLOTLYENV.BASE_URL='https://plot.ly';                                    if (document.getElementById(\"e0be3d24-321b-4bdb-b615-062c4156492b\")) {                    Plotly.newPlot(                        \"e0be3d24-321b-4bdb-b615-062c4156492b\",                        [{\"marker\":{\"color\":\"rgba(255, 153, 51, 1.0)\",\"line\":{\"width\":1.3},\"opacity\":0.8,\"size\":12,\"symbol\":\"circle\"},\"mode\":\"markers\",\"name\":\"POLYCAB.NS\",\"textfont\":{\"color\":\"#D9D9D9\"},\"x\":[39.15699522779303],\"y\":[38.74601904887244],\"type\":\"scatter\"},{\"marker\":{\"color\":\"rgba(55, 128, 191, 1.0)\",\"line\":{\"width\":1.3},\"opacity\":0.8,\"size\":12,\"symbol\":\"circle\"},\"mode\":\"markers\",\"name\":\"TANLA.NS\",\"textfont\":{\"color\":\"#D9D9D9\"},\"x\":[55.57964031833973],\"y\":[55.52481981206785],\"type\":\"scatter\"},{\"marker\":{\"color\":\"rgba(50, 171, 96, 1.0)\",\"line\":{\"width\":1.3},\"opacity\":0.8,\"size\":12,\"symbol\":\"circle\"},\"mode\":\"markers\",\"name\":\"ALKYLAMINE.NS\",\"textfont\":{\"color\":\"#D9D9D9\"},\"x\":[40.72438551747389],\"y\":[43.122201514623455],\"type\":\"scatter\"},{\"marker\":{\"color\":\"rgba(128, 0, 128, 1.0)\",\"line\":{\"width\":1.3},\"opacity\":0.8,\"size\":12,\"symbol\":\"circle\"},\"mode\":\"markers\",\"name\":\"JBCHEPHARM.NS\",\"textfont\":{\"color\":\"#D9D9D9\"},\"x\":[30.107188785751248],\"y\":[34.793483725876385],\"type\":\"scatter\"},{\"marker\":{\"color\":\"rgba(219, 64, 82, 1.0)\",\"line\":{\"width\":1.3},\"opacity\":0.8,\"size\":12,\"symbol\":\"circle\"},\"mode\":\"markers\",\"name\":\"TIPSINDLTD.NS\",\"textfont\":{\"color\":\"#D9D9D9\"},\"x\":[47.77455874807629],\"y\":[55.80435402981735],\"type\":\"scatter\"},{\"marker\":{\"color\":\"rgba(0, 128, 128, 1.0)\",\"line\":{\"width\":1.3},\"opacity\":0.8,\"size\":12,\"symbol\":\"circle\"},\"mode\":\"markers\",\"name\":\"SUMICHEM.NS\",\"textfont\":{\"color\":\"#D9D9D9\"},\"x\":[34.828679900053686],\"y\":[41.17435684843584],\"type\":\"scatter\"},{\"marker\":{\"color\":\"rgba(255, 255, 51, 1.0)\",\"line\":{\"width\":1.3},\"opacity\":0.8,\"size\":12,\"symbol\":\"circle\"},\"mode\":\"markers\",\"name\":\"VINATIORGA.NS\",\"textfont\":{\"color\":\"#D9D9D9\"},\"x\":[29.876899204075137],\"y\":[36.05314832134178],\"type\":\"scatter\"},{\"marker\":{\"color\":\"rgba(128, 128, 0, 1.0)\",\"line\":{\"width\":1.3},\"opacity\":0.8,\"size\":12,\"symbol\":\"circle\"},\"mode\":\"markers\",\"name\":\"GRINDWELL.NS\",\"textfont\":{\"color\":\"#D9D9D9\"},\"x\":[24.82567902717624],\"y\":[30.89121655252248],\"type\":\"scatter\"},{\"marker\":{\"color\":\"rgba(251, 128, 114, 1.0)\",\"line\":{\"width\":1.3},\"opacity\":0.8,\"size\":12,\"symbol\":\"circle\"},\"mode\":\"markers\",\"name\":\"CDSL.NS\",\"textfont\":{\"color\":\"#D9D9D9\"},\"x\":[30.59526199444621],\"y\":[38.87832057536158],\"type\":\"scatter\"},{\"marker\":{\"color\":\"rgba(128, 177, 211, 1.0)\",\"line\":{\"width\":1.3},\"opacity\":0.8,\"size\":12,\"symbol\":\"circle\"},\"mode\":\"markers\",\"name\":\"HINDUNILVR.NS\",\"textfont\":{\"color\":\"#D9D9D9\"},\"x\":[18.52558285130615],\"y\":[23.63915377931108],\"type\":\"scatter\"},{\"marker\":{\"color\":\"rgba(128, 177, 211, 0.8999999999999999)\",\"line\":{\"width\":1.3},\"opacity\":0.8,\"size\":12,\"symbol\":\"circle\"},\"mode\":\"markers\",\"name\":\"COFORGE.NS\",\"textfont\":{\"color\":\"#D9D9D9\"},\"x\":[32.096868927207],\"y\":[43.36491645341047],\"type\":\"scatter\"},{\"marker\":{\"color\":\"rgba(255, 153, 51, 0.8999999999999999)\",\"line\":{\"width\":1.3},\"opacity\":0.8,\"size\":12,\"symbol\":\"circle\"},\"mode\":\"markers\",\"name\":\"LINDEINDIA.NS\",\"textfont\":{\"color\":\"#D9D9D9\"},\"x\":[29.20871858332729],\"y\":[40.41074346442657],\"type\":\"scatter\"},{\"marker\":{\"color\":\"rgba(55, 128, 191, 0.8999999999999999)\",\"line\":{\"width\":1.3},\"opacity\":0.8,\"size\":12,\"symbol\":\"circle\"},\"mode\":\"markers\",\"name\":\"ADFFOODS.NS\",\"textfont\":{\"color\":\"#D9D9D9\"},\"x\":[31.74961134291572],\"y\":[46.17352250390415],\"type\":\"scatter\"},{\"marker\":{\"color\":\"rgba(50, 171, 96, 0.8999999999999999)\",\"line\":{\"width\":1.3},\"opacity\":0.8,\"size\":12,\"symbol\":\"circle\"},\"mode\":\"markers\",\"name\":\"TCIEXP.NS\",\"textfont\":{\"color\":\"#D9D9D9\"},\"x\":[28.769018269544144],\"y\":[42.06426989744854],\"type\":\"scatter\"},{\"marker\":{\"color\":\"rgba(128, 0, 128, 0.8999999999999999)\",\"line\":{\"width\":1.3},\"opacity\":0.8,\"size\":12,\"symbol\":\"circle\"},\"mode\":\"markers\",\"name\":\"PRIMESECU.NS\",\"textfont\":{\"color\":\"#D9D9D9\"},\"x\":[42.66948007268733],\"y\":[63.82433430621761],\"type\":\"scatter\"},{\"marker\":{\"color\":\"rgba(219, 64, 82, 0.8999999999999999)\",\"line\":{\"width\":1.3},\"opacity\":0.8,\"size\":12,\"symbol\":\"circle\"},\"mode\":\"markers\",\"name\":\"SCHAEFFLER.NS\",\"textfont\":{\"color\":\"#D9D9D9\"},\"x\":[17.47383206536319],\"y\":[26.20599112715352],\"type\":\"scatter\"},{\"marker\":{\"color\":\"rgba(0, 128, 128, 0.8999999999999999)\",\"line\":{\"width\":1.3},\"opacity\":0.8,\"size\":12,\"symbol\":\"circle\"},\"mode\":\"markers\",\"name\":\"IEX.NS\",\"textfont\":{\"color\":\"#D9D9D9\"},\"x\":[24.815186585486416],\"y\":[37.32226218882577],\"type\":\"scatter\"},{\"marker\":{\"color\":\"rgba(255, 255, 51, 0.8999999999999999)\",\"line\":{\"width\":1.3},\"opacity\":0.8,\"size\":12,\"symbol\":\"circle\"},\"mode\":\"markers\",\"name\":\"IGL.NS\",\"textfont\":{\"color\":\"#D9D9D9\"},\"x\":[20.292275611949623],\"y\":[31.226771390201947],\"type\":\"scatter\"},{\"marker\":{\"color\":\"rgba(128, 128, 0, 0.8999999999999999)\",\"line\":{\"width\":1.3},\"opacity\":0.8,\"size\":12,\"symbol\":\"circle\"},\"mode\":\"markers\",\"name\":\"PGHH.NS\",\"textfont\":{\"color\":\"#D9D9D9\"},\"x\":[13.891455139329295],\"y\":[21.386092753990702],\"type\":\"scatter\"},{\"marker\":{\"color\":\"rgba(251, 128, 114, 0.8999999999999999)\",\"line\":{\"width\":1.3},\"opacity\":0.8,\"size\":12,\"symbol\":\"circle\"},\"mode\":\"markers\",\"name\":\"DIVISLAB.NS\",\"textfont\":{\"color\":\"#D9D9D9\"},\"x\":[20.712661811848],\"y\":[33.53962083203864],\"type\":\"scatter\"},{\"marker\":{\"color\":\"rgba(251, 128, 114, 0.7999999999999998)\",\"line\":{\"width\":1.3},\"opacity\":0.8,\"size\":12,\"symbol\":\"circle\"},\"mode\":\"markers\",\"name\":\"SKFINDIA.NS\",\"textfont\":{\"color\":\"#D9D9D9\"},\"x\":[16.468967368854763],\"y\":[27.15481133584689],\"type\":\"scatter\"},{\"marker\":{\"color\":\"rgba(128, 177, 211, 0.7999999999999998)\",\"line\":{\"width\":1.3},\"opacity\":0.8,\"size\":12,\"symbol\":\"circle\"},\"mode\":\"markers\",\"name\":\"CAPLIPOINT.NS\",\"textfont\":{\"color\":\"#D9D9D9\"},\"x\":[31.32893565131886],\"y\":[51.93669303672043],\"type\":\"scatter\"},{\"marker\":{\"color\":\"rgba(255, 153, 51, 0.7999999999999998)\",\"line\":{\"width\":1.3},\"opacity\":0.8,\"size\":12,\"symbol\":\"circle\"},\"mode\":\"markers\",\"name\":\"TIDEWATER.NS\",\"textfont\":{\"color\":\"#D9D9D9\"},\"x\":[21.69272672506582],\"y\":[36.01153745794804],\"type\":\"scatter\"},{\"marker\":{\"color\":\"rgba(55, 128, 191, 0.7999999999999998)\",\"line\":{\"width\":1.3},\"opacity\":0.8,\"size\":12,\"symbol\":\"circle\"},\"mode\":\"markers\",\"name\":\"ESABINDIA.NS\",\"textfont\":{\"color\":\"#D9D9D9\"},\"x\":[23.95887684974084],\"y\":[41.974886436349856],\"type\":\"scatter\"},{\"marker\":{\"color\":\"rgba(50, 171, 96, 0.7999999999999998)\",\"line\":{\"width\":1.3},\"opacity\":0.8,\"size\":12,\"symbol\":\"circle\"},\"mode\":\"markers\",\"name\":\"SUPREMEIND.NS\",\"textfont\":{\"color\":\"#D9D9D9\"},\"x\":[16.838112898697215],\"y\":[29.730654494442188],\"type\":\"scatter\"},{\"marker\":{\"color\":\"rgba(128, 0, 128, 0.7999999999999998)\",\"line\":{\"width\":1.3},\"opacity\":0.8,\"size\":12,\"symbol\":\"circle\"},\"mode\":\"markers\",\"name\":\"GULPOLY.NS\",\"textfont\":{\"color\":\"#D9D9D9\"},\"x\":[25.67804649216572],\"y\":[46.18534032095069],\"type\":\"scatter\"},{\"marker\":{\"color\":\"rgba(219, 64, 82, 0.7999999999999998)\",\"line\":{\"width\":1.3},\"opacity\":0.8,\"size\":12,\"symbol\":\"circle\"},\"mode\":\"markers\",\"name\":\"INTELLECT.NS\",\"textfont\":{\"color\":\"#D9D9D9\"},\"x\":[28.88493726158779],\"y\":[53.59799975463401],\"type\":\"scatter\"},{\"marker\":{\"color\":\"rgba(0, 128, 128, 0.7999999999999998)\",\"line\":{\"width\":1.3},\"opacity\":0.8,\"size\":12,\"symbol\":\"circle\"},\"mode\":\"markers\",\"name\":\"PRAJIND.NS\",\"textfont\":{\"color\":\"#D9D9D9\"},\"x\":[26.74506758141257],\"y\":[50.0254599768889],\"type\":\"scatter\"},{\"marker\":{\"color\":\"rgba(255, 255, 51, 0.7999999999999998)\",\"line\":{\"width\":1.3},\"opacity\":0.8,\"size\":12,\"symbol\":\"circle\"},\"mode\":\"markers\",\"name\":\"SANOFI.NS\",\"textfont\":{\"color\":\"#D9D9D9\"},\"x\":[11.4712815466071],\"y\":[22.078386204121685],\"type\":\"scatter\"},{\"marker\":{\"color\":\"rgba(128, 128, 0, 0.7999999999999998)\",\"line\":{\"width\":1.3},\"opacity\":0.8,\"size\":12,\"symbol\":\"circle\"},\"mode\":\"markers\",\"name\":\"RPGLIFE.NS\",\"textfont\":{\"color\":\"#D9D9D9\"},\"x\":[25.862638985010257],\"y\":[51.96337077497307],\"type\":\"scatter\"},{\"marker\":{\"color\":\"rgba(128, 128, 0, 0.7)\",\"line\":{\"width\":1.3},\"opacity\":0.8,\"size\":12,\"symbol\":\"circle\"},\"mode\":\"markers\",\"name\":\"FCL.NS\",\"textfont\":{\"color\":\"#D9D9D9\"},\"x\":[30.12311811305232],\"y\":[61.881697852956144],\"type\":\"scatter\"},{\"marker\":{\"color\":\"rgba(251, 128, 114, 0.7)\",\"line\":{\"width\":1.3},\"opacity\":0.8,\"size\":12,\"symbol\":\"circle\"},\"mode\":\"markers\",\"name\":\"BEL.NS\",\"textfont\":{\"color\":\"#D9D9D9\"},\"x\":[17.856867481237256],\"y\":[38.18768614957634],\"type\":\"scatter\"},{\"marker\":{\"color\":\"rgba(128, 177, 211, 0.7)\",\"line\":{\"width\":1.3},\"opacity\":0.8,\"size\":12,\"symbol\":\"circle\"},\"mode\":\"markers\",\"name\":\"AMRUTANJAN.NS\",\"textfont\":{\"color\":\"#D9D9D9\"},\"x\":[18.321217853387832],\"y\":[39.99703474381244],\"type\":\"scatter\"},{\"marker\":{\"color\":\"rgba(255, 153, 51, 0.7)\",\"line\":{\"width\":1.3},\"opacity\":0.8,\"size\":12,\"symbol\":\"circle\"},\"mode\":\"markers\",\"name\":\"AVANTIFEED.NS\",\"textfont\":{\"color\":\"#D9D9D9\"},\"x\":[20.58330698404847],\"y\":[46.36850272300695],\"type\":\"scatter\"},{\"marker\":{\"color\":\"rgba(55, 128, 191, 0.7)\",\"line\":{\"width\":1.3},\"opacity\":0.8,\"size\":12,\"symbol\":\"circle\"},\"mode\":\"markers\",\"name\":\"INGERRAND.NS\",\"textfont\":{\"color\":\"#D9D9D9\"},\"x\":[13.377638559168153],\"y\":[32.39278557880419],\"type\":\"scatter\"},{\"marker\":{\"color\":\"rgba(50, 171, 96, 0.7)\",\"line\":{\"width\":1.3},\"opacity\":0.8,\"size\":12,\"symbol\":\"circle\"},\"mode\":\"markers\",\"name\":\"ADORWELD.NS\",\"textfont\":{\"color\":\"#D9D9D9\"},\"x\":[19.29221126573079],\"y\":[46.97788183310662],\"type\":\"scatter\"},{\"marker\":{\"color\":\"rgba(128, 0, 128, 0.7)\",\"line\":{\"width\":1.3},\"opacity\":0.8,\"size\":12,\"symbol\":\"circle\"},\"mode\":\"markers\",\"name\":\"VINYLINDIA.NS\",\"textfont\":{\"color\":\"#D9D9D9\"},\"x\":[20.225406182303995],\"y\":[51.353229080927306],\"type\":\"scatter\"},{\"marker\":{\"color\":\"rgba(219, 64, 82, 0.7)\",\"line\":{\"width\":1.3},\"opacity\":0.8,\"size\":12,\"symbol\":\"circle\"},\"mode\":\"markers\",\"name\":\"VSTIND.NS\",\"textfont\":{\"color\":\"#D9D9D9\"},\"x\":[10.3593978209442],\"y\":[27.226352818768607],\"type\":\"scatter\"},{\"marker\":{\"color\":\"rgba(0, 128, 128, 0.7)\",\"line\":{\"width\":1.3},\"opacity\":0.8,\"size\":12,\"symbol\":\"circle\"},\"mode\":\"markers\",\"name\":\"KSB.NS\",\"textfont\":{\"color\":\"#D9D9D9\"},\"x\":[12.303900613227636],\"y\":[34.14799764035527],\"type\":\"scatter\"},{\"marker\":{\"color\":\"rgba(255, 255, 51, 0.7)\",\"line\":{\"width\":1.3},\"opacity\":0.8,\"size\":12,\"symbol\":\"circle\"},\"mode\":\"markers\",\"name\":\"EXPLEOSOL.NS\",\"textfont\":{\"color\":\"#D9D9D9\"},\"x\":[13.593467713019056],\"y\":[39.45324107552503],\"type\":\"scatter\"},{\"marker\":{\"color\":\"rgba(255, 255, 51, 0.5999999999999999)\",\"line\":{\"width\":1.3},\"opacity\":0.8,\"size\":12,\"symbol\":\"circle\"},\"mode\":\"markers\",\"name\":\"AJANTPHARM.NS\",\"textfont\":{\"color\":\"#D9D9D9\"},\"x\":[11.08475060219874],\"y\":[32.90482394633117],\"type\":\"scatter\"},{\"marker\":{\"color\":\"rgba(128, 128, 0, 0.5999999999999999)\",\"line\":{\"width\":1.3},\"opacity\":0.8,\"size\":12,\"symbol\":\"circle\"},\"mode\":\"markers\",\"name\":\"RSYSTEMS.NS\",\"textfont\":{\"color\":\"#D9D9D9\"},\"x\":[15.788914791256314],\"y\":[47.75115816147286],\"type\":\"scatter\"},{\"marker\":{\"color\":\"rgba(251, 128, 114, 0.5999999999999999)\",\"line\":{\"width\":1.3},\"opacity\":0.8,\"size\":12,\"symbol\":\"circle\"},\"mode\":\"markers\",\"name\":\"SHARDACROP.NS\",\"textfont\":{\"color\":\"#D9D9D9\"},\"x\":[14.139320551812814],\"y\":[44.45538251433841],\"type\":\"scatter\"}],                        {\"legend\":{\"bgcolor\":\"#151516\",\"font\":{\"color\":\"#D9D9D9\"}},\"paper_bgcolor\":\"#151516\",\"plot_bgcolor\":\"#151516\",\"template\":{\"data\":{\"barpolar\":[{\"marker\":{\"line\":{\"color\":\"#E5ECF6\",\"width\":0.5},\"pattern\":{\"fillmode\":\"overlay\",\"size\":10,\"solidity\":0.2}},\"type\":\"barpolar\"}],\"bar\":[{\"error_x\":{\"color\":\"#2a3f5f\"},\"error_y\":{\"color\":\"#2a3f5f\"},\"marker\":{\"line\":{\"color\":\"#E5ECF6\",\"width\":0.5},\"pattern\":{\"fillmode\":\"overlay\",\"size\":10,\"solidity\":0.2}},\"type\":\"bar\"}],\"carpet\":[{\"aaxis\":{\"endlinecolor\":\"#2a3f5f\",\"gridcolor\":\"white\",\"linecolor\":\"white\",\"minorgridcolor\":\"white\",\"startlinecolor\":\"#2a3f5f\"},\"baxis\":{\"endlinecolor\":\"#2a3f5f\",\"gridcolor\":\"white\",\"linecolor\":\"white\",\"minorgridcolor\":\"white\",\"startlinecolor\":\"#2a3f5f\"},\"type\":\"carpet\"}],\"choropleth\":[{\"colorbar\":{\"outlinewidth\":0,\"ticks\":\"\"},\"type\":\"choropleth\"}],\"contourcarpet\":[{\"colorbar\":{\"outlinewidth\":0,\"ticks\":\"\"},\"type\":\"contourcarpet\"}],\"contour\":[{\"colorbar\":{\"outlinewidth\":0,\"ticks\":\"\"},\"colorscale\":[[0.0,\"#0d0887\"],[0.1111111111111111,\"#46039f\"],[0.2222222222222222,\"#7201a8\"],[0.3333333333333333,\"#9c179e\"],[0.4444444444444444,\"#bd3786\"],[0.5555555555555556,\"#d8576b\"],[0.6666666666666666,\"#ed7953\"],[0.7777777777777778,\"#fb9f3a\"],[0.8888888888888888,\"#fdca26\"],[1.0,\"#f0f921\"]],\"type\":\"contour\"}],\"heatmapgl\":[{\"colorbar\":{\"outlinewidth\":0,\"ticks\":\"\"},\"colorscale\":[[0.0,\"#0d0887\"],[0.1111111111111111,\"#46039f\"],[0.2222222222222222,\"#7201a8\"],[0.3333333333333333,\"#9c179e\"],[0.4444444444444444,\"#bd3786\"],[0.5555555555555556,\"#d8576b\"],[0.6666666666666666,\"#ed7953\"],[0.7777777777777778,\"#fb9f3a\"],[0.8888888888888888,\"#fdca26\"],[1.0,\"#f0f921\"]],\"type\":\"heatmapgl\"}],\"heatmap\":[{\"colorbar\":{\"outlinewidth\":0,\"ticks\":\"\"},\"colorscale\":[[0.0,\"#0d0887\"],[0.1111111111111111,\"#46039f\"],[0.2222222222222222,\"#7201a8\"],[0.3333333333333333,\"#9c179e\"],[0.4444444444444444,\"#bd3786\"],[0.5555555555555556,\"#d8576b\"],[0.6666666666666666,\"#ed7953\"],[0.7777777777777778,\"#fb9f3a\"],[0.8888888888888888,\"#fdca26\"],[1.0,\"#f0f921\"]],\"type\":\"heatmap\"}],\"histogram2dcontour\":[{\"colorbar\":{\"outlinewidth\":0,\"ticks\":\"\"},\"colorscale\":[[0.0,\"#0d0887\"],[0.1111111111111111,\"#46039f\"],[0.2222222222222222,\"#7201a8\"],[0.3333333333333333,\"#9c179e\"],[0.4444444444444444,\"#bd3786\"],[0.5555555555555556,\"#d8576b\"],[0.6666666666666666,\"#ed7953\"],[0.7777777777777778,\"#fb9f3a\"],[0.8888888888888888,\"#fdca26\"],[1.0,\"#f0f921\"]],\"type\":\"histogram2dcontour\"}],\"histogram2d\":[{\"colorbar\":{\"outlinewidth\":0,\"ticks\":\"\"},\"colorscale\":[[0.0,\"#0d0887\"],[0.1111111111111111,\"#46039f\"],[0.2222222222222222,\"#7201a8\"],[0.3333333333333333,\"#9c179e\"],[0.4444444444444444,\"#bd3786\"],[0.5555555555555556,\"#d8576b\"],[0.6666666666666666,\"#ed7953\"],[0.7777777777777778,\"#fb9f3a\"],[0.8888888888888888,\"#fdca26\"],[1.0,\"#f0f921\"]],\"type\":\"histogram2d\"}],\"histogram\":[{\"marker\":{\"pattern\":{\"fillmode\":\"overlay\",\"size\":10,\"solidity\":0.2}},\"type\":\"histogram\"}],\"mesh3d\":[{\"colorbar\":{\"outlinewidth\":0,\"ticks\":\"\"},\"type\":\"mesh3d\"}],\"parcoords\":[{\"line\":{\"colorbar\":{\"outlinewidth\":0,\"ticks\":\"\"}},\"type\":\"parcoords\"}],\"pie\":[{\"automargin\":true,\"type\":\"pie\"}],\"scatter3d\":[{\"line\":{\"colorbar\":{\"outlinewidth\":0,\"ticks\":\"\"}},\"marker\":{\"colorbar\":{\"outlinewidth\":0,\"ticks\":\"\"}},\"type\":\"scatter3d\"}],\"scattercarpet\":[{\"marker\":{\"colorbar\":{\"outlinewidth\":0,\"ticks\":\"\"}},\"type\":\"scattercarpet\"}],\"scattergeo\":[{\"marker\":{\"colorbar\":{\"outlinewidth\":0,\"ticks\":\"\"}},\"type\":\"scattergeo\"}],\"scattergl\":[{\"marker\":{\"colorbar\":{\"outlinewidth\":0,\"ticks\":\"\"}},\"type\":\"scattergl\"}],\"scattermapbox\":[{\"marker\":{\"colorbar\":{\"outlinewidth\":0,\"ticks\":\"\"}},\"type\":\"scattermapbox\"}],\"scatterpolargl\":[{\"marker\":{\"colorbar\":{\"outlinewidth\":0,\"ticks\":\"\"}},\"type\":\"scatterpolargl\"}],\"scatterpolar\":[{\"marker\":{\"colorbar\":{\"outlinewidth\":0,\"ticks\":\"\"}},\"type\":\"scatterpolar\"}],\"scatter\":[{\"fillpattern\":{\"fillmode\":\"overlay\",\"size\":10,\"solidity\":0.2},\"type\":\"scatter\"}],\"scatterternary\":[{\"marker\":{\"colorbar\":{\"outlinewidth\":0,\"ticks\":\"\"}},\"type\":\"scatterternary\"}],\"surface\":[{\"colorbar\":{\"outlinewidth\":0,\"ticks\":\"\"},\"colorscale\":[[0.0,\"#0d0887\"],[0.1111111111111111,\"#46039f\"],[0.2222222222222222,\"#7201a8\"],[0.3333333333333333,\"#9c179e\"],[0.4444444444444444,\"#bd3786\"],[0.5555555555555556,\"#d8576b\"],[0.6666666666666666,\"#ed7953\"],[0.7777777777777778,\"#fb9f3a\"],[0.8888888888888888,\"#fdca26\"],[1.0,\"#f0f921\"]],\"type\":\"surface\"}],\"table\":[{\"cells\":{\"fill\":{\"color\":\"#EBF0F8\"},\"line\":{\"color\":\"white\"}},\"header\":{\"fill\":{\"color\":\"#C8D4E3\"},\"line\":{\"color\":\"white\"}},\"type\":\"table\"}]},\"layout\":{\"annotationdefaults\":{\"arrowcolor\":\"#2a3f5f\",\"arrowhead\":0,\"arrowwidth\":1},\"autotypenumbers\":\"strict\",\"coloraxis\":{\"colorbar\":{\"outlinewidth\":0,\"ticks\":\"\"}},\"colorscale\":{\"diverging\":[[0,\"#8e0152\"],[0.1,\"#c51b7d\"],[0.2,\"#de77ae\"],[0.3,\"#f1b6da\"],[0.4,\"#fde0ef\"],[0.5,\"#f7f7f7\"],[0.6,\"#e6f5d0\"],[0.7,\"#b8e186\"],[0.8,\"#7fbc41\"],[0.9,\"#4d9221\"],[1,\"#276419\"]],\"sequential\":[[0.0,\"#0d0887\"],[0.1111111111111111,\"#46039f\"],[0.2222222222222222,\"#7201a8\"],[0.3333333333333333,\"#9c179e\"],[0.4444444444444444,\"#bd3786\"],[0.5555555555555556,\"#d8576b\"],[0.6666666666666666,\"#ed7953\"],[0.7777777777777778,\"#fb9f3a\"],[0.8888888888888888,\"#fdca26\"],[1.0,\"#f0f921\"]],\"sequentialminus\":[[0.0,\"#0d0887\"],[0.1111111111111111,\"#46039f\"],[0.2222222222222222,\"#7201a8\"],[0.3333333333333333,\"#9c179e\"],[0.4444444444444444,\"#bd3786\"],[0.5555555555555556,\"#d8576b\"],[0.6666666666666666,\"#ed7953\"],[0.7777777777777778,\"#fb9f3a\"],[0.8888888888888888,\"#fdca26\"],[1.0,\"#f0f921\"]]},\"colorway\":[\"#636efa\",\"#EF553B\",\"#00cc96\",\"#ab63fa\",\"#FFA15A\",\"#19d3f3\",\"#FF6692\",\"#B6E880\",\"#FF97FF\",\"#FECB52\"],\"font\":{\"color\":\"#2a3f5f\"},\"geo\":{\"bgcolor\":\"white\",\"lakecolor\":\"white\",\"landcolor\":\"#E5ECF6\",\"showlakes\":true,\"showland\":true,\"subunitcolor\":\"white\"},\"hoverlabel\":{\"align\":\"left\"},\"hovermode\":\"closest\",\"mapbox\":{\"style\":\"light\"},\"paper_bgcolor\":\"white\",\"plot_bgcolor\":\"#E5ECF6\",\"polar\":{\"angularaxis\":{\"gridcolor\":\"white\",\"linecolor\":\"white\",\"ticks\":\"\"},\"bgcolor\":\"#E5ECF6\",\"radialaxis\":{\"gridcolor\":\"white\",\"linecolor\":\"white\",\"ticks\":\"\"}},\"scene\":{\"xaxis\":{\"backgroundcolor\":\"#E5ECF6\",\"gridcolor\":\"white\",\"gridwidth\":2,\"linecolor\":\"white\",\"showbackground\":true,\"ticks\":\"\",\"zerolinecolor\":\"white\"},\"yaxis\":{\"backgroundcolor\":\"#E5ECF6\",\"gridcolor\":\"white\",\"gridwidth\":2,\"linecolor\":\"white\",\"showbackground\":true,\"ticks\":\"\",\"zerolinecolor\":\"white\"},\"zaxis\":{\"backgroundcolor\":\"#E5ECF6\",\"gridcolor\":\"white\",\"gridwidth\":2,\"linecolor\":\"white\",\"showbackground\":true,\"ticks\":\"\",\"zerolinecolor\":\"white\"}},\"shapedefaults\":{\"line\":{\"color\":\"#2a3f5f\"}},\"ternary\":{\"aaxis\":{\"gridcolor\":\"white\",\"linecolor\":\"white\",\"ticks\":\"\"},\"baxis\":{\"gridcolor\":\"white\",\"linecolor\":\"white\",\"ticks\":\"\"},\"bgcolor\":\"#E5ECF6\",\"caxis\":{\"gridcolor\":\"white\",\"linecolor\":\"white\",\"ticks\":\"\"}},\"title\":{\"x\":0.05},\"xaxis\":{\"automargin\":true,\"gridcolor\":\"white\",\"linecolor\":\"white\",\"ticks\":\"\",\"title\":{\"standoff\":15},\"zerolinecolor\":\"white\",\"zerolinewidth\":2},\"yaxis\":{\"automargin\":true,\"gridcolor\":\"white\",\"linecolor\":\"white\",\"ticks\":\"\",\"title\":{\"standoff\":15},\"zerolinecolor\":\"white\",\"zerolinewidth\":2}}},\"title\":{\"font\":{\"color\":\"#D9D9D9\"},\"text\":\"========Return-------Volatility=========================\"},\"xaxis\":{\"gridcolor\":\"#434343\",\"showgrid\":true,\"tickfont\":{\"color\":\"#C2C2C2\"},\"title\":{\"font\":{\"color\":\"#D9D9D9\"},\"text\":\"Return\"},\"zerolinecolor\":\"#666570\"},\"yaxis\":{\"gridcolor\":\"#434343\",\"showgrid\":true,\"tickfont\":{\"color\":\"#C2C2C2\"},\"title\":{\"font\":{\"color\":\"#D9D9D9\"},\"text\":\"Volatility\"},\"zerolinecolor\":\"#666570\"}},                        {\"showLink\": true, \"linkText\": \"Export to plot.ly\", \"plotlyServerURL\": \"https://plot.ly\", \"responsive\": true}                    ).then(function(){\n",
       "                            \n",
       "var gd = document.getElementById('e0be3d24-321b-4bdb-b615-062c4156492b');\n",
       "var x = new MutationObserver(function (mutations, observer) {{\n",
       "        var display = window.getComputedStyle(gd).display;\n",
       "        if (!display || display === 'none') {{\n",
       "            console.log([gd, 'removed!']);\n",
       "            Plotly.purge(gd);\n",
       "            observer.disconnect();\n",
       "        }}\n",
       "}});\n",
       "\n",
       "// Listen for the removal of the full notebook cells\n",
       "var notebookContainer = gd.closest('#notebook-container');\n",
       "if (notebookContainer) {{\n",
       "    x.observe(notebookContainer, {childList: true});\n",
       "}}\n",
       "\n",
       "// Listen for the clearing of the current output cell\n",
       "var outputEl = gd.closest('.output');\n",
       "if (outputEl) {{\n",
       "    x.observe(outputEl, {childList: true});\n",
       "}}\n",
       "\n",
       "                        })                };                });            </script>        </div>"
      ]
     },
     "metadata": {},
     "output_type": "display_data"
    }
   ],
   "source": [
    "\n",
    "df1.iplot(kind=\"scatter\",\n",
    "              x=\"Return%\", y='Volatility%',\n",
    "              mode='markers',\n",
    "              xTitle=\"Return\", yTitle=\"Volatility\",\n",
    "              title=\"========Return-------Volatility=========================\", categories=\"Ticker\",theme=\"solar\")"
   ]
  },
  {
   "cell_type": "code",
   "execution_count": 17,
   "id": "7f66e62d",
   "metadata": {},
   "outputs": [
    {
     "data": {
      "application/vnd.plotly.v1+json": {
       "config": {
        "linkText": "Export to plot.ly",
        "plotlyServerURL": "https://plot.ly",
        "showLink": true
       },
       "data": [
        {
         "marker": {
          "color": "rgba(255, 153, 51, 1.0)",
          "line": {
           "width": 1.3
          },
          "opacity": 0.8,
          "size": 12,
          "symbol": "circle"
         },
         "mode": "markers",
         "name": "POLYCAB.NS",
         "textfont": {
          "color": "#D9D9D9"
         },
         "type": "scatter",
         "x": [
          39.15699522779303
         ],
         "y": [
          98.9504399494145
         ]
        },
        {
         "marker": {
          "color": "rgba(55, 128, 191, 1.0)",
          "line": {
           "width": 1.3
          },
          "opacity": 0.8,
          "size": 12,
          "symbol": "circle"
         },
         "mode": "markers",
         "name": "TANLA.NS",
         "textfont": {
          "color": "#D9D9D9"
         },
         "type": "scatter",
         "x": [
          55.57964031833973
         ],
         "y": [
          99.90136584915288
         ]
        },
        {
         "marker": {
          "color": "rgba(50, 171, 96, 1.0)",
          "line": {
           "width": 1.3
          },
          "opacity": 0.8,
          "size": 12,
          "symbol": "circle"
         },
         "mode": "markers",
         "name": "ALKYLAMINE.NS",
         "textfont": {
          "color": "#D9D9D9"
         },
         "type": "scatter",
         "x": [
          40.72438551747389
         ],
         "y": [
          105.88791203766776
         ]
        },
        {
         "marker": {
          "color": "rgba(128, 0, 128, 1.0)",
          "line": {
           "width": 1.3
          },
          "opacity": 0.8,
          "size": 12,
          "symbol": "circle"
         },
         "mode": "markers",
         "name": "JBCHEPHARM.NS",
         "textfont": {
          "color": "#D9D9D9"
         },
         "type": "scatter",
         "x": [
          30.107188785751248
         ],
         "y": [
          115.56536870138804
         ]
        },
        {
         "marker": {
          "color": "rgba(219, 64, 82, 1.0)",
          "line": {
           "width": 1.3
          },
          "opacity": 0.8,
          "size": 12,
          "symbol": "circle"
         },
         "mode": "markers",
         "name": "TIPSINDLTD.NS",
         "textfont": {
          "color": "#D9D9D9"
         },
         "type": "scatter",
         "x": [
          47.77455874807629
         ],
         "y": [
          116.8076806822719
         ]
        },
        {
         "marker": {
          "color": "rgba(0, 128, 128, 1.0)",
          "line": {
           "width": 1.3
          },
          "opacity": 0.8,
          "size": 12,
          "symbol": "circle"
         },
         "mode": "markers",
         "name": "SUMICHEM.NS",
         "textfont": {
          "color": "#D9D9D9"
         },
         "type": "scatter",
         "x": [
          34.828679900053686
         ],
         "y": [
          118.21968839069427
         ]
        },
        {
         "marker": {
          "color": "rgba(255, 255, 51, 1.0)",
          "line": {
           "width": 1.3
          },
          "opacity": 0.8,
          "size": 12,
          "symbol": "circle"
         },
         "mode": "markers",
         "name": "VINATIORGA.NS",
         "textfont": {
          "color": "#D9D9D9"
         },
         "type": "scatter",
         "x": [
          29.876899204075137
         ],
         "y": [
          120.67232303820946
         ]
        },
        {
         "marker": {
          "color": "rgba(128, 128, 0, 1.0)",
          "line": {
           "width": 1.3
          },
          "opacity": 0.8,
          "size": 12,
          "symbol": "circle"
         },
         "mode": "markers",
         "name": "GRINDWELL.NS",
         "textfont": {
          "color": "#D9D9D9"
         },
         "type": "scatter",
         "x": [
          24.82567902717624
         ],
         "y": [
          124.43251408634744
         ]
        },
        {
         "marker": {
          "color": "rgba(251, 128, 114, 1.0)",
          "line": {
           "width": 1.3
          },
          "opacity": 0.8,
          "size": 12,
          "symbol": "circle"
         },
         "mode": "markers",
         "name": "CDSL.NS",
         "textfont": {
          "color": "#D9D9D9"
         },
         "type": "scatter",
         "x": [
          30.59526199444621
         ],
         "y": [
          127.0730107897718
         ]
        },
        {
         "marker": {
          "color": "rgba(128, 177, 211, 1.0)",
          "line": {
           "width": 1.3
          },
          "opacity": 0.8,
          "size": 12,
          "symbol": "circle"
         },
         "mode": "markers",
         "name": "HINDUNILVR.NS",
         "textfont": {
          "color": "#D9D9D9"
         },
         "type": "scatter",
         "x": [
          18.52558285130615
         ],
         "y": [
          127.6027532793355
         ]
        },
        {
         "marker": {
          "color": "rgba(128, 177, 211, 0.8999999999999999)",
          "line": {
           "width": 1.3
          },
          "opacity": 0.8,
          "size": 12,
          "symbol": "circle"
         },
         "mode": "markers",
         "name": "COFORGE.NS",
         "textfont": {
          "color": "#D9D9D9"
         },
         "type": "scatter",
         "x": [
          32.096868927207
         ],
         "y": [
          135.1063761133787
         ]
        },
        {
         "marker": {
          "color": "rgba(255, 153, 51, 0.8999999999999999)",
          "line": {
           "width": 1.3
          },
          "opacity": 0.8,
          "size": 12,
          "symbol": "circle"
         },
         "mode": "markers",
         "name": "LINDEINDIA.NS",
         "textfont": {
          "color": "#D9D9D9"
         },
         "type": "scatter",
         "x": [
          29.20871858332729
         ],
         "y": [
          138.3516478107107
         ]
        },
        {
         "marker": {
          "color": "rgba(55, 128, 191, 0.8999999999999999)",
          "line": {
           "width": 1.3
          },
          "opacity": 0.8,
          "size": 12,
          "symbol": "circle"
         },
         "mode": "markers",
         "name": "ADFFOODS.NS",
         "textfont": {
          "color": "#D9D9D9"
         },
         "type": "scatter",
         "x": [
          31.74961134291572
         ],
         "y": [
          145.43019757061322
         ]
        },
        {
         "marker": {
          "color": "rgba(50, 171, 96, 0.8999999999999999)",
          "line": {
           "width": 1.3
          },
          "opacity": 0.8,
          "size": 12,
          "symbol": "circle"
         },
         "mode": "markers",
         "name": "TCIEXP.NS",
         "textfont": {
          "color": "#D9D9D9"
         },
         "type": "scatter",
         "x": [
          28.769018269544144
         ],
         "y": [
          146.21378283866989
         ]
        },
        {
         "marker": {
          "color": "rgba(128, 0, 128, 0.8999999999999999)",
          "line": {
           "width": 1.3
          },
          "opacity": 0.8,
          "size": 12,
          "symbol": "circle"
         },
         "mode": "markers",
         "name": "PRIMESECU.NS",
         "textfont": {
          "color": "#D9D9D9"
         },
         "type": "scatter",
         "x": [
          42.66948007268733
         ],
         "y": [
          149.57842044827603
         ]
        },
        {
         "marker": {
          "color": "rgba(219, 64, 82, 0.8999999999999999)",
          "line": {
           "width": 1.3
          },
          "opacity": 0.8,
          "size": 12,
          "symbol": "circle"
         },
         "mode": "markers",
         "name": "SCHAEFFLER.NS",
         "textfont": {
          "color": "#D9D9D9"
         },
         "type": "scatter",
         "x": [
          17.47383206536319
         ],
         "y": [
          149.97277660175814
         ]
        },
        {
         "marker": {
          "color": "rgba(0, 128, 128, 0.8999999999999999)",
          "line": {
           "width": 1.3
          },
          "opacity": 0.8,
          "size": 12,
          "symbol": "circle"
         },
         "mode": "markers",
         "name": "IEX.NS",
         "textfont": {
          "color": "#D9D9D9"
         },
         "type": "scatter",
         "x": [
          24.815186585486416
         ],
         "y": [
          150.40089285749852
         ]
        },
        {
         "marker": {
          "color": "rgba(255, 255, 51, 0.8999999999999999)",
          "line": {
           "width": 1.3
          },
          "opacity": 0.8,
          "size": 12,
          "symbol": "circle"
         },
         "mode": "markers",
         "name": "IGL.NS",
         "textfont": {
          "color": "#D9D9D9"
         },
         "type": "scatter",
         "x": [
          20.292275611949623
         ],
         "y": [
          153.88501510305363
         ]
        },
        {
         "marker": {
          "color": "rgba(128, 128, 0, 0.8999999999999999)",
          "line": {
           "width": 1.3
          },
          "opacity": 0.8,
          "size": 12,
          "symbol": "circle"
         },
         "mode": "markers",
         "name": "PGHH.NS",
         "textfont": {
          "color": "#D9D9D9"
         },
         "type": "scatter",
         "x": [
          13.891455139329295
         ],
         "y": [
          153.95142221956786
         ]
        },
        {
         "marker": {
          "color": "rgba(251, 128, 114, 0.8999999999999999)",
          "line": {
           "width": 1.3
          },
          "opacity": 0.8,
          "size": 12,
          "symbol": "circle"
         },
         "mode": "markers",
         "name": "DIVISLAB.NS",
         "textfont": {
          "color": "#D9D9D9"
         },
         "type": "scatter",
         "x": [
          20.712661811848
         ],
         "y": [
          161.92810531408088
         ]
        },
        {
         "marker": {
          "color": "rgba(251, 128, 114, 0.7999999999999998)",
          "line": {
           "width": 1.3
          },
          "opacity": 0.8,
          "size": 12,
          "symbol": "circle"
         },
         "mode": "markers",
         "name": "SKFINDIA.NS",
         "textfont": {
          "color": "#D9D9D9"
         },
         "type": "scatter",
         "x": [
          16.468967368854763
         ],
         "y": [
          164.88472366033483
         ]
        },
        {
         "marker": {
          "color": "rgba(128, 177, 211, 0.7999999999999998)",
          "line": {
           "width": 1.3
          },
          "opacity": 0.8,
          "size": 12,
          "symbol": "circle"
         },
         "mode": "markers",
         "name": "CAPLIPOINT.NS",
         "textfont": {
          "color": "#D9D9D9"
         },
         "type": "scatter",
         "x": [
          31.32893565131886
         ],
         "y": [
          165.77867060266388
         ]
        },
        {
         "marker": {
          "color": "rgba(255, 153, 51, 0.7999999999999998)",
          "line": {
           "width": 1.3
          },
          "opacity": 0.8,
          "size": 12,
          "symbol": "circle"
         },
         "mode": "markers",
         "name": "TIDEWATER.NS",
         "textfont": {
          "color": "#D9D9D9"
         },
         "type": "scatter",
         "x": [
          21.69272672506582
         ],
         "y": [
          166.00742688717372
         ]
        },
        {
         "marker": {
          "color": "rgba(55, 128, 191, 0.7999999999999998)",
          "line": {
           "width": 1.3
          },
          "opacity": 0.8,
          "size": 12,
          "symbol": "circle"
         },
         "mode": "markers",
         "name": "ESABINDIA.NS",
         "textfont": {
          "color": "#D9D9D9"
         },
         "type": "scatter",
         "x": [
          23.95887684974084
         ],
         "y": [
          175.19555152604698
         ]
        },
        {
         "marker": {
          "color": "rgba(50, 171, 96, 0.7999999999999998)",
          "line": {
           "width": 1.3
          },
          "opacity": 0.8,
          "size": 12,
          "symbol": "circle"
         },
         "mode": "markers",
         "name": "SUPREMEIND.NS",
         "textfont": {
          "color": "#D9D9D9"
         },
         "type": "scatter",
         "x": [
          16.838112898697215
         ],
         "y": [
          176.56761582078764
         ]
        },
        {
         "marker": {
          "color": "rgba(128, 0, 128, 0.7999999999999998)",
          "line": {
           "width": 1.3
          },
          "opacity": 0.8,
          "size": 12,
          "symbol": "circle"
         },
         "mode": "markers",
         "name": "GULPOLY.NS",
         "textfont": {
          "color": "#D9D9D9"
         },
         "type": "scatter",
         "x": [
          25.67804649216572
         ],
         "y": [
          179.86313847917395
         ]
        },
        {
         "marker": {
          "color": "rgba(219, 64, 82, 0.7999999999999998)",
          "line": {
           "width": 1.3
          },
          "opacity": 0.8,
          "size": 12,
          "symbol": "circle"
         },
         "mode": "markers",
         "name": "INTELLECT.NS",
         "textfont": {
          "color": "#D9D9D9"
         },
         "type": "scatter",
         "x": [
          28.88493726158779
         ],
         "y": [
          185.55691940487796
         ]
        },
        {
         "marker": {
          "color": "rgba(0, 128, 128, 0.7999999999999998)",
          "line": {
           "width": 1.3
          },
          "opacity": 0.8,
          "size": 12,
          "symbol": "circle"
         },
         "mode": "markers",
         "name": "PRAJIND.NS",
         "textfont": {
          "color": "#D9D9D9"
         },
         "type": "scatter",
         "x": [
          26.74506758141257
         ],
         "y": [
          187.04555456668896
         ]
        },
        {
         "marker": {
          "color": "rgba(255, 255, 51, 0.7999999999999998)",
          "line": {
           "width": 1.3
          },
          "opacity": 0.8,
          "size": 12,
          "symbol": "circle"
         },
         "mode": "markers",
         "name": "SANOFI.NS",
         "textfont": {
          "color": "#D9D9D9"
         },
         "type": "scatter",
         "x": [
          11.4712815466071
         ],
         "y": [
          192.4666055350362
         ]
        },
        {
         "marker": {
          "color": "rgba(128, 128, 0, 0.7999999999999998)",
          "line": {
           "width": 1.3
          },
          "opacity": 0.8,
          "size": 12,
          "symbol": "circle"
         },
         "mode": "markers",
         "name": "RPGLIFE.NS",
         "textfont": {
          "color": "#D9D9D9"
         },
         "type": "scatter",
         "x": [
          25.862638985010257
         ],
         "y": [
          200.92060522165025
         ]
        },
        {
         "marker": {
          "color": "rgba(128, 128, 0, 0.7)",
          "line": {
           "width": 1.3
          },
          "opacity": 0.8,
          "size": 12,
          "symbol": "circle"
         },
         "mode": "markers",
         "name": "FCL.NS",
         "textfont": {
          "color": "#D9D9D9"
         },
         "type": "scatter",
         "x": [
          30.12311811305232
         ],
         "y": [
          205.42925742518955
         ]
        },
        {
         "marker": {
          "color": "rgba(251, 128, 114, 0.7)",
          "line": {
           "width": 1.3
          },
          "opacity": 0.8,
          "size": 12,
          "symbol": "circle"
         },
         "mode": "markers",
         "name": "BEL.NS",
         "textfont": {
          "color": "#D9D9D9"
         },
         "type": "scatter",
         "x": [
          17.856867481237256
         ],
         "y": [
          213.85434029625452
         ]
        },
        {
         "marker": {
          "color": "rgba(128, 177, 211, 0.7)",
          "line": {
           "width": 1.3
          },
          "opacity": 0.8,
          "size": 12,
          "symbol": "circle"
         },
         "mode": "markers",
         "name": "AMRUTANJAN.NS",
         "textfont": {
          "color": "#D9D9D9"
         },
         "type": "scatter",
         "x": [
          18.321217853387832
         ],
         "y": [
          218.30991293199685
         ]
        },
        {
         "marker": {
          "color": "rgba(255, 153, 51, 0.7)",
          "line": {
           "width": 1.3
          },
          "opacity": 0.8,
          "size": 12,
          "symbol": "circle"
         },
         "mode": "markers",
         "name": "AVANTIFEED.NS",
         "textfont": {
          "color": "#D9D9D9"
         },
         "type": "scatter",
         "x": [
          20.58330698404847
         ],
         "y": [
          225.2723663837951
         ]
        },
        {
         "marker": {
          "color": "rgba(55, 128, 191, 0.7)",
          "line": {
           "width": 1.3
          },
          "opacity": 0.8,
          "size": 12,
          "symbol": "circle"
         },
         "mode": "markers",
         "name": "INGERRAND.NS",
         "textfont": {
          "color": "#D9D9D9"
         },
         "type": "scatter",
         "x": [
          13.377638559168153
         ],
         "y": [
          242.1412825255643
         ]
        },
        {
         "marker": {
          "color": "rgba(50, 171, 96, 0.7)",
          "line": {
           "width": 1.3
          },
          "opacity": 0.8,
          "size": 12,
          "symbol": "circle"
         },
         "mode": "markers",
         "name": "ADORWELD.NS",
         "textfont": {
          "color": "#D9D9D9"
         },
         "type": "scatter",
         "x": [
          19.29221126573079
         ],
         "y": [
          243.50698417114344
         ]
        },
        {
         "marker": {
          "color": "rgba(128, 0, 128, 0.7)",
          "line": {
           "width": 1.3
          },
          "opacity": 0.8,
          "size": 12,
          "symbol": "circle"
         },
         "mode": "markers",
         "name": "VINYLINDIA.NS",
         "textfont": {
          "color": "#D9D9D9"
         },
         "type": "scatter",
         "x": [
          20.225406182303995
         ],
         "y": [
          253.9045624995075
         ]
        },
        {
         "marker": {
          "color": "rgba(219, 64, 82, 0.7)",
          "line": {
           "width": 1.3
          },
          "opacity": 0.8,
          "size": 12,
          "symbol": "circle"
         },
         "mode": "markers",
         "name": "VSTIND.NS",
         "textfont": {
          "color": "#D9D9D9"
         },
         "type": "scatter",
         "x": [
          10.3593978209442
         ],
         "y": [
          262.81790977969297
         ]
        },
        {
         "marker": {
          "color": "rgba(0, 128, 128, 0.7)",
          "line": {
           "width": 1.3
          },
          "opacity": 0.8,
          "size": 12,
          "symbol": "circle"
         },
         "mode": "markers",
         "name": "KSB.NS",
         "textfont": {
          "color": "#D9D9D9"
         },
         "type": "scatter",
         "x": [
          12.303900613227636
         ],
         "y": [
          277.5379833907595
         ]
        },
        {
         "marker": {
          "color": "rgba(255, 255, 51, 0.7)",
          "line": {
           "width": 1.3
          },
          "opacity": 0.8,
          "size": 12,
          "symbol": "circle"
         },
         "mode": "markers",
         "name": "EXPLEOSOL.NS",
         "textfont": {
          "color": "#D9D9D9"
         },
         "type": "scatter",
         "x": [
          13.593467713019056
         ],
         "y": [
          290.2367659853191
         ]
        },
        {
         "marker": {
          "color": "rgba(255, 255, 51, 0.5999999999999999)",
          "line": {
           "width": 1.3
          },
          "opacity": 0.8,
          "size": 12,
          "symbol": "circle"
         },
         "mode": "markers",
         "name": "AJANTPHARM.NS",
         "textfont": {
          "color": "#D9D9D9"
         },
         "type": "scatter",
         "x": [
          11.08475060219874
         ],
         "y": [
          296.84767052678893
         ]
        },
        {
         "marker": {
          "color": "rgba(128, 128, 0, 0.5999999999999999)",
          "line": {
           "width": 1.3
          },
          "opacity": 0.8,
          "size": 12,
          "symbol": "circle"
         },
         "mode": "markers",
         "name": "RSYSTEMS.NS",
         "textfont": {
          "color": "#D9D9D9"
         },
         "type": "scatter",
         "x": [
          15.788914791256314
         ],
         "y": [
          302.43470683568955
         ]
        },
        {
         "marker": {
          "color": "rgba(251, 128, 114, 0.5999999999999999)",
          "line": {
           "width": 1.3
          },
          "opacity": 0.8,
          "size": 12,
          "symbol": "circle"
         },
         "mode": "markers",
         "name": "SHARDACROP.NS",
         "textfont": {
          "color": "#D9D9D9"
         },
         "type": "scatter",
         "x": [
          14.139320551812814
         ],
         "y": [
          314.40960936866765
         ]
        }
       ],
       "layout": {
        "legend": {
         "bgcolor": "#151516",
         "font": {
          "color": "#D9D9D9"
         }
        },
        "paper_bgcolor": "#151516",
        "plot_bgcolor": "#151516",
        "template": {
         "data": {
          "bar": [
           {
            "error_x": {
             "color": "#2a3f5f"
            },
            "error_y": {
             "color": "#2a3f5f"
            },
            "marker": {
             "line": {
              "color": "#E5ECF6",
              "width": 0.5
             },
             "pattern": {
              "fillmode": "overlay",
              "size": 10,
              "solidity": 0.2
             }
            },
            "type": "bar"
           }
          ],
          "barpolar": [
           {
            "marker": {
             "line": {
              "color": "#E5ECF6",
              "width": 0.5
             },
             "pattern": {
              "fillmode": "overlay",
              "size": 10,
              "solidity": 0.2
             }
            },
            "type": "barpolar"
           }
          ],
          "carpet": [
           {
            "aaxis": {
             "endlinecolor": "#2a3f5f",
             "gridcolor": "white",
             "linecolor": "white",
             "minorgridcolor": "white",
             "startlinecolor": "#2a3f5f"
            },
            "baxis": {
             "endlinecolor": "#2a3f5f",
             "gridcolor": "white",
             "linecolor": "white",
             "minorgridcolor": "white",
             "startlinecolor": "#2a3f5f"
            },
            "type": "carpet"
           }
          ],
          "choropleth": [
           {
            "colorbar": {
             "outlinewidth": 0,
             "ticks": ""
            },
            "type": "choropleth"
           }
          ],
          "contour": [
           {
            "colorbar": {
             "outlinewidth": 0,
             "ticks": ""
            },
            "colorscale": [
             [
              0,
              "#0d0887"
             ],
             [
              0.1111111111111111,
              "#46039f"
             ],
             [
              0.2222222222222222,
              "#7201a8"
             ],
             [
              0.3333333333333333,
              "#9c179e"
             ],
             [
              0.4444444444444444,
              "#bd3786"
             ],
             [
              0.5555555555555556,
              "#d8576b"
             ],
             [
              0.6666666666666666,
              "#ed7953"
             ],
             [
              0.7777777777777778,
              "#fb9f3a"
             ],
             [
              0.8888888888888888,
              "#fdca26"
             ],
             [
              1,
              "#f0f921"
             ]
            ],
            "type": "contour"
           }
          ],
          "contourcarpet": [
           {
            "colorbar": {
             "outlinewidth": 0,
             "ticks": ""
            },
            "type": "contourcarpet"
           }
          ],
          "heatmap": [
           {
            "colorbar": {
             "outlinewidth": 0,
             "ticks": ""
            },
            "colorscale": [
             [
              0,
              "#0d0887"
             ],
             [
              0.1111111111111111,
              "#46039f"
             ],
             [
              0.2222222222222222,
              "#7201a8"
             ],
             [
              0.3333333333333333,
              "#9c179e"
             ],
             [
              0.4444444444444444,
              "#bd3786"
             ],
             [
              0.5555555555555556,
              "#d8576b"
             ],
             [
              0.6666666666666666,
              "#ed7953"
             ],
             [
              0.7777777777777778,
              "#fb9f3a"
             ],
             [
              0.8888888888888888,
              "#fdca26"
             ],
             [
              1,
              "#f0f921"
             ]
            ],
            "type": "heatmap"
           }
          ],
          "heatmapgl": [
           {
            "colorbar": {
             "outlinewidth": 0,
             "ticks": ""
            },
            "colorscale": [
             [
              0,
              "#0d0887"
             ],
             [
              0.1111111111111111,
              "#46039f"
             ],
             [
              0.2222222222222222,
              "#7201a8"
             ],
             [
              0.3333333333333333,
              "#9c179e"
             ],
             [
              0.4444444444444444,
              "#bd3786"
             ],
             [
              0.5555555555555556,
              "#d8576b"
             ],
             [
              0.6666666666666666,
              "#ed7953"
             ],
             [
              0.7777777777777778,
              "#fb9f3a"
             ],
             [
              0.8888888888888888,
              "#fdca26"
             ],
             [
              1,
              "#f0f921"
             ]
            ],
            "type": "heatmapgl"
           }
          ],
          "histogram": [
           {
            "marker": {
             "pattern": {
              "fillmode": "overlay",
              "size": 10,
              "solidity": 0.2
             }
            },
            "type": "histogram"
           }
          ],
          "histogram2d": [
           {
            "colorbar": {
             "outlinewidth": 0,
             "ticks": ""
            },
            "colorscale": [
             [
              0,
              "#0d0887"
             ],
             [
              0.1111111111111111,
              "#46039f"
             ],
             [
              0.2222222222222222,
              "#7201a8"
             ],
             [
              0.3333333333333333,
              "#9c179e"
             ],
             [
              0.4444444444444444,
              "#bd3786"
             ],
             [
              0.5555555555555556,
              "#d8576b"
             ],
             [
              0.6666666666666666,
              "#ed7953"
             ],
             [
              0.7777777777777778,
              "#fb9f3a"
             ],
             [
              0.8888888888888888,
              "#fdca26"
             ],
             [
              1,
              "#f0f921"
             ]
            ],
            "type": "histogram2d"
           }
          ],
          "histogram2dcontour": [
           {
            "colorbar": {
             "outlinewidth": 0,
             "ticks": ""
            },
            "colorscale": [
             [
              0,
              "#0d0887"
             ],
             [
              0.1111111111111111,
              "#46039f"
             ],
             [
              0.2222222222222222,
              "#7201a8"
             ],
             [
              0.3333333333333333,
              "#9c179e"
             ],
             [
              0.4444444444444444,
              "#bd3786"
             ],
             [
              0.5555555555555556,
              "#d8576b"
             ],
             [
              0.6666666666666666,
              "#ed7953"
             ],
             [
              0.7777777777777778,
              "#fb9f3a"
             ],
             [
              0.8888888888888888,
              "#fdca26"
             ],
             [
              1,
              "#f0f921"
             ]
            ],
            "type": "histogram2dcontour"
           }
          ],
          "mesh3d": [
           {
            "colorbar": {
             "outlinewidth": 0,
             "ticks": ""
            },
            "type": "mesh3d"
           }
          ],
          "parcoords": [
           {
            "line": {
             "colorbar": {
              "outlinewidth": 0,
              "ticks": ""
             }
            },
            "type": "parcoords"
           }
          ],
          "pie": [
           {
            "automargin": true,
            "type": "pie"
           }
          ],
          "scatter": [
           {
            "fillpattern": {
             "fillmode": "overlay",
             "size": 10,
             "solidity": 0.2
            },
            "type": "scatter"
           }
          ],
          "scatter3d": [
           {
            "line": {
             "colorbar": {
              "outlinewidth": 0,
              "ticks": ""
             }
            },
            "marker": {
             "colorbar": {
              "outlinewidth": 0,
              "ticks": ""
             }
            },
            "type": "scatter3d"
           }
          ],
          "scattercarpet": [
           {
            "marker": {
             "colorbar": {
              "outlinewidth": 0,
              "ticks": ""
             }
            },
            "type": "scattercarpet"
           }
          ],
          "scattergeo": [
           {
            "marker": {
             "colorbar": {
              "outlinewidth": 0,
              "ticks": ""
             }
            },
            "type": "scattergeo"
           }
          ],
          "scattergl": [
           {
            "marker": {
             "colorbar": {
              "outlinewidth": 0,
              "ticks": ""
             }
            },
            "type": "scattergl"
           }
          ],
          "scattermapbox": [
           {
            "marker": {
             "colorbar": {
              "outlinewidth": 0,
              "ticks": ""
             }
            },
            "type": "scattermapbox"
           }
          ],
          "scatterpolar": [
           {
            "marker": {
             "colorbar": {
              "outlinewidth": 0,
              "ticks": ""
             }
            },
            "type": "scatterpolar"
           }
          ],
          "scatterpolargl": [
           {
            "marker": {
             "colorbar": {
              "outlinewidth": 0,
              "ticks": ""
             }
            },
            "type": "scatterpolargl"
           }
          ],
          "scatterternary": [
           {
            "marker": {
             "colorbar": {
              "outlinewidth": 0,
              "ticks": ""
             }
            },
            "type": "scatterternary"
           }
          ],
          "surface": [
           {
            "colorbar": {
             "outlinewidth": 0,
             "ticks": ""
            },
            "colorscale": [
             [
              0,
              "#0d0887"
             ],
             [
              0.1111111111111111,
              "#46039f"
             ],
             [
              0.2222222222222222,
              "#7201a8"
             ],
             [
              0.3333333333333333,
              "#9c179e"
             ],
             [
              0.4444444444444444,
              "#bd3786"
             ],
             [
              0.5555555555555556,
              "#d8576b"
             ],
             [
              0.6666666666666666,
              "#ed7953"
             ],
             [
              0.7777777777777778,
              "#fb9f3a"
             ],
             [
              0.8888888888888888,
              "#fdca26"
             ],
             [
              1,
              "#f0f921"
             ]
            ],
            "type": "surface"
           }
          ],
          "table": [
           {
            "cells": {
             "fill": {
              "color": "#EBF0F8"
             },
             "line": {
              "color": "white"
             }
            },
            "header": {
             "fill": {
              "color": "#C8D4E3"
             },
             "line": {
              "color": "white"
             }
            },
            "type": "table"
           }
          ]
         },
         "layout": {
          "annotationdefaults": {
           "arrowcolor": "#2a3f5f",
           "arrowhead": 0,
           "arrowwidth": 1
          },
          "autotypenumbers": "strict",
          "coloraxis": {
           "colorbar": {
            "outlinewidth": 0,
            "ticks": ""
           }
          },
          "colorscale": {
           "diverging": [
            [
             0,
             "#8e0152"
            ],
            [
             0.1,
             "#c51b7d"
            ],
            [
             0.2,
             "#de77ae"
            ],
            [
             0.3,
             "#f1b6da"
            ],
            [
             0.4,
             "#fde0ef"
            ],
            [
             0.5,
             "#f7f7f7"
            ],
            [
             0.6,
             "#e6f5d0"
            ],
            [
             0.7,
             "#b8e186"
            ],
            [
             0.8,
             "#7fbc41"
            ],
            [
             0.9,
             "#4d9221"
            ],
            [
             1,
             "#276419"
            ]
           ],
           "sequential": [
            [
             0,
             "#0d0887"
            ],
            [
             0.1111111111111111,
             "#46039f"
            ],
            [
             0.2222222222222222,
             "#7201a8"
            ],
            [
             0.3333333333333333,
             "#9c179e"
            ],
            [
             0.4444444444444444,
             "#bd3786"
            ],
            [
             0.5555555555555556,
             "#d8576b"
            ],
            [
             0.6666666666666666,
             "#ed7953"
            ],
            [
             0.7777777777777778,
             "#fb9f3a"
            ],
            [
             0.8888888888888888,
             "#fdca26"
            ],
            [
             1,
             "#f0f921"
            ]
           ],
           "sequentialminus": [
            [
             0,
             "#0d0887"
            ],
            [
             0.1111111111111111,
             "#46039f"
            ],
            [
             0.2222222222222222,
             "#7201a8"
            ],
            [
             0.3333333333333333,
             "#9c179e"
            ],
            [
             0.4444444444444444,
             "#bd3786"
            ],
            [
             0.5555555555555556,
             "#d8576b"
            ],
            [
             0.6666666666666666,
             "#ed7953"
            ],
            [
             0.7777777777777778,
             "#fb9f3a"
            ],
            [
             0.8888888888888888,
             "#fdca26"
            ],
            [
             1,
             "#f0f921"
            ]
           ]
          },
          "colorway": [
           "#636efa",
           "#EF553B",
           "#00cc96",
           "#ab63fa",
           "#FFA15A",
           "#19d3f3",
           "#FF6692",
           "#B6E880",
           "#FF97FF",
           "#FECB52"
          ],
          "font": {
           "color": "#2a3f5f"
          },
          "geo": {
           "bgcolor": "white",
           "lakecolor": "white",
           "landcolor": "#E5ECF6",
           "showlakes": true,
           "showland": true,
           "subunitcolor": "white"
          },
          "hoverlabel": {
           "align": "left"
          },
          "hovermode": "closest",
          "mapbox": {
           "style": "light"
          },
          "paper_bgcolor": "white",
          "plot_bgcolor": "#E5ECF6",
          "polar": {
           "angularaxis": {
            "gridcolor": "white",
            "linecolor": "white",
            "ticks": ""
           },
           "bgcolor": "#E5ECF6",
           "radialaxis": {
            "gridcolor": "white",
            "linecolor": "white",
            "ticks": ""
           }
          },
          "scene": {
           "xaxis": {
            "backgroundcolor": "#E5ECF6",
            "gridcolor": "white",
            "gridwidth": 2,
            "linecolor": "white",
            "showbackground": true,
            "ticks": "",
            "zerolinecolor": "white"
           },
           "yaxis": {
            "backgroundcolor": "#E5ECF6",
            "gridcolor": "white",
            "gridwidth": 2,
            "linecolor": "white",
            "showbackground": true,
            "ticks": "",
            "zerolinecolor": "white"
           },
           "zaxis": {
            "backgroundcolor": "#E5ECF6",
            "gridcolor": "white",
            "gridwidth": 2,
            "linecolor": "white",
            "showbackground": true,
            "ticks": "",
            "zerolinecolor": "white"
           }
          },
          "shapedefaults": {
           "line": {
            "color": "#2a3f5f"
           }
          },
          "ternary": {
           "aaxis": {
            "gridcolor": "white",
            "linecolor": "white",
            "ticks": ""
           },
           "baxis": {
            "gridcolor": "white",
            "linecolor": "white",
            "ticks": ""
           },
           "bgcolor": "#E5ECF6",
           "caxis": {
            "gridcolor": "white",
            "linecolor": "white",
            "ticks": ""
           }
          },
          "title": {
           "x": 0.05
          },
          "xaxis": {
           "automargin": true,
           "gridcolor": "white",
           "linecolor": "white",
           "ticks": "",
           "title": {
            "standoff": 15
           },
           "zerolinecolor": "white",
           "zerolinewidth": 2
          },
          "yaxis": {
           "automargin": true,
           "gridcolor": "white",
           "linecolor": "white",
           "ticks": "",
           "title": {
            "standoff": 15
           },
           "zerolinecolor": "white",
           "zerolinewidth": 2
          }
         }
        },
        "title": {
         "font": {
          "color": "#D9D9D9"
         },
         "text": "========Return-------CV========================"
        },
        "xaxis": {
         "gridcolor": "#434343",
         "showgrid": true,
         "tickfont": {
          "color": "#C2C2C2"
         },
         "title": {
          "font": {
           "color": "#D9D9D9"
          },
          "text": "Return"
         },
         "zerolinecolor": "#666570"
        },
        "yaxis": {
         "gridcolor": "#434343",
         "showgrid": true,
         "tickfont": {
          "color": "#C2C2C2"
         },
         "title": {
          "font": {
           "color": "#D9D9D9"
          },
          "text": "CV"
         },
         "zerolinecolor": "#666570"
        }
       }
      },
      "text/html": [
       "<div>                            <div id=\"2818cb0c-9d07-4e07-938b-a3faaae8a46a\" class=\"plotly-graph-div\" style=\"height:525px; width:100%;\"></div>            <script type=\"text/javascript\">                require([\"plotly\"], function(Plotly) {                    window.PLOTLYENV=window.PLOTLYENV || {};\n",
       "                    window.PLOTLYENV.BASE_URL='https://plot.ly';                                    if (document.getElementById(\"2818cb0c-9d07-4e07-938b-a3faaae8a46a\")) {                    Plotly.newPlot(                        \"2818cb0c-9d07-4e07-938b-a3faaae8a46a\",                        [{\"marker\":{\"color\":\"rgba(255, 153, 51, 1.0)\",\"line\":{\"width\":1.3},\"opacity\":0.8,\"size\":12,\"symbol\":\"circle\"},\"mode\":\"markers\",\"name\":\"POLYCAB.NS\",\"textfont\":{\"color\":\"#D9D9D9\"},\"x\":[39.15699522779303],\"y\":[98.9504399494145],\"type\":\"scatter\"},{\"marker\":{\"color\":\"rgba(55, 128, 191, 1.0)\",\"line\":{\"width\":1.3},\"opacity\":0.8,\"size\":12,\"symbol\":\"circle\"},\"mode\":\"markers\",\"name\":\"TANLA.NS\",\"textfont\":{\"color\":\"#D9D9D9\"},\"x\":[55.57964031833973],\"y\":[99.90136584915288],\"type\":\"scatter\"},{\"marker\":{\"color\":\"rgba(50, 171, 96, 1.0)\",\"line\":{\"width\":1.3},\"opacity\":0.8,\"size\":12,\"symbol\":\"circle\"},\"mode\":\"markers\",\"name\":\"ALKYLAMINE.NS\",\"textfont\":{\"color\":\"#D9D9D9\"},\"x\":[40.72438551747389],\"y\":[105.88791203766776],\"type\":\"scatter\"},{\"marker\":{\"color\":\"rgba(128, 0, 128, 1.0)\",\"line\":{\"width\":1.3},\"opacity\":0.8,\"size\":12,\"symbol\":\"circle\"},\"mode\":\"markers\",\"name\":\"JBCHEPHARM.NS\",\"textfont\":{\"color\":\"#D9D9D9\"},\"x\":[30.107188785751248],\"y\":[115.56536870138804],\"type\":\"scatter\"},{\"marker\":{\"color\":\"rgba(219, 64, 82, 1.0)\",\"line\":{\"width\":1.3},\"opacity\":0.8,\"size\":12,\"symbol\":\"circle\"},\"mode\":\"markers\",\"name\":\"TIPSINDLTD.NS\",\"textfont\":{\"color\":\"#D9D9D9\"},\"x\":[47.77455874807629],\"y\":[116.8076806822719],\"type\":\"scatter\"},{\"marker\":{\"color\":\"rgba(0, 128, 128, 1.0)\",\"line\":{\"width\":1.3},\"opacity\":0.8,\"size\":12,\"symbol\":\"circle\"},\"mode\":\"markers\",\"name\":\"SUMICHEM.NS\",\"textfont\":{\"color\":\"#D9D9D9\"},\"x\":[34.828679900053686],\"y\":[118.21968839069427],\"type\":\"scatter\"},{\"marker\":{\"color\":\"rgba(255, 255, 51, 1.0)\",\"line\":{\"width\":1.3},\"opacity\":0.8,\"size\":12,\"symbol\":\"circle\"},\"mode\":\"markers\",\"name\":\"VINATIORGA.NS\",\"textfont\":{\"color\":\"#D9D9D9\"},\"x\":[29.876899204075137],\"y\":[120.67232303820946],\"type\":\"scatter\"},{\"marker\":{\"color\":\"rgba(128, 128, 0, 1.0)\",\"line\":{\"width\":1.3},\"opacity\":0.8,\"size\":12,\"symbol\":\"circle\"},\"mode\":\"markers\",\"name\":\"GRINDWELL.NS\",\"textfont\":{\"color\":\"#D9D9D9\"},\"x\":[24.82567902717624],\"y\":[124.43251408634744],\"type\":\"scatter\"},{\"marker\":{\"color\":\"rgba(251, 128, 114, 1.0)\",\"line\":{\"width\":1.3},\"opacity\":0.8,\"size\":12,\"symbol\":\"circle\"},\"mode\":\"markers\",\"name\":\"CDSL.NS\",\"textfont\":{\"color\":\"#D9D9D9\"},\"x\":[30.59526199444621],\"y\":[127.0730107897718],\"type\":\"scatter\"},{\"marker\":{\"color\":\"rgba(128, 177, 211, 1.0)\",\"line\":{\"width\":1.3},\"opacity\":0.8,\"size\":12,\"symbol\":\"circle\"},\"mode\":\"markers\",\"name\":\"HINDUNILVR.NS\",\"textfont\":{\"color\":\"#D9D9D9\"},\"x\":[18.52558285130615],\"y\":[127.6027532793355],\"type\":\"scatter\"},{\"marker\":{\"color\":\"rgba(128, 177, 211, 0.8999999999999999)\",\"line\":{\"width\":1.3},\"opacity\":0.8,\"size\":12,\"symbol\":\"circle\"},\"mode\":\"markers\",\"name\":\"COFORGE.NS\",\"textfont\":{\"color\":\"#D9D9D9\"},\"x\":[32.096868927207],\"y\":[135.1063761133787],\"type\":\"scatter\"},{\"marker\":{\"color\":\"rgba(255, 153, 51, 0.8999999999999999)\",\"line\":{\"width\":1.3},\"opacity\":0.8,\"size\":12,\"symbol\":\"circle\"},\"mode\":\"markers\",\"name\":\"LINDEINDIA.NS\",\"textfont\":{\"color\":\"#D9D9D9\"},\"x\":[29.20871858332729],\"y\":[138.3516478107107],\"type\":\"scatter\"},{\"marker\":{\"color\":\"rgba(55, 128, 191, 0.8999999999999999)\",\"line\":{\"width\":1.3},\"opacity\":0.8,\"size\":12,\"symbol\":\"circle\"},\"mode\":\"markers\",\"name\":\"ADFFOODS.NS\",\"textfont\":{\"color\":\"#D9D9D9\"},\"x\":[31.74961134291572],\"y\":[145.43019757061322],\"type\":\"scatter\"},{\"marker\":{\"color\":\"rgba(50, 171, 96, 0.8999999999999999)\",\"line\":{\"width\":1.3},\"opacity\":0.8,\"size\":12,\"symbol\":\"circle\"},\"mode\":\"markers\",\"name\":\"TCIEXP.NS\",\"textfont\":{\"color\":\"#D9D9D9\"},\"x\":[28.769018269544144],\"y\":[146.21378283866989],\"type\":\"scatter\"},{\"marker\":{\"color\":\"rgba(128, 0, 128, 0.8999999999999999)\",\"line\":{\"width\":1.3},\"opacity\":0.8,\"size\":12,\"symbol\":\"circle\"},\"mode\":\"markers\",\"name\":\"PRIMESECU.NS\",\"textfont\":{\"color\":\"#D9D9D9\"},\"x\":[42.66948007268733],\"y\":[149.57842044827603],\"type\":\"scatter\"},{\"marker\":{\"color\":\"rgba(219, 64, 82, 0.8999999999999999)\",\"line\":{\"width\":1.3},\"opacity\":0.8,\"size\":12,\"symbol\":\"circle\"},\"mode\":\"markers\",\"name\":\"SCHAEFFLER.NS\",\"textfont\":{\"color\":\"#D9D9D9\"},\"x\":[17.47383206536319],\"y\":[149.97277660175814],\"type\":\"scatter\"},{\"marker\":{\"color\":\"rgba(0, 128, 128, 0.8999999999999999)\",\"line\":{\"width\":1.3},\"opacity\":0.8,\"size\":12,\"symbol\":\"circle\"},\"mode\":\"markers\",\"name\":\"IEX.NS\",\"textfont\":{\"color\":\"#D9D9D9\"},\"x\":[24.815186585486416],\"y\":[150.40089285749852],\"type\":\"scatter\"},{\"marker\":{\"color\":\"rgba(255, 255, 51, 0.8999999999999999)\",\"line\":{\"width\":1.3},\"opacity\":0.8,\"size\":12,\"symbol\":\"circle\"},\"mode\":\"markers\",\"name\":\"IGL.NS\",\"textfont\":{\"color\":\"#D9D9D9\"},\"x\":[20.292275611949623],\"y\":[153.88501510305363],\"type\":\"scatter\"},{\"marker\":{\"color\":\"rgba(128, 128, 0, 0.8999999999999999)\",\"line\":{\"width\":1.3},\"opacity\":0.8,\"size\":12,\"symbol\":\"circle\"},\"mode\":\"markers\",\"name\":\"PGHH.NS\",\"textfont\":{\"color\":\"#D9D9D9\"},\"x\":[13.891455139329295],\"y\":[153.95142221956786],\"type\":\"scatter\"},{\"marker\":{\"color\":\"rgba(251, 128, 114, 0.8999999999999999)\",\"line\":{\"width\":1.3},\"opacity\":0.8,\"size\":12,\"symbol\":\"circle\"},\"mode\":\"markers\",\"name\":\"DIVISLAB.NS\",\"textfont\":{\"color\":\"#D9D9D9\"},\"x\":[20.712661811848],\"y\":[161.92810531408088],\"type\":\"scatter\"},{\"marker\":{\"color\":\"rgba(251, 128, 114, 0.7999999999999998)\",\"line\":{\"width\":1.3},\"opacity\":0.8,\"size\":12,\"symbol\":\"circle\"},\"mode\":\"markers\",\"name\":\"SKFINDIA.NS\",\"textfont\":{\"color\":\"#D9D9D9\"},\"x\":[16.468967368854763],\"y\":[164.88472366033483],\"type\":\"scatter\"},{\"marker\":{\"color\":\"rgba(128, 177, 211, 0.7999999999999998)\",\"line\":{\"width\":1.3},\"opacity\":0.8,\"size\":12,\"symbol\":\"circle\"},\"mode\":\"markers\",\"name\":\"CAPLIPOINT.NS\",\"textfont\":{\"color\":\"#D9D9D9\"},\"x\":[31.32893565131886],\"y\":[165.77867060266388],\"type\":\"scatter\"},{\"marker\":{\"color\":\"rgba(255, 153, 51, 0.7999999999999998)\",\"line\":{\"width\":1.3},\"opacity\":0.8,\"size\":12,\"symbol\":\"circle\"},\"mode\":\"markers\",\"name\":\"TIDEWATER.NS\",\"textfont\":{\"color\":\"#D9D9D9\"},\"x\":[21.69272672506582],\"y\":[166.00742688717372],\"type\":\"scatter\"},{\"marker\":{\"color\":\"rgba(55, 128, 191, 0.7999999999999998)\",\"line\":{\"width\":1.3},\"opacity\":0.8,\"size\":12,\"symbol\":\"circle\"},\"mode\":\"markers\",\"name\":\"ESABINDIA.NS\",\"textfont\":{\"color\":\"#D9D9D9\"},\"x\":[23.95887684974084],\"y\":[175.19555152604698],\"type\":\"scatter\"},{\"marker\":{\"color\":\"rgba(50, 171, 96, 0.7999999999999998)\",\"line\":{\"width\":1.3},\"opacity\":0.8,\"size\":12,\"symbol\":\"circle\"},\"mode\":\"markers\",\"name\":\"SUPREMEIND.NS\",\"textfont\":{\"color\":\"#D9D9D9\"},\"x\":[16.838112898697215],\"y\":[176.56761582078764],\"type\":\"scatter\"},{\"marker\":{\"color\":\"rgba(128, 0, 128, 0.7999999999999998)\",\"line\":{\"width\":1.3},\"opacity\":0.8,\"size\":12,\"symbol\":\"circle\"},\"mode\":\"markers\",\"name\":\"GULPOLY.NS\",\"textfont\":{\"color\":\"#D9D9D9\"},\"x\":[25.67804649216572],\"y\":[179.86313847917395],\"type\":\"scatter\"},{\"marker\":{\"color\":\"rgba(219, 64, 82, 0.7999999999999998)\",\"line\":{\"width\":1.3},\"opacity\":0.8,\"size\":12,\"symbol\":\"circle\"},\"mode\":\"markers\",\"name\":\"INTELLECT.NS\",\"textfont\":{\"color\":\"#D9D9D9\"},\"x\":[28.88493726158779],\"y\":[185.55691940487796],\"type\":\"scatter\"},{\"marker\":{\"color\":\"rgba(0, 128, 128, 0.7999999999999998)\",\"line\":{\"width\":1.3},\"opacity\":0.8,\"size\":12,\"symbol\":\"circle\"},\"mode\":\"markers\",\"name\":\"PRAJIND.NS\",\"textfont\":{\"color\":\"#D9D9D9\"},\"x\":[26.74506758141257],\"y\":[187.04555456668896],\"type\":\"scatter\"},{\"marker\":{\"color\":\"rgba(255, 255, 51, 0.7999999999999998)\",\"line\":{\"width\":1.3},\"opacity\":0.8,\"size\":12,\"symbol\":\"circle\"},\"mode\":\"markers\",\"name\":\"SANOFI.NS\",\"textfont\":{\"color\":\"#D9D9D9\"},\"x\":[11.4712815466071],\"y\":[192.4666055350362],\"type\":\"scatter\"},{\"marker\":{\"color\":\"rgba(128, 128, 0, 0.7999999999999998)\",\"line\":{\"width\":1.3},\"opacity\":0.8,\"size\":12,\"symbol\":\"circle\"},\"mode\":\"markers\",\"name\":\"RPGLIFE.NS\",\"textfont\":{\"color\":\"#D9D9D9\"},\"x\":[25.862638985010257],\"y\":[200.92060522165025],\"type\":\"scatter\"},{\"marker\":{\"color\":\"rgba(128, 128, 0, 0.7)\",\"line\":{\"width\":1.3},\"opacity\":0.8,\"size\":12,\"symbol\":\"circle\"},\"mode\":\"markers\",\"name\":\"FCL.NS\",\"textfont\":{\"color\":\"#D9D9D9\"},\"x\":[30.12311811305232],\"y\":[205.42925742518955],\"type\":\"scatter\"},{\"marker\":{\"color\":\"rgba(251, 128, 114, 0.7)\",\"line\":{\"width\":1.3},\"opacity\":0.8,\"size\":12,\"symbol\":\"circle\"},\"mode\":\"markers\",\"name\":\"BEL.NS\",\"textfont\":{\"color\":\"#D9D9D9\"},\"x\":[17.856867481237256],\"y\":[213.85434029625452],\"type\":\"scatter\"},{\"marker\":{\"color\":\"rgba(128, 177, 211, 0.7)\",\"line\":{\"width\":1.3},\"opacity\":0.8,\"size\":12,\"symbol\":\"circle\"},\"mode\":\"markers\",\"name\":\"AMRUTANJAN.NS\",\"textfont\":{\"color\":\"#D9D9D9\"},\"x\":[18.321217853387832],\"y\":[218.30991293199685],\"type\":\"scatter\"},{\"marker\":{\"color\":\"rgba(255, 153, 51, 0.7)\",\"line\":{\"width\":1.3},\"opacity\":0.8,\"size\":12,\"symbol\":\"circle\"},\"mode\":\"markers\",\"name\":\"AVANTIFEED.NS\",\"textfont\":{\"color\":\"#D9D9D9\"},\"x\":[20.58330698404847],\"y\":[225.2723663837951],\"type\":\"scatter\"},{\"marker\":{\"color\":\"rgba(55, 128, 191, 0.7)\",\"line\":{\"width\":1.3},\"opacity\":0.8,\"size\":12,\"symbol\":\"circle\"},\"mode\":\"markers\",\"name\":\"INGERRAND.NS\",\"textfont\":{\"color\":\"#D9D9D9\"},\"x\":[13.377638559168153],\"y\":[242.1412825255643],\"type\":\"scatter\"},{\"marker\":{\"color\":\"rgba(50, 171, 96, 0.7)\",\"line\":{\"width\":1.3},\"opacity\":0.8,\"size\":12,\"symbol\":\"circle\"},\"mode\":\"markers\",\"name\":\"ADORWELD.NS\",\"textfont\":{\"color\":\"#D9D9D9\"},\"x\":[19.29221126573079],\"y\":[243.50698417114344],\"type\":\"scatter\"},{\"marker\":{\"color\":\"rgba(128, 0, 128, 0.7)\",\"line\":{\"width\":1.3},\"opacity\":0.8,\"size\":12,\"symbol\":\"circle\"},\"mode\":\"markers\",\"name\":\"VINYLINDIA.NS\",\"textfont\":{\"color\":\"#D9D9D9\"},\"x\":[20.225406182303995],\"y\":[253.9045624995075],\"type\":\"scatter\"},{\"marker\":{\"color\":\"rgba(219, 64, 82, 0.7)\",\"line\":{\"width\":1.3},\"opacity\":0.8,\"size\":12,\"symbol\":\"circle\"},\"mode\":\"markers\",\"name\":\"VSTIND.NS\",\"textfont\":{\"color\":\"#D9D9D9\"},\"x\":[10.3593978209442],\"y\":[262.81790977969297],\"type\":\"scatter\"},{\"marker\":{\"color\":\"rgba(0, 128, 128, 0.7)\",\"line\":{\"width\":1.3},\"opacity\":0.8,\"size\":12,\"symbol\":\"circle\"},\"mode\":\"markers\",\"name\":\"KSB.NS\",\"textfont\":{\"color\":\"#D9D9D9\"},\"x\":[12.303900613227636],\"y\":[277.5379833907595],\"type\":\"scatter\"},{\"marker\":{\"color\":\"rgba(255, 255, 51, 0.7)\",\"line\":{\"width\":1.3},\"opacity\":0.8,\"size\":12,\"symbol\":\"circle\"},\"mode\":\"markers\",\"name\":\"EXPLEOSOL.NS\",\"textfont\":{\"color\":\"#D9D9D9\"},\"x\":[13.593467713019056],\"y\":[290.2367659853191],\"type\":\"scatter\"},{\"marker\":{\"color\":\"rgba(255, 255, 51, 0.5999999999999999)\",\"line\":{\"width\":1.3},\"opacity\":0.8,\"size\":12,\"symbol\":\"circle\"},\"mode\":\"markers\",\"name\":\"AJANTPHARM.NS\",\"textfont\":{\"color\":\"#D9D9D9\"},\"x\":[11.08475060219874],\"y\":[296.84767052678893],\"type\":\"scatter\"},{\"marker\":{\"color\":\"rgba(128, 128, 0, 0.5999999999999999)\",\"line\":{\"width\":1.3},\"opacity\":0.8,\"size\":12,\"symbol\":\"circle\"},\"mode\":\"markers\",\"name\":\"RSYSTEMS.NS\",\"textfont\":{\"color\":\"#D9D9D9\"},\"x\":[15.788914791256314],\"y\":[302.43470683568955],\"type\":\"scatter\"},{\"marker\":{\"color\":\"rgba(251, 128, 114, 0.5999999999999999)\",\"line\":{\"width\":1.3},\"opacity\":0.8,\"size\":12,\"symbol\":\"circle\"},\"mode\":\"markers\",\"name\":\"SHARDACROP.NS\",\"textfont\":{\"color\":\"#D9D9D9\"},\"x\":[14.139320551812814],\"y\":[314.40960936866765],\"type\":\"scatter\"}],                        {\"legend\":{\"bgcolor\":\"#151516\",\"font\":{\"color\":\"#D9D9D9\"}},\"paper_bgcolor\":\"#151516\",\"plot_bgcolor\":\"#151516\",\"template\":{\"data\":{\"barpolar\":[{\"marker\":{\"line\":{\"color\":\"#E5ECF6\",\"width\":0.5},\"pattern\":{\"fillmode\":\"overlay\",\"size\":10,\"solidity\":0.2}},\"type\":\"barpolar\"}],\"bar\":[{\"error_x\":{\"color\":\"#2a3f5f\"},\"error_y\":{\"color\":\"#2a3f5f\"},\"marker\":{\"line\":{\"color\":\"#E5ECF6\",\"width\":0.5},\"pattern\":{\"fillmode\":\"overlay\",\"size\":10,\"solidity\":0.2}},\"type\":\"bar\"}],\"carpet\":[{\"aaxis\":{\"endlinecolor\":\"#2a3f5f\",\"gridcolor\":\"white\",\"linecolor\":\"white\",\"minorgridcolor\":\"white\",\"startlinecolor\":\"#2a3f5f\"},\"baxis\":{\"endlinecolor\":\"#2a3f5f\",\"gridcolor\":\"white\",\"linecolor\":\"white\",\"minorgridcolor\":\"white\",\"startlinecolor\":\"#2a3f5f\"},\"type\":\"carpet\"}],\"choropleth\":[{\"colorbar\":{\"outlinewidth\":0,\"ticks\":\"\"},\"type\":\"choropleth\"}],\"contourcarpet\":[{\"colorbar\":{\"outlinewidth\":0,\"ticks\":\"\"},\"type\":\"contourcarpet\"}],\"contour\":[{\"colorbar\":{\"outlinewidth\":0,\"ticks\":\"\"},\"colorscale\":[[0.0,\"#0d0887\"],[0.1111111111111111,\"#46039f\"],[0.2222222222222222,\"#7201a8\"],[0.3333333333333333,\"#9c179e\"],[0.4444444444444444,\"#bd3786\"],[0.5555555555555556,\"#d8576b\"],[0.6666666666666666,\"#ed7953\"],[0.7777777777777778,\"#fb9f3a\"],[0.8888888888888888,\"#fdca26\"],[1.0,\"#f0f921\"]],\"type\":\"contour\"}],\"heatmapgl\":[{\"colorbar\":{\"outlinewidth\":0,\"ticks\":\"\"},\"colorscale\":[[0.0,\"#0d0887\"],[0.1111111111111111,\"#46039f\"],[0.2222222222222222,\"#7201a8\"],[0.3333333333333333,\"#9c179e\"],[0.4444444444444444,\"#bd3786\"],[0.5555555555555556,\"#d8576b\"],[0.6666666666666666,\"#ed7953\"],[0.7777777777777778,\"#fb9f3a\"],[0.8888888888888888,\"#fdca26\"],[1.0,\"#f0f921\"]],\"type\":\"heatmapgl\"}],\"heatmap\":[{\"colorbar\":{\"outlinewidth\":0,\"ticks\":\"\"},\"colorscale\":[[0.0,\"#0d0887\"],[0.1111111111111111,\"#46039f\"],[0.2222222222222222,\"#7201a8\"],[0.3333333333333333,\"#9c179e\"],[0.4444444444444444,\"#bd3786\"],[0.5555555555555556,\"#d8576b\"],[0.6666666666666666,\"#ed7953\"],[0.7777777777777778,\"#fb9f3a\"],[0.8888888888888888,\"#fdca26\"],[1.0,\"#f0f921\"]],\"type\":\"heatmap\"}],\"histogram2dcontour\":[{\"colorbar\":{\"outlinewidth\":0,\"ticks\":\"\"},\"colorscale\":[[0.0,\"#0d0887\"],[0.1111111111111111,\"#46039f\"],[0.2222222222222222,\"#7201a8\"],[0.3333333333333333,\"#9c179e\"],[0.4444444444444444,\"#bd3786\"],[0.5555555555555556,\"#d8576b\"],[0.6666666666666666,\"#ed7953\"],[0.7777777777777778,\"#fb9f3a\"],[0.8888888888888888,\"#fdca26\"],[1.0,\"#f0f921\"]],\"type\":\"histogram2dcontour\"}],\"histogram2d\":[{\"colorbar\":{\"outlinewidth\":0,\"ticks\":\"\"},\"colorscale\":[[0.0,\"#0d0887\"],[0.1111111111111111,\"#46039f\"],[0.2222222222222222,\"#7201a8\"],[0.3333333333333333,\"#9c179e\"],[0.4444444444444444,\"#bd3786\"],[0.5555555555555556,\"#d8576b\"],[0.6666666666666666,\"#ed7953\"],[0.7777777777777778,\"#fb9f3a\"],[0.8888888888888888,\"#fdca26\"],[1.0,\"#f0f921\"]],\"type\":\"histogram2d\"}],\"histogram\":[{\"marker\":{\"pattern\":{\"fillmode\":\"overlay\",\"size\":10,\"solidity\":0.2}},\"type\":\"histogram\"}],\"mesh3d\":[{\"colorbar\":{\"outlinewidth\":0,\"ticks\":\"\"},\"type\":\"mesh3d\"}],\"parcoords\":[{\"line\":{\"colorbar\":{\"outlinewidth\":0,\"ticks\":\"\"}},\"type\":\"parcoords\"}],\"pie\":[{\"automargin\":true,\"type\":\"pie\"}],\"scatter3d\":[{\"line\":{\"colorbar\":{\"outlinewidth\":0,\"ticks\":\"\"}},\"marker\":{\"colorbar\":{\"outlinewidth\":0,\"ticks\":\"\"}},\"type\":\"scatter3d\"}],\"scattercarpet\":[{\"marker\":{\"colorbar\":{\"outlinewidth\":0,\"ticks\":\"\"}},\"type\":\"scattercarpet\"}],\"scattergeo\":[{\"marker\":{\"colorbar\":{\"outlinewidth\":0,\"ticks\":\"\"}},\"type\":\"scattergeo\"}],\"scattergl\":[{\"marker\":{\"colorbar\":{\"outlinewidth\":0,\"ticks\":\"\"}},\"type\":\"scattergl\"}],\"scattermapbox\":[{\"marker\":{\"colorbar\":{\"outlinewidth\":0,\"ticks\":\"\"}},\"type\":\"scattermapbox\"}],\"scatterpolargl\":[{\"marker\":{\"colorbar\":{\"outlinewidth\":0,\"ticks\":\"\"}},\"type\":\"scatterpolargl\"}],\"scatterpolar\":[{\"marker\":{\"colorbar\":{\"outlinewidth\":0,\"ticks\":\"\"}},\"type\":\"scatterpolar\"}],\"scatter\":[{\"fillpattern\":{\"fillmode\":\"overlay\",\"size\":10,\"solidity\":0.2},\"type\":\"scatter\"}],\"scatterternary\":[{\"marker\":{\"colorbar\":{\"outlinewidth\":0,\"ticks\":\"\"}},\"type\":\"scatterternary\"}],\"surface\":[{\"colorbar\":{\"outlinewidth\":0,\"ticks\":\"\"},\"colorscale\":[[0.0,\"#0d0887\"],[0.1111111111111111,\"#46039f\"],[0.2222222222222222,\"#7201a8\"],[0.3333333333333333,\"#9c179e\"],[0.4444444444444444,\"#bd3786\"],[0.5555555555555556,\"#d8576b\"],[0.6666666666666666,\"#ed7953\"],[0.7777777777777778,\"#fb9f3a\"],[0.8888888888888888,\"#fdca26\"],[1.0,\"#f0f921\"]],\"type\":\"surface\"}],\"table\":[{\"cells\":{\"fill\":{\"color\":\"#EBF0F8\"},\"line\":{\"color\":\"white\"}},\"header\":{\"fill\":{\"color\":\"#C8D4E3\"},\"line\":{\"color\":\"white\"}},\"type\":\"table\"}]},\"layout\":{\"annotationdefaults\":{\"arrowcolor\":\"#2a3f5f\",\"arrowhead\":0,\"arrowwidth\":1},\"autotypenumbers\":\"strict\",\"coloraxis\":{\"colorbar\":{\"outlinewidth\":0,\"ticks\":\"\"}},\"colorscale\":{\"diverging\":[[0,\"#8e0152\"],[0.1,\"#c51b7d\"],[0.2,\"#de77ae\"],[0.3,\"#f1b6da\"],[0.4,\"#fde0ef\"],[0.5,\"#f7f7f7\"],[0.6,\"#e6f5d0\"],[0.7,\"#b8e186\"],[0.8,\"#7fbc41\"],[0.9,\"#4d9221\"],[1,\"#276419\"]],\"sequential\":[[0.0,\"#0d0887\"],[0.1111111111111111,\"#46039f\"],[0.2222222222222222,\"#7201a8\"],[0.3333333333333333,\"#9c179e\"],[0.4444444444444444,\"#bd3786\"],[0.5555555555555556,\"#d8576b\"],[0.6666666666666666,\"#ed7953\"],[0.7777777777777778,\"#fb9f3a\"],[0.8888888888888888,\"#fdca26\"],[1.0,\"#f0f921\"]],\"sequentialminus\":[[0.0,\"#0d0887\"],[0.1111111111111111,\"#46039f\"],[0.2222222222222222,\"#7201a8\"],[0.3333333333333333,\"#9c179e\"],[0.4444444444444444,\"#bd3786\"],[0.5555555555555556,\"#d8576b\"],[0.6666666666666666,\"#ed7953\"],[0.7777777777777778,\"#fb9f3a\"],[0.8888888888888888,\"#fdca26\"],[1.0,\"#f0f921\"]]},\"colorway\":[\"#636efa\",\"#EF553B\",\"#00cc96\",\"#ab63fa\",\"#FFA15A\",\"#19d3f3\",\"#FF6692\",\"#B6E880\",\"#FF97FF\",\"#FECB52\"],\"font\":{\"color\":\"#2a3f5f\"},\"geo\":{\"bgcolor\":\"white\",\"lakecolor\":\"white\",\"landcolor\":\"#E5ECF6\",\"showlakes\":true,\"showland\":true,\"subunitcolor\":\"white\"},\"hoverlabel\":{\"align\":\"left\"},\"hovermode\":\"closest\",\"mapbox\":{\"style\":\"light\"},\"paper_bgcolor\":\"white\",\"plot_bgcolor\":\"#E5ECF6\",\"polar\":{\"angularaxis\":{\"gridcolor\":\"white\",\"linecolor\":\"white\",\"ticks\":\"\"},\"bgcolor\":\"#E5ECF6\",\"radialaxis\":{\"gridcolor\":\"white\",\"linecolor\":\"white\",\"ticks\":\"\"}},\"scene\":{\"xaxis\":{\"backgroundcolor\":\"#E5ECF6\",\"gridcolor\":\"white\",\"gridwidth\":2,\"linecolor\":\"white\",\"showbackground\":true,\"ticks\":\"\",\"zerolinecolor\":\"white\"},\"yaxis\":{\"backgroundcolor\":\"#E5ECF6\",\"gridcolor\":\"white\",\"gridwidth\":2,\"linecolor\":\"white\",\"showbackground\":true,\"ticks\":\"\",\"zerolinecolor\":\"white\"},\"zaxis\":{\"backgroundcolor\":\"#E5ECF6\",\"gridcolor\":\"white\",\"gridwidth\":2,\"linecolor\":\"white\",\"showbackground\":true,\"ticks\":\"\",\"zerolinecolor\":\"white\"}},\"shapedefaults\":{\"line\":{\"color\":\"#2a3f5f\"}},\"ternary\":{\"aaxis\":{\"gridcolor\":\"white\",\"linecolor\":\"white\",\"ticks\":\"\"},\"baxis\":{\"gridcolor\":\"white\",\"linecolor\":\"white\",\"ticks\":\"\"},\"bgcolor\":\"#E5ECF6\",\"caxis\":{\"gridcolor\":\"white\",\"linecolor\":\"white\",\"ticks\":\"\"}},\"title\":{\"x\":0.05},\"xaxis\":{\"automargin\":true,\"gridcolor\":\"white\",\"linecolor\":\"white\",\"ticks\":\"\",\"title\":{\"standoff\":15},\"zerolinecolor\":\"white\",\"zerolinewidth\":2},\"yaxis\":{\"automargin\":true,\"gridcolor\":\"white\",\"linecolor\":\"white\",\"ticks\":\"\",\"title\":{\"standoff\":15},\"zerolinecolor\":\"white\",\"zerolinewidth\":2}}},\"title\":{\"font\":{\"color\":\"#D9D9D9\"},\"text\":\"========Return-------CV========================\"},\"xaxis\":{\"gridcolor\":\"#434343\",\"showgrid\":true,\"tickfont\":{\"color\":\"#C2C2C2\"},\"title\":{\"font\":{\"color\":\"#D9D9D9\"},\"text\":\"Return\"},\"zerolinecolor\":\"#666570\"},\"yaxis\":{\"gridcolor\":\"#434343\",\"showgrid\":true,\"tickfont\":{\"color\":\"#C2C2C2\"},\"title\":{\"font\":{\"color\":\"#D9D9D9\"},\"text\":\"CV\"},\"zerolinecolor\":\"#666570\"}},                        {\"showLink\": true, \"linkText\": \"Export to plot.ly\", \"plotlyServerURL\": \"https://plot.ly\", \"responsive\": true}                    ).then(function(){\n",
       "                            \n",
       "var gd = document.getElementById('2818cb0c-9d07-4e07-938b-a3faaae8a46a');\n",
       "var x = new MutationObserver(function (mutations, observer) {{\n",
       "        var display = window.getComputedStyle(gd).display;\n",
       "        if (!display || display === 'none') {{\n",
       "            console.log([gd, 'removed!']);\n",
       "            Plotly.purge(gd);\n",
       "            observer.disconnect();\n",
       "        }}\n",
       "}});\n",
       "\n",
       "// Listen for the removal of the full notebook cells\n",
       "var notebookContainer = gd.closest('#notebook-container');\n",
       "if (notebookContainer) {{\n",
       "    x.observe(notebookContainer, {childList: true});\n",
       "}}\n",
       "\n",
       "// Listen for the clearing of the current output cell\n",
       "var outputEl = gd.closest('.output');\n",
       "if (outputEl) {{\n",
       "    x.observe(outputEl, {childList: true});\n",
       "}}\n",
       "\n",
       "                        })                };                });            </script>        </div>"
      ]
     },
     "metadata": {},
     "output_type": "display_data"
    }
   ],
   "source": [
    "\n",
    "df1.iplot(kind=\"scatter\",\n",
    "              x=\"Return%\", y='CV',\n",
    "              mode='markers',\n",
    "              xTitle=\"Return\", yTitle=\"CV\",\n",
    "              title=\"========Return-------CV========================\", categories=\"Ticker\",theme=\"solar\")"
   ]
  },
  {
   "cell_type": "code",
   "execution_count": 18,
   "id": "1f6daf0f",
   "metadata": {},
   "outputs": [
    {
     "data": {
      "application/vnd.plotly.v1+json": {
       "config": {
        "linkText": "Export to plot.ly",
        "plotlyServerURL": "https://plot.ly",
        "showLink": true
       },
       "data": [
        {
         "marker": {
          "color": "rgba(255, 153, 51, 1.0)",
          "line": {
           "width": 1.3
          },
          "opacity": 0.8,
          "size": 12,
          "symbol": "circle"
         },
         "mode": "markers",
         "name": "POLYCAB.NS",
         "textfont": {
          "color": "#D9D9D9"
         },
         "type": "scatter",
         "x": [
          38.74601904887244
         ],
         "y": [
          16834.886161415518
         ]
        },
        {
         "marker": {
          "color": "rgba(55, 128, 191, 1.0)",
          "line": {
           "width": 1.3
          },
          "opacity": 0.8,
          "size": 12,
          "symbol": "circle"
         },
         "mode": "markers",
         "name": "TANLA.NS",
         "textfont": {
          "color": "#D9D9D9"
         },
         "type": "scatter",
         "x": [
          55.52481981206785
         ],
         "y": [
          32435.337833064725
         ]
        },
        {
         "marker": {
          "color": "rgba(50, 171, 96, 1.0)",
          "line": {
           "width": 1.3
          },
          "opacity": 0.8,
          "size": 12,
          "symbol": "circle"
         },
         "mode": "markers",
         "name": "ALKYLAMINE.NS",
         "textfont": {
          "color": "#D9D9D9"
         },
         "type": "scatter",
         "x": [
          43.122201514623455
         ],
         "y": [
          25473.15048049367
         ]
        },
        {
         "marker": {
          "color": "rgba(128, 0, 128, 1.0)",
          "line": {
           "width": 1.3
          },
          "opacity": 0.8,
          "size": 12,
          "symbol": "circle"
         },
         "mode": "markers",
         "name": "JBCHEPHARM.NS",
         "textfont": {
          "color": "#D9D9D9"
         },
         "type": "scatter",
         "x": [
          34.793483725876385
         ],
         "y": [
          23397.59769571132
         ]
        },
        {
         "marker": {
          "color": "rgba(219, 64, 82, 1.0)",
          "line": {
           "width": 1.3
          },
          "opacity": 0.8,
          "size": 12,
          "symbol": "circle"
         },
         "mode": "markers",
         "name": "TIPSINDLTD.NS",
         "textfont": {
          "color": "#D9D9D9"
         },
         "type": "scatter",
         "x": [
          55.80435402981735
         ],
         "y": [
          46418.17681210309
         ]
        },
        {
         "marker": {
          "color": "rgba(0, 128, 128, 1.0)",
          "line": {
           "width": 1.3
          },
          "opacity": 0.8,
          "size": 12,
          "symbol": "circle"
         },
         "mode": "markers",
         "name": "SUMICHEM.NS",
         "textfont": {
          "color": "#D9D9D9"
         },
         "type": "scatter",
         "x": [
          41.17435684843584
         ],
         "y": [
          32480.92651502756
         ]
        },
        {
         "marker": {
          "color": "rgba(255, 255, 51, 1.0)",
          "line": {
           "width": 1.3
          },
          "opacity": 0.8,
          "size": 12,
          "symbol": "circle"
         },
         "mode": "markers",
         "name": "VINATIORGA.NS",
         "textfont": {
          "color": "#D9D9D9"
         },
         "type": "scatter",
         "x": [
          36.05314832134178
         ],
         "y": [
          27664.391438580235
         ]
        },
        {
         "marker": {
          "color": "rgba(128, 128, 0, 1.0)",
          "line": {
           "width": 1.3
          },
          "opacity": 0.8,
          "size": 12,
          "symbol": "circle"
         },
         "mode": "markers",
         "name": "GRINDWELL.NS",
         "textfont": {
          "color": "#D9D9D9"
         },
         "type": "scatter",
         "x": [
          30.89121655252248
         ],
         "y": [
          24432.0692239271
         ]
        },
        {
         "marker": {
          "color": "rgba(251, 128, 114, 1.0)",
          "line": {
           "width": 1.3
          },
          "opacity": 0.8,
          "size": 12,
          "symbol": "circle"
         },
         "mode": "markers",
         "name": "CDSL.NS",
         "textfont": {
          "color": "#D9D9D9"
         },
         "type": "scatter",
         "x": [
          38.87832057536158
         ],
         "y": [
          34362.387069037315
         ]
        },
        {
         "marker": {
          "color": "rgba(128, 177, 211, 1.0)",
          "line": {
           "width": 1.3
          },
          "opacity": 0.8,
          "size": 12,
          "symbol": "circle"
         },
         "mode": "markers",
         "name": "HINDUNILVR.NS",
         "textfont": {
          "color": "#D9D9D9"
         },
         "type": "scatter",
         "x": [
          23.63915377931108
         ],
         "y": [
          18575.96669588101
         ]
        },
        {
         "marker": {
          "color": "rgba(128, 177, 211, 0.8999999999999999)",
          "line": {
           "width": 1.3
          },
          "opacity": 0.8,
          "size": 12,
          "symbol": "circle"
         },
         "mode": "markers",
         "name": "COFORGE.NS",
         "textfont": {
          "color": "#D9D9D9"
         },
         "type": "scatter",
         "x": [
          43.36491645341047
         ],
         "y": [
          42954.14274282532
         ]
        },
        {
         "marker": {
          "color": "rgba(255, 153, 51, 0.8999999999999999)",
          "line": {
           "width": 1.3
          },
          "opacity": 0.8,
          "size": 12,
          "symbol": "circle"
         },
         "mode": "markers",
         "name": "LINDEINDIA.NS",
         "textfont": {
          "color": "#D9D9D9"
         },
         "type": "scatter",
         "x": [
          40.41074346442657
         ],
         "y": [
          40641.93834663309
         ]
        },
        {
         "marker": {
          "color": "rgba(55, 128, 191, 0.8999999999999999)",
          "line": {
           "width": 1.3
          },
          "opacity": 0.8,
          "size": 12,
          "symbol": "circle"
         },
         "mode": "markers",
         "name": "ADFFOODS.NS",
         "textfont": {
          "color": "#D9D9D9"
         },
         "type": "scatter",
         "x": [
          46.17352250390415
         ],
         "y": [
          49518.90905946018
         ]
        },
        {
         "marker": {
          "color": "rgba(50, 171, 96, 0.8999999999999999)",
          "line": {
           "width": 1.3
          },
          "opacity": 0.8,
          "size": 12,
          "symbol": "circle"
         },
         "mode": "markers",
         "name": "TCIEXP.NS",
         "textfont": {
          "color": "#D9D9D9"
         },
         "type": "scatter",
         "x": [
          42.06426989744854
         ],
         "y": [
          45228.28282195442
         ]
        },
        {
         "marker": {
          "color": "rgba(128, 0, 128, 0.8999999999999999)",
          "line": {
           "width": 1.3
          },
          "opacity": 0.8,
          "size": 12,
          "symbol": "circle"
         },
         "mode": "markers",
         "name": "PRIMESECU.NS",
         "textfont": {
          "color": "#D9D9D9"
         },
         "type": "scatter",
         "x": [
          63.82433430621761
         ],
         "y": [
          68372.94143496535
         ]
        },
        {
         "marker": {
          "color": "rgba(219, 64, 82, 0.8999999999999999)",
          "line": {
           "width": 1.3
          },
          "opacity": 0.8,
          "size": 12,
          "symbol": "circle"
         },
         "mode": "markers",
         "name": "SCHAEFFLER.NS",
         "textfont": {
          "color": "#D9D9D9"
         },
         "type": "scatter",
         "x": [
          26.20599112715352
         ],
         "y": [
          27868.273752414447
         ]
        },
        {
         "marker": {
          "color": "rgba(0, 128, 128, 0.8999999999999999)",
          "line": {
           "width": 1.3
          },
          "opacity": 0.8,
          "size": 12,
          "symbol": "circle"
         },
         "mode": "markers",
         "name": "IEX.NS",
         "textfont": {
          "color": "#D9D9D9"
         },
         "type": "scatter",
         "x": [
          37.32226218882577
         ],
         "y": [
          41084.08101643693
         ]
        },
        {
         "marker": {
          "color": "rgba(255, 255, 51, 0.8999999999999999)",
          "line": {
           "width": 1.3
          },
          "opacity": 0.8,
          "size": 12,
          "symbol": "circle"
         },
         "mode": "markers",
         "name": "IGL.NS",
         "textfont": {
          "color": "#D9D9D9"
         },
         "type": "scatter",
         "x": [
          31.226771390201947
         ],
         "y": [
          34768.498624439024
         ]
        },
        {
         "marker": {
          "color": "rgba(128, 128, 0, 0.8999999999999999)",
          "line": {
           "width": 1.3
          },
          "opacity": 0.8,
          "size": 12,
          "symbol": "circle"
         },
         "mode": "markers",
         "name": "PGHH.NS",
         "textfont": {
          "color": "#D9D9D9"
         },
         "type": "scatter",
         "x": [
          21.386092753990702
         ],
         "y": [
          22875.091151360728
         ]
        },
        {
         "marker": {
          "color": "rgba(251, 128, 114, 0.8999999999999999)",
          "line": {
           "width": 1.3
          },
          "opacity": 0.8,
          "size": 12,
          "symbol": "circle"
         },
         "mode": "markers",
         "name": "DIVISLAB.NS",
         "textfont": {
          "color": "#D9D9D9"
         },
         "type": "scatter",
         "x": [
          33.53962083203864
         ],
         "y": [
          39703.791804893925
         ]
        },
        {
         "marker": {
          "color": "rgba(251, 128, 114, 0.7999999999999998)",
          "line": {
           "width": 1.3
          },
          "opacity": 0.8,
          "size": 12,
          "symbol": "circle"
         },
         "mode": "markers",
         "name": "SKFINDIA.NS",
         "textfont": {
          "color": "#D9D9D9"
         },
         "type": "scatter",
         "x": [
          27.15481133584689
         ],
         "y": [
          32338.140619150552
         ]
        },
        {
         "marker": {
          "color": "rgba(128, 177, 211, 0.7999999999999998)",
          "line": {
           "width": 1.3
          },
          "opacity": 0.8,
          "size": 12,
          "symbol": "circle"
         },
         "mode": "markers",
         "name": "CAPLIPOINT.NS",
         "textfont": {
          "color": "#D9D9D9"
         },
         "type": "scatter",
         "x": [
          51.93669303672043
         ],
         "y": [
          60546.51417159053
         ]
        },
        {
         "marker": {
          "color": "rgba(255, 153, 51, 0.7999999999999998)",
          "line": {
           "width": 1.3
          },
          "opacity": 0.8,
          "size": 12,
          "symbol": "circle"
         },
         "mode": "markers",
         "name": "TIDEWATER.NS",
         "textfont": {
          "color": "#D9D9D9"
         },
         "type": "scatter",
         "x": [
          36.01153745794804
         ],
         "y": [
          42983.36904829733
         ]
        },
        {
         "marker": {
          "color": "rgba(55, 128, 191, 0.7999999999999998)",
          "line": {
           "width": 1.3
          },
          "opacity": 0.8,
          "size": 12,
          "symbol": "circle"
         },
         "mode": "markers",
         "name": "ESABINDIA.NS",
         "textfont": {
          "color": "#D9D9D9"
         },
         "type": "scatter",
         "x": [
          41.974886436349856
         ],
         "y": [
          51645.24460906842
         ]
        },
        {
         "marker": {
          "color": "rgba(50, 171, 96, 0.7999999999999998)",
          "line": {
           "width": 1.3
          },
          "opacity": 0.8,
          "size": 12,
          "symbol": "circle"
         },
         "mode": "markers",
         "name": "SUPREMEIND.NS",
         "textfont": {
          "color": "#D9D9D9"
         },
         "type": "scatter",
         "x": [
          29.730654494442188
         ],
         "y": [
          37128.46583230055
         ]
        },
        {
         "marker": {
          "color": "rgba(128, 0, 128, 0.7999999999999998)",
          "line": {
           "width": 1.3
          },
          "opacity": 0.8,
          "size": 12,
          "symbol": "circle"
         },
         "mode": "markers",
         "name": "GULPOLY.NS",
         "textfont": {
          "color": "#D9D9D9"
         },
         "type": "scatter",
         "x": [
          46.18534032095069
         ],
         "y": [
          57836.95367170273
         ]
        },
        {
         "marker": {
          "color": "rgba(219, 64, 82, 0.7999999999999998)",
          "line": {
           "width": 1.3
          },
          "opacity": 0.8,
          "size": 12,
          "symbol": "circle"
         },
         "mode": "markers",
         "name": "INTELLECT.NS",
         "textfont": {
          "color": "#D9D9D9"
         },
         "type": "scatter",
         "x": [
          53.59799975463401
         ],
         "y": [
          66304.66064801184
         ]
        },
        {
         "marker": {
          "color": "rgba(0, 128, 128, 0.7999999999999998)",
          "line": {
           "width": 1.3
          },
          "opacity": 0.8,
          "size": 12,
          "symbol": "circle"
         },
         "mode": "markers",
         "name": "PRAJIND.NS",
         "textfont": {
          "color": "#D9D9D9"
         },
         "type": "scatter",
         "x": [
          50.0254599768889
         ],
         "y": [
          62845.75784052423
         ]
        },
        {
         "marker": {
          "color": "rgba(255, 255, 51, 0.7999999999999998)",
          "line": {
           "width": 1.3
          },
          "opacity": 0.8,
          "size": 12,
          "symbol": "circle"
         },
         "mode": "markers",
         "name": "SANOFI.NS",
         "textfont": {
          "color": "#D9D9D9"
         },
         "type": "scatter",
         "x": [
          22.078386204121685
         ],
         "y": [
          29717.31517653401
         ]
        },
        {
         "marker": {
          "color": "rgba(128, 128, 0, 0.7999999999999998)",
          "line": {
           "width": 1.3
          },
          "opacity": 0.8,
          "size": 12,
          "symbol": "circle"
         },
         "mode": "markers",
         "name": "RPGLIFE.NS",
         "textfont": {
          "color": "#D9D9D9"
         },
         "type": "scatter",
         "x": [
          51.96337077497307
         ],
         "y": [
          66417.5080724685
         ]
        },
        {
         "marker": {
          "color": "rgba(128, 128, 0, 0.7)",
          "line": {
           "width": 1.3
          },
          "opacity": 0.8,
          "size": 12,
          "symbol": "circle"
         },
         "mode": "markers",
         "name": "FCL.NS",
         "textfont": {
          "color": "#D9D9D9"
         },
         "type": "scatter",
         "x": [
          61.881697852956144
         ],
         "y": [
          75655.86738127575
         ]
        },
        {
         "marker": {
          "color": "rgba(251, 128, 114, 0.7)",
          "line": {
           "width": 1.3
          },
          "opacity": 0.8,
          "size": 12,
          "symbol": "circle"
         },
         "mode": "markers",
         "name": "BEL.NS",
         "textfont": {
          "color": "#D9D9D9"
         },
         "type": "scatter",
         "x": [
          38.18768614957634
         ],
         "y": [
          53341.751838293545
         ]
        },
        {
         "marker": {
          "color": "rgba(128, 177, 211, 0.7)",
          "line": {
           "width": 1.3
          },
          "opacity": 0.8,
          "size": 12,
          "symbol": "circle"
         },
         "mode": "markers",
         "name": "AMRUTANJAN.NS",
         "textfont": {
          "color": "#D9D9D9"
         },
         "type": "scatter",
         "x": [
          39.99703474381244
         ],
         "y": [
          55974.59009248462
         ]
        },
        {
         "marker": {
          "color": "rgba(255, 153, 51, 0.7)",
          "line": {
           "width": 1.3
          },
          "opacity": 0.8,
          "size": 12,
          "symbol": "circle"
         },
         "mode": "markers",
         "name": "AVANTIFEED.NS",
         "textfont": {
          "color": "#D9D9D9"
         },
         "type": "scatter",
         "x": [
          46.36850272300695
         ],
         "y": [
          64344.818285114496
         ]
        },
        {
         "marker": {
          "color": "rgba(55, 128, 191, 0.7)",
          "line": {
           "width": 1.3
          },
          "opacity": 0.8,
          "size": 12,
          "symbol": "circle"
         },
         "mode": "markers",
         "name": "INGERRAND.NS",
         "textfont": {
          "color": "#D9D9D9"
         },
         "type": "scatter",
         "x": [
          32.39278557880419
         ],
         "y": [
          49225.87010843092
         ]
        },
        {
         "marker": {
          "color": "rgba(50, 171, 96, 0.7)",
          "line": {
           "width": 1.3
          },
          "opacity": 0.8,
          "size": 12,
          "symbol": "circle"
         },
         "mode": "markers",
         "name": "ADORWELD.NS",
         "textfont": {
          "color": "#D9D9D9"
         },
         "type": "scatter",
         "x": [
          46.97788183310662
         ],
         "y": [
          65879.9166310438
         ]
        },
        {
         "marker": {
          "color": "rgba(128, 0, 128, 0.7)",
          "line": {
           "width": 1.3
          },
          "opacity": 0.8,
          "size": 12,
          "symbol": "circle"
         },
         "mode": "markers",
         "name": "VINYLINDIA.NS",
         "textfont": {
          "color": "#D9D9D9"
         },
         "type": "scatter",
         "x": [
          51.353229080927306
         ],
         "y": [
          71348.69452308214
         ]
        },
        {
         "marker": {
          "color": "rgba(219, 64, 82, 0.7)",
          "line": {
           "width": 1.3
          },
          "opacity": 0.8,
          "size": 12,
          "symbol": "circle"
         },
         "mode": "markers",
         "name": "VSTIND.NS",
         "textfont": {
          "color": "#D9D9D9"
         },
         "type": "scatter",
         "x": [
          27.226352818768607
         ],
         "y": [
          43479.40977247318
         ]
        },
        {
         "marker": {
          "color": "rgba(0, 128, 128, 0.7)",
          "line": {
           "width": 1.3
          },
          "opacity": 0.8,
          "size": 12,
          "symbol": "circle"
         },
         "mode": "markers",
         "name": "KSB.NS",
         "textfont": {
          "color": "#D9D9D9"
         },
         "type": "scatter",
         "x": [
          34.14799764035527
         ],
         "y": [
          53504.86520327211
         ]
        },
        {
         "marker": {
          "color": "rgba(255, 255, 51, 0.7)",
          "line": {
           "width": 1.3
          },
          "opacity": 0.8,
          "size": 12,
          "symbol": "circle"
         },
         "mode": "markers",
         "name": "EXPLEOSOL.NS",
         "textfont": {
          "color": "#D9D9D9"
         },
         "type": "scatter",
         "x": [
          39.45324107552503
         ],
         "y": [
          60989.92420489033
         ]
        },
        {
         "marker": {
          "color": "rgba(255, 255, 51, 0.5999999999999999)",
          "line": {
           "width": 1.3
          },
          "opacity": 0.8,
          "size": 12,
          "symbol": "circle"
         },
         "mode": "markers",
         "name": "AJANTPHARM.NS",
         "textfont": {
          "color": "#D9D9D9"
         },
         "type": "scatter",
         "x": [
          32.90482394633117
         ],
         "y": [
          53131.93639321916
         ]
        },
        {
         "marker": {
          "color": "rgba(128, 128, 0, 0.5999999999999999)",
          "line": {
           "width": 1.3
          },
          "opacity": 0.8,
          "size": 12,
          "symbol": "circle"
         },
         "mode": "markers",
         "name": "RSYSTEMS.NS",
         "textfont": {
          "color": "#D9D9D9"
         },
         "type": "scatter",
         "x": [
          47.75115816147286
         ],
         "y": [
          70136.5771699785
         ]
        },
        {
         "marker": {
          "color": "rgba(251, 128, 114, 0.5999999999999999)",
          "line": {
           "width": 1.3
          },
          "opacity": 0.8,
          "size": 12,
          "symbol": "circle"
         },
         "mode": "markers",
         "name": "SHARDACROP.NS",
         "textfont": {
          "color": "#D9D9D9"
         },
         "type": "scatter",
         "x": [
          44.45538251433841
         ],
         "y": [
          67297.12516032743
         ]
        }
       ],
       "layout": {
        "legend": {
         "bgcolor": "#151516",
         "font": {
          "color": "#D9D9D9"
         }
        },
        "paper_bgcolor": "#151516",
        "plot_bgcolor": "#151516",
        "template": {
         "data": {
          "bar": [
           {
            "error_x": {
             "color": "#2a3f5f"
            },
            "error_y": {
             "color": "#2a3f5f"
            },
            "marker": {
             "line": {
              "color": "#E5ECF6",
              "width": 0.5
             },
             "pattern": {
              "fillmode": "overlay",
              "size": 10,
              "solidity": 0.2
             }
            },
            "type": "bar"
           }
          ],
          "barpolar": [
           {
            "marker": {
             "line": {
              "color": "#E5ECF6",
              "width": 0.5
             },
             "pattern": {
              "fillmode": "overlay",
              "size": 10,
              "solidity": 0.2
             }
            },
            "type": "barpolar"
           }
          ],
          "carpet": [
           {
            "aaxis": {
             "endlinecolor": "#2a3f5f",
             "gridcolor": "white",
             "linecolor": "white",
             "minorgridcolor": "white",
             "startlinecolor": "#2a3f5f"
            },
            "baxis": {
             "endlinecolor": "#2a3f5f",
             "gridcolor": "white",
             "linecolor": "white",
             "minorgridcolor": "white",
             "startlinecolor": "#2a3f5f"
            },
            "type": "carpet"
           }
          ],
          "choropleth": [
           {
            "colorbar": {
             "outlinewidth": 0,
             "ticks": ""
            },
            "type": "choropleth"
           }
          ],
          "contour": [
           {
            "colorbar": {
             "outlinewidth": 0,
             "ticks": ""
            },
            "colorscale": [
             [
              0,
              "#0d0887"
             ],
             [
              0.1111111111111111,
              "#46039f"
             ],
             [
              0.2222222222222222,
              "#7201a8"
             ],
             [
              0.3333333333333333,
              "#9c179e"
             ],
             [
              0.4444444444444444,
              "#bd3786"
             ],
             [
              0.5555555555555556,
              "#d8576b"
             ],
             [
              0.6666666666666666,
              "#ed7953"
             ],
             [
              0.7777777777777778,
              "#fb9f3a"
             ],
             [
              0.8888888888888888,
              "#fdca26"
             ],
             [
              1,
              "#f0f921"
             ]
            ],
            "type": "contour"
           }
          ],
          "contourcarpet": [
           {
            "colorbar": {
             "outlinewidth": 0,
             "ticks": ""
            },
            "type": "contourcarpet"
           }
          ],
          "heatmap": [
           {
            "colorbar": {
             "outlinewidth": 0,
             "ticks": ""
            },
            "colorscale": [
             [
              0,
              "#0d0887"
             ],
             [
              0.1111111111111111,
              "#46039f"
             ],
             [
              0.2222222222222222,
              "#7201a8"
             ],
             [
              0.3333333333333333,
              "#9c179e"
             ],
             [
              0.4444444444444444,
              "#bd3786"
             ],
             [
              0.5555555555555556,
              "#d8576b"
             ],
             [
              0.6666666666666666,
              "#ed7953"
             ],
             [
              0.7777777777777778,
              "#fb9f3a"
             ],
             [
              0.8888888888888888,
              "#fdca26"
             ],
             [
              1,
              "#f0f921"
             ]
            ],
            "type": "heatmap"
           }
          ],
          "heatmapgl": [
           {
            "colorbar": {
             "outlinewidth": 0,
             "ticks": ""
            },
            "colorscale": [
             [
              0,
              "#0d0887"
             ],
             [
              0.1111111111111111,
              "#46039f"
             ],
             [
              0.2222222222222222,
              "#7201a8"
             ],
             [
              0.3333333333333333,
              "#9c179e"
             ],
             [
              0.4444444444444444,
              "#bd3786"
             ],
             [
              0.5555555555555556,
              "#d8576b"
             ],
             [
              0.6666666666666666,
              "#ed7953"
             ],
             [
              0.7777777777777778,
              "#fb9f3a"
             ],
             [
              0.8888888888888888,
              "#fdca26"
             ],
             [
              1,
              "#f0f921"
             ]
            ],
            "type": "heatmapgl"
           }
          ],
          "histogram": [
           {
            "marker": {
             "pattern": {
              "fillmode": "overlay",
              "size": 10,
              "solidity": 0.2
             }
            },
            "type": "histogram"
           }
          ],
          "histogram2d": [
           {
            "colorbar": {
             "outlinewidth": 0,
             "ticks": ""
            },
            "colorscale": [
             [
              0,
              "#0d0887"
             ],
             [
              0.1111111111111111,
              "#46039f"
             ],
             [
              0.2222222222222222,
              "#7201a8"
             ],
             [
              0.3333333333333333,
              "#9c179e"
             ],
             [
              0.4444444444444444,
              "#bd3786"
             ],
             [
              0.5555555555555556,
              "#d8576b"
             ],
             [
              0.6666666666666666,
              "#ed7953"
             ],
             [
              0.7777777777777778,
              "#fb9f3a"
             ],
             [
              0.8888888888888888,
              "#fdca26"
             ],
             [
              1,
              "#f0f921"
             ]
            ],
            "type": "histogram2d"
           }
          ],
          "histogram2dcontour": [
           {
            "colorbar": {
             "outlinewidth": 0,
             "ticks": ""
            },
            "colorscale": [
             [
              0,
              "#0d0887"
             ],
             [
              0.1111111111111111,
              "#46039f"
             ],
             [
              0.2222222222222222,
              "#7201a8"
             ],
             [
              0.3333333333333333,
              "#9c179e"
             ],
             [
              0.4444444444444444,
              "#bd3786"
             ],
             [
              0.5555555555555556,
              "#d8576b"
             ],
             [
              0.6666666666666666,
              "#ed7953"
             ],
             [
              0.7777777777777778,
              "#fb9f3a"
             ],
             [
              0.8888888888888888,
              "#fdca26"
             ],
             [
              1,
              "#f0f921"
             ]
            ],
            "type": "histogram2dcontour"
           }
          ],
          "mesh3d": [
           {
            "colorbar": {
             "outlinewidth": 0,
             "ticks": ""
            },
            "type": "mesh3d"
           }
          ],
          "parcoords": [
           {
            "line": {
             "colorbar": {
              "outlinewidth": 0,
              "ticks": ""
             }
            },
            "type": "parcoords"
           }
          ],
          "pie": [
           {
            "automargin": true,
            "type": "pie"
           }
          ],
          "scatter": [
           {
            "fillpattern": {
             "fillmode": "overlay",
             "size": 10,
             "solidity": 0.2
            },
            "type": "scatter"
           }
          ],
          "scatter3d": [
           {
            "line": {
             "colorbar": {
              "outlinewidth": 0,
              "ticks": ""
             }
            },
            "marker": {
             "colorbar": {
              "outlinewidth": 0,
              "ticks": ""
             }
            },
            "type": "scatter3d"
           }
          ],
          "scattercarpet": [
           {
            "marker": {
             "colorbar": {
              "outlinewidth": 0,
              "ticks": ""
             }
            },
            "type": "scattercarpet"
           }
          ],
          "scattergeo": [
           {
            "marker": {
             "colorbar": {
              "outlinewidth": 0,
              "ticks": ""
             }
            },
            "type": "scattergeo"
           }
          ],
          "scattergl": [
           {
            "marker": {
             "colorbar": {
              "outlinewidth": 0,
              "ticks": ""
             }
            },
            "type": "scattergl"
           }
          ],
          "scattermapbox": [
           {
            "marker": {
             "colorbar": {
              "outlinewidth": 0,
              "ticks": ""
             }
            },
            "type": "scattermapbox"
           }
          ],
          "scatterpolar": [
           {
            "marker": {
             "colorbar": {
              "outlinewidth": 0,
              "ticks": ""
             }
            },
            "type": "scatterpolar"
           }
          ],
          "scatterpolargl": [
           {
            "marker": {
             "colorbar": {
              "outlinewidth": 0,
              "ticks": ""
             }
            },
            "type": "scatterpolargl"
           }
          ],
          "scatterternary": [
           {
            "marker": {
             "colorbar": {
              "outlinewidth": 0,
              "ticks": ""
             }
            },
            "type": "scatterternary"
           }
          ],
          "surface": [
           {
            "colorbar": {
             "outlinewidth": 0,
             "ticks": ""
            },
            "colorscale": [
             [
              0,
              "#0d0887"
             ],
             [
              0.1111111111111111,
              "#46039f"
             ],
             [
              0.2222222222222222,
              "#7201a8"
             ],
             [
              0.3333333333333333,
              "#9c179e"
             ],
             [
              0.4444444444444444,
              "#bd3786"
             ],
             [
              0.5555555555555556,
              "#d8576b"
             ],
             [
              0.6666666666666666,
              "#ed7953"
             ],
             [
              0.7777777777777778,
              "#fb9f3a"
             ],
             [
              0.8888888888888888,
              "#fdca26"
             ],
             [
              1,
              "#f0f921"
             ]
            ],
            "type": "surface"
           }
          ],
          "table": [
           {
            "cells": {
             "fill": {
              "color": "#EBF0F8"
             },
             "line": {
              "color": "white"
             }
            },
            "header": {
             "fill": {
              "color": "#C8D4E3"
             },
             "line": {
              "color": "white"
             }
            },
            "type": "table"
           }
          ]
         },
         "layout": {
          "annotationdefaults": {
           "arrowcolor": "#2a3f5f",
           "arrowhead": 0,
           "arrowwidth": 1
          },
          "autotypenumbers": "strict",
          "coloraxis": {
           "colorbar": {
            "outlinewidth": 0,
            "ticks": ""
           }
          },
          "colorscale": {
           "diverging": [
            [
             0,
             "#8e0152"
            ],
            [
             0.1,
             "#c51b7d"
            ],
            [
             0.2,
             "#de77ae"
            ],
            [
             0.3,
             "#f1b6da"
            ],
            [
             0.4,
             "#fde0ef"
            ],
            [
             0.5,
             "#f7f7f7"
            ],
            [
             0.6,
             "#e6f5d0"
            ],
            [
             0.7,
             "#b8e186"
            ],
            [
             0.8,
             "#7fbc41"
            ],
            [
             0.9,
             "#4d9221"
            ],
            [
             1,
             "#276419"
            ]
           ],
           "sequential": [
            [
             0,
             "#0d0887"
            ],
            [
             0.1111111111111111,
             "#46039f"
            ],
            [
             0.2222222222222222,
             "#7201a8"
            ],
            [
             0.3333333333333333,
             "#9c179e"
            ],
            [
             0.4444444444444444,
             "#bd3786"
            ],
            [
             0.5555555555555556,
             "#d8576b"
            ],
            [
             0.6666666666666666,
             "#ed7953"
            ],
            [
             0.7777777777777778,
             "#fb9f3a"
            ],
            [
             0.8888888888888888,
             "#fdca26"
            ],
            [
             1,
             "#f0f921"
            ]
           ],
           "sequentialminus": [
            [
             0,
             "#0d0887"
            ],
            [
             0.1111111111111111,
             "#46039f"
            ],
            [
             0.2222222222222222,
             "#7201a8"
            ],
            [
             0.3333333333333333,
             "#9c179e"
            ],
            [
             0.4444444444444444,
             "#bd3786"
            ],
            [
             0.5555555555555556,
             "#d8576b"
            ],
            [
             0.6666666666666666,
             "#ed7953"
            ],
            [
             0.7777777777777778,
             "#fb9f3a"
            ],
            [
             0.8888888888888888,
             "#fdca26"
            ],
            [
             1,
             "#f0f921"
            ]
           ]
          },
          "colorway": [
           "#636efa",
           "#EF553B",
           "#00cc96",
           "#ab63fa",
           "#FFA15A",
           "#19d3f3",
           "#FF6692",
           "#B6E880",
           "#FF97FF",
           "#FECB52"
          ],
          "font": {
           "color": "#2a3f5f"
          },
          "geo": {
           "bgcolor": "white",
           "lakecolor": "white",
           "landcolor": "#E5ECF6",
           "showlakes": true,
           "showland": true,
           "subunitcolor": "white"
          },
          "hoverlabel": {
           "align": "left"
          },
          "hovermode": "closest",
          "mapbox": {
           "style": "light"
          },
          "paper_bgcolor": "white",
          "plot_bgcolor": "#E5ECF6",
          "polar": {
           "angularaxis": {
            "gridcolor": "white",
            "linecolor": "white",
            "ticks": ""
           },
           "bgcolor": "#E5ECF6",
           "radialaxis": {
            "gridcolor": "white",
            "linecolor": "white",
            "ticks": ""
           }
          },
          "scene": {
           "xaxis": {
            "backgroundcolor": "#E5ECF6",
            "gridcolor": "white",
            "gridwidth": 2,
            "linecolor": "white",
            "showbackground": true,
            "ticks": "",
            "zerolinecolor": "white"
           },
           "yaxis": {
            "backgroundcolor": "#E5ECF6",
            "gridcolor": "white",
            "gridwidth": 2,
            "linecolor": "white",
            "showbackground": true,
            "ticks": "",
            "zerolinecolor": "white"
           },
           "zaxis": {
            "backgroundcolor": "#E5ECF6",
            "gridcolor": "white",
            "gridwidth": 2,
            "linecolor": "white",
            "showbackground": true,
            "ticks": "",
            "zerolinecolor": "white"
           }
          },
          "shapedefaults": {
           "line": {
            "color": "#2a3f5f"
           }
          },
          "ternary": {
           "aaxis": {
            "gridcolor": "white",
            "linecolor": "white",
            "ticks": ""
           },
           "baxis": {
            "gridcolor": "white",
            "linecolor": "white",
            "ticks": ""
           },
           "bgcolor": "#E5ECF6",
           "caxis": {
            "gridcolor": "white",
            "linecolor": "white",
            "ticks": ""
           }
          },
          "title": {
           "x": 0.05
          },
          "xaxis": {
           "automargin": true,
           "gridcolor": "white",
           "linecolor": "white",
           "ticks": "",
           "title": {
            "standoff": 15
           },
           "zerolinecolor": "white",
           "zerolinewidth": 2
          },
          "yaxis": {
           "automargin": true,
           "gridcolor": "white",
           "linecolor": "white",
           "ticks": "",
           "title": {
            "standoff": 15
           },
           "zerolinecolor": "white",
           "zerolinewidth": 2
          }
         }
        },
        "title": {
         "font": {
          "color": "#D9D9D9"
         },
         "text": "========VOL------VAR========================"
        },
        "xaxis": {
         "gridcolor": "#434343",
         "showgrid": true,
         "tickfont": {
          "color": "#C2C2C2"
         },
         "title": {
          "font": {
           "color": "#D9D9D9"
          },
          "text": "Volatility"
         },
         "zerolinecolor": "#666570"
        },
        "yaxis": {
         "gridcolor": "#434343",
         "showgrid": true,
         "tickfont": {
          "color": "#C2C2C2"
         },
         "title": {
          "font": {
           "color": "#D9D9D9"
          },
          "text": "VAR"
         },
         "zerolinecolor": "#666570"
        }
       }
      },
      "text/html": [
       "<div>                            <div id=\"61b0525d-9068-4c43-b371-1b1973a667fe\" class=\"plotly-graph-div\" style=\"height:525px; width:100%;\"></div>            <script type=\"text/javascript\">                require([\"plotly\"], function(Plotly) {                    window.PLOTLYENV=window.PLOTLYENV || {};\n",
       "                    window.PLOTLYENV.BASE_URL='https://plot.ly';                                    if (document.getElementById(\"61b0525d-9068-4c43-b371-1b1973a667fe\")) {                    Plotly.newPlot(                        \"61b0525d-9068-4c43-b371-1b1973a667fe\",                        [{\"marker\":{\"color\":\"rgba(255, 153, 51, 1.0)\",\"line\":{\"width\":1.3},\"opacity\":0.8,\"size\":12,\"symbol\":\"circle\"},\"mode\":\"markers\",\"name\":\"POLYCAB.NS\",\"textfont\":{\"color\":\"#D9D9D9\"},\"x\":[38.74601904887244],\"y\":[16834.886161415518],\"type\":\"scatter\"},{\"marker\":{\"color\":\"rgba(55, 128, 191, 1.0)\",\"line\":{\"width\":1.3},\"opacity\":0.8,\"size\":12,\"symbol\":\"circle\"},\"mode\":\"markers\",\"name\":\"TANLA.NS\",\"textfont\":{\"color\":\"#D9D9D9\"},\"x\":[55.52481981206785],\"y\":[32435.337833064725],\"type\":\"scatter\"},{\"marker\":{\"color\":\"rgba(50, 171, 96, 1.0)\",\"line\":{\"width\":1.3},\"opacity\":0.8,\"size\":12,\"symbol\":\"circle\"},\"mode\":\"markers\",\"name\":\"ALKYLAMINE.NS\",\"textfont\":{\"color\":\"#D9D9D9\"},\"x\":[43.122201514623455],\"y\":[25473.15048049367],\"type\":\"scatter\"},{\"marker\":{\"color\":\"rgba(128, 0, 128, 1.0)\",\"line\":{\"width\":1.3},\"opacity\":0.8,\"size\":12,\"symbol\":\"circle\"},\"mode\":\"markers\",\"name\":\"JBCHEPHARM.NS\",\"textfont\":{\"color\":\"#D9D9D9\"},\"x\":[34.793483725876385],\"y\":[23397.59769571132],\"type\":\"scatter\"},{\"marker\":{\"color\":\"rgba(219, 64, 82, 1.0)\",\"line\":{\"width\":1.3},\"opacity\":0.8,\"size\":12,\"symbol\":\"circle\"},\"mode\":\"markers\",\"name\":\"TIPSINDLTD.NS\",\"textfont\":{\"color\":\"#D9D9D9\"},\"x\":[55.80435402981735],\"y\":[46418.17681210309],\"type\":\"scatter\"},{\"marker\":{\"color\":\"rgba(0, 128, 128, 1.0)\",\"line\":{\"width\":1.3},\"opacity\":0.8,\"size\":12,\"symbol\":\"circle\"},\"mode\":\"markers\",\"name\":\"SUMICHEM.NS\",\"textfont\":{\"color\":\"#D9D9D9\"},\"x\":[41.17435684843584],\"y\":[32480.92651502756],\"type\":\"scatter\"},{\"marker\":{\"color\":\"rgba(255, 255, 51, 1.0)\",\"line\":{\"width\":1.3},\"opacity\":0.8,\"size\":12,\"symbol\":\"circle\"},\"mode\":\"markers\",\"name\":\"VINATIORGA.NS\",\"textfont\":{\"color\":\"#D9D9D9\"},\"x\":[36.05314832134178],\"y\":[27664.391438580235],\"type\":\"scatter\"},{\"marker\":{\"color\":\"rgba(128, 128, 0, 1.0)\",\"line\":{\"width\":1.3},\"opacity\":0.8,\"size\":12,\"symbol\":\"circle\"},\"mode\":\"markers\",\"name\":\"GRINDWELL.NS\",\"textfont\":{\"color\":\"#D9D9D9\"},\"x\":[30.89121655252248],\"y\":[24432.0692239271],\"type\":\"scatter\"},{\"marker\":{\"color\":\"rgba(251, 128, 114, 1.0)\",\"line\":{\"width\":1.3},\"opacity\":0.8,\"size\":12,\"symbol\":\"circle\"},\"mode\":\"markers\",\"name\":\"CDSL.NS\",\"textfont\":{\"color\":\"#D9D9D9\"},\"x\":[38.87832057536158],\"y\":[34362.387069037315],\"type\":\"scatter\"},{\"marker\":{\"color\":\"rgba(128, 177, 211, 1.0)\",\"line\":{\"width\":1.3},\"opacity\":0.8,\"size\":12,\"symbol\":\"circle\"},\"mode\":\"markers\",\"name\":\"HINDUNILVR.NS\",\"textfont\":{\"color\":\"#D9D9D9\"},\"x\":[23.63915377931108],\"y\":[18575.96669588101],\"type\":\"scatter\"},{\"marker\":{\"color\":\"rgba(128, 177, 211, 0.8999999999999999)\",\"line\":{\"width\":1.3},\"opacity\":0.8,\"size\":12,\"symbol\":\"circle\"},\"mode\":\"markers\",\"name\":\"COFORGE.NS\",\"textfont\":{\"color\":\"#D9D9D9\"},\"x\":[43.36491645341047],\"y\":[42954.14274282532],\"type\":\"scatter\"},{\"marker\":{\"color\":\"rgba(255, 153, 51, 0.8999999999999999)\",\"line\":{\"width\":1.3},\"opacity\":0.8,\"size\":12,\"symbol\":\"circle\"},\"mode\":\"markers\",\"name\":\"LINDEINDIA.NS\",\"textfont\":{\"color\":\"#D9D9D9\"},\"x\":[40.41074346442657],\"y\":[40641.93834663309],\"type\":\"scatter\"},{\"marker\":{\"color\":\"rgba(55, 128, 191, 0.8999999999999999)\",\"line\":{\"width\":1.3},\"opacity\":0.8,\"size\":12,\"symbol\":\"circle\"},\"mode\":\"markers\",\"name\":\"ADFFOODS.NS\",\"textfont\":{\"color\":\"#D9D9D9\"},\"x\":[46.17352250390415],\"y\":[49518.90905946018],\"type\":\"scatter\"},{\"marker\":{\"color\":\"rgba(50, 171, 96, 0.8999999999999999)\",\"line\":{\"width\":1.3},\"opacity\":0.8,\"size\":12,\"symbol\":\"circle\"},\"mode\":\"markers\",\"name\":\"TCIEXP.NS\",\"textfont\":{\"color\":\"#D9D9D9\"},\"x\":[42.06426989744854],\"y\":[45228.28282195442],\"type\":\"scatter\"},{\"marker\":{\"color\":\"rgba(128, 0, 128, 0.8999999999999999)\",\"line\":{\"width\":1.3},\"opacity\":0.8,\"size\":12,\"symbol\":\"circle\"},\"mode\":\"markers\",\"name\":\"PRIMESECU.NS\",\"textfont\":{\"color\":\"#D9D9D9\"},\"x\":[63.82433430621761],\"y\":[68372.94143496535],\"type\":\"scatter\"},{\"marker\":{\"color\":\"rgba(219, 64, 82, 0.8999999999999999)\",\"line\":{\"width\":1.3},\"opacity\":0.8,\"size\":12,\"symbol\":\"circle\"},\"mode\":\"markers\",\"name\":\"SCHAEFFLER.NS\",\"textfont\":{\"color\":\"#D9D9D9\"},\"x\":[26.20599112715352],\"y\":[27868.273752414447],\"type\":\"scatter\"},{\"marker\":{\"color\":\"rgba(0, 128, 128, 0.8999999999999999)\",\"line\":{\"width\":1.3},\"opacity\":0.8,\"size\":12,\"symbol\":\"circle\"},\"mode\":\"markers\",\"name\":\"IEX.NS\",\"textfont\":{\"color\":\"#D9D9D9\"},\"x\":[37.32226218882577],\"y\":[41084.08101643693],\"type\":\"scatter\"},{\"marker\":{\"color\":\"rgba(255, 255, 51, 0.8999999999999999)\",\"line\":{\"width\":1.3},\"opacity\":0.8,\"size\":12,\"symbol\":\"circle\"},\"mode\":\"markers\",\"name\":\"IGL.NS\",\"textfont\":{\"color\":\"#D9D9D9\"},\"x\":[31.226771390201947],\"y\":[34768.498624439024],\"type\":\"scatter\"},{\"marker\":{\"color\":\"rgba(128, 128, 0, 0.8999999999999999)\",\"line\":{\"width\":1.3},\"opacity\":0.8,\"size\":12,\"symbol\":\"circle\"},\"mode\":\"markers\",\"name\":\"PGHH.NS\",\"textfont\":{\"color\":\"#D9D9D9\"},\"x\":[21.386092753990702],\"y\":[22875.091151360728],\"type\":\"scatter\"},{\"marker\":{\"color\":\"rgba(251, 128, 114, 0.8999999999999999)\",\"line\":{\"width\":1.3},\"opacity\":0.8,\"size\":12,\"symbol\":\"circle\"},\"mode\":\"markers\",\"name\":\"DIVISLAB.NS\",\"textfont\":{\"color\":\"#D9D9D9\"},\"x\":[33.53962083203864],\"y\":[39703.791804893925],\"type\":\"scatter\"},{\"marker\":{\"color\":\"rgba(251, 128, 114, 0.7999999999999998)\",\"line\":{\"width\":1.3},\"opacity\":0.8,\"size\":12,\"symbol\":\"circle\"},\"mode\":\"markers\",\"name\":\"SKFINDIA.NS\",\"textfont\":{\"color\":\"#D9D9D9\"},\"x\":[27.15481133584689],\"y\":[32338.140619150552],\"type\":\"scatter\"},{\"marker\":{\"color\":\"rgba(128, 177, 211, 0.7999999999999998)\",\"line\":{\"width\":1.3},\"opacity\":0.8,\"size\":12,\"symbol\":\"circle\"},\"mode\":\"markers\",\"name\":\"CAPLIPOINT.NS\",\"textfont\":{\"color\":\"#D9D9D9\"},\"x\":[51.93669303672043],\"y\":[60546.51417159053],\"type\":\"scatter\"},{\"marker\":{\"color\":\"rgba(255, 153, 51, 0.7999999999999998)\",\"line\":{\"width\":1.3},\"opacity\":0.8,\"size\":12,\"symbol\":\"circle\"},\"mode\":\"markers\",\"name\":\"TIDEWATER.NS\",\"textfont\":{\"color\":\"#D9D9D9\"},\"x\":[36.01153745794804],\"y\":[42983.36904829733],\"type\":\"scatter\"},{\"marker\":{\"color\":\"rgba(55, 128, 191, 0.7999999999999998)\",\"line\":{\"width\":1.3},\"opacity\":0.8,\"size\":12,\"symbol\":\"circle\"},\"mode\":\"markers\",\"name\":\"ESABINDIA.NS\",\"textfont\":{\"color\":\"#D9D9D9\"},\"x\":[41.974886436349856],\"y\":[51645.24460906842],\"type\":\"scatter\"},{\"marker\":{\"color\":\"rgba(50, 171, 96, 0.7999999999999998)\",\"line\":{\"width\":1.3},\"opacity\":0.8,\"size\":12,\"symbol\":\"circle\"},\"mode\":\"markers\",\"name\":\"SUPREMEIND.NS\",\"textfont\":{\"color\":\"#D9D9D9\"},\"x\":[29.730654494442188],\"y\":[37128.46583230055],\"type\":\"scatter\"},{\"marker\":{\"color\":\"rgba(128, 0, 128, 0.7999999999999998)\",\"line\":{\"width\":1.3},\"opacity\":0.8,\"size\":12,\"symbol\":\"circle\"},\"mode\":\"markers\",\"name\":\"GULPOLY.NS\",\"textfont\":{\"color\":\"#D9D9D9\"},\"x\":[46.18534032095069],\"y\":[57836.95367170273],\"type\":\"scatter\"},{\"marker\":{\"color\":\"rgba(219, 64, 82, 0.7999999999999998)\",\"line\":{\"width\":1.3},\"opacity\":0.8,\"size\":12,\"symbol\":\"circle\"},\"mode\":\"markers\",\"name\":\"INTELLECT.NS\",\"textfont\":{\"color\":\"#D9D9D9\"},\"x\":[53.59799975463401],\"y\":[66304.66064801184],\"type\":\"scatter\"},{\"marker\":{\"color\":\"rgba(0, 128, 128, 0.7999999999999998)\",\"line\":{\"width\":1.3},\"opacity\":0.8,\"size\":12,\"symbol\":\"circle\"},\"mode\":\"markers\",\"name\":\"PRAJIND.NS\",\"textfont\":{\"color\":\"#D9D9D9\"},\"x\":[50.0254599768889],\"y\":[62845.75784052423],\"type\":\"scatter\"},{\"marker\":{\"color\":\"rgba(255, 255, 51, 0.7999999999999998)\",\"line\":{\"width\":1.3},\"opacity\":0.8,\"size\":12,\"symbol\":\"circle\"},\"mode\":\"markers\",\"name\":\"SANOFI.NS\",\"textfont\":{\"color\":\"#D9D9D9\"},\"x\":[22.078386204121685],\"y\":[29717.31517653401],\"type\":\"scatter\"},{\"marker\":{\"color\":\"rgba(128, 128, 0, 0.7999999999999998)\",\"line\":{\"width\":1.3},\"opacity\":0.8,\"size\":12,\"symbol\":\"circle\"},\"mode\":\"markers\",\"name\":\"RPGLIFE.NS\",\"textfont\":{\"color\":\"#D9D9D9\"},\"x\":[51.96337077497307],\"y\":[66417.5080724685],\"type\":\"scatter\"},{\"marker\":{\"color\":\"rgba(128, 128, 0, 0.7)\",\"line\":{\"width\":1.3},\"opacity\":0.8,\"size\":12,\"symbol\":\"circle\"},\"mode\":\"markers\",\"name\":\"FCL.NS\",\"textfont\":{\"color\":\"#D9D9D9\"},\"x\":[61.881697852956144],\"y\":[75655.86738127575],\"type\":\"scatter\"},{\"marker\":{\"color\":\"rgba(251, 128, 114, 0.7)\",\"line\":{\"width\":1.3},\"opacity\":0.8,\"size\":12,\"symbol\":\"circle\"},\"mode\":\"markers\",\"name\":\"BEL.NS\",\"textfont\":{\"color\":\"#D9D9D9\"},\"x\":[38.18768614957634],\"y\":[53341.751838293545],\"type\":\"scatter\"},{\"marker\":{\"color\":\"rgba(128, 177, 211, 0.7)\",\"line\":{\"width\":1.3},\"opacity\":0.8,\"size\":12,\"symbol\":\"circle\"},\"mode\":\"markers\",\"name\":\"AMRUTANJAN.NS\",\"textfont\":{\"color\":\"#D9D9D9\"},\"x\":[39.99703474381244],\"y\":[55974.59009248462],\"type\":\"scatter\"},{\"marker\":{\"color\":\"rgba(255, 153, 51, 0.7)\",\"line\":{\"width\":1.3},\"opacity\":0.8,\"size\":12,\"symbol\":\"circle\"},\"mode\":\"markers\",\"name\":\"AVANTIFEED.NS\",\"textfont\":{\"color\":\"#D9D9D9\"},\"x\":[46.36850272300695],\"y\":[64344.818285114496],\"type\":\"scatter\"},{\"marker\":{\"color\":\"rgba(55, 128, 191, 0.7)\",\"line\":{\"width\":1.3},\"opacity\":0.8,\"size\":12,\"symbol\":\"circle\"},\"mode\":\"markers\",\"name\":\"INGERRAND.NS\",\"textfont\":{\"color\":\"#D9D9D9\"},\"x\":[32.39278557880419],\"y\":[49225.87010843092],\"type\":\"scatter\"},{\"marker\":{\"color\":\"rgba(50, 171, 96, 0.7)\",\"line\":{\"width\":1.3},\"opacity\":0.8,\"size\":12,\"symbol\":\"circle\"},\"mode\":\"markers\",\"name\":\"ADORWELD.NS\",\"textfont\":{\"color\":\"#D9D9D9\"},\"x\":[46.97788183310662],\"y\":[65879.9166310438],\"type\":\"scatter\"},{\"marker\":{\"color\":\"rgba(128, 0, 128, 0.7)\",\"line\":{\"width\":1.3},\"opacity\":0.8,\"size\":12,\"symbol\":\"circle\"},\"mode\":\"markers\",\"name\":\"VINYLINDIA.NS\",\"textfont\":{\"color\":\"#D9D9D9\"},\"x\":[51.353229080927306],\"y\":[71348.69452308214],\"type\":\"scatter\"},{\"marker\":{\"color\":\"rgba(219, 64, 82, 0.7)\",\"line\":{\"width\":1.3},\"opacity\":0.8,\"size\":12,\"symbol\":\"circle\"},\"mode\":\"markers\",\"name\":\"VSTIND.NS\",\"textfont\":{\"color\":\"#D9D9D9\"},\"x\":[27.226352818768607],\"y\":[43479.40977247318],\"type\":\"scatter\"},{\"marker\":{\"color\":\"rgba(0, 128, 128, 0.7)\",\"line\":{\"width\":1.3},\"opacity\":0.8,\"size\":12,\"symbol\":\"circle\"},\"mode\":\"markers\",\"name\":\"KSB.NS\",\"textfont\":{\"color\":\"#D9D9D9\"},\"x\":[34.14799764035527],\"y\":[53504.86520327211],\"type\":\"scatter\"},{\"marker\":{\"color\":\"rgba(255, 255, 51, 0.7)\",\"line\":{\"width\":1.3},\"opacity\":0.8,\"size\":12,\"symbol\":\"circle\"},\"mode\":\"markers\",\"name\":\"EXPLEOSOL.NS\",\"textfont\":{\"color\":\"#D9D9D9\"},\"x\":[39.45324107552503],\"y\":[60989.92420489033],\"type\":\"scatter\"},{\"marker\":{\"color\":\"rgba(255, 255, 51, 0.5999999999999999)\",\"line\":{\"width\":1.3},\"opacity\":0.8,\"size\":12,\"symbol\":\"circle\"},\"mode\":\"markers\",\"name\":\"AJANTPHARM.NS\",\"textfont\":{\"color\":\"#D9D9D9\"},\"x\":[32.90482394633117],\"y\":[53131.93639321916],\"type\":\"scatter\"},{\"marker\":{\"color\":\"rgba(128, 128, 0, 0.5999999999999999)\",\"line\":{\"width\":1.3},\"opacity\":0.8,\"size\":12,\"symbol\":\"circle\"},\"mode\":\"markers\",\"name\":\"RSYSTEMS.NS\",\"textfont\":{\"color\":\"#D9D9D9\"},\"x\":[47.75115816147286],\"y\":[70136.5771699785],\"type\":\"scatter\"},{\"marker\":{\"color\":\"rgba(251, 128, 114, 0.5999999999999999)\",\"line\":{\"width\":1.3},\"opacity\":0.8,\"size\":12,\"symbol\":\"circle\"},\"mode\":\"markers\",\"name\":\"SHARDACROP.NS\",\"textfont\":{\"color\":\"#D9D9D9\"},\"x\":[44.45538251433841],\"y\":[67297.12516032743],\"type\":\"scatter\"}],                        {\"legend\":{\"bgcolor\":\"#151516\",\"font\":{\"color\":\"#D9D9D9\"}},\"paper_bgcolor\":\"#151516\",\"plot_bgcolor\":\"#151516\",\"template\":{\"data\":{\"barpolar\":[{\"marker\":{\"line\":{\"color\":\"#E5ECF6\",\"width\":0.5},\"pattern\":{\"fillmode\":\"overlay\",\"size\":10,\"solidity\":0.2}},\"type\":\"barpolar\"}],\"bar\":[{\"error_x\":{\"color\":\"#2a3f5f\"},\"error_y\":{\"color\":\"#2a3f5f\"},\"marker\":{\"line\":{\"color\":\"#E5ECF6\",\"width\":0.5},\"pattern\":{\"fillmode\":\"overlay\",\"size\":10,\"solidity\":0.2}},\"type\":\"bar\"}],\"carpet\":[{\"aaxis\":{\"endlinecolor\":\"#2a3f5f\",\"gridcolor\":\"white\",\"linecolor\":\"white\",\"minorgridcolor\":\"white\",\"startlinecolor\":\"#2a3f5f\"},\"baxis\":{\"endlinecolor\":\"#2a3f5f\",\"gridcolor\":\"white\",\"linecolor\":\"white\",\"minorgridcolor\":\"white\",\"startlinecolor\":\"#2a3f5f\"},\"type\":\"carpet\"}],\"choropleth\":[{\"colorbar\":{\"outlinewidth\":0,\"ticks\":\"\"},\"type\":\"choropleth\"}],\"contourcarpet\":[{\"colorbar\":{\"outlinewidth\":0,\"ticks\":\"\"},\"type\":\"contourcarpet\"}],\"contour\":[{\"colorbar\":{\"outlinewidth\":0,\"ticks\":\"\"},\"colorscale\":[[0.0,\"#0d0887\"],[0.1111111111111111,\"#46039f\"],[0.2222222222222222,\"#7201a8\"],[0.3333333333333333,\"#9c179e\"],[0.4444444444444444,\"#bd3786\"],[0.5555555555555556,\"#d8576b\"],[0.6666666666666666,\"#ed7953\"],[0.7777777777777778,\"#fb9f3a\"],[0.8888888888888888,\"#fdca26\"],[1.0,\"#f0f921\"]],\"type\":\"contour\"}],\"heatmapgl\":[{\"colorbar\":{\"outlinewidth\":0,\"ticks\":\"\"},\"colorscale\":[[0.0,\"#0d0887\"],[0.1111111111111111,\"#46039f\"],[0.2222222222222222,\"#7201a8\"],[0.3333333333333333,\"#9c179e\"],[0.4444444444444444,\"#bd3786\"],[0.5555555555555556,\"#d8576b\"],[0.6666666666666666,\"#ed7953\"],[0.7777777777777778,\"#fb9f3a\"],[0.8888888888888888,\"#fdca26\"],[1.0,\"#f0f921\"]],\"type\":\"heatmapgl\"}],\"heatmap\":[{\"colorbar\":{\"outlinewidth\":0,\"ticks\":\"\"},\"colorscale\":[[0.0,\"#0d0887\"],[0.1111111111111111,\"#46039f\"],[0.2222222222222222,\"#7201a8\"],[0.3333333333333333,\"#9c179e\"],[0.4444444444444444,\"#bd3786\"],[0.5555555555555556,\"#d8576b\"],[0.6666666666666666,\"#ed7953\"],[0.7777777777777778,\"#fb9f3a\"],[0.8888888888888888,\"#fdca26\"],[1.0,\"#f0f921\"]],\"type\":\"heatmap\"}],\"histogram2dcontour\":[{\"colorbar\":{\"outlinewidth\":0,\"ticks\":\"\"},\"colorscale\":[[0.0,\"#0d0887\"],[0.1111111111111111,\"#46039f\"],[0.2222222222222222,\"#7201a8\"],[0.3333333333333333,\"#9c179e\"],[0.4444444444444444,\"#bd3786\"],[0.5555555555555556,\"#d8576b\"],[0.6666666666666666,\"#ed7953\"],[0.7777777777777778,\"#fb9f3a\"],[0.8888888888888888,\"#fdca26\"],[1.0,\"#f0f921\"]],\"type\":\"histogram2dcontour\"}],\"histogram2d\":[{\"colorbar\":{\"outlinewidth\":0,\"ticks\":\"\"},\"colorscale\":[[0.0,\"#0d0887\"],[0.1111111111111111,\"#46039f\"],[0.2222222222222222,\"#7201a8\"],[0.3333333333333333,\"#9c179e\"],[0.4444444444444444,\"#bd3786\"],[0.5555555555555556,\"#d8576b\"],[0.6666666666666666,\"#ed7953\"],[0.7777777777777778,\"#fb9f3a\"],[0.8888888888888888,\"#fdca26\"],[1.0,\"#f0f921\"]],\"type\":\"histogram2d\"}],\"histogram\":[{\"marker\":{\"pattern\":{\"fillmode\":\"overlay\",\"size\":10,\"solidity\":0.2}},\"type\":\"histogram\"}],\"mesh3d\":[{\"colorbar\":{\"outlinewidth\":0,\"ticks\":\"\"},\"type\":\"mesh3d\"}],\"parcoords\":[{\"line\":{\"colorbar\":{\"outlinewidth\":0,\"ticks\":\"\"}},\"type\":\"parcoords\"}],\"pie\":[{\"automargin\":true,\"type\":\"pie\"}],\"scatter3d\":[{\"line\":{\"colorbar\":{\"outlinewidth\":0,\"ticks\":\"\"}},\"marker\":{\"colorbar\":{\"outlinewidth\":0,\"ticks\":\"\"}},\"type\":\"scatter3d\"}],\"scattercarpet\":[{\"marker\":{\"colorbar\":{\"outlinewidth\":0,\"ticks\":\"\"}},\"type\":\"scattercarpet\"}],\"scattergeo\":[{\"marker\":{\"colorbar\":{\"outlinewidth\":0,\"ticks\":\"\"}},\"type\":\"scattergeo\"}],\"scattergl\":[{\"marker\":{\"colorbar\":{\"outlinewidth\":0,\"ticks\":\"\"}},\"type\":\"scattergl\"}],\"scattermapbox\":[{\"marker\":{\"colorbar\":{\"outlinewidth\":0,\"ticks\":\"\"}},\"type\":\"scattermapbox\"}],\"scatterpolargl\":[{\"marker\":{\"colorbar\":{\"outlinewidth\":0,\"ticks\":\"\"}},\"type\":\"scatterpolargl\"}],\"scatterpolar\":[{\"marker\":{\"colorbar\":{\"outlinewidth\":0,\"ticks\":\"\"}},\"type\":\"scatterpolar\"}],\"scatter\":[{\"fillpattern\":{\"fillmode\":\"overlay\",\"size\":10,\"solidity\":0.2},\"type\":\"scatter\"}],\"scatterternary\":[{\"marker\":{\"colorbar\":{\"outlinewidth\":0,\"ticks\":\"\"}},\"type\":\"scatterternary\"}],\"surface\":[{\"colorbar\":{\"outlinewidth\":0,\"ticks\":\"\"},\"colorscale\":[[0.0,\"#0d0887\"],[0.1111111111111111,\"#46039f\"],[0.2222222222222222,\"#7201a8\"],[0.3333333333333333,\"#9c179e\"],[0.4444444444444444,\"#bd3786\"],[0.5555555555555556,\"#d8576b\"],[0.6666666666666666,\"#ed7953\"],[0.7777777777777778,\"#fb9f3a\"],[0.8888888888888888,\"#fdca26\"],[1.0,\"#f0f921\"]],\"type\":\"surface\"}],\"table\":[{\"cells\":{\"fill\":{\"color\":\"#EBF0F8\"},\"line\":{\"color\":\"white\"}},\"header\":{\"fill\":{\"color\":\"#C8D4E3\"},\"line\":{\"color\":\"white\"}},\"type\":\"table\"}]},\"layout\":{\"annotationdefaults\":{\"arrowcolor\":\"#2a3f5f\",\"arrowhead\":0,\"arrowwidth\":1},\"autotypenumbers\":\"strict\",\"coloraxis\":{\"colorbar\":{\"outlinewidth\":0,\"ticks\":\"\"}},\"colorscale\":{\"diverging\":[[0,\"#8e0152\"],[0.1,\"#c51b7d\"],[0.2,\"#de77ae\"],[0.3,\"#f1b6da\"],[0.4,\"#fde0ef\"],[0.5,\"#f7f7f7\"],[0.6,\"#e6f5d0\"],[0.7,\"#b8e186\"],[0.8,\"#7fbc41\"],[0.9,\"#4d9221\"],[1,\"#276419\"]],\"sequential\":[[0.0,\"#0d0887\"],[0.1111111111111111,\"#46039f\"],[0.2222222222222222,\"#7201a8\"],[0.3333333333333333,\"#9c179e\"],[0.4444444444444444,\"#bd3786\"],[0.5555555555555556,\"#d8576b\"],[0.6666666666666666,\"#ed7953\"],[0.7777777777777778,\"#fb9f3a\"],[0.8888888888888888,\"#fdca26\"],[1.0,\"#f0f921\"]],\"sequentialminus\":[[0.0,\"#0d0887\"],[0.1111111111111111,\"#46039f\"],[0.2222222222222222,\"#7201a8\"],[0.3333333333333333,\"#9c179e\"],[0.4444444444444444,\"#bd3786\"],[0.5555555555555556,\"#d8576b\"],[0.6666666666666666,\"#ed7953\"],[0.7777777777777778,\"#fb9f3a\"],[0.8888888888888888,\"#fdca26\"],[1.0,\"#f0f921\"]]},\"colorway\":[\"#636efa\",\"#EF553B\",\"#00cc96\",\"#ab63fa\",\"#FFA15A\",\"#19d3f3\",\"#FF6692\",\"#B6E880\",\"#FF97FF\",\"#FECB52\"],\"font\":{\"color\":\"#2a3f5f\"},\"geo\":{\"bgcolor\":\"white\",\"lakecolor\":\"white\",\"landcolor\":\"#E5ECF6\",\"showlakes\":true,\"showland\":true,\"subunitcolor\":\"white\"},\"hoverlabel\":{\"align\":\"left\"},\"hovermode\":\"closest\",\"mapbox\":{\"style\":\"light\"},\"paper_bgcolor\":\"white\",\"plot_bgcolor\":\"#E5ECF6\",\"polar\":{\"angularaxis\":{\"gridcolor\":\"white\",\"linecolor\":\"white\",\"ticks\":\"\"},\"bgcolor\":\"#E5ECF6\",\"radialaxis\":{\"gridcolor\":\"white\",\"linecolor\":\"white\",\"ticks\":\"\"}},\"scene\":{\"xaxis\":{\"backgroundcolor\":\"#E5ECF6\",\"gridcolor\":\"white\",\"gridwidth\":2,\"linecolor\":\"white\",\"showbackground\":true,\"ticks\":\"\",\"zerolinecolor\":\"white\"},\"yaxis\":{\"backgroundcolor\":\"#E5ECF6\",\"gridcolor\":\"white\",\"gridwidth\":2,\"linecolor\":\"white\",\"showbackground\":true,\"ticks\":\"\",\"zerolinecolor\":\"white\"},\"zaxis\":{\"backgroundcolor\":\"#E5ECF6\",\"gridcolor\":\"white\",\"gridwidth\":2,\"linecolor\":\"white\",\"showbackground\":true,\"ticks\":\"\",\"zerolinecolor\":\"white\"}},\"shapedefaults\":{\"line\":{\"color\":\"#2a3f5f\"}},\"ternary\":{\"aaxis\":{\"gridcolor\":\"white\",\"linecolor\":\"white\",\"ticks\":\"\"},\"baxis\":{\"gridcolor\":\"white\",\"linecolor\":\"white\",\"ticks\":\"\"},\"bgcolor\":\"#E5ECF6\",\"caxis\":{\"gridcolor\":\"white\",\"linecolor\":\"white\",\"ticks\":\"\"}},\"title\":{\"x\":0.05},\"xaxis\":{\"automargin\":true,\"gridcolor\":\"white\",\"linecolor\":\"white\",\"ticks\":\"\",\"title\":{\"standoff\":15},\"zerolinecolor\":\"white\",\"zerolinewidth\":2},\"yaxis\":{\"automargin\":true,\"gridcolor\":\"white\",\"linecolor\":\"white\",\"ticks\":\"\",\"title\":{\"standoff\":15},\"zerolinecolor\":\"white\",\"zerolinewidth\":2}}},\"title\":{\"font\":{\"color\":\"#D9D9D9\"},\"text\":\"========VOL------VAR========================\"},\"xaxis\":{\"gridcolor\":\"#434343\",\"showgrid\":true,\"tickfont\":{\"color\":\"#C2C2C2\"},\"title\":{\"font\":{\"color\":\"#D9D9D9\"},\"text\":\"Volatility\"},\"zerolinecolor\":\"#666570\"},\"yaxis\":{\"gridcolor\":\"#434343\",\"showgrid\":true,\"tickfont\":{\"color\":\"#C2C2C2\"},\"title\":{\"font\":{\"color\":\"#D9D9D9\"},\"text\":\"VAR\"},\"zerolinecolor\":\"#666570\"}},                        {\"showLink\": true, \"linkText\": \"Export to plot.ly\", \"plotlyServerURL\": \"https://plot.ly\", \"responsive\": true}                    ).then(function(){\n",
       "                            \n",
       "var gd = document.getElementById('61b0525d-9068-4c43-b371-1b1973a667fe');\n",
       "var x = new MutationObserver(function (mutations, observer) {{\n",
       "        var display = window.getComputedStyle(gd).display;\n",
       "        if (!display || display === 'none') {{\n",
       "            console.log([gd, 'removed!']);\n",
       "            Plotly.purge(gd);\n",
       "            observer.disconnect();\n",
       "        }}\n",
       "}});\n",
       "\n",
       "// Listen for the removal of the full notebook cells\n",
       "var notebookContainer = gd.closest('#notebook-container');\n",
       "if (notebookContainer) {{\n",
       "    x.observe(notebookContainer, {childList: true});\n",
       "}}\n",
       "\n",
       "// Listen for the clearing of the current output cell\n",
       "var outputEl = gd.closest('.output');\n",
       "if (outputEl) {{\n",
       "    x.observe(outputEl, {childList: true});\n",
       "}}\n",
       "\n",
       "                        })                };                });            </script>        </div>"
      ]
     },
     "metadata": {},
     "output_type": "display_data"
    }
   ],
   "source": [
    "\n",
    "df1.iplot(kind=\"scatter\",\n",
    "              x=\"Volatility%\", y='Value at Risk',\n",
    "              mode='markers',\n",
    "              xTitle=\"Volatility\", yTitle=\"VAR\",\n",
    "              title=\"========VOL------VAR========================\", categories=\"Ticker\",theme=\"solar\")"
   ]
  },
  {
   "cell_type": "code",
   "execution_count": 19,
   "id": "1bc7a636",
   "metadata": {},
   "outputs": [
    {
     "data": {
      "application/vnd.plotly.v1+json": {
       "config": {
        "linkText": "Export to plot.ly",
        "plotlyServerURL": "https://plot.ly",
        "showLink": true
       },
       "data": [
        {
         "marker": {
          "color": "rgba(255, 153, 51, 1.0)",
          "line": {
           "width": 1.3
          },
          "opacity": 0.8,
          "size": 12,
          "symbol": "circle"
         },
         "mode": "markers",
         "name": "POLYCAB.NS",
         "textfont": {
          "color": "#D9D9D9"
         },
         "type": "scatter",
         "x": [
          39.15699522779303
         ],
         "y": [
          16834.886161415518
         ]
        },
        {
         "marker": {
          "color": "rgba(55, 128, 191, 1.0)",
          "line": {
           "width": 1.3
          },
          "opacity": 0.8,
          "size": 12,
          "symbol": "circle"
         },
         "mode": "markers",
         "name": "TANLA.NS",
         "textfont": {
          "color": "#D9D9D9"
         },
         "type": "scatter",
         "x": [
          55.57964031833973
         ],
         "y": [
          32435.337833064725
         ]
        },
        {
         "marker": {
          "color": "rgba(50, 171, 96, 1.0)",
          "line": {
           "width": 1.3
          },
          "opacity": 0.8,
          "size": 12,
          "symbol": "circle"
         },
         "mode": "markers",
         "name": "ALKYLAMINE.NS",
         "textfont": {
          "color": "#D9D9D9"
         },
         "type": "scatter",
         "x": [
          40.72438551747389
         ],
         "y": [
          25473.15048049367
         ]
        },
        {
         "marker": {
          "color": "rgba(128, 0, 128, 1.0)",
          "line": {
           "width": 1.3
          },
          "opacity": 0.8,
          "size": 12,
          "symbol": "circle"
         },
         "mode": "markers",
         "name": "JBCHEPHARM.NS",
         "textfont": {
          "color": "#D9D9D9"
         },
         "type": "scatter",
         "x": [
          30.107188785751248
         ],
         "y": [
          23397.59769571132
         ]
        },
        {
         "marker": {
          "color": "rgba(219, 64, 82, 1.0)",
          "line": {
           "width": 1.3
          },
          "opacity": 0.8,
          "size": 12,
          "symbol": "circle"
         },
         "mode": "markers",
         "name": "TIPSINDLTD.NS",
         "textfont": {
          "color": "#D9D9D9"
         },
         "type": "scatter",
         "x": [
          47.77455874807629
         ],
         "y": [
          46418.17681210309
         ]
        },
        {
         "marker": {
          "color": "rgba(0, 128, 128, 1.0)",
          "line": {
           "width": 1.3
          },
          "opacity": 0.8,
          "size": 12,
          "symbol": "circle"
         },
         "mode": "markers",
         "name": "SUMICHEM.NS",
         "textfont": {
          "color": "#D9D9D9"
         },
         "type": "scatter",
         "x": [
          34.828679900053686
         ],
         "y": [
          32480.92651502756
         ]
        },
        {
         "marker": {
          "color": "rgba(255, 255, 51, 1.0)",
          "line": {
           "width": 1.3
          },
          "opacity": 0.8,
          "size": 12,
          "symbol": "circle"
         },
         "mode": "markers",
         "name": "VINATIORGA.NS",
         "textfont": {
          "color": "#D9D9D9"
         },
         "type": "scatter",
         "x": [
          29.876899204075137
         ],
         "y": [
          27664.391438580235
         ]
        },
        {
         "marker": {
          "color": "rgba(128, 128, 0, 1.0)",
          "line": {
           "width": 1.3
          },
          "opacity": 0.8,
          "size": 12,
          "symbol": "circle"
         },
         "mode": "markers",
         "name": "GRINDWELL.NS",
         "textfont": {
          "color": "#D9D9D9"
         },
         "type": "scatter",
         "x": [
          24.82567902717624
         ],
         "y": [
          24432.0692239271
         ]
        },
        {
         "marker": {
          "color": "rgba(251, 128, 114, 1.0)",
          "line": {
           "width": 1.3
          },
          "opacity": 0.8,
          "size": 12,
          "symbol": "circle"
         },
         "mode": "markers",
         "name": "CDSL.NS",
         "textfont": {
          "color": "#D9D9D9"
         },
         "type": "scatter",
         "x": [
          30.59526199444621
         ],
         "y": [
          34362.387069037315
         ]
        },
        {
         "marker": {
          "color": "rgba(128, 177, 211, 1.0)",
          "line": {
           "width": 1.3
          },
          "opacity": 0.8,
          "size": 12,
          "symbol": "circle"
         },
         "mode": "markers",
         "name": "HINDUNILVR.NS",
         "textfont": {
          "color": "#D9D9D9"
         },
         "type": "scatter",
         "x": [
          18.52558285130615
         ],
         "y": [
          18575.96669588101
         ]
        },
        {
         "marker": {
          "color": "rgba(128, 177, 211, 0.8999999999999999)",
          "line": {
           "width": 1.3
          },
          "opacity": 0.8,
          "size": 12,
          "symbol": "circle"
         },
         "mode": "markers",
         "name": "COFORGE.NS",
         "textfont": {
          "color": "#D9D9D9"
         },
         "type": "scatter",
         "x": [
          32.096868927207
         ],
         "y": [
          42954.14274282532
         ]
        },
        {
         "marker": {
          "color": "rgba(255, 153, 51, 0.8999999999999999)",
          "line": {
           "width": 1.3
          },
          "opacity": 0.8,
          "size": 12,
          "symbol": "circle"
         },
         "mode": "markers",
         "name": "LINDEINDIA.NS",
         "textfont": {
          "color": "#D9D9D9"
         },
         "type": "scatter",
         "x": [
          29.20871858332729
         ],
         "y": [
          40641.93834663309
         ]
        },
        {
         "marker": {
          "color": "rgba(55, 128, 191, 0.8999999999999999)",
          "line": {
           "width": 1.3
          },
          "opacity": 0.8,
          "size": 12,
          "symbol": "circle"
         },
         "mode": "markers",
         "name": "ADFFOODS.NS",
         "textfont": {
          "color": "#D9D9D9"
         },
         "type": "scatter",
         "x": [
          31.74961134291572
         ],
         "y": [
          49518.90905946018
         ]
        },
        {
         "marker": {
          "color": "rgba(50, 171, 96, 0.8999999999999999)",
          "line": {
           "width": 1.3
          },
          "opacity": 0.8,
          "size": 12,
          "symbol": "circle"
         },
         "mode": "markers",
         "name": "TCIEXP.NS",
         "textfont": {
          "color": "#D9D9D9"
         },
         "type": "scatter",
         "x": [
          28.769018269544144
         ],
         "y": [
          45228.28282195442
         ]
        },
        {
         "marker": {
          "color": "rgba(128, 0, 128, 0.8999999999999999)",
          "line": {
           "width": 1.3
          },
          "opacity": 0.8,
          "size": 12,
          "symbol": "circle"
         },
         "mode": "markers",
         "name": "PRIMESECU.NS",
         "textfont": {
          "color": "#D9D9D9"
         },
         "type": "scatter",
         "x": [
          42.66948007268733
         ],
         "y": [
          68372.94143496535
         ]
        },
        {
         "marker": {
          "color": "rgba(219, 64, 82, 0.8999999999999999)",
          "line": {
           "width": 1.3
          },
          "opacity": 0.8,
          "size": 12,
          "symbol": "circle"
         },
         "mode": "markers",
         "name": "SCHAEFFLER.NS",
         "textfont": {
          "color": "#D9D9D9"
         },
         "type": "scatter",
         "x": [
          17.47383206536319
         ],
         "y": [
          27868.273752414447
         ]
        },
        {
         "marker": {
          "color": "rgba(0, 128, 128, 0.8999999999999999)",
          "line": {
           "width": 1.3
          },
          "opacity": 0.8,
          "size": 12,
          "symbol": "circle"
         },
         "mode": "markers",
         "name": "IEX.NS",
         "textfont": {
          "color": "#D9D9D9"
         },
         "type": "scatter",
         "x": [
          24.815186585486416
         ],
         "y": [
          41084.08101643693
         ]
        },
        {
         "marker": {
          "color": "rgba(255, 255, 51, 0.8999999999999999)",
          "line": {
           "width": 1.3
          },
          "opacity": 0.8,
          "size": 12,
          "symbol": "circle"
         },
         "mode": "markers",
         "name": "IGL.NS",
         "textfont": {
          "color": "#D9D9D9"
         },
         "type": "scatter",
         "x": [
          20.292275611949623
         ],
         "y": [
          34768.498624439024
         ]
        },
        {
         "marker": {
          "color": "rgba(128, 128, 0, 0.8999999999999999)",
          "line": {
           "width": 1.3
          },
          "opacity": 0.8,
          "size": 12,
          "symbol": "circle"
         },
         "mode": "markers",
         "name": "PGHH.NS",
         "textfont": {
          "color": "#D9D9D9"
         },
         "type": "scatter",
         "x": [
          13.891455139329295
         ],
         "y": [
          22875.091151360728
         ]
        },
        {
         "marker": {
          "color": "rgba(251, 128, 114, 0.8999999999999999)",
          "line": {
           "width": 1.3
          },
          "opacity": 0.8,
          "size": 12,
          "symbol": "circle"
         },
         "mode": "markers",
         "name": "DIVISLAB.NS",
         "textfont": {
          "color": "#D9D9D9"
         },
         "type": "scatter",
         "x": [
          20.712661811848
         ],
         "y": [
          39703.791804893925
         ]
        },
        {
         "marker": {
          "color": "rgba(251, 128, 114, 0.7999999999999998)",
          "line": {
           "width": 1.3
          },
          "opacity": 0.8,
          "size": 12,
          "symbol": "circle"
         },
         "mode": "markers",
         "name": "SKFINDIA.NS",
         "textfont": {
          "color": "#D9D9D9"
         },
         "type": "scatter",
         "x": [
          16.468967368854763
         ],
         "y": [
          32338.140619150552
         ]
        },
        {
         "marker": {
          "color": "rgba(128, 177, 211, 0.7999999999999998)",
          "line": {
           "width": 1.3
          },
          "opacity": 0.8,
          "size": 12,
          "symbol": "circle"
         },
         "mode": "markers",
         "name": "CAPLIPOINT.NS",
         "textfont": {
          "color": "#D9D9D9"
         },
         "type": "scatter",
         "x": [
          31.32893565131886
         ],
         "y": [
          60546.51417159053
         ]
        },
        {
         "marker": {
          "color": "rgba(255, 153, 51, 0.7999999999999998)",
          "line": {
           "width": 1.3
          },
          "opacity": 0.8,
          "size": 12,
          "symbol": "circle"
         },
         "mode": "markers",
         "name": "TIDEWATER.NS",
         "textfont": {
          "color": "#D9D9D9"
         },
         "type": "scatter",
         "x": [
          21.69272672506582
         ],
         "y": [
          42983.36904829733
         ]
        },
        {
         "marker": {
          "color": "rgba(55, 128, 191, 0.7999999999999998)",
          "line": {
           "width": 1.3
          },
          "opacity": 0.8,
          "size": 12,
          "symbol": "circle"
         },
         "mode": "markers",
         "name": "ESABINDIA.NS",
         "textfont": {
          "color": "#D9D9D9"
         },
         "type": "scatter",
         "x": [
          23.95887684974084
         ],
         "y": [
          51645.24460906842
         ]
        },
        {
         "marker": {
          "color": "rgba(50, 171, 96, 0.7999999999999998)",
          "line": {
           "width": 1.3
          },
          "opacity": 0.8,
          "size": 12,
          "symbol": "circle"
         },
         "mode": "markers",
         "name": "SUPREMEIND.NS",
         "textfont": {
          "color": "#D9D9D9"
         },
         "type": "scatter",
         "x": [
          16.838112898697215
         ],
         "y": [
          37128.46583230055
         ]
        },
        {
         "marker": {
          "color": "rgba(128, 0, 128, 0.7999999999999998)",
          "line": {
           "width": 1.3
          },
          "opacity": 0.8,
          "size": 12,
          "symbol": "circle"
         },
         "mode": "markers",
         "name": "GULPOLY.NS",
         "textfont": {
          "color": "#D9D9D9"
         },
         "type": "scatter",
         "x": [
          25.67804649216572
         ],
         "y": [
          57836.95367170273
         ]
        },
        {
         "marker": {
          "color": "rgba(219, 64, 82, 0.7999999999999998)",
          "line": {
           "width": 1.3
          },
          "opacity": 0.8,
          "size": 12,
          "symbol": "circle"
         },
         "mode": "markers",
         "name": "INTELLECT.NS",
         "textfont": {
          "color": "#D9D9D9"
         },
         "type": "scatter",
         "x": [
          28.88493726158779
         ],
         "y": [
          66304.66064801184
         ]
        },
        {
         "marker": {
          "color": "rgba(0, 128, 128, 0.7999999999999998)",
          "line": {
           "width": 1.3
          },
          "opacity": 0.8,
          "size": 12,
          "symbol": "circle"
         },
         "mode": "markers",
         "name": "PRAJIND.NS",
         "textfont": {
          "color": "#D9D9D9"
         },
         "type": "scatter",
         "x": [
          26.74506758141257
         ],
         "y": [
          62845.75784052423
         ]
        },
        {
         "marker": {
          "color": "rgba(255, 255, 51, 0.7999999999999998)",
          "line": {
           "width": 1.3
          },
          "opacity": 0.8,
          "size": 12,
          "symbol": "circle"
         },
         "mode": "markers",
         "name": "SANOFI.NS",
         "textfont": {
          "color": "#D9D9D9"
         },
         "type": "scatter",
         "x": [
          11.4712815466071
         ],
         "y": [
          29717.31517653401
         ]
        },
        {
         "marker": {
          "color": "rgba(128, 128, 0, 0.7999999999999998)",
          "line": {
           "width": 1.3
          },
          "opacity": 0.8,
          "size": 12,
          "symbol": "circle"
         },
         "mode": "markers",
         "name": "RPGLIFE.NS",
         "textfont": {
          "color": "#D9D9D9"
         },
         "type": "scatter",
         "x": [
          25.862638985010257
         ],
         "y": [
          66417.5080724685
         ]
        },
        {
         "marker": {
          "color": "rgba(128, 128, 0, 0.7)",
          "line": {
           "width": 1.3
          },
          "opacity": 0.8,
          "size": 12,
          "symbol": "circle"
         },
         "mode": "markers",
         "name": "FCL.NS",
         "textfont": {
          "color": "#D9D9D9"
         },
         "type": "scatter",
         "x": [
          30.12311811305232
         ],
         "y": [
          75655.86738127575
         ]
        },
        {
         "marker": {
          "color": "rgba(251, 128, 114, 0.7)",
          "line": {
           "width": 1.3
          },
          "opacity": 0.8,
          "size": 12,
          "symbol": "circle"
         },
         "mode": "markers",
         "name": "BEL.NS",
         "textfont": {
          "color": "#D9D9D9"
         },
         "type": "scatter",
         "x": [
          17.856867481237256
         ],
         "y": [
          53341.751838293545
         ]
        },
        {
         "marker": {
          "color": "rgba(128, 177, 211, 0.7)",
          "line": {
           "width": 1.3
          },
          "opacity": 0.8,
          "size": 12,
          "symbol": "circle"
         },
         "mode": "markers",
         "name": "AMRUTANJAN.NS",
         "textfont": {
          "color": "#D9D9D9"
         },
         "type": "scatter",
         "x": [
          18.321217853387832
         ],
         "y": [
          55974.59009248462
         ]
        },
        {
         "marker": {
          "color": "rgba(255, 153, 51, 0.7)",
          "line": {
           "width": 1.3
          },
          "opacity": 0.8,
          "size": 12,
          "symbol": "circle"
         },
         "mode": "markers",
         "name": "AVANTIFEED.NS",
         "textfont": {
          "color": "#D9D9D9"
         },
         "type": "scatter",
         "x": [
          20.58330698404847
         ],
         "y": [
          64344.818285114496
         ]
        },
        {
         "marker": {
          "color": "rgba(55, 128, 191, 0.7)",
          "line": {
           "width": 1.3
          },
          "opacity": 0.8,
          "size": 12,
          "symbol": "circle"
         },
         "mode": "markers",
         "name": "INGERRAND.NS",
         "textfont": {
          "color": "#D9D9D9"
         },
         "type": "scatter",
         "x": [
          13.377638559168153
         ],
         "y": [
          49225.87010843092
         ]
        },
        {
         "marker": {
          "color": "rgba(50, 171, 96, 0.7)",
          "line": {
           "width": 1.3
          },
          "opacity": 0.8,
          "size": 12,
          "symbol": "circle"
         },
         "mode": "markers",
         "name": "ADORWELD.NS",
         "textfont": {
          "color": "#D9D9D9"
         },
         "type": "scatter",
         "x": [
          19.29221126573079
         ],
         "y": [
          65879.9166310438
         ]
        },
        {
         "marker": {
          "color": "rgba(128, 0, 128, 0.7)",
          "line": {
           "width": 1.3
          },
          "opacity": 0.8,
          "size": 12,
          "symbol": "circle"
         },
         "mode": "markers",
         "name": "VINYLINDIA.NS",
         "textfont": {
          "color": "#D9D9D9"
         },
         "type": "scatter",
         "x": [
          20.225406182303995
         ],
         "y": [
          71348.69452308214
         ]
        },
        {
         "marker": {
          "color": "rgba(219, 64, 82, 0.7)",
          "line": {
           "width": 1.3
          },
          "opacity": 0.8,
          "size": 12,
          "symbol": "circle"
         },
         "mode": "markers",
         "name": "VSTIND.NS",
         "textfont": {
          "color": "#D9D9D9"
         },
         "type": "scatter",
         "x": [
          10.3593978209442
         ],
         "y": [
          43479.40977247318
         ]
        },
        {
         "marker": {
          "color": "rgba(0, 128, 128, 0.7)",
          "line": {
           "width": 1.3
          },
          "opacity": 0.8,
          "size": 12,
          "symbol": "circle"
         },
         "mode": "markers",
         "name": "KSB.NS",
         "textfont": {
          "color": "#D9D9D9"
         },
         "type": "scatter",
         "x": [
          12.303900613227636
         ],
         "y": [
          53504.86520327211
         ]
        },
        {
         "marker": {
          "color": "rgba(255, 255, 51, 0.7)",
          "line": {
           "width": 1.3
          },
          "opacity": 0.8,
          "size": 12,
          "symbol": "circle"
         },
         "mode": "markers",
         "name": "EXPLEOSOL.NS",
         "textfont": {
          "color": "#D9D9D9"
         },
         "type": "scatter",
         "x": [
          13.593467713019056
         ],
         "y": [
          60989.92420489033
         ]
        },
        {
         "marker": {
          "color": "rgba(255, 255, 51, 0.5999999999999999)",
          "line": {
           "width": 1.3
          },
          "opacity": 0.8,
          "size": 12,
          "symbol": "circle"
         },
         "mode": "markers",
         "name": "AJANTPHARM.NS",
         "textfont": {
          "color": "#D9D9D9"
         },
         "type": "scatter",
         "x": [
          11.08475060219874
         ],
         "y": [
          53131.93639321916
         ]
        },
        {
         "marker": {
          "color": "rgba(128, 128, 0, 0.5999999999999999)",
          "line": {
           "width": 1.3
          },
          "opacity": 0.8,
          "size": 12,
          "symbol": "circle"
         },
         "mode": "markers",
         "name": "RSYSTEMS.NS",
         "textfont": {
          "color": "#D9D9D9"
         },
         "type": "scatter",
         "x": [
          15.788914791256314
         ],
         "y": [
          70136.5771699785
         ]
        },
        {
         "marker": {
          "color": "rgba(251, 128, 114, 0.5999999999999999)",
          "line": {
           "width": 1.3
          },
          "opacity": 0.8,
          "size": 12,
          "symbol": "circle"
         },
         "mode": "markers",
         "name": "SHARDACROP.NS",
         "textfont": {
          "color": "#D9D9D9"
         },
         "type": "scatter",
         "x": [
          14.139320551812814
         ],
         "y": [
          67297.12516032743
         ]
        }
       ],
       "layout": {
        "legend": {
         "bgcolor": "#151516",
         "font": {
          "color": "#D9D9D9"
         }
        },
        "paper_bgcolor": "#151516",
        "plot_bgcolor": "#151516",
        "template": {
         "data": {
          "bar": [
           {
            "error_x": {
             "color": "#2a3f5f"
            },
            "error_y": {
             "color": "#2a3f5f"
            },
            "marker": {
             "line": {
              "color": "#E5ECF6",
              "width": 0.5
             },
             "pattern": {
              "fillmode": "overlay",
              "size": 10,
              "solidity": 0.2
             }
            },
            "type": "bar"
           }
          ],
          "barpolar": [
           {
            "marker": {
             "line": {
              "color": "#E5ECF6",
              "width": 0.5
             },
             "pattern": {
              "fillmode": "overlay",
              "size": 10,
              "solidity": 0.2
             }
            },
            "type": "barpolar"
           }
          ],
          "carpet": [
           {
            "aaxis": {
             "endlinecolor": "#2a3f5f",
             "gridcolor": "white",
             "linecolor": "white",
             "minorgridcolor": "white",
             "startlinecolor": "#2a3f5f"
            },
            "baxis": {
             "endlinecolor": "#2a3f5f",
             "gridcolor": "white",
             "linecolor": "white",
             "minorgridcolor": "white",
             "startlinecolor": "#2a3f5f"
            },
            "type": "carpet"
           }
          ],
          "choropleth": [
           {
            "colorbar": {
             "outlinewidth": 0,
             "ticks": ""
            },
            "type": "choropleth"
           }
          ],
          "contour": [
           {
            "colorbar": {
             "outlinewidth": 0,
             "ticks": ""
            },
            "colorscale": [
             [
              0,
              "#0d0887"
             ],
             [
              0.1111111111111111,
              "#46039f"
             ],
             [
              0.2222222222222222,
              "#7201a8"
             ],
             [
              0.3333333333333333,
              "#9c179e"
             ],
             [
              0.4444444444444444,
              "#bd3786"
             ],
             [
              0.5555555555555556,
              "#d8576b"
             ],
             [
              0.6666666666666666,
              "#ed7953"
             ],
             [
              0.7777777777777778,
              "#fb9f3a"
             ],
             [
              0.8888888888888888,
              "#fdca26"
             ],
             [
              1,
              "#f0f921"
             ]
            ],
            "type": "contour"
           }
          ],
          "contourcarpet": [
           {
            "colorbar": {
             "outlinewidth": 0,
             "ticks": ""
            },
            "type": "contourcarpet"
           }
          ],
          "heatmap": [
           {
            "colorbar": {
             "outlinewidth": 0,
             "ticks": ""
            },
            "colorscale": [
             [
              0,
              "#0d0887"
             ],
             [
              0.1111111111111111,
              "#46039f"
             ],
             [
              0.2222222222222222,
              "#7201a8"
             ],
             [
              0.3333333333333333,
              "#9c179e"
             ],
             [
              0.4444444444444444,
              "#bd3786"
             ],
             [
              0.5555555555555556,
              "#d8576b"
             ],
             [
              0.6666666666666666,
              "#ed7953"
             ],
             [
              0.7777777777777778,
              "#fb9f3a"
             ],
             [
              0.8888888888888888,
              "#fdca26"
             ],
             [
              1,
              "#f0f921"
             ]
            ],
            "type": "heatmap"
           }
          ],
          "heatmapgl": [
           {
            "colorbar": {
             "outlinewidth": 0,
             "ticks": ""
            },
            "colorscale": [
             [
              0,
              "#0d0887"
             ],
             [
              0.1111111111111111,
              "#46039f"
             ],
             [
              0.2222222222222222,
              "#7201a8"
             ],
             [
              0.3333333333333333,
              "#9c179e"
             ],
             [
              0.4444444444444444,
              "#bd3786"
             ],
             [
              0.5555555555555556,
              "#d8576b"
             ],
             [
              0.6666666666666666,
              "#ed7953"
             ],
             [
              0.7777777777777778,
              "#fb9f3a"
             ],
             [
              0.8888888888888888,
              "#fdca26"
             ],
             [
              1,
              "#f0f921"
             ]
            ],
            "type": "heatmapgl"
           }
          ],
          "histogram": [
           {
            "marker": {
             "pattern": {
              "fillmode": "overlay",
              "size": 10,
              "solidity": 0.2
             }
            },
            "type": "histogram"
           }
          ],
          "histogram2d": [
           {
            "colorbar": {
             "outlinewidth": 0,
             "ticks": ""
            },
            "colorscale": [
             [
              0,
              "#0d0887"
             ],
             [
              0.1111111111111111,
              "#46039f"
             ],
             [
              0.2222222222222222,
              "#7201a8"
             ],
             [
              0.3333333333333333,
              "#9c179e"
             ],
             [
              0.4444444444444444,
              "#bd3786"
             ],
             [
              0.5555555555555556,
              "#d8576b"
             ],
             [
              0.6666666666666666,
              "#ed7953"
             ],
             [
              0.7777777777777778,
              "#fb9f3a"
             ],
             [
              0.8888888888888888,
              "#fdca26"
             ],
             [
              1,
              "#f0f921"
             ]
            ],
            "type": "histogram2d"
           }
          ],
          "histogram2dcontour": [
           {
            "colorbar": {
             "outlinewidth": 0,
             "ticks": ""
            },
            "colorscale": [
             [
              0,
              "#0d0887"
             ],
             [
              0.1111111111111111,
              "#46039f"
             ],
             [
              0.2222222222222222,
              "#7201a8"
             ],
             [
              0.3333333333333333,
              "#9c179e"
             ],
             [
              0.4444444444444444,
              "#bd3786"
             ],
             [
              0.5555555555555556,
              "#d8576b"
             ],
             [
              0.6666666666666666,
              "#ed7953"
             ],
             [
              0.7777777777777778,
              "#fb9f3a"
             ],
             [
              0.8888888888888888,
              "#fdca26"
             ],
             [
              1,
              "#f0f921"
             ]
            ],
            "type": "histogram2dcontour"
           }
          ],
          "mesh3d": [
           {
            "colorbar": {
             "outlinewidth": 0,
             "ticks": ""
            },
            "type": "mesh3d"
           }
          ],
          "parcoords": [
           {
            "line": {
             "colorbar": {
              "outlinewidth": 0,
              "ticks": ""
             }
            },
            "type": "parcoords"
           }
          ],
          "pie": [
           {
            "automargin": true,
            "type": "pie"
           }
          ],
          "scatter": [
           {
            "fillpattern": {
             "fillmode": "overlay",
             "size": 10,
             "solidity": 0.2
            },
            "type": "scatter"
           }
          ],
          "scatter3d": [
           {
            "line": {
             "colorbar": {
              "outlinewidth": 0,
              "ticks": ""
             }
            },
            "marker": {
             "colorbar": {
              "outlinewidth": 0,
              "ticks": ""
             }
            },
            "type": "scatter3d"
           }
          ],
          "scattercarpet": [
           {
            "marker": {
             "colorbar": {
              "outlinewidth": 0,
              "ticks": ""
             }
            },
            "type": "scattercarpet"
           }
          ],
          "scattergeo": [
           {
            "marker": {
             "colorbar": {
              "outlinewidth": 0,
              "ticks": ""
             }
            },
            "type": "scattergeo"
           }
          ],
          "scattergl": [
           {
            "marker": {
             "colorbar": {
              "outlinewidth": 0,
              "ticks": ""
             }
            },
            "type": "scattergl"
           }
          ],
          "scattermapbox": [
           {
            "marker": {
             "colorbar": {
              "outlinewidth": 0,
              "ticks": ""
             }
            },
            "type": "scattermapbox"
           }
          ],
          "scatterpolar": [
           {
            "marker": {
             "colorbar": {
              "outlinewidth": 0,
              "ticks": ""
             }
            },
            "type": "scatterpolar"
           }
          ],
          "scatterpolargl": [
           {
            "marker": {
             "colorbar": {
              "outlinewidth": 0,
              "ticks": ""
             }
            },
            "type": "scatterpolargl"
           }
          ],
          "scatterternary": [
           {
            "marker": {
             "colorbar": {
              "outlinewidth": 0,
              "ticks": ""
             }
            },
            "type": "scatterternary"
           }
          ],
          "surface": [
           {
            "colorbar": {
             "outlinewidth": 0,
             "ticks": ""
            },
            "colorscale": [
             [
              0,
              "#0d0887"
             ],
             [
              0.1111111111111111,
              "#46039f"
             ],
             [
              0.2222222222222222,
              "#7201a8"
             ],
             [
              0.3333333333333333,
              "#9c179e"
             ],
             [
              0.4444444444444444,
              "#bd3786"
             ],
             [
              0.5555555555555556,
              "#d8576b"
             ],
             [
              0.6666666666666666,
              "#ed7953"
             ],
             [
              0.7777777777777778,
              "#fb9f3a"
             ],
             [
              0.8888888888888888,
              "#fdca26"
             ],
             [
              1,
              "#f0f921"
             ]
            ],
            "type": "surface"
           }
          ],
          "table": [
           {
            "cells": {
             "fill": {
              "color": "#EBF0F8"
             },
             "line": {
              "color": "white"
             }
            },
            "header": {
             "fill": {
              "color": "#C8D4E3"
             },
             "line": {
              "color": "white"
             }
            },
            "type": "table"
           }
          ]
         },
         "layout": {
          "annotationdefaults": {
           "arrowcolor": "#2a3f5f",
           "arrowhead": 0,
           "arrowwidth": 1
          },
          "autotypenumbers": "strict",
          "coloraxis": {
           "colorbar": {
            "outlinewidth": 0,
            "ticks": ""
           }
          },
          "colorscale": {
           "diverging": [
            [
             0,
             "#8e0152"
            ],
            [
             0.1,
             "#c51b7d"
            ],
            [
             0.2,
             "#de77ae"
            ],
            [
             0.3,
             "#f1b6da"
            ],
            [
             0.4,
             "#fde0ef"
            ],
            [
             0.5,
             "#f7f7f7"
            ],
            [
             0.6,
             "#e6f5d0"
            ],
            [
             0.7,
             "#b8e186"
            ],
            [
             0.8,
             "#7fbc41"
            ],
            [
             0.9,
             "#4d9221"
            ],
            [
             1,
             "#276419"
            ]
           ],
           "sequential": [
            [
             0,
             "#0d0887"
            ],
            [
             0.1111111111111111,
             "#46039f"
            ],
            [
             0.2222222222222222,
             "#7201a8"
            ],
            [
             0.3333333333333333,
             "#9c179e"
            ],
            [
             0.4444444444444444,
             "#bd3786"
            ],
            [
             0.5555555555555556,
             "#d8576b"
            ],
            [
             0.6666666666666666,
             "#ed7953"
            ],
            [
             0.7777777777777778,
             "#fb9f3a"
            ],
            [
             0.8888888888888888,
             "#fdca26"
            ],
            [
             1,
             "#f0f921"
            ]
           ],
           "sequentialminus": [
            [
             0,
             "#0d0887"
            ],
            [
             0.1111111111111111,
             "#46039f"
            ],
            [
             0.2222222222222222,
             "#7201a8"
            ],
            [
             0.3333333333333333,
             "#9c179e"
            ],
            [
             0.4444444444444444,
             "#bd3786"
            ],
            [
             0.5555555555555556,
             "#d8576b"
            ],
            [
             0.6666666666666666,
             "#ed7953"
            ],
            [
             0.7777777777777778,
             "#fb9f3a"
            ],
            [
             0.8888888888888888,
             "#fdca26"
            ],
            [
             1,
             "#f0f921"
            ]
           ]
          },
          "colorway": [
           "#636efa",
           "#EF553B",
           "#00cc96",
           "#ab63fa",
           "#FFA15A",
           "#19d3f3",
           "#FF6692",
           "#B6E880",
           "#FF97FF",
           "#FECB52"
          ],
          "font": {
           "color": "#2a3f5f"
          },
          "geo": {
           "bgcolor": "white",
           "lakecolor": "white",
           "landcolor": "#E5ECF6",
           "showlakes": true,
           "showland": true,
           "subunitcolor": "white"
          },
          "hoverlabel": {
           "align": "left"
          },
          "hovermode": "closest",
          "mapbox": {
           "style": "light"
          },
          "paper_bgcolor": "white",
          "plot_bgcolor": "#E5ECF6",
          "polar": {
           "angularaxis": {
            "gridcolor": "white",
            "linecolor": "white",
            "ticks": ""
           },
           "bgcolor": "#E5ECF6",
           "radialaxis": {
            "gridcolor": "white",
            "linecolor": "white",
            "ticks": ""
           }
          },
          "scene": {
           "xaxis": {
            "backgroundcolor": "#E5ECF6",
            "gridcolor": "white",
            "gridwidth": 2,
            "linecolor": "white",
            "showbackground": true,
            "ticks": "",
            "zerolinecolor": "white"
           },
           "yaxis": {
            "backgroundcolor": "#E5ECF6",
            "gridcolor": "white",
            "gridwidth": 2,
            "linecolor": "white",
            "showbackground": true,
            "ticks": "",
            "zerolinecolor": "white"
           },
           "zaxis": {
            "backgroundcolor": "#E5ECF6",
            "gridcolor": "white",
            "gridwidth": 2,
            "linecolor": "white",
            "showbackground": true,
            "ticks": "",
            "zerolinecolor": "white"
           }
          },
          "shapedefaults": {
           "line": {
            "color": "#2a3f5f"
           }
          },
          "ternary": {
           "aaxis": {
            "gridcolor": "white",
            "linecolor": "white",
            "ticks": ""
           },
           "baxis": {
            "gridcolor": "white",
            "linecolor": "white",
            "ticks": ""
           },
           "bgcolor": "#E5ECF6",
           "caxis": {
            "gridcolor": "white",
            "linecolor": "white",
            "ticks": ""
           }
          },
          "title": {
           "x": 0.05
          },
          "xaxis": {
           "automargin": true,
           "gridcolor": "white",
           "linecolor": "white",
           "ticks": "",
           "title": {
            "standoff": 15
           },
           "zerolinecolor": "white",
           "zerolinewidth": 2
          },
          "yaxis": {
           "automargin": true,
           "gridcolor": "white",
           "linecolor": "white",
           "ticks": "",
           "title": {
            "standoff": 15
           },
           "zerolinecolor": "white",
           "zerolinewidth": 2
          }
         }
        },
        "title": {
         "font": {
          "color": "#D9D9D9"
         },
         "text": "========Return------VAR========================"
        },
        "xaxis": {
         "gridcolor": "#434343",
         "showgrid": true,
         "tickfont": {
          "color": "#C2C2C2"
         },
         "title": {
          "font": {
           "color": "#D9D9D9"
          },
          "text": "Return"
         },
         "zerolinecolor": "#666570"
        },
        "yaxis": {
         "gridcolor": "#434343",
         "showgrid": true,
         "tickfont": {
          "color": "#C2C2C2"
         },
         "title": {
          "font": {
           "color": "#D9D9D9"
          },
          "text": "VAR"
         },
         "zerolinecolor": "#666570"
        }
       }
      },
      "text/html": [
       "<div>                            <div id=\"0141bc0c-633c-412f-9cd0-aef68d3fa42e\" class=\"plotly-graph-div\" style=\"height:525px; width:100%;\"></div>            <script type=\"text/javascript\">                require([\"plotly\"], function(Plotly) {                    window.PLOTLYENV=window.PLOTLYENV || {};\n",
       "                    window.PLOTLYENV.BASE_URL='https://plot.ly';                                    if (document.getElementById(\"0141bc0c-633c-412f-9cd0-aef68d3fa42e\")) {                    Plotly.newPlot(                        \"0141bc0c-633c-412f-9cd0-aef68d3fa42e\",                        [{\"marker\":{\"color\":\"rgba(255, 153, 51, 1.0)\",\"line\":{\"width\":1.3},\"opacity\":0.8,\"size\":12,\"symbol\":\"circle\"},\"mode\":\"markers\",\"name\":\"POLYCAB.NS\",\"textfont\":{\"color\":\"#D9D9D9\"},\"x\":[39.15699522779303],\"y\":[16834.886161415518],\"type\":\"scatter\"},{\"marker\":{\"color\":\"rgba(55, 128, 191, 1.0)\",\"line\":{\"width\":1.3},\"opacity\":0.8,\"size\":12,\"symbol\":\"circle\"},\"mode\":\"markers\",\"name\":\"TANLA.NS\",\"textfont\":{\"color\":\"#D9D9D9\"},\"x\":[55.57964031833973],\"y\":[32435.337833064725],\"type\":\"scatter\"},{\"marker\":{\"color\":\"rgba(50, 171, 96, 1.0)\",\"line\":{\"width\":1.3},\"opacity\":0.8,\"size\":12,\"symbol\":\"circle\"},\"mode\":\"markers\",\"name\":\"ALKYLAMINE.NS\",\"textfont\":{\"color\":\"#D9D9D9\"},\"x\":[40.72438551747389],\"y\":[25473.15048049367],\"type\":\"scatter\"},{\"marker\":{\"color\":\"rgba(128, 0, 128, 1.0)\",\"line\":{\"width\":1.3},\"opacity\":0.8,\"size\":12,\"symbol\":\"circle\"},\"mode\":\"markers\",\"name\":\"JBCHEPHARM.NS\",\"textfont\":{\"color\":\"#D9D9D9\"},\"x\":[30.107188785751248],\"y\":[23397.59769571132],\"type\":\"scatter\"},{\"marker\":{\"color\":\"rgba(219, 64, 82, 1.0)\",\"line\":{\"width\":1.3},\"opacity\":0.8,\"size\":12,\"symbol\":\"circle\"},\"mode\":\"markers\",\"name\":\"TIPSINDLTD.NS\",\"textfont\":{\"color\":\"#D9D9D9\"},\"x\":[47.77455874807629],\"y\":[46418.17681210309],\"type\":\"scatter\"},{\"marker\":{\"color\":\"rgba(0, 128, 128, 1.0)\",\"line\":{\"width\":1.3},\"opacity\":0.8,\"size\":12,\"symbol\":\"circle\"},\"mode\":\"markers\",\"name\":\"SUMICHEM.NS\",\"textfont\":{\"color\":\"#D9D9D9\"},\"x\":[34.828679900053686],\"y\":[32480.92651502756],\"type\":\"scatter\"},{\"marker\":{\"color\":\"rgba(255, 255, 51, 1.0)\",\"line\":{\"width\":1.3},\"opacity\":0.8,\"size\":12,\"symbol\":\"circle\"},\"mode\":\"markers\",\"name\":\"VINATIORGA.NS\",\"textfont\":{\"color\":\"#D9D9D9\"},\"x\":[29.876899204075137],\"y\":[27664.391438580235],\"type\":\"scatter\"},{\"marker\":{\"color\":\"rgba(128, 128, 0, 1.0)\",\"line\":{\"width\":1.3},\"opacity\":0.8,\"size\":12,\"symbol\":\"circle\"},\"mode\":\"markers\",\"name\":\"GRINDWELL.NS\",\"textfont\":{\"color\":\"#D9D9D9\"},\"x\":[24.82567902717624],\"y\":[24432.0692239271],\"type\":\"scatter\"},{\"marker\":{\"color\":\"rgba(251, 128, 114, 1.0)\",\"line\":{\"width\":1.3},\"opacity\":0.8,\"size\":12,\"symbol\":\"circle\"},\"mode\":\"markers\",\"name\":\"CDSL.NS\",\"textfont\":{\"color\":\"#D9D9D9\"},\"x\":[30.59526199444621],\"y\":[34362.387069037315],\"type\":\"scatter\"},{\"marker\":{\"color\":\"rgba(128, 177, 211, 1.0)\",\"line\":{\"width\":1.3},\"opacity\":0.8,\"size\":12,\"symbol\":\"circle\"},\"mode\":\"markers\",\"name\":\"HINDUNILVR.NS\",\"textfont\":{\"color\":\"#D9D9D9\"},\"x\":[18.52558285130615],\"y\":[18575.96669588101],\"type\":\"scatter\"},{\"marker\":{\"color\":\"rgba(128, 177, 211, 0.8999999999999999)\",\"line\":{\"width\":1.3},\"opacity\":0.8,\"size\":12,\"symbol\":\"circle\"},\"mode\":\"markers\",\"name\":\"COFORGE.NS\",\"textfont\":{\"color\":\"#D9D9D9\"},\"x\":[32.096868927207],\"y\":[42954.14274282532],\"type\":\"scatter\"},{\"marker\":{\"color\":\"rgba(255, 153, 51, 0.8999999999999999)\",\"line\":{\"width\":1.3},\"opacity\":0.8,\"size\":12,\"symbol\":\"circle\"},\"mode\":\"markers\",\"name\":\"LINDEINDIA.NS\",\"textfont\":{\"color\":\"#D9D9D9\"},\"x\":[29.20871858332729],\"y\":[40641.93834663309],\"type\":\"scatter\"},{\"marker\":{\"color\":\"rgba(55, 128, 191, 0.8999999999999999)\",\"line\":{\"width\":1.3},\"opacity\":0.8,\"size\":12,\"symbol\":\"circle\"},\"mode\":\"markers\",\"name\":\"ADFFOODS.NS\",\"textfont\":{\"color\":\"#D9D9D9\"},\"x\":[31.74961134291572],\"y\":[49518.90905946018],\"type\":\"scatter\"},{\"marker\":{\"color\":\"rgba(50, 171, 96, 0.8999999999999999)\",\"line\":{\"width\":1.3},\"opacity\":0.8,\"size\":12,\"symbol\":\"circle\"},\"mode\":\"markers\",\"name\":\"TCIEXP.NS\",\"textfont\":{\"color\":\"#D9D9D9\"},\"x\":[28.769018269544144],\"y\":[45228.28282195442],\"type\":\"scatter\"},{\"marker\":{\"color\":\"rgba(128, 0, 128, 0.8999999999999999)\",\"line\":{\"width\":1.3},\"opacity\":0.8,\"size\":12,\"symbol\":\"circle\"},\"mode\":\"markers\",\"name\":\"PRIMESECU.NS\",\"textfont\":{\"color\":\"#D9D9D9\"},\"x\":[42.66948007268733],\"y\":[68372.94143496535],\"type\":\"scatter\"},{\"marker\":{\"color\":\"rgba(219, 64, 82, 0.8999999999999999)\",\"line\":{\"width\":1.3},\"opacity\":0.8,\"size\":12,\"symbol\":\"circle\"},\"mode\":\"markers\",\"name\":\"SCHAEFFLER.NS\",\"textfont\":{\"color\":\"#D9D9D9\"},\"x\":[17.47383206536319],\"y\":[27868.273752414447],\"type\":\"scatter\"},{\"marker\":{\"color\":\"rgba(0, 128, 128, 0.8999999999999999)\",\"line\":{\"width\":1.3},\"opacity\":0.8,\"size\":12,\"symbol\":\"circle\"},\"mode\":\"markers\",\"name\":\"IEX.NS\",\"textfont\":{\"color\":\"#D9D9D9\"},\"x\":[24.815186585486416],\"y\":[41084.08101643693],\"type\":\"scatter\"},{\"marker\":{\"color\":\"rgba(255, 255, 51, 0.8999999999999999)\",\"line\":{\"width\":1.3},\"opacity\":0.8,\"size\":12,\"symbol\":\"circle\"},\"mode\":\"markers\",\"name\":\"IGL.NS\",\"textfont\":{\"color\":\"#D9D9D9\"},\"x\":[20.292275611949623],\"y\":[34768.498624439024],\"type\":\"scatter\"},{\"marker\":{\"color\":\"rgba(128, 128, 0, 0.8999999999999999)\",\"line\":{\"width\":1.3},\"opacity\":0.8,\"size\":12,\"symbol\":\"circle\"},\"mode\":\"markers\",\"name\":\"PGHH.NS\",\"textfont\":{\"color\":\"#D9D9D9\"},\"x\":[13.891455139329295],\"y\":[22875.091151360728],\"type\":\"scatter\"},{\"marker\":{\"color\":\"rgba(251, 128, 114, 0.8999999999999999)\",\"line\":{\"width\":1.3},\"opacity\":0.8,\"size\":12,\"symbol\":\"circle\"},\"mode\":\"markers\",\"name\":\"DIVISLAB.NS\",\"textfont\":{\"color\":\"#D9D9D9\"},\"x\":[20.712661811848],\"y\":[39703.791804893925],\"type\":\"scatter\"},{\"marker\":{\"color\":\"rgba(251, 128, 114, 0.7999999999999998)\",\"line\":{\"width\":1.3},\"opacity\":0.8,\"size\":12,\"symbol\":\"circle\"},\"mode\":\"markers\",\"name\":\"SKFINDIA.NS\",\"textfont\":{\"color\":\"#D9D9D9\"},\"x\":[16.468967368854763],\"y\":[32338.140619150552],\"type\":\"scatter\"},{\"marker\":{\"color\":\"rgba(128, 177, 211, 0.7999999999999998)\",\"line\":{\"width\":1.3},\"opacity\":0.8,\"size\":12,\"symbol\":\"circle\"},\"mode\":\"markers\",\"name\":\"CAPLIPOINT.NS\",\"textfont\":{\"color\":\"#D9D9D9\"},\"x\":[31.32893565131886],\"y\":[60546.51417159053],\"type\":\"scatter\"},{\"marker\":{\"color\":\"rgba(255, 153, 51, 0.7999999999999998)\",\"line\":{\"width\":1.3},\"opacity\":0.8,\"size\":12,\"symbol\":\"circle\"},\"mode\":\"markers\",\"name\":\"TIDEWATER.NS\",\"textfont\":{\"color\":\"#D9D9D9\"},\"x\":[21.69272672506582],\"y\":[42983.36904829733],\"type\":\"scatter\"},{\"marker\":{\"color\":\"rgba(55, 128, 191, 0.7999999999999998)\",\"line\":{\"width\":1.3},\"opacity\":0.8,\"size\":12,\"symbol\":\"circle\"},\"mode\":\"markers\",\"name\":\"ESABINDIA.NS\",\"textfont\":{\"color\":\"#D9D9D9\"},\"x\":[23.95887684974084],\"y\":[51645.24460906842],\"type\":\"scatter\"},{\"marker\":{\"color\":\"rgba(50, 171, 96, 0.7999999999999998)\",\"line\":{\"width\":1.3},\"opacity\":0.8,\"size\":12,\"symbol\":\"circle\"},\"mode\":\"markers\",\"name\":\"SUPREMEIND.NS\",\"textfont\":{\"color\":\"#D9D9D9\"},\"x\":[16.838112898697215],\"y\":[37128.46583230055],\"type\":\"scatter\"},{\"marker\":{\"color\":\"rgba(128, 0, 128, 0.7999999999999998)\",\"line\":{\"width\":1.3},\"opacity\":0.8,\"size\":12,\"symbol\":\"circle\"},\"mode\":\"markers\",\"name\":\"GULPOLY.NS\",\"textfont\":{\"color\":\"#D9D9D9\"},\"x\":[25.67804649216572],\"y\":[57836.95367170273],\"type\":\"scatter\"},{\"marker\":{\"color\":\"rgba(219, 64, 82, 0.7999999999999998)\",\"line\":{\"width\":1.3},\"opacity\":0.8,\"size\":12,\"symbol\":\"circle\"},\"mode\":\"markers\",\"name\":\"INTELLECT.NS\",\"textfont\":{\"color\":\"#D9D9D9\"},\"x\":[28.88493726158779],\"y\":[66304.66064801184],\"type\":\"scatter\"},{\"marker\":{\"color\":\"rgba(0, 128, 128, 0.7999999999999998)\",\"line\":{\"width\":1.3},\"opacity\":0.8,\"size\":12,\"symbol\":\"circle\"},\"mode\":\"markers\",\"name\":\"PRAJIND.NS\",\"textfont\":{\"color\":\"#D9D9D9\"},\"x\":[26.74506758141257],\"y\":[62845.75784052423],\"type\":\"scatter\"},{\"marker\":{\"color\":\"rgba(255, 255, 51, 0.7999999999999998)\",\"line\":{\"width\":1.3},\"opacity\":0.8,\"size\":12,\"symbol\":\"circle\"},\"mode\":\"markers\",\"name\":\"SANOFI.NS\",\"textfont\":{\"color\":\"#D9D9D9\"},\"x\":[11.4712815466071],\"y\":[29717.31517653401],\"type\":\"scatter\"},{\"marker\":{\"color\":\"rgba(128, 128, 0, 0.7999999999999998)\",\"line\":{\"width\":1.3},\"opacity\":0.8,\"size\":12,\"symbol\":\"circle\"},\"mode\":\"markers\",\"name\":\"RPGLIFE.NS\",\"textfont\":{\"color\":\"#D9D9D9\"},\"x\":[25.862638985010257],\"y\":[66417.5080724685],\"type\":\"scatter\"},{\"marker\":{\"color\":\"rgba(128, 128, 0, 0.7)\",\"line\":{\"width\":1.3},\"opacity\":0.8,\"size\":12,\"symbol\":\"circle\"},\"mode\":\"markers\",\"name\":\"FCL.NS\",\"textfont\":{\"color\":\"#D9D9D9\"},\"x\":[30.12311811305232],\"y\":[75655.86738127575],\"type\":\"scatter\"},{\"marker\":{\"color\":\"rgba(251, 128, 114, 0.7)\",\"line\":{\"width\":1.3},\"opacity\":0.8,\"size\":12,\"symbol\":\"circle\"},\"mode\":\"markers\",\"name\":\"BEL.NS\",\"textfont\":{\"color\":\"#D9D9D9\"},\"x\":[17.856867481237256],\"y\":[53341.751838293545],\"type\":\"scatter\"},{\"marker\":{\"color\":\"rgba(128, 177, 211, 0.7)\",\"line\":{\"width\":1.3},\"opacity\":0.8,\"size\":12,\"symbol\":\"circle\"},\"mode\":\"markers\",\"name\":\"AMRUTANJAN.NS\",\"textfont\":{\"color\":\"#D9D9D9\"},\"x\":[18.321217853387832],\"y\":[55974.59009248462],\"type\":\"scatter\"},{\"marker\":{\"color\":\"rgba(255, 153, 51, 0.7)\",\"line\":{\"width\":1.3},\"opacity\":0.8,\"size\":12,\"symbol\":\"circle\"},\"mode\":\"markers\",\"name\":\"AVANTIFEED.NS\",\"textfont\":{\"color\":\"#D9D9D9\"},\"x\":[20.58330698404847],\"y\":[64344.818285114496],\"type\":\"scatter\"},{\"marker\":{\"color\":\"rgba(55, 128, 191, 0.7)\",\"line\":{\"width\":1.3},\"opacity\":0.8,\"size\":12,\"symbol\":\"circle\"},\"mode\":\"markers\",\"name\":\"INGERRAND.NS\",\"textfont\":{\"color\":\"#D9D9D9\"},\"x\":[13.377638559168153],\"y\":[49225.87010843092],\"type\":\"scatter\"},{\"marker\":{\"color\":\"rgba(50, 171, 96, 0.7)\",\"line\":{\"width\":1.3},\"opacity\":0.8,\"size\":12,\"symbol\":\"circle\"},\"mode\":\"markers\",\"name\":\"ADORWELD.NS\",\"textfont\":{\"color\":\"#D9D9D9\"},\"x\":[19.29221126573079],\"y\":[65879.9166310438],\"type\":\"scatter\"},{\"marker\":{\"color\":\"rgba(128, 0, 128, 0.7)\",\"line\":{\"width\":1.3},\"opacity\":0.8,\"size\":12,\"symbol\":\"circle\"},\"mode\":\"markers\",\"name\":\"VINYLINDIA.NS\",\"textfont\":{\"color\":\"#D9D9D9\"},\"x\":[20.225406182303995],\"y\":[71348.69452308214],\"type\":\"scatter\"},{\"marker\":{\"color\":\"rgba(219, 64, 82, 0.7)\",\"line\":{\"width\":1.3},\"opacity\":0.8,\"size\":12,\"symbol\":\"circle\"},\"mode\":\"markers\",\"name\":\"VSTIND.NS\",\"textfont\":{\"color\":\"#D9D9D9\"},\"x\":[10.3593978209442],\"y\":[43479.40977247318],\"type\":\"scatter\"},{\"marker\":{\"color\":\"rgba(0, 128, 128, 0.7)\",\"line\":{\"width\":1.3},\"opacity\":0.8,\"size\":12,\"symbol\":\"circle\"},\"mode\":\"markers\",\"name\":\"KSB.NS\",\"textfont\":{\"color\":\"#D9D9D9\"},\"x\":[12.303900613227636],\"y\":[53504.86520327211],\"type\":\"scatter\"},{\"marker\":{\"color\":\"rgba(255, 255, 51, 0.7)\",\"line\":{\"width\":1.3},\"opacity\":0.8,\"size\":12,\"symbol\":\"circle\"},\"mode\":\"markers\",\"name\":\"EXPLEOSOL.NS\",\"textfont\":{\"color\":\"#D9D9D9\"},\"x\":[13.593467713019056],\"y\":[60989.92420489033],\"type\":\"scatter\"},{\"marker\":{\"color\":\"rgba(255, 255, 51, 0.5999999999999999)\",\"line\":{\"width\":1.3},\"opacity\":0.8,\"size\":12,\"symbol\":\"circle\"},\"mode\":\"markers\",\"name\":\"AJANTPHARM.NS\",\"textfont\":{\"color\":\"#D9D9D9\"},\"x\":[11.08475060219874],\"y\":[53131.93639321916],\"type\":\"scatter\"},{\"marker\":{\"color\":\"rgba(128, 128, 0, 0.5999999999999999)\",\"line\":{\"width\":1.3},\"opacity\":0.8,\"size\":12,\"symbol\":\"circle\"},\"mode\":\"markers\",\"name\":\"RSYSTEMS.NS\",\"textfont\":{\"color\":\"#D9D9D9\"},\"x\":[15.788914791256314],\"y\":[70136.5771699785],\"type\":\"scatter\"},{\"marker\":{\"color\":\"rgba(251, 128, 114, 0.5999999999999999)\",\"line\":{\"width\":1.3},\"opacity\":0.8,\"size\":12,\"symbol\":\"circle\"},\"mode\":\"markers\",\"name\":\"SHARDACROP.NS\",\"textfont\":{\"color\":\"#D9D9D9\"},\"x\":[14.139320551812814],\"y\":[67297.12516032743],\"type\":\"scatter\"}],                        {\"legend\":{\"bgcolor\":\"#151516\",\"font\":{\"color\":\"#D9D9D9\"}},\"paper_bgcolor\":\"#151516\",\"plot_bgcolor\":\"#151516\",\"template\":{\"data\":{\"barpolar\":[{\"marker\":{\"line\":{\"color\":\"#E5ECF6\",\"width\":0.5},\"pattern\":{\"fillmode\":\"overlay\",\"size\":10,\"solidity\":0.2}},\"type\":\"barpolar\"}],\"bar\":[{\"error_x\":{\"color\":\"#2a3f5f\"},\"error_y\":{\"color\":\"#2a3f5f\"},\"marker\":{\"line\":{\"color\":\"#E5ECF6\",\"width\":0.5},\"pattern\":{\"fillmode\":\"overlay\",\"size\":10,\"solidity\":0.2}},\"type\":\"bar\"}],\"carpet\":[{\"aaxis\":{\"endlinecolor\":\"#2a3f5f\",\"gridcolor\":\"white\",\"linecolor\":\"white\",\"minorgridcolor\":\"white\",\"startlinecolor\":\"#2a3f5f\"},\"baxis\":{\"endlinecolor\":\"#2a3f5f\",\"gridcolor\":\"white\",\"linecolor\":\"white\",\"minorgridcolor\":\"white\",\"startlinecolor\":\"#2a3f5f\"},\"type\":\"carpet\"}],\"choropleth\":[{\"colorbar\":{\"outlinewidth\":0,\"ticks\":\"\"},\"type\":\"choropleth\"}],\"contourcarpet\":[{\"colorbar\":{\"outlinewidth\":0,\"ticks\":\"\"},\"type\":\"contourcarpet\"}],\"contour\":[{\"colorbar\":{\"outlinewidth\":0,\"ticks\":\"\"},\"colorscale\":[[0.0,\"#0d0887\"],[0.1111111111111111,\"#46039f\"],[0.2222222222222222,\"#7201a8\"],[0.3333333333333333,\"#9c179e\"],[0.4444444444444444,\"#bd3786\"],[0.5555555555555556,\"#d8576b\"],[0.6666666666666666,\"#ed7953\"],[0.7777777777777778,\"#fb9f3a\"],[0.8888888888888888,\"#fdca26\"],[1.0,\"#f0f921\"]],\"type\":\"contour\"}],\"heatmapgl\":[{\"colorbar\":{\"outlinewidth\":0,\"ticks\":\"\"},\"colorscale\":[[0.0,\"#0d0887\"],[0.1111111111111111,\"#46039f\"],[0.2222222222222222,\"#7201a8\"],[0.3333333333333333,\"#9c179e\"],[0.4444444444444444,\"#bd3786\"],[0.5555555555555556,\"#d8576b\"],[0.6666666666666666,\"#ed7953\"],[0.7777777777777778,\"#fb9f3a\"],[0.8888888888888888,\"#fdca26\"],[1.0,\"#f0f921\"]],\"type\":\"heatmapgl\"}],\"heatmap\":[{\"colorbar\":{\"outlinewidth\":0,\"ticks\":\"\"},\"colorscale\":[[0.0,\"#0d0887\"],[0.1111111111111111,\"#46039f\"],[0.2222222222222222,\"#7201a8\"],[0.3333333333333333,\"#9c179e\"],[0.4444444444444444,\"#bd3786\"],[0.5555555555555556,\"#d8576b\"],[0.6666666666666666,\"#ed7953\"],[0.7777777777777778,\"#fb9f3a\"],[0.8888888888888888,\"#fdca26\"],[1.0,\"#f0f921\"]],\"type\":\"heatmap\"}],\"histogram2dcontour\":[{\"colorbar\":{\"outlinewidth\":0,\"ticks\":\"\"},\"colorscale\":[[0.0,\"#0d0887\"],[0.1111111111111111,\"#46039f\"],[0.2222222222222222,\"#7201a8\"],[0.3333333333333333,\"#9c179e\"],[0.4444444444444444,\"#bd3786\"],[0.5555555555555556,\"#d8576b\"],[0.6666666666666666,\"#ed7953\"],[0.7777777777777778,\"#fb9f3a\"],[0.8888888888888888,\"#fdca26\"],[1.0,\"#f0f921\"]],\"type\":\"histogram2dcontour\"}],\"histogram2d\":[{\"colorbar\":{\"outlinewidth\":0,\"ticks\":\"\"},\"colorscale\":[[0.0,\"#0d0887\"],[0.1111111111111111,\"#46039f\"],[0.2222222222222222,\"#7201a8\"],[0.3333333333333333,\"#9c179e\"],[0.4444444444444444,\"#bd3786\"],[0.5555555555555556,\"#d8576b\"],[0.6666666666666666,\"#ed7953\"],[0.7777777777777778,\"#fb9f3a\"],[0.8888888888888888,\"#fdca26\"],[1.0,\"#f0f921\"]],\"type\":\"histogram2d\"}],\"histogram\":[{\"marker\":{\"pattern\":{\"fillmode\":\"overlay\",\"size\":10,\"solidity\":0.2}},\"type\":\"histogram\"}],\"mesh3d\":[{\"colorbar\":{\"outlinewidth\":0,\"ticks\":\"\"},\"type\":\"mesh3d\"}],\"parcoords\":[{\"line\":{\"colorbar\":{\"outlinewidth\":0,\"ticks\":\"\"}},\"type\":\"parcoords\"}],\"pie\":[{\"automargin\":true,\"type\":\"pie\"}],\"scatter3d\":[{\"line\":{\"colorbar\":{\"outlinewidth\":0,\"ticks\":\"\"}},\"marker\":{\"colorbar\":{\"outlinewidth\":0,\"ticks\":\"\"}},\"type\":\"scatter3d\"}],\"scattercarpet\":[{\"marker\":{\"colorbar\":{\"outlinewidth\":0,\"ticks\":\"\"}},\"type\":\"scattercarpet\"}],\"scattergeo\":[{\"marker\":{\"colorbar\":{\"outlinewidth\":0,\"ticks\":\"\"}},\"type\":\"scattergeo\"}],\"scattergl\":[{\"marker\":{\"colorbar\":{\"outlinewidth\":0,\"ticks\":\"\"}},\"type\":\"scattergl\"}],\"scattermapbox\":[{\"marker\":{\"colorbar\":{\"outlinewidth\":0,\"ticks\":\"\"}},\"type\":\"scattermapbox\"}],\"scatterpolargl\":[{\"marker\":{\"colorbar\":{\"outlinewidth\":0,\"ticks\":\"\"}},\"type\":\"scatterpolargl\"}],\"scatterpolar\":[{\"marker\":{\"colorbar\":{\"outlinewidth\":0,\"ticks\":\"\"}},\"type\":\"scatterpolar\"}],\"scatter\":[{\"fillpattern\":{\"fillmode\":\"overlay\",\"size\":10,\"solidity\":0.2},\"type\":\"scatter\"}],\"scatterternary\":[{\"marker\":{\"colorbar\":{\"outlinewidth\":0,\"ticks\":\"\"}},\"type\":\"scatterternary\"}],\"surface\":[{\"colorbar\":{\"outlinewidth\":0,\"ticks\":\"\"},\"colorscale\":[[0.0,\"#0d0887\"],[0.1111111111111111,\"#46039f\"],[0.2222222222222222,\"#7201a8\"],[0.3333333333333333,\"#9c179e\"],[0.4444444444444444,\"#bd3786\"],[0.5555555555555556,\"#d8576b\"],[0.6666666666666666,\"#ed7953\"],[0.7777777777777778,\"#fb9f3a\"],[0.8888888888888888,\"#fdca26\"],[1.0,\"#f0f921\"]],\"type\":\"surface\"}],\"table\":[{\"cells\":{\"fill\":{\"color\":\"#EBF0F8\"},\"line\":{\"color\":\"white\"}},\"header\":{\"fill\":{\"color\":\"#C8D4E3\"},\"line\":{\"color\":\"white\"}},\"type\":\"table\"}]},\"layout\":{\"annotationdefaults\":{\"arrowcolor\":\"#2a3f5f\",\"arrowhead\":0,\"arrowwidth\":1},\"autotypenumbers\":\"strict\",\"coloraxis\":{\"colorbar\":{\"outlinewidth\":0,\"ticks\":\"\"}},\"colorscale\":{\"diverging\":[[0,\"#8e0152\"],[0.1,\"#c51b7d\"],[0.2,\"#de77ae\"],[0.3,\"#f1b6da\"],[0.4,\"#fde0ef\"],[0.5,\"#f7f7f7\"],[0.6,\"#e6f5d0\"],[0.7,\"#b8e186\"],[0.8,\"#7fbc41\"],[0.9,\"#4d9221\"],[1,\"#276419\"]],\"sequential\":[[0.0,\"#0d0887\"],[0.1111111111111111,\"#46039f\"],[0.2222222222222222,\"#7201a8\"],[0.3333333333333333,\"#9c179e\"],[0.4444444444444444,\"#bd3786\"],[0.5555555555555556,\"#d8576b\"],[0.6666666666666666,\"#ed7953\"],[0.7777777777777778,\"#fb9f3a\"],[0.8888888888888888,\"#fdca26\"],[1.0,\"#f0f921\"]],\"sequentialminus\":[[0.0,\"#0d0887\"],[0.1111111111111111,\"#46039f\"],[0.2222222222222222,\"#7201a8\"],[0.3333333333333333,\"#9c179e\"],[0.4444444444444444,\"#bd3786\"],[0.5555555555555556,\"#d8576b\"],[0.6666666666666666,\"#ed7953\"],[0.7777777777777778,\"#fb9f3a\"],[0.8888888888888888,\"#fdca26\"],[1.0,\"#f0f921\"]]},\"colorway\":[\"#636efa\",\"#EF553B\",\"#00cc96\",\"#ab63fa\",\"#FFA15A\",\"#19d3f3\",\"#FF6692\",\"#B6E880\",\"#FF97FF\",\"#FECB52\"],\"font\":{\"color\":\"#2a3f5f\"},\"geo\":{\"bgcolor\":\"white\",\"lakecolor\":\"white\",\"landcolor\":\"#E5ECF6\",\"showlakes\":true,\"showland\":true,\"subunitcolor\":\"white\"},\"hoverlabel\":{\"align\":\"left\"},\"hovermode\":\"closest\",\"mapbox\":{\"style\":\"light\"},\"paper_bgcolor\":\"white\",\"plot_bgcolor\":\"#E5ECF6\",\"polar\":{\"angularaxis\":{\"gridcolor\":\"white\",\"linecolor\":\"white\",\"ticks\":\"\"},\"bgcolor\":\"#E5ECF6\",\"radialaxis\":{\"gridcolor\":\"white\",\"linecolor\":\"white\",\"ticks\":\"\"}},\"scene\":{\"xaxis\":{\"backgroundcolor\":\"#E5ECF6\",\"gridcolor\":\"white\",\"gridwidth\":2,\"linecolor\":\"white\",\"showbackground\":true,\"ticks\":\"\",\"zerolinecolor\":\"white\"},\"yaxis\":{\"backgroundcolor\":\"#E5ECF6\",\"gridcolor\":\"white\",\"gridwidth\":2,\"linecolor\":\"white\",\"showbackground\":true,\"ticks\":\"\",\"zerolinecolor\":\"white\"},\"zaxis\":{\"backgroundcolor\":\"#E5ECF6\",\"gridcolor\":\"white\",\"gridwidth\":2,\"linecolor\":\"white\",\"showbackground\":true,\"ticks\":\"\",\"zerolinecolor\":\"white\"}},\"shapedefaults\":{\"line\":{\"color\":\"#2a3f5f\"}},\"ternary\":{\"aaxis\":{\"gridcolor\":\"white\",\"linecolor\":\"white\",\"ticks\":\"\"},\"baxis\":{\"gridcolor\":\"white\",\"linecolor\":\"white\",\"ticks\":\"\"},\"bgcolor\":\"#E5ECF6\",\"caxis\":{\"gridcolor\":\"white\",\"linecolor\":\"white\",\"ticks\":\"\"}},\"title\":{\"x\":0.05},\"xaxis\":{\"automargin\":true,\"gridcolor\":\"white\",\"linecolor\":\"white\",\"ticks\":\"\",\"title\":{\"standoff\":15},\"zerolinecolor\":\"white\",\"zerolinewidth\":2},\"yaxis\":{\"automargin\":true,\"gridcolor\":\"white\",\"linecolor\":\"white\",\"ticks\":\"\",\"title\":{\"standoff\":15},\"zerolinecolor\":\"white\",\"zerolinewidth\":2}}},\"title\":{\"font\":{\"color\":\"#D9D9D9\"},\"text\":\"========Return------VAR========================\"},\"xaxis\":{\"gridcolor\":\"#434343\",\"showgrid\":true,\"tickfont\":{\"color\":\"#C2C2C2\"},\"title\":{\"font\":{\"color\":\"#D9D9D9\"},\"text\":\"Return\"},\"zerolinecolor\":\"#666570\"},\"yaxis\":{\"gridcolor\":\"#434343\",\"showgrid\":true,\"tickfont\":{\"color\":\"#C2C2C2\"},\"title\":{\"font\":{\"color\":\"#D9D9D9\"},\"text\":\"VAR\"},\"zerolinecolor\":\"#666570\"}},                        {\"showLink\": true, \"linkText\": \"Export to plot.ly\", \"plotlyServerURL\": \"https://plot.ly\", \"responsive\": true}                    ).then(function(){\n",
       "                            \n",
       "var gd = document.getElementById('0141bc0c-633c-412f-9cd0-aef68d3fa42e');\n",
       "var x = new MutationObserver(function (mutations, observer) {{\n",
       "        var display = window.getComputedStyle(gd).display;\n",
       "        if (!display || display === 'none') {{\n",
       "            console.log([gd, 'removed!']);\n",
       "            Plotly.purge(gd);\n",
       "            observer.disconnect();\n",
       "        }}\n",
       "}});\n",
       "\n",
       "// Listen for the removal of the full notebook cells\n",
       "var notebookContainer = gd.closest('#notebook-container');\n",
       "if (notebookContainer) {{\n",
       "    x.observe(notebookContainer, {childList: true});\n",
       "}}\n",
       "\n",
       "// Listen for the clearing of the current output cell\n",
       "var outputEl = gd.closest('.output');\n",
       "if (outputEl) {{\n",
       "    x.observe(outputEl, {childList: true});\n",
       "}}\n",
       "\n",
       "                        })                };                });            </script>        </div>"
      ]
     },
     "metadata": {},
     "output_type": "display_data"
    }
   ],
   "source": [
    "\n",
    "df1.iplot(kind=\"scatter\",\n",
    "              x=\"Return%\", y='Value at Risk',\n",
    "              mode='markers',\n",
    "              xTitle=\"Return\", yTitle=\"VAR\",\n",
    "              title=\"========Return------VAR========================\", categories=\"Ticker\",theme=\"solar\")"
   ]
  },
  {
   "cell_type": "code",
   "execution_count": null,
   "id": "983d75d4",
   "metadata": {},
   "outputs": [],
   "source": []
  },
  {
   "cell_type": "code",
   "execution_count": null,
   "id": "35a7ec5d",
   "metadata": {},
   "outputs": [],
   "source": []
  },
  {
   "cell_type": "code",
   "execution_count": null,
   "id": "181c3b24",
   "metadata": {},
   "outputs": [],
   "source": []
  }
 ],
 "metadata": {
  "kernelspec": {
   "display_name": "Python 3 (ipykernel)",
   "language": "python",
   "name": "python3"
  },
  "language_info": {
   "codemirror_mode": {
    "name": "ipython",
    "version": 3
   },
   "file_extension": ".py",
   "mimetype": "text/x-python",
   "name": "python",
   "nbconvert_exporter": "python",
   "pygments_lexer": "ipython3",
   "version": "3.9.6"
  }
 },
 "nbformat": 4,
 "nbformat_minor": 5
}
