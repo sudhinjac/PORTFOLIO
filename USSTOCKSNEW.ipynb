{
 "cells": [
  {
   "cell_type": "code",
   "execution_count": 8,
   "id": "41737c83",
   "metadata": {},
   "outputs": [],
   "source": [
    "import numpy as np\n",
    "from io import StringIO\n",
    "import pandas as pd\n",
    "import matplotlib.pyplot as plt\n",
    "%matplotlib inline\n",
    "import pandas_datareader\n",
    "import datetime\n",
    "import pandas_datareader.data as web\n",
    "from scipy.stats import norm\n",
    "\n",
    "tickers = ['HD','VOD','ORCL','VOO']\n",
    "              \n",
    "\n",
    "data = pd.DataFrame()\n",
    "\n",
    "for t in tickers:\n",
    "    data[t] = web.DataReader(t, data_source='yahoo', start='2018-1-1')['Adj Close']\n",
    "data.to_csv(\"GROWTHUSASEPT22.csv\")"
   ]
  },
  {
   "cell_type": "code",
   "execution_count": 9,
   "id": "3f8f5b23",
   "metadata": {},
   "outputs": [
    {
     "data": {
      "text/plain": [
       "HD      28.961283\n",
       "VOD     30.830822\n",
       "ORCL    29.677393\n",
       "VOO     21.761204\n",
       "dtype: float64"
      ]
     },
     "execution_count": 9,
     "metadata": {},
     "output_type": "execute_result"
    }
   ],
   "source": [
    "returns = np.log(data / data.shift(1))\n",
    "vols = returns.std() * 252 ** 0.5 *100\n",
    "vols"
   ]
  },
  {
   "cell_type": "code",
   "execution_count": 10,
   "id": "01a370ef",
   "metadata": {},
   "outputs": [
    {
     "data": {
      "text/plain": [
       "HD      10.385204\n",
       "VOD    -14.731825\n",
       "ORCL     9.692496\n",
       "VOO      9.343463\n",
       "dtype: float64"
      ]
     },
     "execution_count": 10,
     "metadata": {},
     "output_type": "execute_result"
    }
   ],
   "source": [
    "annual_returns = returns.mean() * 252 * 100\n",
    "annual_returns"
   ]
  },
  {
   "cell_type": "code",
   "execution_count": 11,
   "id": "e0d8cf2b",
   "metadata": {},
   "outputs": [],
   "source": [
    "import numpy as np\n",
    "import pandas as pd\n",
    "from scipy.stats import norm\n",
    "import pandas_datareader.data as web\n",
    "import datetime\n",
    "import math\n",
    "\n",
    "class ValueAtRiskMonteCarlo:\n",
    "    \n",
    "    def __init__(self, S, mu, sigma, c, n, iterations):\n",
    "        self.S = S\n",
    "        self.mu = mu\n",
    "        self.sigma = sigma\n",
    "        self.c = c\n",
    "        self.n = n\n",
    "        self.iterations = iterations \n",
    "\n",
    "    def simulation(self):\n",
    "        stock_data = np.zeros([self.iterations, 1])\t\n",
    "        rand = np.random.normal(0, 1, [1, self.iterations])\n",
    "\n",
    "        #equation for the S(t) stock price\n",
    "        stock_price = self.S*np.exp(self.n*(self.mu - 0.5*self.sigma**2)+self.sigma*np.sqrt(self.n)*rand)\n",
    "        #we have to sort the stock prices to determine the percentile\n",
    "        stock_price = np.sort(stock_price)\n",
    "\n",
    "        #it depends on the confidence level: 95% -> 5 and 99% -> 1\n",
    "        percentile = np.percentile(stock_price,(1-self.c)*100)\n",
    "\n",
    "        return self.S-percentile\n",
    "\n",
    "\n"
   ]
  },
  {
   "cell_type": "code",
   "execution_count": 12,
   "id": "c9303a87",
   "metadata": {},
   "outputs": [
    {
     "name": "stderr",
     "output_type": "stream",
     "text": [
      "/var/folders/jx/qw4vpgyd2gxg8zhm3nm041j40000gp/T/ipykernel_12004/2650492764.py:53: FutureWarning: The frame.append method is deprecated and will be removed from pandas in a future version. Use pandas.concat instead.\n",
      "  df = df.append(pd.Series([t,cov_with_market,market_var,MSFT_beta,vols,annual_returns,Sharp,CAGR,max_dd,val], index=df.columns ), ignore_index=True)\n",
      "/var/folders/jx/qw4vpgyd2gxg8zhm3nm041j40000gp/T/ipykernel_12004/2650492764.py:53: FutureWarning: The frame.append method is deprecated and will be removed from pandas in a future version. Use pandas.concat instead.\n",
      "  df = df.append(pd.Series([t,cov_with_market,market_var,MSFT_beta,vols,annual_returns,Sharp,CAGR,max_dd,val], index=df.columns ), ignore_index=True)\n",
      "/var/folders/jx/qw4vpgyd2gxg8zhm3nm041j40000gp/T/ipykernel_12004/2650492764.py:53: FutureWarning: The frame.append method is deprecated and will be removed from pandas in a future version. Use pandas.concat instead.\n",
      "  df = df.append(pd.Series([t,cov_with_market,market_var,MSFT_beta,vols,annual_returns,Sharp,CAGR,max_dd,val], index=df.columns ), ignore_index=True)\n",
      "/var/folders/jx/qw4vpgyd2gxg8zhm3nm041j40000gp/T/ipykernel_12004/2650492764.py:53: FutureWarning: The frame.append method is deprecated and will be removed from pandas in a future version. Use pandas.concat instead.\n",
      "  df = df.append(pd.Series([t,cov_with_market,market_var,MSFT_beta,vols,annual_returns,Sharp,CAGR,max_dd,val], index=df.columns ), ignore_index=True)\n"
     ]
    }
   ],
   "source": [
    "df = pd.DataFrame(columns = ['Ticker', 'Cov_mar','Market_var','Beta','Volatility%','Return%','Sharp Ratio','CAGR','MAXDD%','Value at Risk']) \n",
    "data = pd.DataFrame()\n",
    "data['^IXIC'] = web.DataReader(t, data_source='yahoo', start='2018-1-1')['Adj Close'] \n",
    "\n",
    "for t in tickers:\n",
    " \n",
    "    data[t] = web.DataReader(t, data_source='yahoo', start='2018-1-1')['Adj Close']  \n",
    "\n",
    "    sec_returns = np.log( data / data.shift(1) )\n",
    "    cov = sec_returns.cov()*252\n",
    "    cov_with_market = cov[t][0]\n",
    " \n",
    "      \n",
    "    dr = data[t].pct_change()\n",
    "    dcum = (1 + dr).cumprod()\n",
    "    n = len(data)/252\n",
    "    CAGR = ((dcum[-1])**(1/n) - 1)*100\n",
    "      \n",
    " \n",
    "    \n",
    "    droll = dcum.cummax()\n",
    "    ddw = droll - dcum\n",
    "    ddmax = ddw/droll\n",
    "    max_dd = (ddmax.max())*100\n",
    "   \n",
    " \n",
    "\n",
    "    market_var = sec_returns['^IXIC'].var() * 252\n",
    "\n",
    "    returns = np.log(data[t] / data[t].shift(1))\n",
    "    MSFT_beta = cov_with_market / market_var\n",
    "    MSFT_er = returns.mean()*252\n",
    "    Sharp = (MSFT_er - 0.05) / (sec_returns[t].std() * 252 ** 0.5)\n",
    "   \n",
    "\n",
    "    #returns = np.log(data[t] / data[t].shift(1))\n",
    "    vols = returns.std() * 252 ** 0.5 *100\n",
    "    annual_returns = returns.mean() * 252 * 100\n",
    "    \n",
    "    S = 100000    #this is the investment (stocks or whatever)\n",
    "    c=0.95   #condifence level: this time it is 99%\n",
    "    n = 730   #1 day \n",
    "    iterations = 100000 #number of paths in the Monte-Carlo simulation\n",
    "    mu = np.mean(returns)\n",
    "    sigma = np.mean(returns.std())\n",
    "\n",
    "    model = ValueAtRiskMonteCarlo(S,mu,sigma,c,n,iterations)\n",
    "    val = model.simulation()\n",
    "\n",
    " \n",
    "    \n",
    " \n",
    "    df = df.append(pd.Series([t,cov_with_market,market_var,MSFT_beta,vols,annual_returns,Sharp,CAGR,max_dd,val], index=df.columns ), ignore_index=True)\n",
    "                                    \n",
    "                        \n",
    "  "
   ]
  },
  {
   "cell_type": "code",
   "execution_count": 13,
   "id": "0e4f558e",
   "metadata": {},
   "outputs": [
    {
     "data": {
      "text/html": [
       "<div>\n",
       "<style scoped>\n",
       "    .dataframe tbody tr th:only-of-type {\n",
       "        vertical-align: middle;\n",
       "    }\n",
       "\n",
       "    .dataframe tbody tr th {\n",
       "        vertical-align: top;\n",
       "    }\n",
       "\n",
       "    .dataframe thead th {\n",
       "        text-align: right;\n",
       "    }\n",
       "</style>\n",
       "<table border=\"1\" class=\"dataframe\">\n",
       "  <thead>\n",
       "    <tr style=\"text-align: right;\">\n",
       "      <th></th>\n",
       "      <th>Ticker</th>\n",
       "      <th>Cov_mar</th>\n",
       "      <th>Market_var</th>\n",
       "      <th>Beta</th>\n",
       "      <th>Volatility%</th>\n",
       "      <th>Return%</th>\n",
       "      <th>Sharp Ratio</th>\n",
       "      <th>CAGR</th>\n",
       "      <th>MAXDD%</th>\n",
       "      <th>Value at Risk</th>\n",
       "    </tr>\n",
       "  </thead>\n",
       "  <tbody>\n",
       "    <tr>\n",
       "      <th>0</th>\n",
       "      <td>HD</td>\n",
       "      <td>0.048081</td>\n",
       "      <td>0.047355</td>\n",
       "      <td>1.015341</td>\n",
       "      <td>28.961296</td>\n",
       "      <td>10.385196</td>\n",
       "      <td>0.185945</td>\n",
       "      <td>10.933922</td>\n",
       "      <td>37.993708</td>\n",
       "      <td>46761.193226</td>\n",
       "    </tr>\n",
       "    <tr>\n",
       "      <th>1</th>\n",
       "      <td>VOD</td>\n",
       "      <td>0.038059</td>\n",
       "      <td>0.047355</td>\n",
       "      <td>0.803698</td>\n",
       "      <td>30.830821</td>\n",
       "      <td>-14.731825</td>\n",
       "      <td>-0.640003</td>\n",
       "      <td>-13.687369</td>\n",
       "      <td>59.659984</td>\n",
       "      <td>76118.914855</td>\n",
       "    </tr>\n",
       "    <tr>\n",
       "      <th>2</th>\n",
       "      <td>ORCL</td>\n",
       "      <td>0.043816</td>\n",
       "      <td>0.047355</td>\n",
       "      <td>0.925276</td>\n",
       "      <td>29.677386</td>\n",
       "      <td>9.692494</td>\n",
       "      <td>0.158117</td>\n",
       "      <td>10.168779</td>\n",
       "      <td>37.733302</td>\n",
       "      <td>49285.468046</td>\n",
       "    </tr>\n",
       "    <tr>\n",
       "      <th>3</th>\n",
       "      <td>VOO</td>\n",
       "      <td>0.047355</td>\n",
       "      <td>0.047355</td>\n",
       "      <td>1.000000</td>\n",
       "      <td>21.761204</td>\n",
       "      <td>9.343459</td>\n",
       "      <td>0.199596</td>\n",
       "      <td>9.785243</td>\n",
       "      <td>33.993014</td>\n",
       "      <td>33279.452755</td>\n",
       "    </tr>\n",
       "  </tbody>\n",
       "</table>\n",
       "</div>"
      ],
      "text/plain": [
       "  Ticker   Cov_mar  Market_var      Beta  Volatility%    Return%  Sharp Ratio  \\\n",
       "0     HD  0.048081    0.047355  1.015341    28.961296  10.385196     0.185945   \n",
       "1    VOD  0.038059    0.047355  0.803698    30.830821 -14.731825    -0.640003   \n",
       "2   ORCL  0.043816    0.047355  0.925276    29.677386   9.692494     0.158117   \n",
       "3    VOO  0.047355    0.047355  1.000000    21.761204   9.343459     0.199596   \n",
       "\n",
       "        CAGR     MAXDD%  Value at Risk  \n",
       "0  10.933922  37.993708   46761.193226  \n",
       "1 -13.687369  59.659984   76118.914855  \n",
       "2  10.168779  37.733302   49285.468046  \n",
       "3   9.785243  33.993014   33279.452755  "
      ]
     },
     "execution_count": 13,
     "metadata": {},
     "output_type": "execute_result"
    }
   ],
   "source": [
    "df"
   ]
  },
  {
   "cell_type": "code",
   "execution_count": 14,
   "id": "f77d3aba",
   "metadata": {},
   "outputs": [
    {
     "data": {
      "text/html": [
       "<div>\n",
       "<style scoped>\n",
       "    .dataframe tbody tr th:only-of-type {\n",
       "        vertical-align: middle;\n",
       "    }\n",
       "\n",
       "    .dataframe tbody tr th {\n",
       "        vertical-align: top;\n",
       "    }\n",
       "\n",
       "    .dataframe thead th {\n",
       "        text-align: right;\n",
       "    }\n",
       "</style>\n",
       "<table border=\"1\" class=\"dataframe\">\n",
       "  <thead>\n",
       "    <tr style=\"text-align: right;\">\n",
       "      <th></th>\n",
       "      <th>Ticker</th>\n",
       "      <th>Cov_mar</th>\n",
       "      <th>Market_var</th>\n",
       "      <th>Beta</th>\n",
       "      <th>Volatility%</th>\n",
       "      <th>Return%</th>\n",
       "      <th>Sharp Ratio</th>\n",
       "      <th>CAGR</th>\n",
       "      <th>MAXDD%</th>\n",
       "      <th>Value at Risk</th>\n",
       "    </tr>\n",
       "  </thead>\n",
       "  <tbody>\n",
       "    <tr>\n",
       "      <th>0</th>\n",
       "      <td>HD</td>\n",
       "      <td>0.048081</td>\n",
       "      <td>0.047355</td>\n",
       "      <td>1.015341</td>\n",
       "      <td>28.961296</td>\n",
       "      <td>10.385196</td>\n",
       "      <td>0.185945</td>\n",
       "      <td>10.933922</td>\n",
       "      <td>37.993708</td>\n",
       "      <td>46761.193226</td>\n",
       "    </tr>\n",
       "  </tbody>\n",
       "</table>\n",
       "</div>"
      ],
      "text/plain": [
       "  Ticker   Cov_mar  Market_var      Beta  Volatility%    Return%  Sharp Ratio  \\\n",
       "0     HD  0.048081    0.047355  1.015341    28.961296  10.385196     0.185945   \n",
       "\n",
       "        CAGR     MAXDD%  Value at Risk  \n",
       "0  10.933922  37.993708   46761.193226  "
      ]
     },
     "execution_count": 14,
     "metadata": {},
     "output_type": "execute_result"
    }
   ],
   "source": [
    "\n",
    "df1 = df[(df['CAGR']>10 ) & (df['Return%']>10)]\n",
    "df1.sort_values(by='Return%', ascending=False)"
   ]
  },
  {
   "cell_type": "code",
   "execution_count": null,
   "id": "d8963aba",
   "metadata": {},
   "outputs": [],
   "source": []
  }
 ],
 "metadata": {
  "kernelspec": {
   "display_name": "Python 3 (ipykernel)",
   "language": "python",
   "name": "python3"
  },
  "language_info": {
   "codemirror_mode": {
    "name": "ipython",
    "version": 3
   },
   "file_extension": ".py",
   "mimetype": "text/x-python",
   "name": "python",
   "nbconvert_exporter": "python",
   "pygments_lexer": "ipython3",
   "version": "3.9.6"
  }
 },
 "nbformat": 4,
 "nbformat_minor": 5
}
