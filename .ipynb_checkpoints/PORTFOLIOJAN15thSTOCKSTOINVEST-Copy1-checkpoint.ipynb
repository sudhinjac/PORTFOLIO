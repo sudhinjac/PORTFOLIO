{
 "cells": [
  {
   "cell_type": "code",
   "execution_count": null,
   "id": "1755858d",
   "metadata": {},
   "outputs": [],
   "source": [
    "import numpy as np\n",
    "from io import StringIO\n",
    "import pandas as pd\n",
    "import matplotlib.pyplot as plt\n",
    "%matplotlib inline\n",
    "import pandas_datareader\n",
    "import datetime\n",
    "import pandas_datareader.data as web\n",
    "from scipy.stats import norm\n",
    "import yfinance as yf\n",
    "import cufflinks as cf\n",
    "cf.go_offline()"
   ]
  },
  {
   "cell_type": "code",
   "execution_count": null,
   "id": "735d8931",
   "metadata": {},
   "outputs": [],
   "source": [
    "tickers = [\"VIMTALABS.NS\",\"BEL.NS\",\"MANINFRA.NS\",\"KEI.NS\",\"DEEPAKNTR.NS\",\"PITTIENG.NS\",\"VINATIORGA.NS\",\n",
    "          \"IONEXCHANG.NS\",\"MARKSANS.NS\",\"HAPPSTMNDS.NS\",\"PERSISTENT.NS\",\"EXPLEOSOL.NS\",\n",
    "          \"JKPAPER.NS\",\"MMFL.NS\",\"TRITURBINE.NS\",\"KKCL.NS\",\"AVANTEL.BO\",\"SKFINDIA.NS\",\"VOLTAMP.NS\",\"TIMKEN.BO\",\n",
    "           ,\"GUJGASLTD.NS\",\"PAGEIND.NS\",\"ESABINDIA.NS\",\"SUMICHEM.NS\",\n",
    "           \"LAURUSLABS.NS\"]"
   ]
  },
  {
   "cell_type": "code",
   "execution_count": null,
   "id": "bb3c37d9",
   "metadata": {},
   "outputs": [],
   "source": [
    "data = pd.DataFrame()\n",
    "\n",
    "data = yf.download(tickers,period=\"4y\")\n",
    "     \n",
    "data = data['Adj Close']\n",
    "        \n",
    "data.to_csv(\"//Users//sjacob//stocks//QALINVESTLATJAN24.csv\")\n",
    "data.dropna()"
   ]
  },
  {
   "cell_type": "code",
   "execution_count": null,
   "id": "2c29c37d",
   "metadata": {},
   "outputs": [],
   "source": [
    "returns = np.log(data / data.shift(1))\n",
    "vols = returns.std() * 252 ** 0.5 *100\n",
    "vols"
   ]
  },
  {
   "cell_type": "code",
   "execution_count": null,
   "id": "3344bfdf",
   "metadata": {},
   "outputs": [],
   "source": [
    "annual_returns = returns.mean() * 252 * 100\n",
    "annual_returns"
   ]
  },
  {
   "cell_type": "code",
   "execution_count": null,
   "id": "8bf10308",
   "metadata": {},
   "outputs": [],
   "source": [
    "import numpy as np\n",
    "import pandas as pd\n",
    "from scipy.stats import norm\n",
    "import pandas_datareader.data as web\n",
    "import datetime\n",
    "import math\n",
    "\n",
    "class ValueAtRiskMonteCarlo:\n",
    "    \n",
    "    def __init__(self, S, mu, sigma, c, n, iterations):\n",
    "        self.S = S\n",
    "        self.mu = mu\n",
    "        self.sigma = sigma\n",
    "        self.c = c\n",
    "        self.n = n\n",
    "        self.iterations = iterations \n",
    "\n",
    "    def simulation(self):\n",
    "        stock_data = np.zeros([self.iterations, 1])\t\n",
    "        rand = np.random.normal(0, 1, [1, self.iterations])\n",
    "\n",
    "        #equation for the S(t) stock price\n",
    "        stock_price = self.S*np.exp(self.n*(self.mu - 0.5*self.sigma**2)+self.sigma*np.sqrt(self.n)*rand)\n",
    "        #we have to sort the stock prices to determine the percentile\n",
    "        stock_price = np.sort(stock_price)\n",
    "\n",
    "        #it depends on the confidence level: 95% -> 5 and 99% -> 1\n",
    "        percentile = np.percentile(stock_price,(1-self.c)*100)\n",
    "\n",
    "        return self.S-percentile"
   ]
  },
  {
   "cell_type": "code",
   "execution_count": null,
   "id": "2c965e85",
   "metadata": {},
   "outputs": [],
   "source": [
    "\n",
    "df = pd.DataFrame(columns = ['Ticker', 'Cov_mar','Market_var','Beta','Volatility%','Return%','CV','Sharp Ratio','CAGR','MAXDD%','Value at Risk']) \n",
    "data = pd.DataFrame()\n",
    "data['^BSESN'] = yf.download('^BSESN',period=\"3y\").Close\n",
    "\n",
    "for t in tickers:\n",
    "    try:\n",
    "        data[t] = yf.download(t,period=\"3y\").Close \n",
    "    except:\n",
    "        continue\n",
    "    sec_returns = np.log( data / data.shift(1) )\n",
    "    cov = sec_returns.cov()*252\n",
    "    cov_with_market = cov[t][0]\n",
    " \n",
    "      \n",
    "    dr = data[t].pct_change()\n",
    "    dcum = (1 + dr).cumprod()\n",
    "    n = len(data)/252\n",
    "    CAGR = ((dcum[-1])**(1/n) - 1)*100\n",
    "      \n",
    " \n",
    "    \n",
    "    droll = dcum.cummax()\n",
    "    ddw = droll - dcum\n",
    "    ddmax = ddw/droll\n",
    "    max_dd = (ddmax.max())*100\n",
    "   \n",
    " \n",
    "\n",
    "    market_var = sec_returns['^BSESN'].var() * 252\n",
    "\n",
    "    returns = np.log(data[t] / data[t].shift(1))\n",
    "    MSFT_beta = cov_with_market / market_var\n",
    "    MSFT_er = returns.mean()*252\n",
    "    Sharp = (MSFT_er - 0.05) / (sec_returns[t].std() * 252 ** 0.5)\n",
    "   \n",
    "\n",
    "    #returns = np.log(data[t] / data[t].shift(1))\n",
    "    vols = returns.std() * 252 ** 0.5 *100\n",
    "    annual_returns = returns.mean() * 252 * 100\n",
    "    CV = (vols/annual_returns)*100\n",
    "    S = 100000    #this is the investment (stocks or whatever)\n",
    "    c=0.95   #condifence level: this time it is 99%\n",
    "    n = 730   #1 day \n",
    "    iterations = 100000 #number of paths in the Monte-Carlo simulation\n",
    "    mu = np.mean(returns)\n",
    "    sigma = np.mean(returns.std())\n",
    "\n",
    "    model = ValueAtRiskMonteCarlo(S,mu,sigma,c,n,iterations)\n",
    "    val = model.simulation()\n",
    "    df.loc[len(df.index)] = [t,cov_with_market,market_var,MSFT_beta,vols,annual_returns,CV,Sharp,CAGR,max_dd,val] \n",
    "    \n",
    "    \n",
    "  "
   ]
  },
  {
   "cell_type": "code",
   "execution_count": null,
   "id": "480a0569",
   "metadata": {},
   "outputs": [],
   "source": []
  },
  {
   "cell_type": "code",
   "execution_count": null,
   "id": "2b9673dc",
   "metadata": {},
   "outputs": [],
   "source": [
    "df1 = df[(df['CAGR']>10 ) & (df['Return%']>10)]\n",
    "df2 = df1.sort_values(by='Return%', ascending=False)\n",
    "df2"
   ]
  },
  {
   "cell_type": "code",
   "execution_count": null,
   "id": "aae9b31c",
   "metadata": {},
   "outputs": [],
   "source": []
  },
  {
   "cell_type": "code",
   "execution_count": null,
   "id": "75b237d6",
   "metadata": {},
   "outputs": [],
   "source": [
    "df2.to_csv(\"//Users//sjacob//stocks//QUALITYINVESTJANI2024.csv\")"
   ]
  },
  {
   "cell_type": "code",
   "execution_count": null,
   "id": "34759b51",
   "metadata": {},
   "outputs": [],
   "source": [
    "pf_data = pd.DataFrame()\n",
    "for t in df1[\"Ticker\"]:\n",
    "    pf_data[t] =  yf.download(t,period=\"3y\").Close \n",
    "\n",
    "log_returns = np.log(pf_data / pf_data.shift(1))\n",
    "num_assets = len(df1[\"Ticker\"])\n",
    "num_assets\n",
    "weights = np.random.random(num_assets)\n",
    "weights /= np.sum(weights)\n",
    "np.sum(weights * log_returns.mean()) * 252\n",
    "np.dot(weights.T, np.dot(log_returns.cov() * 252, weights))\n",
    "np.sqrt(np.dot(weights.T,np.dot(log_returns.cov() * 252, weights)))\n",
    "pfolio_returns = []\n",
    "pfolio_volatilities = []\n",
    "wts = []\n",
    "for x in range (1000):\n",
    "    weights = np.random.random(num_assets)\n",
    "    weights /= np.sum(weights)\n",
    "    pfolio_returns.append(np.sum(weights * log_returns.mean()) * 252)\n",
    "    pfolio_volatilities.append(np.sqrt(np.dot(weights.T,np.dot(log_returns.cov() * 252, weights))))\n",
    "    wts.append(weights)\n",
    "pfolio_returns = np.array(pfolio_returns)\n",
    "pfolio_volatilities = np.array(pfolio_volatilities)\n",
    "wts= np.array(wts)\n",
    "pfolio_returns, pfolio_volatilities\n",
    "portfolios = pd.DataFrame({'Return': pfolio_returns, 'Volatility': pfolio_volatilities})\n",
    "#portfolios.plot(x='Volatility', y='Return', kind='scatter', figsize=(10, 6));\n",
    "#plt.xlabel('Expected Volatility')\n",
    "#plt.ylabel('Expected Return')\n",
    "\n",
    "\n",
    "portfolios.iplot(kind=\"scatter\",\n",
    "              x=\"Volatility\", y='Return',\n",
    "              mode='markers',\n",
    "              xTitle=\"Volatility\", yTitle=\"Return\",\n",
    "              title=\"========Volatility-------Return=========================\",theme=\"solar\")"
   ]
  },
  {
   "cell_type": "code",
   "execution_count": null,
   "id": "e1487a12",
   "metadata": {},
   "outputs": [],
   "source": [
    "import numpy as np\n",
    "import pandas as pd\n",
    "from scipy.stats import norm\n",
    "import pandas_datareader.data as web\n",
    "import datetime\n",
    "import math\n",
    "\n",
    "class ValueAtRiskMonteCarlo:\n",
    "    \n",
    "    def __init__(self, S, mu, sigma, c, n, iterations):\n",
    "        self.S = S\n",
    "        self.mu = mu\n",
    "        self.sigma = sigma\n",
    "        self.c = c\n",
    "        self.n = n\n",
    "        self.iterations = iterations \n",
    "\n",
    "    def simulation(self):\n",
    "        stock_data = np.zeros([self.iterations, 1])\t\n",
    "        rand = np.random.normal(0, 1, [1, self.iterations])\n",
    "\n",
    "        #equation for the S(t) stock price\n",
    "        stock_price = self.S*np.exp(self.n*(self.mu - 0.5*self.sigma**2)+self.sigma*np.sqrt(self.n)*rand)\n",
    "        #we have to sort the stock prices to determine the percentile\n",
    "        stock_price = np.sort(stock_price)\n",
    "\n",
    "        #it depends on the confidence level: 95% -> 5 and 99% -> 1\n",
    "        percentile = np.percentile(stock_price,(1-self.c)*100)\n",
    "\n",
    "        return self.S-percentile\n",
    "\n",
    "if __name__ == \"__main__\":\n",
    "    S = 100000    #this is the investment (stocks or whatever)\n",
    "    c=0.95   #condifence level: this time it is 99%\n",
    "    n = 730   #1 day \n",
    "    iterations = 100000 #number of paths in the Monte-Carlo simulation\n",
    "\n",
    "    #historical data to approximate mean and standard deviation\n",
    "    d = {}\n",
    "\n",
    "    #download stock related data from Yahoo Finance\n",
    "    for t in df1[\"Ticker\"]:\n",
    "        citi = yf.download(t,period=\"3y\")\n",
    "           #we can use pct_change() to calculate daily returns\n",
    "        citi['returns'] = citi['Close'].pct_change()\n",
    "\n",
    "    #we can assume daily returns to be normally sidtributed: mean and variance (standard deviation)\n",
    "    #can describe the process\n",
    "        mu = np.mean(citi['returns'])\n",
    "        sigma = np.std(citi['returns'])\n",
    "\n",
    "        model = ValueAtRiskMonteCarlo(S,mu,sigma,c,n,iterations)\n",
    "        val = model.simulation()\n",
    "        d[t] = val\n",
    "        print(\"VALUE AT RSIK for {} is\".format(t))\n",
    "        print('Value at risk with Monte-Carlo simulation in INR: %0.2f' % val)\n",
    "    print(\"The minimum value at risk for the portofolios are:\")\n",
    "    print(min(d.values()))"
   ]
  },
  {
   "cell_type": "code",
   "execution_count": null,
   "id": "bf5bf543",
   "metadata": {},
   "outputs": [],
   "source": [
    "for key,value in d.items():\n",
    "    print(\" The Value at risk per 1L invested in stock {} is {:0.2f}\".format(key,value))"
   ]
  },
  {
   "cell_type": "code",
   "execution_count": null,
   "id": "fb3109ab",
   "metadata": {},
   "outputs": [],
   "source": [
    "df2.reset_index(inplace = True)"
   ]
  },
  {
   "cell_type": "code",
   "execution_count": null,
   "id": "a0d09bea",
   "metadata": {},
   "outputs": [],
   "source": [
    "import plotly.graph_objects as go\n",
    "\n",
    "# Assuming you have already created the 'df2' DataFrame\n",
    "\n",
    "fig = go.Figure(data=go.Scatter(x=df2[\"CV\"], y=df2[\"Value at Risk\"], mode='markers'))\n",
    "fig.update_layout(title=\"========VOL------CV========================\",\n",
    "                  xaxis_title=\"CV\", yaxis_title=\"VAR\",\n",
    "                  xaxis=dict(title=\"Volatility\"),\n",
    "                  yaxis=dict(title=\"CV\"),\n",
    "                  showlegend=False,\n",
    "                  template=\"plotly_dark\")  # Choose a theme here if you'd like, e.g., \"plotly\", \"plotly_white\", etc.\n",
    "\n",
    "fig.show()"
   ]
  },
  {
   "cell_type": "code",
   "execution_count": null,
   "id": "3512bab1",
   "metadata": {},
   "outputs": [],
   "source": [
    "import plotly.graph_objects as go\n",
    "\n",
    "# Assuming you have already created the 'df2' DataFrame\n",
    "\n",
    "fig = go.Figure(data=go.Scatter(x=df2[\"Return%\"], y=df2[\"Volatility%\"], mode='markers'))\n",
    "fig.update_layout(title=\"========VOL------CV========================\",\n",
    "                  xaxis_title=\"Volatility\", yaxis_title=\"CV\",\n",
    "                  xaxis=dict(title=\"Volatility\"),\n",
    "                  yaxis=dict(title=\"CV\"),\n",
    "                  showlegend=False,\n",
    "                  template=\"plotly_dark\")  # Choose a theme here if you'd like, e.g., \"plotly\", \"plotly_white\", etc.\n",
    "\n",
    "fig.show()"
   ]
  },
  {
   "cell_type": "code",
   "execution_count": null,
   "id": "da026280",
   "metadata": {},
   "outputs": [],
   "source": [
    "import plotly.graph_objects as go\n",
    "\n",
    "# Assuming you have already created the 'df2' DataFrame\n",
    "\n",
    "fig = go.Figure(data=go.Scatter(x=df2[\"Return%\"], y=df2[\"CV\"], mode='markers'))\n",
    "fig.update_layout(title=\"========VOL------CV========================\",\n",
    "                  xaxis_title=\"Volatility\", yaxis_title=\"CV\",\n",
    "                  xaxis=dict(title=\"Volatility\"),\n",
    "                  yaxis=dict(title=\"CV\"),\n",
    "                  showlegend=False,\n",
    "                  template=\"plotly_dark\")  # Choose a theme here if you'd like, e.g., \"plotly\", \"plotly_white\", etc.\n",
    "\n",
    "fig.show()"
   ]
  },
  {
   "cell_type": "code",
   "execution_count": null,
   "id": "dbc372a7",
   "metadata": {},
   "outputs": [],
   "source": [
    "import plotly.graph_objects as go\n",
    "\n",
    "# Assuming you have already created the 'df2' DataFrame\n",
    "\n",
    "fig = go.Figure(data=go.Scatter(x=df2[\"Volatility%\"], y=df2[\"Value at Risk\"], mode='markers'))\n",
    "fig.update_layout(title=\"========VOL------CV========================\",\n",
    "                  xaxis_title=\"Volatility\", yaxis_title=\"Value at Risk\",\n",
    "                  xaxis=dict(title=\"Volatility\"),\n",
    "                  yaxis=dict(title=\"VAR\"),\n",
    "                  showlegend=False,\n",
    "                  template=\"plotly_dark\")  # Choose a theme here if you'd like, e.g., \"plotly\", \"plotly_white\", etc.\n",
    "\n",
    "fig.show()"
   ]
  },
  {
   "cell_type": "code",
   "execution_count": null,
   "id": "458ec8c5",
   "metadata": {},
   "outputs": [],
   "source": [
    "norm = data.div(data.iloc[0,:]).mul(100)\n",
    "norm.iplot(title=\"Comparision Analysis\",xTitle='Date',yTitle=\"Normalized Price\", fill = True, theme=\"pearl\")"
   ]
  },
  {
   "cell_type": "code",
   "execution_count": null,
   "id": "ad3a2a1a",
   "metadata": {},
   "outputs": [],
   "source": [
    "norm.iplot(title=\"Comparision Analysis\",xTitle='Date',yTitle=\"Normalized Price\", fill = True, theme=\"pearl\")"
   ]
  },
  {
   "cell_type": "code",
   "execution_count": null,
   "id": "ae52cfda",
   "metadata": {},
   "outputs": [],
   "source": [
    "ret = data.pct_change().dropna()\n",
    "\n",
    "ret.iplot(kind=\"hist\", bins=50, histnorm=None,theme=\"pearl\")"
   ]
  },
  {
   "cell_type": "code",
   "execution_count": null,
   "id": "d4a3f599",
   "metadata": {},
   "outputs": [],
   "source": [
    "import plotly.graph_objects as go\n",
    "\n",
    "# Assuming you have already created the 'df2' DataFrame\n",
    "\n",
    "fig = go.Figure(data=go.Scatter(x=df2[\"Volatility%\"], y=df2[\"CV\"], mode='markers'))\n",
    "fig.update_layout(title=\"========VOL------CV========================\",\n",
    "                  xaxis_title=\"Volatility\", yaxis_title=\"CV\",\n",
    "                  xaxis=dict(title=\"Volatility\"),\n",
    "                  yaxis=dict(title=\"CV\"),\n",
    "                  showlegend=False,\n",
    "                  template=\"plotly_dark\")  # Choose a theme here if you'd like, e.g., \"plotly\", \"plotly_white\", etc.\n",
    "\n",
    "fig.show()"
   ]
  },
  {
   "cell_type": "code",
   "execution_count": null,
   "id": "7f53e0b4",
   "metadata": {},
   "outputs": [],
   "source": [
    "import plotly.graph_objects as go\n",
    "\n",
    "# Assuming you have already created the 'df2' DataFrame\n",
    "# Assuming you have a column in 'df2' named 'Ticker' for custom labels\n",
    "\n",
    "fig = go.Figure()\n",
    "\n",
    "scatter_trace = go.Scatter(\n",
    "    x=df2[\"Volatility%\"],\n",
    "    y=df2[\"CV\"],\n",
    "    mode='markers+text',  # Use 'markers+text' mode to show text labels on markers\n",
    "    text=df2[\"Ticker\"],   # Use the 'Ticker' column as the label for each data point\n",
    "    textposition=\"bottom center\",  # Position of the text relative to the markers\n",
    "    marker=dict(size=10)  # Adjust marker size as needed\n",
    ")\n",
    "\n",
    "fig.add_trace(scatter_trace)\n",
    "\n",
    "fig.update_layout(\n",
    "    title=\"========VOL------CV========================\",\n",
    "    xaxis_title=\"Volatility\",\n",
    "    yaxis_title=\"CV\",\n",
    "    xaxis=dict(title=\"Volatility\"),\n",
    "    yaxis=dict(title=\"CV\"),\n",
    "    showlegend=False,\n",
    "    template=\"plotly_dark\"  # Choose a theme here if you'd like, e.g., \"plotly\", \"plotly_white\", etc.\n",
    ")\n",
    "\n",
    "fig.show()"
   ]
  },
  {
   "cell_type": "code",
   "execution_count": null,
   "id": "a28c39b8",
   "metadata": {},
   "outputs": [],
   "source": []
  },
  {
   "cell_type": "code",
   "execution_count": null,
   "id": "cd8b56bd",
   "metadata": {},
   "outputs": [],
   "source": []
  },
  {
   "cell_type": "code",
   "execution_count": null,
   "id": "44d2e385",
   "metadata": {},
   "outputs": [],
   "source": [
    "plt.figure(figsize=[15,10])\n",
    "x= df2['Return%']\n",
    "y = df2['Value at Risk']\n",
    "annotations = df2[\"Ticker\"]\n",
    "plt.grid(True)\n",
    "plt.title('VAR Return', fontsize=18, color='black')\n",
    "plt.xlabel(\"Return\",fontsize=18, color='black')\n",
    "plt.ylabel(\"Value at Risk\", fontsize=18, color='black') \n",
    "plt.scatter(x, y,s=200 )\n",
    "for i, label in enumerate(annotations):\n",
    "    plt.annotate(label, (x[i], y[i]))\n",
    "plt.scatter(x, y,s=200 )\n",
    "for i, label in enumerate(annotations):\n",
    "    plt.annotate(label, (x[i], y[i]))\n",
    "plt.axvline(x = 50, color = 'r', label = 'axvline - full height')\n",
    "plt.axhline(y=50000, color='r', linestyle='-')\n",
    "plt.show()\n",
    "\n",
    "plt.show()"
   ]
  },
  {
   "cell_type": "code",
   "execution_count": null,
   "id": "fb470603",
   "metadata": {},
   "outputs": [],
   "source": [
    "plt.figure(figsize=[15,10])\n",
    "x= df2['Volatility%']\n",
    "y = df2['Value at Risk']\n",
    "annotations = df2[\"Ticker\"]\n",
    "plt.grid(True)\n",
    "plt.title('VAR VOLATILITY', fontsize=18, color='black')\n",
    "plt.xlabel(\"Volatility\",fontsize=18, color='black')\n",
    "plt.ylabel(\"Value at Risk\", fontsize=18, color='black') \n",
    "plt.scatter(x, y,s=200 )\n",
    "for i, label in enumerate(annotations):\n",
    "    plt.annotate(label, (x[i], y[i]))\n",
    "plt.scatter(x, y,s=200 )\n",
    "for i, label in enumerate(annotations):\n",
    "    plt.annotate(label, (x[i], y[i]))\n",
    "plt.axvline(x = 50, color = 'r', label = 'axvline - full height')\n",
    "plt.axhline(y=50000, color='r', linestyle='-')\n",
    "plt.show()\n",
    "\n",
    "plt.show()"
   ]
  },
  {
   "cell_type": "code",
   "execution_count": null,
   "id": "55a96021",
   "metadata": {},
   "outputs": [],
   "source": [
    "plt.figure(figsize=[15,10])\n",
    "x= df2['Return%']\n",
    "y = df2['Volatility%']\n",
    "annotations = np.array(df2[\"Ticker\"])\n",
    "plt.grid(True)\n",
    "plt.title('Volatility Return', fontsize=18, color='black')\n",
    "plt.xlabel(\"Return\",fontsize=18, color='black')\n",
    "plt.ylabel(\"Volatility\", fontsize=18, color='black') \n",
    "plt.scatter(x, y,s=200 )\n",
    "i=0\n",
    "for labels in annotations:\n",
    "    plt.annotate(labels, (x[i], y[i]))\n",
    "    i=i+1\n",
    "plt.axvline(x = 50, color = 'r', label = 'axvline - full height')\n",
    "plt.axhline(y=50, color='r', linestyle='-')\n",
    "plt.show()"
   ]
  },
  {
   "cell_type": "code",
   "execution_count": null,
   "id": "be8d5ab9",
   "metadata": {},
   "outputs": [],
   "source": [
    "plt.figure(figsize=[15,10])\n",
    "x= df2['Return%']\n",
    "y = df2['Value at Risk']\n",
    "annotations = df2[\"Ticker\"]\n",
    "plt.grid(True)\n",
    "plt.title('VAR Return', fontsize=18, color='black')\n",
    "plt.xlabel(\"Return\",fontsize=18, color='black')\n",
    "plt.ylabel(\"Value at Risk\", fontsize=18, color='black') \n",
    "plt.scatter(x, y,s=200 )\n",
    "for i, label in enumerate(annotations):\n",
    "    plt.annotate(label, (x[i], y[i]))\n",
    "plt.scatter(x, y,s=200 )\n",
    "for i, label in enumerate(annotations):\n",
    "    plt.annotate(label, (x[i], y[i]))\n",
    "plt.axvline(x = 50, color = 'r', label = 'axvline - full height')\n",
    "plt.axhline(y=50000, color='r', linestyle='-')\n",
    "plt.show()\n",
    "\n",
    "plt.figure(figsize=[15,10])\n",
    "x= df2['Volatility%']\n",
    "y = df2['Value at Risk']\n",
    "annotations = df2[\"Ticker\"]\n",
    "plt.grid(True)\n",
    "plt.title('VAR VOLATILITY', fontsize=18, color='black')\n",
    "plt.xlabel(\"Volatility\",fontsize=18, color='black')\n",
    "plt.ylabel(\"Value at Risk\", fontsize=18, color='black') \n",
    "plt.scatter(x, y,s=200 )\n",
    "for i, label in enumerate(annotations):\n",
    "    plt.annotate(label, (x[i], y[i]))\n",
    "plt.scatter(x, y,s=200 )\n",
    "for i, label in enumerate(annotations):\n",
    "    plt.annotate(label, (x[i], y[i]))\n",
    "plt.axvline(x = 50, color = 'r', label = 'axvline - full height')\n",
    "plt.axhline(y=50000, color='r', linestyle='-')\n",
    "plt.show()"
   ]
  },
  {
   "cell_type": "code",
   "execution_count": null,
   "id": "572cad50",
   "metadata": {},
   "outputs": [],
   "source": [
    "stocks_df = data\n",
    "def show_plot(df, fig_title):\n",
    "  df.plot(x = 'Date', figsize = (15,7), linewidth = 3, title = fig_title)\n",
    "  plt.grid()\n",
    "  plt.show()\n",
    "stocks_df = stocks_df.reset_index()\n",
    "show_plot(stocks_df, 'RAW STOCK PRICES (WITHOUT NORMALIZATION)')"
   ]
  },
  {
   "cell_type": "code",
   "execution_count": null,
   "id": "e2475c88",
   "metadata": {},
   "outputs": [],
   "source": [
    "def daily_return(df):\n",
    "  df_daily_return = df.copy()\n",
    "\n",
    "  # Loop through each stock (while ignoring time columns with index 0)\n",
    "  for i in df.columns[1:]:\n",
    "    \n",
    "    # Loop through each row belonging to the stock\n",
    "    for j in range(1, len(df)):\n",
    "\n",
    "      # Calculate the percentage of change from the previous day\n",
    "      df_daily_return[i][j] = ((df[i][j]- df[i][j-1])/df[i][j-1]) * 100\n",
    "    \n",
    "    # set the value of first row to zero since the previous value is not available\n",
    "    df_daily_return[i][0] = 0\n",
    "  \n",
    "  return df_daily_return\n",
    "\n",
    "# Get the daily returns \n",
    "stocks_daily_return = daily_return(stocks_df)\n",
    "\n",
    "# Daily Return Correlation\n",
    "cm = stocks_daily_return.drop(columns = ['Date']).corr()\n",
    "\n",
    "import pandas as pd\n",
    "import matplotlib.pyplot as plt\n",
    "import numpy as np\n",
    "import seaborn as sns\n",
    "from copy import copy\n",
    "from scipy import stats\n",
    "import plotly.express as px\n",
    "import plotly.figure_factory as ff\n",
    "import plotly.graph_objects as go\n",
    "plt.figure(figsize=(10, 10))\n",
    "ax = plt.subplot()\n",
    "sns.heatmap(cm, annot = True, ax = ax);"
   ]
  },
  {
   "cell_type": "code",
   "execution_count": null,
   "id": "c57cd9d6",
   "metadata": {},
   "outputs": [],
   "source": [
    "# Histogram of daily returns\n",
    "# Stock returns are normally distributed with zero mean \n",
    "# Notice how Tesla Standard deviation is high indicating a more volatile stock\n",
    "stocks_daily_return.hist(figsize=(10, 10), bins = 40);"
   ]
  },
  {
   "cell_type": "code",
   "execution_count": null,
   "id": "b06ecec9",
   "metadata": {},
   "outputs": [],
   "source": [
    "# Function to normalize the prices based on the initial price\n",
    "# The function simply divides every stock by it's price at the start date (i.e.: Date = 2012-01-12)\t\n",
    "def normalize(df):\n",
    "  x = df.copy()\n",
    "\n",
    "  # Loop through each stock (while ignoring time columns with index 0)\n",
    "  for i in x.columns[1:]:\n",
    "    x[i] = x[i]/x[i][0]\n",
    "  return x\n",
    "\n",
    "# Plot normalized data\n",
    "# Notice the massive gains in Tesla Stock compared to Amazon (second place)\n",
    "show_plot(normalize(stocks_df), 'NORMALIZED STOCK PRICES')"
   ]
  },
  {
   "cell_type": "code",
   "execution_count": null,
   "id": "92a138f7",
   "metadata": {},
   "outputs": [],
   "source": [
    "patterns = {\n",
    "    'CDL2CROWS':'Two Crows',\n",
    "    'CDL3BLACKCROWS':'Three Black Crows',\n",
    "    'CDL3INSIDE':'Three Inside Up/Down',\n",
    "    'CDL3LINESTRIKE':'Three-Line Strike',\n",
    "    'CDL3OUTSIDE':'Three Outside Up/Down',\n",
    "    'CDL3STARSINSOUTH':'Three Stars In The South',\n",
    "    'CDL3WHITESOLDIERS':'Three Advancing White Soldiers',\n",
    "    'CDLABANDONEDBABY':'Abandoned Baby',\n",
    "    'CDLADVANCEBLOCK':'Advance Block',\n",
    "    'CDLBELTHOLD':'Belt-hold',\n",
    "    'CDLBREAKAWAY':'Breakaway',\n",
    "    'CDLCLOSINGMARUBOZU':'Closing Marubozu',\n",
    "    'CDLCONCEALBABYSWALL':'Concealing Baby Swallow',\n",
    "    'CDLCOUNTERATTACK':'Counterattack',\n",
    "    'CDLDARKCLOUDCOVER':'Dark Cloud Cover',\n",
    "    'CDLDOJI':'Doji',\n",
    "    'CDLDOJISTAR':'Doji Star',\n",
    "    'CDLDRAGONFLYDOJI':'Dragonfly Doji',\n",
    "    'CDLENGULFING':'Engulfing Pattern',\n",
    "    'CDLEVENINGDOJISTAR':'Evening Doji Star',\n",
    "    'CDLEVENINGSTAR':'Evening Star',\n",
    "    'CDLGAPSIDESIDEWHITE':'Up/Down-gap side-by-side white lines',\n",
    "    'CDLGRAVESTONEDOJI':'Gravestone Doji',\n",
    "    'CDLHAMMER':'Hammer',\n",
    "    'CDLHANGINGMAN':'Hanging Man',\n",
    "    'CDLHARAMI':'Harami Pattern',\n",
    "    'CDLHARAMICROSS':'Harami Cross Pattern',\n",
    "    'CDLHIGHWAVE':'High-Wave Candle',\n",
    "    'CDLHIKKAKE':'Hikkake Pattern',\n",
    "    'CDLHIKKAKEMOD':'Modified Hikkake Pattern',\n",
    "    'CDLHOMINGPIGEON':'Homing Pigeon',\n",
    "    'CDLIDENTICAL3CROWS':'Identical Three Crows',\n",
    "    'CDLINNECK':'In-Neck Pattern',\n",
    "    'CDLINVERTEDHAMMER':'Inverted Hammer',\n",
    "    'CDLKICKING':'Kicking',\n",
    "    'CDLKICKINGBYLENGTH':'Kicking - bull/bear determined by the longer marubozu',\n",
    "    'CDLLADDERBOTTOM':'Ladder Bottom',\n",
    "    'CDLLONGLEGGEDDOJI':'Long Legged Doji',\n",
    "    'CDLLONGLINE':'Long Line Candle',\n",
    "    'CDLMARUBOZU':'Marubozu',\n",
    "    'CDLMATCHINGLOW':'Matching Low',\n",
    "    'CDLMATHOLD':'Mat Hold',\n",
    "    'CDLMORNINGDOJISTAR':'Morning Doji Star',\n",
    "    'CDLMORNINGSTAR':'Morning Star',\n",
    "    'CDLONNECK':'On-Neck Pattern',\n",
    "    'CDLPIERCING':'Piercing Pattern',\n",
    "    'CDLRICKSHAWMAN':'Rickshaw Man',\n",
    "    'CDLRISEFALL3METHODS':'Rising/Falling Three Methods',\n",
    "    'CDLSEPARATINGLINES':'Separating Lines',\n",
    "    'CDLSHOOTINGSTAR':'Shooting Star',\n",
    "    'CDLSHORTLINE':'Short Line Candle',\n",
    "    'CDLSPINNINGTOP':'Spinning Top',\n",
    "    'CDLSTALLEDPATTERN':'Stalled Pattern',\n",
    "    'CDLSTICKSANDWICH':'Stick Sandwich',\n",
    "    'CDLTAKURI':'Takuri (Dragonfly Doji with very long lower shadow)',\n",
    "    'CDLTASUKIGAP':'Tasuki Gap',\n",
    "    'CDLTHRUSTING':'Thrusting Pattern',\n",
    "    'CDLTRISTAR':'Tristar Pattern',\n",
    "    'CDLUNIQUE3RIVER':'Unique 3 River',\n",
    "    'CDLUPSIDEGAP2CROWS':'Upside Gap Two Crows',\n",
    "    'CDLXSIDEGAP3METHODS':'Upside/Downside Gap Three Methods'\n",
    "}"
   ]
  },
  {
   "cell_type": "code",
   "execution_count": null,
   "id": "6b66ce9e",
   "metadata": {},
   "outputs": [],
   "source": [
    "import os, csv\n",
    "import pandas as pd\n",
    "import yfinance as yf\n",
    "import talib\n",
    "\n",
    "import datetime\n",
    "import pandas as pd\n",
    "import yfinance as yf\n",
    "import plotly.graph_objects as go\n",
    "\n",
    "def candle_trend(patterns,tickers):\n",
    "    \n",
    "    data = pd.DataFrame(columns=['Ticker','Candle-Pattern','Definition','Signal'])\n",
    "    for t in tickers:\n",
    "        try: \n",
    "            df = yf.download(t, period=\"4y\") \n",
    "    \n",
    "        \n",
    "            for pattern in patterns:\n",
    "                ta_function = getattr(talib, pattern)\n",
    "                result = ta_function(df['Open'], df['High'], df['Low'], df['Close'])\n",
    "                last_pattern = result.tail(1).values[0]\n",
    "                if last_pattern > 0:\n",
    "                    data = data.append(pd.Series([t,pattern,patterns[pattern],\"BULLISH\"],index=data.columns), ignore_index=True)\n",
    "                \n",
    "                \n",
    "                elif last_pattern < 0:\n",
    "                    data = data.append(pd.Series([t,pattern,patterns[pattern],\"BEAR\"],index=data.columns), ignore_index=True)\n",
    "        except:\n",
    "            continue\n",
    "\n",
    "    return data\n",
    "g=candle_trend(patterns,tickers)"
   ]
  },
  {
   "cell_type": "code",
   "execution_count": null,
   "id": "d5a5a10e",
   "metadata": {},
   "outputs": [],
   "source": [
    "g"
   ]
  },
  {
   "cell_type": "code",
   "execution_count": null,
   "id": "4945130d",
   "metadata": {},
   "outputs": [],
   "source": [
    "g.Ticker.unique()"
   ]
  },
  {
   "cell_type": "code",
   "execution_count": null,
   "id": "5e2a9bba",
   "metadata": {},
   "outputs": [],
   "source": [
    "g['Candle-Pattern'].unique()"
   ]
  },
  {
   "cell_type": "code",
   "execution_count": null,
   "id": "1c8ad38f",
   "metadata": {},
   "outputs": [],
   "source": [
    "df2.head(20)"
   ]
  },
  {
   "cell_type": "code",
   "execution_count": null,
   "id": "e0dc1e82",
   "metadata": {},
   "outputs": [],
   "source": [
    "df2[(df2['CAGR']>15 ) & (df2['Return%']>15)]"
   ]
  },
  {
   "cell_type": "code",
   "execution_count": null,
   "id": "723ef196",
   "metadata": {},
   "outputs": [],
   "source": [
    "df2[(df2['CAGR']>15 ) & (df2['Return%']>15) & (df2['Volatility%']<50)]"
   ]
  },
  {
   "cell_type": "code",
   "execution_count": null,
   "id": "7c54af37",
   "metadata": {},
   "outputs": [],
   "source": [
    "np.corrcoef(df1['CV'], df1['Value at Risk'])[0][1]"
   ]
  },
  {
   "cell_type": "code",
   "execution_count": null,
   "id": "51567ea1",
   "metadata": {},
   "outputs": [],
   "source": [
    "def t_stat_corr(df, x, y):\n",
    "    \"\"\"Returns the t-statistic for the correlation between 2 variables\"\"\"\n",
    "    corr_xy = np.corrcoef(df[x], df[y])[0][1]\n",
    "    n = len(df)\n",
    "    \n",
    "    t_stat = (corr_xy * np.sqrt(n - 2)) / np.sqrt(1 - corr_xy ** 2)\n",
    "    \n",
    "    return t_stat"
   ]
  },
  {
   "cell_type": "code",
   "execution_count": null,
   "id": "870b7291",
   "metadata": {},
   "outputs": [],
   "source": [
    "# H1\n",
    "t_stat_corr(df=df1, y='Value at Risk', x='CV')"
   ]
  },
  {
   "cell_type": "code",
   "execution_count": null,
   "id": "ba54a011",
   "metadata": {},
   "outputs": [],
   "source": [
    "t_stat_corr(df=df1, y='Return%', x='CV')"
   ]
  },
  {
   "cell_type": "code",
   "execution_count": null,
   "id": "cd1d4a94",
   "metadata": {},
   "outputs": [],
   "source": [
    "t_stat_corr(df=df1, y='Volatility%', x='Return%')"
   ]
  },
  {
   "cell_type": "code",
   "execution_count": null,
   "id": "e6161b63",
   "metadata": {},
   "outputs": [],
   "source": [
    "t_stat_corr(df=df1, y='Volatility%', x='CV')"
   ]
  },
  {
   "cell_type": "code",
   "execution_count": null,
   "id": "79900a22",
   "metadata": {},
   "outputs": [],
   "source": [
    "t_stat_corr(df=df1, y='Volatility%', x='MAXDD%')"
   ]
  },
  {
   "cell_type": "code",
   "execution_count": null,
   "id": "94d30253",
   "metadata": {},
   "outputs": [],
   "source": [
    "\n",
    "t_stat_corr(df=df1, y='Return%', x='MAXDD%')"
   ]
  },
  {
   "cell_type": "code",
   "execution_count": null,
   "id": "f43d939c",
   "metadata": {},
   "outputs": [],
   "source": [
    "df2[(df2['CAGR']>20 ) & (df2['Return%']>20) & (df2['Volatility%']<50)]"
   ]
  },
  {
   "cell_type": "code",
   "execution_count": null,
   "id": "5f026627",
   "metadata": {},
   "outputs": [],
   "source": [
    "df3 = df2[(df2['CAGR']>20 ) & (df2['Return%']>20) & (df2['Volatility%']<50) & (df2['Value at Risk']<52000)]\n",
    "df3"
   ]
  },
  {
   "cell_type": "code",
   "execution_count": null,
   "id": "f884d7ad",
   "metadata": {},
   "outputs": [],
   "source": [
    "df3.reset_index(inplace = True)"
   ]
  },
  {
   "cell_type": "code",
   "execution_count": null,
   "id": "791afb38",
   "metadata": {},
   "outputs": [],
   "source": [
    "plt.figure(figsize=[15,10])\n",
    "x= df3['Return%']\n",
    "y = df3['Value at Risk']\n",
    "annotations = df3[\"Ticker\"]\n",
    "plt.grid(True)\n",
    "plt.title('VAR Return', fontsize=18, color='black')\n",
    "plt.xlabel(\"Return\",fontsize=18, color='black')\n",
    "plt.ylabel(\"Value at Risk\", fontsize=18, color='black') \n",
    "plt.scatter(x, y,s=200 )\n",
    "for i, label in enumerate(annotations):\n",
    "    plt.annotate(label, (x[i], y[i]))\n",
    "plt.scatter(x, y,s=200 )\n",
    "for i, label in enumerate(annotations):\n",
    "    plt.annotate(label, (x[i], y[i]))\n",
    "plt.axvline(x = 50, color = 'r', label = 'axvline - full height')\n",
    "plt.axhline(y=50000, color='r', linestyle='-')\n",
    "plt.show()\n",
    "\n",
    "plt.figure(figsize=[15,10])\n",
    "x= df3['Volatility%']\n",
    "y = df3['Value at Risk']\n",
    "annotations = df3[\"Ticker\"]\n",
    "plt.grid(True)\n",
    "plt.title('VAR VOLATILITY', fontsize=18, color='black')\n",
    "plt.xlabel(\"Volatility\",fontsize=18, color='black')\n",
    "plt.ylabel(\"Value at Risk\", fontsize=18, color='black') \n",
    "plt.scatter(x, y,s=200 )\n",
    "for i, label in enumerate(annotations):\n",
    "    plt.annotate(label, (x[i], y[i]))\n",
    "plt.scatter(x, y,s=200 )\n",
    "for i, label in enumerate(annotations):\n",
    "    plt.annotate(label, (x[i], y[i]))\n",
    "plt.axvline(x = 50, color = 'r', label = 'axvline - full height')\n",
    "plt.axhline(y=50000, color='r', linestyle='-')\n",
    "plt.show()"
   ]
  },
  {
   "cell_type": "code",
   "execution_count": null,
   "id": "37801216",
   "metadata": {},
   "outputs": [],
   "source": [
    "len(df3)"
   ]
  },
  {
   "cell_type": "code",
   "execution_count": null,
   "id": "9968bc2a",
   "metadata": {},
   "outputs": [],
   "source": [
    "df4 = df3.sort_values(by='Return%', ascending=False)"
   ]
  },
  {
   "cell_type": "code",
   "execution_count": null,
   "id": "2127d2ca",
   "metadata": {},
   "outputs": [],
   "source": [
    "df4.head(40)"
   ]
  },
  {
   "cell_type": "code",
   "execution_count": null,
   "id": "5c09e971",
   "metadata": {},
   "outputs": [],
   "source": [
    "df4.tail(30)"
   ]
  },
  {
   "cell_type": "code",
   "execution_count": null,
   "id": "1895de68",
   "metadata": {},
   "outputs": [],
   "source": [
    "df3.head(20)"
   ]
  },
  {
   "cell_type": "code",
   "execution_count": null,
   "id": "0f6f86b9",
   "metadata": {},
   "outputs": [],
   "source": [
    "df2.head(30)"
   ]
  },
  {
   "cell_type": "code",
   "execution_count": null,
   "id": "d13d38eb",
   "metadata": {},
   "outputs": [],
   "source": [
    "dfcv = df1.sort_values(by='CV', ascending=True)"
   ]
  },
  {
   "cell_type": "code",
   "execution_count": null,
   "id": "ae78acb0",
   "metadata": {},
   "outputs": [],
   "source": [
    "dfcv"
   ]
  },
  {
   "cell_type": "code",
   "execution_count": null,
   "id": "2e8f627e",
   "metadata": {},
   "outputs": [],
   "source": [
    "dfcv.to_csv(\"//Users//sjacob//Downloads//NEWSTOCK.csv\")"
   ]
  },
  {
   "cell_type": "code",
   "execution_count": null,
   "id": "4baf4ba3",
   "metadata": {},
   "outputs": [],
   "source": []
  },
  {
   "cell_type": "code",
   "execution_count": null,
   "id": "6de8c38e",
   "metadata": {},
   "outputs": [],
   "source": []
  },
  {
   "cell_type": "code",
   "execution_count": null,
   "id": "2f791823",
   "metadata": {},
   "outputs": [],
   "source": []
  },
  {
   "cell_type": "code",
   "execution_count": null,
   "id": "b408993f",
   "metadata": {},
   "outputs": [],
   "source": []
  },
  {
   "cell_type": "code",
   "execution_count": null,
   "id": "428c2dba",
   "metadata": {},
   "outputs": [],
   "source": []
  },
  {
   "cell_type": "code",
   "execution_count": null,
   "id": "db8e71c8",
   "metadata": {},
   "outputs": [],
   "source": []
  },
  {
   "cell_type": "code",
   "execution_count": null,
   "id": "a4e9cba9",
   "metadata": {},
   "outputs": [],
   "source": []
  },
  {
   "cell_type": "code",
   "execution_count": null,
   "id": "7b46bc05",
   "metadata": {},
   "outputs": [],
   "source": []
  },
  {
   "cell_type": "code",
   "execution_count": null,
   "id": "3c96be2f",
   "metadata": {},
   "outputs": [],
   "source": []
  },
  {
   "cell_type": "code",
   "execution_count": null,
   "id": "d8668d70",
   "metadata": {},
   "outputs": [],
   "source": []
  },
  {
   "cell_type": "code",
   "execution_count": null,
   "id": "7da7adf4",
   "metadata": {},
   "outputs": [],
   "source": []
  },
  {
   "cell_type": "code",
   "execution_count": null,
   "id": "6d984762",
   "metadata": {},
   "outputs": [],
   "source": []
  },
  {
   "cell_type": "code",
   "execution_count": null,
   "id": "862f1bc4",
   "metadata": {},
   "outputs": [],
   "source": []
  },
  {
   "cell_type": "code",
   "execution_count": null,
   "id": "fd8082b1",
   "metadata": {},
   "outputs": [],
   "source": []
  },
  {
   "cell_type": "code",
   "execution_count": null,
   "id": "90dcb663",
   "metadata": {},
   "outputs": [],
   "source": []
  },
  {
   "cell_type": "code",
   "execution_count": null,
   "id": "034013a1",
   "metadata": {},
   "outputs": [],
   "source": []
  }
 ],
 "metadata": {
  "kernelspec": {
   "display_name": "Python 3 (ipykernel)",
   "language": "python",
   "name": "python3"
  },
  "language_info": {
   "codemirror_mode": {
    "name": "ipython",
    "version": 3
   },
   "file_extension": ".py",
   "mimetype": "text/x-python",
   "name": "python",
   "nbconvert_exporter": "python",
   "pygments_lexer": "ipython3",
   "version": "3.10.9"
  }
 },
 "nbformat": 4,
 "nbformat_minor": 5
}
