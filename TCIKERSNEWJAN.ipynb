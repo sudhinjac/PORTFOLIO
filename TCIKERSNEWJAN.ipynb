{
 "cells": [
  {
   "cell_type": "code",
   "execution_count": null,
   "id": "2d5cf27a",
   "metadata": {},
   "outputs": [],
   "source": [
    "tickers = [\"VIMTALABS.NS\",\"BEL.NS\",\"RITES.NS\",\"(MANINFRA.NS\",\"KEI.NS\",\"DEEPAKNTR.NS\",\"PITTIENG.NS\",\"VINATIORGA.NS\",\n",
    "          \"IONEXCHANG.NS\",\"MARKSANS.NS\",\"HAPPSTMNDS.NS\",\"PERSISTENT.NS\",\"EXPLEOSOL.NS\",\"TNPL.NS\",\n",
    "          \"JKPAPER.NS\",\"MMFL.NS\",\"TRITURBINE.NS\",\"KKCL.NS\",\"AVANTEL.BO\",\"SKFINDIA.NS\",\"VOLTAMP.NS\",\"TIMKEN.BO\",\n",
    "           \"VIMTALABS.NS\",\"FIEMIND.NS\",\"GUJGASLTD.NS\",\"ADFFOODS.NS\",\"PAGEIND.NS\",\"ESABINDIA.NS\",\"SUMICHEM.NS\",\n",
    "           \"LAURUSLABS.NS\",\"CIPLA.NS\",\"BSOFT.NS\"]"
   ]
  }
 ],
 "metadata": {
  "kernelspec": {
   "display_name": "Python 3 (ipykernel)",
   "language": "python",
   "name": "python3"
  },
  "language_info": {
   "codemirror_mode": {
    "name": "ipython",
    "version": 3
   },
   "file_extension": ".py",
   "mimetype": "text/x-python",
   "name": "python",
   "nbconvert_exporter": "python",
   "pygments_lexer": "ipython3",
   "version": "3.10.9"
  }
 },
 "nbformat": 4,
 "nbformat_minor": 5
}
